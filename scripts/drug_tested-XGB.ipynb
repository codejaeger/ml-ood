{
 "cells": [
  {
   "cell_type": "code",
   "execution_count": 1,
   "metadata": {
    "colab": {
     "base_uri": "https://localhost:8080/"
    },
    "id": "oKwffW42qtTW",
    "outputId": "3e50e565-4197-4084-eade-a2f848560b54"
   },
   "outputs": [
    {
     "name": "stdout",
     "output_type": "stream",
     "text": [
      "Collecting rdkit\n",
      "  Downloading rdkit-2023.9.6-cp38-cp38-manylinux_2_17_x86_64.manylinux2014_x86_64.whl (34.9 MB)\n",
      "\u001b[K     |████████████████████████████████| 34.9 MB 3.9 MB/s eta 0:00:01    |█████████                       | 9.7 MB 3.9 MB/s eta 0:00:07     |███████████                     | 12.0 MB 3.9 MB/s eta 0:00:06\n",
      "\u001b[?25hRequirement already satisfied: Pillow in /playpen/debman/ood/lib/python3.8/site-packages (from rdkit) (10.3.0)\n",
      "Requirement already satisfied: numpy in /playpen/debman/ood/lib/python3.8/site-packages (from rdkit) (1.22.4)\n",
      "Installing collected packages: rdkit\n",
      "Successfully installed rdkit-2023.9.6\n",
      "Note: you may need to restart the kernel to use updated packages.\n"
     ]
    }
   ],
   "source": [
    "%pip install rdkit"
   ]
  },
  {
   "cell_type": "code",
   "execution_count": 1,
   "metadata": {
    "id": "EXxipvmSWDIi"
   },
   "outputs": [],
   "source": [
    "%matplotlib inline\n",
    "import numpy as np\n",
    "import matplotlib.pyplot as plt\n",
    "import scipy.stats\n",
    "import pandas as pd\n",
    "import os\n",
    "os.environ[\"CUDA_DEVICE_ORDER\"]=\"PCI_BUS_ID\"   # see issue #152\n",
    "os.environ[\"CUDA_VISIBLE_DEVICES\"]=\"\""
   ]
  },
  {
   "cell_type": "code",
   "execution_count": 2,
   "metadata": {
    "id": "FDwgr2mvrr43"
   },
   "outputs": [
    {
     "name": "stderr",
     "output_type": "stream",
     "text": [
      "2024-04-29 14:20:48.816391: I tensorflow/core/platform/cpu_feature_guard.cc:193] This TensorFlow binary is optimized with oneAPI Deep Neural Network Library (oneDNN) to use the following CPU instructions in performance-critical operations:  AVX2 FMA\n",
      "To enable them in other operations, rebuild TensorFlow with the appropriate compiler flags.\n",
      "2024-04-29 14:20:50.639622: W tensorflow/compiler/xla/stream_executor/platform/default/dso_loader.cc:64] Could not load dynamic library 'libnvinfer.so.7'; dlerror: libnvinfer.so.7: cannot open shared object file: No such file or directory\n",
      "2024-04-29 14:20:50.639798: W tensorflow/compiler/xla/stream_executor/platform/default/dso_loader.cc:64] Could not load dynamic library 'libnvinfer_plugin.so.7'; dlerror: libnvinfer_plugin.so.7: cannot open shared object file: No such file or directory\n",
      "2024-04-29 14:20:50.639816: W tensorflow/compiler/tf2tensorrt/utils/py_utils.cc:38] TF-TRT Warning: Cannot dlopen some TensorRT libraries. If you would like to use Nvidia GPU with TensorRT, please make sure the missing libraries mentioned above are installed properly.\n"
     ]
    }
   ],
   "source": [
    "import tensorflow as tf\n",
    "import tensorflow_probability as tfp\n",
    "from tensorflow.keras import layers, models"
   ]
  },
  {
   "cell_type": "code",
   "execution_count": 3,
   "metadata": {
    "id": "MiA1dcJqpTKA"
   },
   "outputs": [],
   "source": [
    "from xgboost import XGBClassifier\n",
    "from scipy.linalg import null_space\n",
    "from sklearn.cross_decomposition import CCA\n",
    "from sklearn.ensemble import RandomForestClassifier\n",
    "from sklearn.linear_model import LogisticRegression"
   ]
  },
  {
   "cell_type": "code",
   "execution_count": 4,
   "metadata": {},
   "outputs": [
    {
     "name": "stderr",
     "output_type": "stream",
     "text": [
      "2024-04-29 14:20:52.931509: E tensorflow/compiler/xla/stream_executor/cuda/cuda_driver.cc:267] failed call to cuInit: CUDA_ERROR_NO_DEVICE: no CUDA-capable device is detected\n",
      "2024-04-29 14:20:52.931579: I tensorflow/compiler/xla/stream_executor/cuda/cuda_diagnostics.cc:169] retrieving CUDA diagnostic information for host: hires-lambda1.cs.unc.edu\n",
      "2024-04-29 14:20:52.931594: I tensorflow/compiler/xla/stream_executor/cuda/cuda_diagnostics.cc:176] hostname: hires-lambda1.cs.unc.edu\n",
      "2024-04-29 14:20:52.931766: I tensorflow/compiler/xla/stream_executor/cuda/cuda_diagnostics.cc:200] libcuda reported version is: 535.104.12\n",
      "2024-04-29 14:20:52.931814: I tensorflow/compiler/xla/stream_executor/cuda/cuda_diagnostics.cc:204] kernel reported version is: 535.104.12\n",
      "2024-04-29 14:20:52.931827: I tensorflow/compiler/xla/stream_executor/cuda/cuda_diagnostics.cc:310] kernel version seems to match DSO: 535.104.12\n"
     ]
    },
    {
     "data": {
      "text/plain": [
       "[PhysicalDevice(name='/physical_device:CPU:0', device_type='CPU')]"
      ]
     },
     "execution_count": 4,
     "metadata": {},
     "output_type": "execute_result"
    }
   ],
   "source": [
    "tf.config.list_physical_devices()"
   ]
  },
  {
   "cell_type": "code",
   "execution_count": 5,
   "metadata": {
    "colab": {
     "base_uri": "https://localhost:8080/"
    },
    "id": "VyVyoLZXEp70",
    "outputId": "d63bda04-9b34-4f59-c696-954296a31a7e"
   },
   "outputs": [],
   "source": [
    "import time\n",
    "import pickle\n",
    "import json"
   ]
  },
  {
   "cell_type": "code",
   "execution_count": 6,
   "metadata": {
    "colab": {
     "base_uri": "https://localhost:8080/"
    },
    "id": "yKeTe4yOnToa",
    "outputId": "ecdaff3b-fa7e-4b7a-e107-eec949d43d9f"
   },
   "outputs": [
    {
     "name": "stdout",
     "output_type": "stream",
     "text": [
      "dict_keys(['cfg', 'split', 'statistics'])\n",
      "\n",
      "cfg 6\n",
      "Nested Keys in cfg: dict_keys(['path', 'uncertainty', 'classification_threshold', 'fractions', 'noise_filter', 'domain'])\n",
      "\n",
      "split 5\n",
      "Nested Keys in split: dict_keys(['train', 'ood_val', 'ood_test', 'iid_val', 'iid_test'])\n",
      "\n",
      "statistics 16\n",
      "Nested Keys in statistics: dict_keys(['thr_for_cls', 'positive_samples', 'negative_samples', 'positive_rate', 'train domain number', 'val domain number', 'test domain number', 'train datapoints', 'ood_val datapoints', 'ood_test datapoints', 'iid_val datapoints', 'iid_test datapoints', 'ood_val domain number', 'ood_test domain number', 'iid_val domain number', 'iid_test domain number'])\n",
      "\n"
     ]
    }
   ],
   "source": [
    "# drugood-sbap-core-ic50-protein\n",
    "\n",
    "# file_path = '/content/drive/MyDrive/sbap_core_ec50_protein.json'\n",
    "file_path = './sbap_core_potency_protein.json'\n",
    "with open(file_path, 'r') as f:\n",
    "  data = json.load(f)\n",
    "\n",
    "# Data is a nested JSON structired\n",
    "print(data.keys())\n",
    "print()\n",
    "\n",
    "for key in data.keys():\n",
    "  print(key, len(data[key]))\n",
    "  nested_keys = data[key].keys()\n",
    "  print(f\"Nested Keys in {key}: {nested_keys}\")\n",
    "  print()"
   ]
  },
  {
   "cell_type": "code",
   "execution_count": 7,
   "metadata": {
    "colab": {
     "base_uri": "https://localhost:8080/"
    },
    "id": "ANTG9zLyqr8K",
    "outputId": "565e32d4-3363-4e06-eea9-8ff24397c5e3"
   },
   "outputs": [
    {
     "name": "stdout",
     "output_type": "stream",
     "text": [
      "Train Data First Row:\n",
      "{'smiles': 'CCN1C(=O)c2cccc3cccc1c23', 'reg_label': 4.6, 'assay_id': 688665, 'protein': 'MADKVLKEKRKLFIRSMGEGTINGLLDELLQTRVLNKEEMEKVKRENATVMDKTRALIDSVIPKGAQACQICITYICEEDSYLAGTLGLSADQTSGNYLNMQDSQGVLSSFPAPQAVQDNPAMPTSSGSEGNVKLCSLEEAQRIWKQKSAEIYPIMDKSSRTRLALIICNEEFDSIPRRTGAEVDITGMTMLLQNLGYSVDVKKNLTASDMTTELEAFAHRPEHKTSDSTFLVFMSHGIREGICGKKHSEQVPDILQLNAIFNMLNTKNCPSLKDKPKVIIIQACRGDSPGVVWFKDSVGVSGNLSLPTTEEFEDDAIKKAHIEKDFIAFCSSTPDNVSWRHPTMGSVFIGRLIEHMQEYACSCDVEEIFRKVRFSFEQPDGRAQMPTTERVTLTRCFYLFPGH', 'cls_label': 0, 'domain_id': 41}\n",
      "\n",
      "OOD Validation Data First Row:\n",
      "{'smiles': 'OC(c1ccncc1)(c1ccc(F)cc1)c1ccc(F)cc1', 'reg_label': 5.3, 'assay_id': 688400, 'protein': 'MSQLSSTLKRYTESARYTDAHYAKSGYGAYTPSSYGANLAASLLEKEKLGFKPVPTSSFLTRPRTYGPSSLLDYDRGRPLLRPDITGGGKRAESQTRGTERPLGSGLSGGSGFPYGVTNNCLSYLPINAYDQGVTLTQKLDSQSDLARDFSSLRTSDSYRIDPRNLGRSPMLARTRKELCTLQGLYQTASCPEYLVDYLENYGRKGSASQVPSQAPPSRVPEIISPTYRPIGRYTLWETGKGQAPGPSRSSSPGRDGMNSKSAQGLAGLRNLGNTCFMNSILQCLSNTRELRDYCLQRLYMRDLHHGSNAHTALVEEFAKLIQTIWTSSPNDVVSPSEFKTQIQRYAPRFVGYNQQDAQEFLRFLLDGLHNEVNRVTLRPKSNPENLDHLPDDEKGRQMWRKYLEREDSRIGDLFVGQLKSSLTCTDCGYCSTVFDPFWDLSLPIAKRGYPEVTLMDCMRLFTKEDVLDGDEKPTCCRCRGRKRCIKKFSIQRFPKILVLHLKRFSESRIRTSKLTTFVNFPLRDLDLREFASENTNHAVYNLYAVSNHSGTTMGGHYTAYCRSPGTGEWHTFNDSSVTPMSSSQVRTSDAYLLFYELASPPSRM', 'cls_label': 1, 'domain_id': 0}\n",
      "\n",
      "OOD Test Data First Row:\n",
      "{'smiles': 'Cn1ncc(Br)c1C(=O)N/N=C/c1cccc(OC2CSC2)c1', 'reg_label': 4.5, 'assay_id': 688319, 'protein': 'MPLCTLRQMLGEARKHKYGVGAFNVNNMEQIQGIMKAVVQLKSPVILQCSRGALKYSDMIYLKKLCEAALEKHPDIPICIHLDHGDTLESVKMAIDLGFSSVMIDASHHPFDENVRITKEVVAYAHARSVSVEAELGTLGGIEEDVQNTVQLTEPQDAKKFVELTGVDALAVAIGTSHGAYKFKSESDIRLAIDRVKTISDLTGIPLVMHGSSSVPKDVKDMINKYGGKMPDAVGVPIESIVHAIGEGVCKINVDSDSRMAMTGAIRKVFVEHPEKFDPRDYLGPGRDAITEMLIPKIKAFGSAGHAGDYKVVSLEEAKAWYK', 'cls_label': 0, 'domain_id': 34}\n",
      "\n",
      "IID Validation Data First Row:\n",
      "{'smiles': 'CN1CCN(c2ncc3nc(-c4cn(C)c5ccccc45)c(=O)n(CCc4ccccc4)c3n2)CC1', 'reg_label': 5.4, 'assay_id': 688665, 'protein': 'MADKVLKEKRKLFIRSMGEGTINGLLDELLQTRVLNKEEMEKVKRENATVMDKTRALIDSVIPKGAQACQICITYICEEDSYLAGTLGLSADQTSGNYLNMQDSQGVLSSFPAPQAVQDNPAMPTSSGSEGNVKLCSLEEAQRIWKQKSAEIYPIMDKSSRTRLALIICNEEFDSIPRRTGAEVDITGMTMLLQNLGYSVDVKKNLTASDMTTELEAFAHRPEHKTSDSTFLVFMSHGIREGICGKKHSEQVPDILQLNAIFNMLNTKNCPSLKDKPKVIIIQACRGDSPGVVWFKDSVGVSGNLSLPTTEEFEDDAIKKAHIEKDFIAFCSSTPDNVSWRHPTMGSVFIGRLIEHMQEYACSCDVEEIFRKVRFSFEQPDGRAQMPTTERVTLTRCFYLFPGH', 'cls_label': 1, 'domain_id': 41}\n",
      "\n",
      "IID Test Data First Row:\n",
      "{'smiles': 'Cc1nc2c(c(=O)n1Cc1ccco1)c1nc3ccccc3nc1n2Cc1ccccc1', 'reg_label': 4.6, 'assay_id': 688665, 'protein': 'MADKVLKEKRKLFIRSMGEGTINGLLDELLQTRVLNKEEMEKVKRENATVMDKTRALIDSVIPKGAQACQICITYICEEDSYLAGTLGLSADQTSGNYLNMQDSQGVLSSFPAPQAVQDNPAMPTSSGSEGNVKLCSLEEAQRIWKQKSAEIYPIMDKSSRTRLALIICNEEFDSIPRRTGAEVDITGMTMLLQNLGYSVDVKKNLTASDMTTELEAFAHRPEHKTSDSTFLVFMSHGIREGICGKKHSEQVPDILQLNAIFNMLNTKNCPSLKDKPKVIIIQACRGDSPGVVWFKDSVGVSGNLSLPTTEEFEDDAIKKAHIEKDFIAFCSSTPDNVSWRHPTMGSVFIGRLIEHMQEYACSCDVEEIFRKVRFSFEQPDGRAQMPTTERVTLTRCFYLFPGH', 'cls_label': 0, 'domain_id': 41}\n"
     ]
    }
   ],
   "source": [
    "# Access split section of data\n",
    "split_data = data['split']\n",
    "\n",
    "# Load Data Splits\n",
    "train_data = split_data['train']\n",
    "iid_val_data = split_data['iid_val']\n",
    "iid_test_data = split_data['iid_test']\n",
    "ood_val_data = split_data['ood_val']\n",
    "ood_test_data = split_data['ood_test']\n",
    "\n",
    "# You can now print or inspect the first row of each of these as DataFrames\n",
    "print(\"Train Data First Row:\")\n",
    "print(train_data[0])\n",
    "\n",
    "print(\"\\nOOD Validation Data First Row:\")\n",
    "print(ood_val_data[0])\n",
    "\n",
    "print(\"\\nOOD Test Data First Row:\")\n",
    "print(ood_test_data[0])\n",
    "\n",
    "print(\"\\nIID Validation Data First Row:\")\n",
    "print(iid_val_data[0])\n",
    "\n",
    "print(\"\\nIID Test Data First Row:\")\n",
    "print(iid_test_data[0])"
   ]
  },
  {
   "cell_type": "code",
   "execution_count": 8,
   "metadata": {
    "id": "3FToq5IgqvoT"
   },
   "outputs": [],
   "source": [
    "from rdkit import Chem\n",
    "from rdkit.Chem import AllChem, Descriptors, DataStructs\n",
    "import numpy as np\n",
    "\n",
    "# RDKit for SMILES\n",
    "def smiles_to_ecfp(smiles, radius=2, nbits=2048):\n",
    "    mol = Chem.MolFromSmiles(smiles)\n",
    "    ecfp = AllChem.GetMorganFingerprintAsBitVect(mol, radius, nBits=nbits)\n",
    "    array = np.zeros((0,), dtype=int)\n",
    "    DataStructs.ConvertToNumpyArray(ecfp, array)\n",
    "    return array\n",
    "\n",
    "# Function to convert your data into a feature matrix\n",
    "def convert_data_to_features(data):\n",
    "    smiles_features = []\n",
    "    #protein_features = []\n",
    "    for entry in data:\n",
    "        smiles = entry['smiles']\n",
    "        #protein = entry['protein']\n",
    "\n",
    "        smiles_features.append(smiles_to_ecfp(smiles))\n",
    "\n",
    "        # Truncate or pad protein sequence if necessary\n",
    "        #protein_sequence = protein[:100]  # example with max length of 100\n",
    "        #protein_sequence = protein_sequence.ljust(100, 'A')  # padding with alanine (can choose any)\n",
    "        #protein_features.append(one_hot_protein(protein_sequence))\n",
    "\n",
    "    smiles_features = np.array(smiles_features)\n",
    "    #protein_features = np.array(protein_features)\n",
    "\n",
    "    # Combine and normalize features\n",
    "    #combined_features = np.hstack((smiles_features, protein_features))\n",
    "    #combined_features = (combined_features - np.mean(combined_features, axis=0)) / np.std(combined_features, axis=0)\n",
    "\n",
    "    return smiles_features\n",
    "    #return combined_features"
   ]
  },
  {
   "cell_type": "code",
   "execution_count": 9,
   "metadata": {
    "id": "2_0-PyyMqy80"
   },
   "outputs": [],
   "source": [
    "### ALL IID DATA\n",
    "train_features = convert_data_to_features(train_data)\n",
    "#val_features = convert_data_to_features(iid_val_data)\n",
    "#test_features = convert_data_to_features(iid_test_data)\n",
    "\n",
    "train_labels = np.array([entry['cls_label'] for entry in train_data])\n",
    "#val_labels = np.array([entry['cls_label'] for entry in iid_val_data])\n",
    "#test_labels = np.array([entry['cls_label'] for entry in iid_test_data])"
   ]
  },
  {
   "cell_type": "code",
   "execution_count": 10,
   "metadata": {
    "colab": {
     "base_uri": "https://localhost:8080/"
    },
    "id": "gnD69yzs2rpL",
    "outputId": "8ae134b0-f17f-42a4-8b13-081da9f01c5e"
   },
   "outputs": [
    {
     "name": "stdout",
     "output_type": "stream",
     "text": [
      "[0 1 0 0 0 1 1 1 0 0]\n",
      "6880\n",
      "12699\n",
      "0.5417749429088905\n"
     ]
    }
   ],
   "source": [
    "## Very imbalanced\n",
    "print(train_labels[:10])\n",
    "print(sum(train_labels))\n",
    "print(len(train_labels))\n",
    "print(sum(train_labels)/len(train_labels))"
   ]
  },
  {
   "cell_type": "code",
   "execution_count": 11,
   "metadata": {
    "id": "sucs4AA_q09l"
   },
   "outputs": [
    {
     "name": "stderr",
     "output_type": "stream",
     "text": [
      "2024-04-29 14:21:02.863814: I tensorflow/core/platform/cpu_feature_guard.cc:193] This TensorFlow binary is optimized with oneAPI Deep Neural Network Library (oneDNN) to use the following CPU instructions in performance-critical operations:  AVX2 FMA\n",
      "To enable them in other operations, rebuild TensorFlow with the appropriate compiler flags.\n"
     ]
    }
   ],
   "source": [
    "# Now you can use train_features in place of dataX and train_labels in place of dataY\n",
    "X = tf.cast(train_features, tf.float32)\n",
    "Y = tf.cast(train_labels, tf.float32)\n",
    "\n",
    "pperm = np.random.permutation(len(X))\n",
    "\n",
    "X = tf.constant(np.array(X)[pperm])\n",
    "Y = tf.constant(np.array(Y)[pperm])\n",
    "\n",
    "X = X[:int(len(X)/1.3)]\n",
    "Y = Y[:len(X)]"
   ]
  },
  {
   "cell_type": "code",
   "execution_count": 12,
   "metadata": {},
   "outputs": [
    {
     "name": "stdout",
     "output_type": "stream",
     "text": [
      "tf.Tensor(0.54299754, shape=(), dtype=float32)\n"
     ]
    }
   ],
   "source": [
    "print(sum(Y)/len(Y))"
   ]
  },
  {
   "cell_type": "code",
   "execution_count": 13,
   "metadata": {
    "id": "9U56G1VRx-As"
   },
   "outputs": [],
   "source": [
    "# standardize the data\n",
    "mu_x = np.mean(X, 0, keepdims=True)\n",
    "#sigma_x = np.std(X, 0, keepdims=True)\n",
    "sigma_x = np.ones_like(mu_x)\n",
    "X = (X-mu_x)/sigma_x"
   ]
  },
  {
   "cell_type": "code",
   "execution_count": 14,
   "metadata": {
    "colab": {
     "base_uri": "https://localhost:8080/"
    },
    "id": "RhQ0HK11qm36",
    "outputId": "0dfcbb26-6d3d-4223-8f94-78c1bbdd5a52"
   },
   "outputs": [
    {
     "name": "stdout",
     "output_type": "stream",
     "text": [
      "(9768, 2048)\n",
      "(9768,)\n"
     ]
    }
   ],
   "source": [
    "print(X.shape)\n",
    "print(Y.shape)"
   ]
  },
  {
   "cell_type": "code",
   "execution_count": 15,
   "metadata": {
    "id": "TfAej5fqsfHh"
   },
   "outputs": [],
   "source": [
    "ood_val_features = convert_data_to_features(ood_val_data)\n",
    "# ood_test_features = convert_data_to_features(ood_test_data)\n",
    "\n",
    "ood_val_labels = np.array([entry['cls_label'] for entry in ood_val_data])\n",
    "# ood_test_labels = np.array([entry['cls_label'] for entry in ood_test_data])"
   ]
  },
  {
   "cell_type": "code",
   "execution_count": 16,
   "metadata": {
    "id": "U07oDyUdsl1u"
   },
   "outputs": [],
   "source": [
    "external_X = tf.cast(ood_val_features, tf.float32)\n",
    "# external_X = tf.cast(ood_test_features, tf.float32)\n",
    "external_Y = ood_val_labels\n",
    "# external_Y = ood_test_labels"
   ]
  },
  {
   "cell_type": "code",
   "execution_count": 17,
   "metadata": {
    "id": "w4f7gcI3MOqu"
   },
   "outputs": [],
   "source": [
    "class RandFeats:\n",
    "  def __init__(self, sigma_rot, d, D=160):\n",
    "\n",
    "    self.sigmas = [sigma_rot/4, sigma_rot/2, sigma_rot, sigma_rot*2, sigma_rot*4]\n",
    "    # self.sigmas = [sigma_rot/4, sigma_rot/2, sigma_rot, sigma_rot*2, sigma_rot*4]\n",
    "    self.D = D\n",
    "    self.Ws = []\n",
    "    for sigma in self.sigmas:\n",
    "      self.Ws.append(np.float32(np.random.randn(d, D)/sigma))\n",
    "    self.Ws = np.stack(self.Ws, 0)\n",
    "\n",
    "  def get_features(self, x_in):\n",
    "    # phis = []\n",
    "    # TODO: vectorize\n",
    "    # for W in Ws:\n",
    "    #   XW = np.matmul(x_in, W)\n",
    "    #   phis.append(\n",
    "    #     np.concatenate([np.sin(XW), np.cos(XW)], -1))\n",
    "    # return np.concatenate(phis, -1)\n",
    "    phis = tf.matmul(x_in, self.Ws)  # k x N x D\n",
    "    phis = tf.transpose(phis, [1, 2, 0])  # N x D x k\n",
    "    phis = tf.concat((tf.sin(phis), tf.cos(phis)), 1)\n",
    "    return tf.reshape(phis, [x_in.shape[0], -1])\n",
    "\n",
    "  def __call__(self, x_in):\n",
    "    return self.get_features(x_in)\n",
    "\n",
    "# def define_rand_feats(ndata_feats, nrand_feats=1000, gamma=1.0):\n",
    "def define_rand_feats(X, xD):\n",
    "  \"\"\"\n",
    "  Args:\n",
    "    ndata_feats: scalar value of total number of data features\n",
    "    nrand_feats: scalar value of total number of desired random features\n",
    "    gamma: Float, scale of frequencies\n",
    "\n",
    "  Returns:\n",
    "    Ws: ndata_feats x nrand_feats weight matrix\n",
    "    bs: 1 x nrand_feats bias vector\n",
    "  \"\"\"\n",
    "  tf.random.set_seed(123129) # For reproducibility\n",
    "  from scipy.spatial import distance\n",
    "  rprm = np.random.permutation(X.shape[0])\n",
    "  ds = distance.cdist(X[rprm[:100], :], X[rprm[100:], :])\n",
    "  sigma_rot = np.mean(np.sort(ds)[:, 5])\n",
    "  model = RandFeats(sigma_rot, X.shape[1], int(X.shape[1]*xD))\n",
    "\n",
    "  # Ws = gamma*tf.random.normal((ndata_feats, nrand_feats))\n",
    "  # bs = 2.0*np.pi*tf.random.uniform((1,nrand_feats))\n",
    "  # return Ws, bs\n",
    "  return model"
   ]
  },
  {
   "cell_type": "code",
   "execution_count": 18,
   "metadata": {},
   "outputs": [],
   "source": [
    "Dx = [1.5, 2, 4, 8, 10, 16]"
   ]
  },
  {
   "cell_type": "code",
   "execution_count": 19,
   "metadata": {
    "id": "lUdTgThu3CDN"
   },
   "outputs": [],
   "source": [
    "def get_rand_feats(X, model):\n",
    "  \"\"\"\n",
    "  Args:\n",
    "    X: N x d matrix of input features\n",
    "    Ws: ndata_feats x nrand_feats weight matrix\n",
    "    bs: 1 x nrand_feats bias vector\n",
    "\n",
    "  Returns:\n",
    "    Phis: N x D matrix of random features\n",
    "  \"\"\"\n",
    "  # XWs = tf.matmul(X, Ws)\n",
    "  # return tf.cos(XWs+bs)\n",
    "  return model(X)"
   ]
  },
  {
   "cell_type": "code",
   "execution_count": 20,
   "metadata": {
    "id": "OdWKikf20dfX"
   },
   "outputs": [],
   "source": [
    "def linear_coefs(X, Y):\n",
    "  \"\"\"\n",
    "  Args:\n",
    "    X: N x d matrix of input features\n",
    "    Y: N x 1 matrix (column vector) of output response\n",
    "\n",
    "  Returns:\n",
    "    Beta: d x 1 matrix of linear coefficients\n",
    "  \"\"\"\n",
    "  # start = time.time()\n",
    "  clf = LogisticRegression(random_state=0, solver='liblinear').fit(X, Y)\n",
    "  # end = time.time()\n",
    "  # print(end-start)\n",
    "  # clf = LogisticRegression(random_state=0).fit(X, Y)\n",
    "  print(clf.score(X, Y))\n",
    "  wgts = np.hstack((clf.intercept_[:,None], clf.coef_))\n",
    "  prd = (1 / (1 + np.exp(-np.concatenate([np.ones((X.shape[0], 1)), X], axis=-1) @ wgts.T)) > 0.5) *1.0\n",
    "  # print(np.mean(prd[:, 0]==Y))\n",
    "  return wgts\n",
    "  # beta = tf.linalg.solve(tf.matmul(tf.transpose(X),X), tf.matmul(tf.transpose(X), Y[:, None]))\n",
    "  # return beta"
   ]
  },
  {
   "cell_type": "code",
   "execution_count": 21,
   "metadata": {
    "id": "sXCQKFR3zVf8"
   },
   "outputs": [],
   "source": [
    "def project_and_filter(X, dir, percentile=75):\n",
    "  projs = np.dot(X, dir)\n",
    "  thresh = np.percentile(projs, 100 - percentile)\n",
    "  filtered_idxs = projs >= thresh\n",
    "  return X[filtered_idxs], filtered_idxs"
   ]
  },
  {
   "cell_type": "code",
   "execution_count": 23,
   "metadata": {
    "id": "U6sPtWN-zvlP"
   },
   "outputs": [],
   "source": [
    "def get_models(X, Y, pca_projs, dirs, model, percentile=75):\n",
    "  #X_subsets = []\n",
    "  #data_ids = []\n",
    "  #Y_subsets = []\n",
    "  betas = []\n",
    "  i = 0\n",
    "  for dir in dirs: # TODO: Vectorize\n",
    "    if i % 25 == 0: print(f\"Step {i}\")\n",
    "    X_sub, X_ids = project_and_filter(X, dir, percentile)\n",
    "    Y_sub = Y[X_ids]\n",
    "    # print((X_sub@pca_projs).shape)\n",
    "    est = XGBClassifier(n_estimators=40)\n",
    "    est.fit(get_rand_feats(X_sub@pca_projs, model), Y_sub)\n",
    "    print(est.score(get_rand_feats(X_sub@pca_projs, model), Y_sub))\n",
    "    # beta = linear_coefs(get_rand_feats(X_sub@pca_projs, model), Y_sub)\n",
    "\n",
    "    #X_subsets.append(X_sub)\n",
    "    #data_ids.append(X_ids)\n",
    "    #Y_subsets.append(Y_sub)\n",
    "    betas.append(est)\n",
    "    i += 1\n",
    "    if i == len(dirs) - 1: print(f\"Done\")\n",
    "\n",
    "  # cant do this because subsets of variable sizes\n",
    "  #X_subsets = np.array(X_subsets)\n",
    "  #data_ids = np.array(data_ids)\n",
    "  #Y_subsets = np.array(Y_subsets)\n",
    "  # betas = np.array(betas)\n",
    "\n",
    "  return betas\n",
    "  #return X_subsets, data_ids, Y_subsets, betas"
   ]
  },
  {
   "cell_type": "code",
   "execution_count": 24,
   "metadata": {},
   "outputs": [],
   "source": [
    "s, u, v = tf.linalg.svd(X)"
   ]
  },
  {
   "cell_type": "code",
   "execution_count": 25,
   "metadata": {},
   "outputs": [],
   "source": [
    "dims = [0.05, 0.1, 0.2, 0.5, 0.8]\n",
    "pca_projs = v[:, :int(X.shape[-1]*dims[1])]"
   ]
  },
  {
   "cell_type": "code",
   "execution_count": 26,
   "metadata": {},
   "outputs": [
    {
     "data": {
      "text/plain": [
       "(TensorShape([9768, 2048]), TensorShape([2048, 204]))"
      ]
     },
     "execution_count": 26,
     "metadata": {},
     "output_type": "execute_result"
    }
   ],
   "source": [
    "X.shape, pca_projs.shape"
   ]
  },
  {
   "cell_type": "code",
   "execution_count": 27,
   "metadata": {
    "colab": {
     "base_uri": "https://localhost:8080/"
    },
    "id": "ZIvRCVks0XyQ",
    "outputId": "e9f47524-f11d-4cd9-9db1-de9eb10f0b29"
   },
   "outputs": [
    {
     "name": "stdout",
     "output_type": "stream",
     "text": [
      "Step 0\n",
      "0.9526842584167425\n",
      "0.9515468607825296\n",
      "0.9526950193313622\n",
      "0.9611098476233796\n",
      "0.9515468607825296\n",
      "0.9513193812556869\n",
      "0.9531392174704276\n",
      "0.9570063694267515\n",
      "0.9581437670609645\n",
      "0.9499545040946314\n",
      "0.9554140127388535\n",
      "0.9545040946314831\n",
      "0.9533666969972703\n",
      "0.956778889899909\n",
      "0.9549590536851683\n",
      "0.9622383985441311\n",
      "0.956778889899909\n",
      "0.9535941765241128\n",
      "0.950648169206277\n",
      "0.957916287534122\n",
      "0.9547418694564476\n",
      "0.9570063694267515\n",
      "0.9499545040946314\n",
      "0.9531392174704276\n",
      "0.955186533212011\n",
      "Step 25\n",
      "0.9581437670609645\n",
      "0.955186533212011\n",
      "0.9592811646951774\n",
      "0.9570063694267515\n",
      "0.9601910828025477\n",
      "0.9554140127388535\n",
      "0.9526842584167425\n",
      "0.9620109190172884\n",
      "0.9531392174704276\n",
      "0.9533666969972703\n",
      "0.9585987261146497\n",
      "0.9529117379435851\n",
      "0.9590536851683349\n",
      "0.9531498749147146\n",
      "0.9510919017288444\n",
      "0.9560964513193813\n",
      "0.9601910828025477\n",
      "0.9549590536851683\n",
      "0.9547418694564476\n",
      "0.9599636032757052\n",
      "0.9560964513193813\n",
      "0.9488171064604186\n",
      "0.9526950193313622\n",
      "0.957916287534122\n",
      "0.9590536851683349\n",
      "Step 50\n",
      "0.9529331514324693\n",
      "0.9504094631483166\n",
      "0.9613284804367607\n",
      "0.9570063694267515\n",
      "0.9517853081646577\n",
      "0.9533666969972703\n",
      "0.9574613284804367\n",
      "0.9626933575978162\n",
      "0.9524567788898999\n",
      "0.9545040946314831\n",
      "0.9533666969972703\n",
      "0.948589626933576\n",
      "0.954049135577798\n",
      "0.9585987261146497\n",
      "0.9517743403093721\n",
      "0.954049135577798\n",
      "0.9585987261146497\n",
      "0.9588262056414922\n",
      "0.9570161473732091\n",
      "0.9588262056414922\n",
      "0.9560964513193813\n",
      "0.957916287534122\n",
      "0.95950864422202\n",
      "0.9570063694267515\n",
      "0.9531392174704276\n",
      "Step 75\n",
      "0.9533666969972703\n",
      "0.9613372754150558\n",
      "0.9576888080072793\n",
      "0.9560964513193813\n",
      "0.9558689717925387\n",
      "0.9488171064604186\n",
      "0.9545040946314831\n",
      "0.9497270245677889\n",
      "0.9533773027063908\n",
      "0.9526842584167425\n",
      "0.956778889899909\n",
      "0.9547315741583258\n",
      "0.9558689717925387\n",
      "0.9654231119199272\n",
      "0.9624658780709736\n",
      "0.957916287534122\n",
      "0.9583712465878071\n",
      "0.9517743403093721\n",
      "0.956778889899909\n",
      "0.9674704276615105\n",
      "0.9524567788898999\n",
      "0.9592811646951774\n",
      "0.9613284804367607\n",
      "0.9556414922656961\n",
      "0.9590536851683349\n",
      "Step 100\n",
      "0.953832158289743\n",
      "0.9620109190172884\n",
      "0.9547315741583258\n",
      "0.9642857142857143\n",
      "0.9522292993630573\n",
      "0.955186533212011\n",
      "0.9565514103730665\n",
      "0.9535941765241128\n",
      "0.9547315741583258\n",
      "0.9535941765241128\n",
      "0.9617834394904459\n",
      "0.9565612917898567\n",
      "0.9506369426751592\n",
      "0.950648169206277\n",
      "0.9583712465878071\n",
      "0.9556515806231521\n",
      "0.9626933575978162\n",
      "0.9501819836214741\n",
      "0.955424152831476\n",
      "0.948589626933576\n",
      "0.9583712465878071\n",
      "0.9538216560509554\n",
      "0.9483621474067334\n",
      "0.9556414922656961\n",
      "0.9576888080072793\n",
      "Step 125\n",
      "0.9497270245677889\n",
      "0.9576888080072793\n",
      "0.9533666969972703\n",
      "0.9570063694267515\n",
      "0.9601910828025477\n",
      "0.9601910828025477\n",
      "0.9597452808733227\n",
      "0.9520018198362148\n",
      "0.9565514103730665\n",
      "0.9549590536851683\n",
      "0.9590629974982943\n",
      "0.9547315741583258\n",
      "0.9524567788898999\n",
      "0.9494995450409464\n",
      "0.9492720655141037\n",
      "0.9520018198362148\n",
      "0.9531498749147146\n",
      "0.9490445859872612\n",
      "0.9570063694267515\n",
      "0.9529224471230384\n",
      "0.9467697907188353\n",
      "0.9558689717925387\n",
      "0.9535941765241128\n",
      "0.9572338489535942\n",
      "0.9574710029565613\n",
      "Step 150\n",
      "0.9574613284804367\n",
      "0.9531498749147146\n",
      "0.9520018198362148\n",
      "0.954049135577798\n",
      "0.9626933575978162\n",
      "0.9508644222020018\n",
      "0.9565514103730665\n",
      "0.9601910828025477\n",
      "0.9547315741583258\n",
      "0.9620109190172884\n",
      "0.9585987261146497\n",
      "0.9549590536851683\n",
      "0.9588355697066181\n",
      "0.9581532863315897\n",
      "0.9513193812556869\n",
      "0.9601910828025477\n",
      "0.955424152831476\n",
      "0.9583712465878071\n",
      "0.9633757961783439\n",
      "0.9542766151046406\n",
      "0.9549590536851683\n",
      "0.9572338489535942\n",
      "0.9524567788898999\n",
      "0.9585987261146497\n",
      "0.9563239308462238\n",
      "Step 175\n",
      "0.957916287534122\n",
      "0.9536047304980668\n",
      "0.9572435751648851\n",
      "0.9597361237488626\n",
      "0.9535941765241128\n",
      "0.9508644222020018\n",
      "0.9517743403093721\n",
      "0.9531392174704276\n",
      "0.9506369426751592\n",
      "0.947452229299363\n",
      "0.9522292993630573\n",
      "0.9547315741583258\n",
      "0.9545040946314831\n",
      "0.9622383985441311\n",
      "0.9572338489535942\n",
      "0.9576888080072793\n",
      "0.9531392174704276\n",
      "0.9508644222020018\n",
      "0.9547315741583258\n",
      "0.9533666969972703\n",
      "0.9545040946314831\n",
      "0.9565612917898567\n",
      "0.9520018198362148\n",
      "0.9535941765241128\n",
      "0.9522292993630573\n",
      "Step 200\n",
      "0.9440400363967243\n",
      "0.9576888080072793\n",
      "0.9472367523311349\n",
      "0.9565514103730665\n",
      "0.9529117379435851\n",
      "0.9545040946314831\n",
      "0.9601910828025477\n",
      "0.957916287534122\n",
      "0.9581437670609645\n",
      "0.9558689717925387\n",
      "0.9547315741583258\n",
      "0.9581437670609645\n",
      "0.9549590536851683\n",
      "0.9576888080072793\n",
      "0.9560964513193813\n",
      "0.9506369426751592\n",
      "0.9504207414146009\n",
      "0.9574613284804367\n",
      "0.9631483166515014\n",
      "0.9535941765241128\n",
      "0.9588262056414922\n",
      "0.9572435751648851\n",
      "0.9499545040946314\n",
      "0.9547315741583258\n",
      "0.9531392174704276\n",
      "Step 225\n",
      "0.9517743403093721\n",
      "0.9597361237488626\n",
      "0.9501819836214741\n",
      "0.9592811646951774\n",
      "0.9513193812556869\n",
      "0.9549590536851683\n",
      "0.9590536851683349\n",
      "0.9601910828025477\n",
      "0.957916287534122\n",
      "0.9545040946314831\n",
      "0.9513193812556869\n",
      "0.9558689717925387\n",
      "0.9636032757051866\n",
      "0.9570063694267515\n",
      "0.9517743403093721\n",
      "0.9563239308462238\n",
      "0.9624744143734364\n",
      "0.9636032757051866\n",
      "0.9504094631483166\n",
      "0.9558689717925387\n",
      "0.9599636032757052\n",
      "0.9506369426751592\n",
      "0.957916287534122\n",
      "0.9504094631483166\n",
      "0.954049135577798\n",
      "Step 250\n",
      "0.9529117379435851\n",
      "0.9561164165529786\n",
      "0.9560964513193813\n",
      "0.9601910828025477\n",
      "0.9554140127388535\n",
      "Done\n",
      "0.9588262056414922\n"
     ]
    }
   ],
   "source": [
    "np.random.seed(74)\n",
    "X_prjs = np.array(X@pca_projs)\n",
    "# model = define_rand_feats(X_prjs, Dx[2])\n",
    "model = define_rand_feats(X_prjs, 1.5)\n",
    "\n",
    "N = 2**8    # ~ 8k\n",
    "# N = 2**2    # ~ 8k\n",
    "d = X.shape[-1]\n",
    "random_dirs = np.random.randn(N, d) # Maybe do the random directions in the random feature space??? Feel like that makes more sense\n",
    "\n",
    "random_dirs = random_dirs / np.linalg.norm(random_dirs, axis=1, keepdims=True)\n",
    "\n",
    "#X_subsets, data_ids, Y_subsets, betas = get_models(X, Y, random_dirs, Ws, bs, percentile=33)\n",
    "betas = get_models(X, Y, pca_projs, random_dirs, model, percentile=45)"
   ]
  },
  {
   "cell_type": "code",
   "execution_count": 28,
   "metadata": {
    "id": "7mIR1KmZaMyK"
   },
   "outputs": [],
   "source": [
    "# np.save('random_dirs-drug1.npy', random_dirs)\n",
    "# np.save('betas-drug1.npy', betas)\n",
    "# np.save('Ws-drug1.npy', model.Ws)\n",
    "\n",
    "# random_dirs = np.load('random_dirs.npy')\n",
    "# betas = np.load('betas.npy')"
   ]
  },
  {
   "cell_type": "code",
   "execution_count": 28,
   "metadata": {
    "id": "SYKgRDoVX-qO"
   },
   "outputs": [],
   "source": [
    "random_dirs = tf.constant(np.load('./random_dirs-drug1.npy'))\n",
    "betas = tf.squeeze(tf.constant(np.load('betas-drug1.npy')))\n",
    "model = define_rand_feats(X_prjs, 1.5)\n",
    "model.Ws = tf.constant(np.load('Ws-drug1.npy'))"
   ]
  },
  {
   "cell_type": "code",
   "execution_count": 29,
   "metadata": {
    "colab": {
     "base_uri": "https://localhost:8080/"
    },
    "id": "8QlEhsHL3VV3",
    "outputId": "6a74610c-2b52-4351-8e22-982a404874c0"
   },
   "outputs": [
    {
     "name": "stdout",
     "output_type": "stream",
     "text": [
      "(256, 3061)\n",
      "(256, 2048)\n"
     ]
    }
   ],
   "source": [
    "betas = tf.squeeze(betas)\n",
    "print(betas.shape)\n",
    "random_dirs = tf.constant(random_dirs)\n",
    "print(random_dirs.shape)"
   ]
  },
  {
   "cell_type": "code",
   "execution_count": 30,
   "metadata": {
    "colab": {
     "base_uri": "https://localhost:8080/"
    },
    "id": "y_CpbBpp5jpF",
    "outputId": "4a7e7449-d9f9-40a7-a1b1-64f4c28f5d52"
   },
   "outputs": [
    {
     "name": "stdout",
     "output_type": "stream",
     "text": [
      "tf.Tensor(0.02212257796498803, shape=(), dtype=float64)\n"
     ]
    }
   ],
   "source": [
    "var = tf.math.reduce_variance(betas, axis=0)\n",
    "mean_var = tf.reduce_mean(var)\n",
    "print(mean_var)"
   ]
  },
  {
   "cell_type": "code",
   "execution_count": 31,
   "metadata": {
    "colab": {
     "base_uri": "https://localhost:8080/"
    },
    "id": "6jsrK0piF7WW",
    "outputId": "18b27514-bdd1-423f-b39d-48220eeec813"
   },
   "outputs": [
    {
     "data": {
      "text/plain": [
       "0.5266120777891504"
      ]
     },
     "execution_count": 31,
     "metadata": {},
     "output_type": "execute_result"
    }
   ],
   "source": [
    "sample = 30\n",
    "def softmax(X, wgts):\n",
    "  sd = (1 / (1 + np.exp(-np.concatenate([np.ones((X.shape[0], 1)), X], axis=-1) @ wgts.numpy().T)) > 0.5) *1.0\n",
    "  return sd[:]\n",
    "\n",
    "X_sub, X_ids = project_and_filter(X, random_dirs[sample], 20)\n",
    "Y_sub = Y[X_ids]\n",
    "prd = softmax(get_rand_feats(X_sub@pca_projs, model), betas[sample])\n",
    "\n",
    "np.mean(prd == Y_sub)"
   ]
  },
  {
   "cell_type": "code",
   "execution_count": 32,
   "metadata": {},
   "outputs": [
    {
     "data": {
      "text/plain": [
       "0.471841704718417"
      ]
     },
     "execution_count": 32,
     "metadata": {},
     "output_type": "execute_result"
    }
   ],
   "source": [
    "ex_X = tf.cast(external_X, tf.float32)\n",
    "ex_Y = external_Y\n",
    "ex_X = (ex_X-mu_x)/sigma_x\n",
    "\n",
    "X_sub, X_ids = project_and_filter(ex_X, random_dirs[sample], 20)\n",
    "Y_sub = ex_Y[X_ids]\n",
    "prd = softmax(get_rand_feats(X_sub@pca_projs, model), betas[sample])\n",
    "\n",
    "(prd == Y_sub).mean()"
   ]
  },
  {
   "cell_type": "markdown",
   "metadata": {
    "id": "ARSClVlo7Jlq"
   },
   "source": [
    "## Should test Betas performance first"
   ]
  },
  {
   "cell_type": "code",
   "execution_count": 39,
   "metadata": {
    "id": "_bklenRt7L2Z"
   },
   "outputs": [],
   "source": [
    "# from tensorflow.keras import layers, models\n",
    "\n",
    "# beta_dim = betas.shape[-1]\n",
    "# input_dir_dim = random_dirs.shape[-1]\n",
    "# latent_dim = 64\n",
    "\n",
    "# # Encoder\n",
    "# beta_input = layers.Input(shape=(beta_dim,))\n",
    "# beta_x = layers.Dense(256, activation=tf.nn.elu)(beta_input)\n",
    "# dir_input = layers.Input(shape=(input_dir_dim,))\n",
    "# encoder_inputs = layers.Concatenate()([beta_x, dir_input])\n",
    "# x = layers.Dense(512, activation=tf.nn.elu)(encoder_inputs)\n",
    "# x = layers.Dense(256, activation=tf.nn.elu)(x)\n",
    "# x = layers.Dense(128, activation=tf.nn.elu)(x)\n",
    "# x = layers.Dense(64, activation=tf.nn.elu)(x)\n",
    "# # x = layers.Dense(32, activation=tf.nn.elu)(x)\n",
    "# z_mean = layers.Dense(latent_dim)(x)\n",
    "# z_log_var = layers.Dense(latent_dim)(x)\n",
    "\n",
    "# def sampling(args):\n",
    "#   z_mean, z_log_var = args\n",
    "#   eps = tf.random.normal(shape=tf.shape(z_mean))\n",
    "#   return z_mean + tf.exp(0.5 * z_log_var) * eps\n",
    "\n",
    "# z = layers.Lambda(sampling)([z_mean, z_log_var])\n",
    "\n",
    "\n",
    "# ### Using direction in Decoder is weird\n",
    "# ### Likely just train VAE solely on betas with directions\n",
    "\n",
    "\n",
    "# # Decoder\n",
    "# latent_inputs = layers.Input(shape=(latent_dim,))\n",
    "# decoder_dir_input = layers.Input(shape=(input_dir_dim,))\n",
    "# decoder_inputs = layers.Concatenate()([latent_inputs, decoder_dir_input])\n",
    "# # x = layers.Dense(32, activation=tf.nn.elu)(decoder_inputs)\n",
    "# x = layers.Dense(64, activation=tf.nn.elu)(decoder_inputs)\n",
    "# # x = layers.Dense(128, activation=tf.nn.elu)(x)\n",
    "# x = layers.Dense(256, activation=tf.nn.elu)(x)\n",
    "# # x = layers.Dense(512, activation=tf.nn.elu)(x)\n",
    "# beta_output = layers.Dense(beta_dim)(x)\n",
    "\n",
    "# # Instantiate model\n",
    "# encoder = models.Model([beta_input, dir_input], [z_mean, z_log_var, z], name=\"encoder\")\n",
    "# decoder = models.Model([latent_inputs, decoder_dir_input], beta_output, name=\"decoder\")\n",
    "\n",
    "# # VAE\n",
    "# outputs = decoder([encoder([beta_input, dir_input])[2], dir_input])\n",
    "# vae = models.Model([beta_input, dir_input], outputs, name=\"vae\")\n",
    "# vae.encoder = encoder\n",
    "# vae.decoder = decoder\n",
    "\n",
    "\n",
    "\n",
    "from tensorflow.keras import layers, models\n",
    "\n",
    "beta_dim = betas.shape[-1]\n",
    "input_dir_dim = random_dirs.shape[-1]\n",
    "latent_dim = 32\n",
    "\n",
    "# Encoder\n",
    "beta_input = layers.Input(shape=(beta_dim,))\n",
    "beta_x = layers.Dense(512, activation=tf.nn.elu)(beta_input)\n",
    "dir_input = layers.Input(shape=(input_dir_dim,))\n",
    "encoder_inputs = layers.Concatenate()([beta_x, dir_input])\n",
    "# x = layers.Dense(1024, activation=tf.nn.elu)(encoder_inputs)\n",
    "x = layers.Dense(512, activation=tf.nn.elu)(encoder_inputs)\n",
    "# x = layers.Dense(256, activation=tf.nn.elu)(encoder_inputs)\n",
    "x = layers.Dense(128, activation=tf.nn.elu)(encoder_inputs)\n",
    "x = layers.Dense(32, activation=tf.nn.elu)(x)\n",
    "# x = layers.Dense(8, activation=tf.nn.elu)(x)\n",
    "z_mean = layers.Dense(latent_dim)(x)\n",
    "z_log_var = layers.Dense(latent_dim)(x)\n",
    "\n",
    "def sampling(args):\n",
    "  z_mean, z_log_var = args\n",
    "  eps = tf.random.normal(shape=tf.shape(z_mean))\n",
    "  return z_mean + tf.exp(0.5 * z_log_var) * eps\n",
    "\n",
    "z = layers.Lambda(sampling)([z_mean, z_log_var])\n",
    "\n",
    "\n",
    "### Using direction in Decoder is weird\n",
    "### Likely just train VAE solely on betas with directions\n",
    "\n",
    "\n",
    "# Decoder\n",
    "latent_inputs = layers.Input(shape=(latent_dim,))\n",
    "decoder_dir_input = layers.Input(shape=(input_dir_dim,))\n",
    "decoder_inputs = layers.Concatenate()([latent_inputs, decoder_dir_input])\n",
    "# decoder_inputs = layers.Concatenate()([latent_inputs, decoder_dir_input])\n",
    "# x = layers.Dense(8, activation=tf.nn.elu)(decoder_inputs)\n",
    "x = layers.Dense(32, activation=tf.nn.elu)(decoder_inputs)\n",
    "# x = layers.Dense(128, activation=tf.nn.elu)(x)\n",
    "x = layers.Dense(256, activation=tf.nn.elu)(x)\n",
    "x = layers.Dense(512, activation=tf.nn.elu)(x)\n",
    "# x = layers.Dense(1024, activation=tf.nn.elu)(x)\n",
    "beta_output = layers.Dense(beta_dim)(x)\n",
    "\n",
    "# Instantiate model\n",
    "encoder = models.Model([beta_input, dir_input], [z_mean, z_log_var, z], name=\"encoder\")\n",
    "decoder = models.Model([latent_inputs, decoder_dir_input], beta_output, name=\"decoder\")\n",
    "\n",
    "# VAE\n",
    "outputs = decoder([encoder([beta_input, dir_input])[2], dir_input])\n",
    "vae = models.Model([beta_input, dir_input], outputs, name=\"vae\")\n",
    "vae.encoder = encoder\n",
    "vae.decoder = decoder\n"
   ]
  },
  {
   "cell_type": "code",
   "execution_count": 40,
   "metadata": {
    "id": "GEVOITgr-mEL"
   },
   "outputs": [],
   "source": [
    "# def vae_loss(inputs, outputs, z_mean, z_log_var, reg=1.0):\n",
    "#   # recon_loss = tf.reduce_mean(tf.reduce_sum(tf.square(inputs - outputs), axis=-1))\n",
    "#   recon_loss = tf.reduce_mean(1-tf.reduce_sum(tf.linalg.normalize(tf.cast(inputs, dtype=tf.float32), axis=-1)[0] *\n",
    "#                                               tf.linalg.normalize(outputs, axis=-1)[0], axis=-1))\n",
    "#   kl_loss = -0.5 * tf.reduce_mean(tf.reduce_sum(1 + z_log_var - tf.square(z_mean) - tf.exp(z_log_var), axis=-1))\n",
    "#   total_loss = recon_loss + 0.001 * kl_loss\n",
    "#   return total_loss, recon_loss, kl_loss\n",
    "\n",
    "\n",
    "def vae_loss(inputs, outputs, z_mean, z_log_var, reg=0.002):\n",
    "  # recon_loss = tf.reduce_mean(tf.reduce_sum(tf.square(inputs - outputs), axis=-1))\n",
    "  intercp_loss = tf.reduce_mean(tf.abs(tf.cast(inputs[:, :1], dtype=tf.float32) - outputs[:, :1]))\n",
    "  recon_loss = tf.reduce_mean(1-tf.reduce_sum(tf.linalg.normalize(tf.cast(inputs[:, 1:], dtype=tf.float32), axis=-1)[0] *\n",
    "                                              tf.linalg.normalize(outputs[:, 1:], axis=-1)[0], axis=-1))\n",
    "  kl_loss = -0.5 * tf.reduce_mean(tf.reduce_sum(1 + z_log_var - tf.square(z_mean) - tf.exp(z_log_var), axis=-1))\n",
    "  total_loss = recon_loss + intercp_loss + reg * kl_loss\n",
    "  return total_loss, recon_loss, intercp_loss, kl_loss"
   ]
  },
  {
   "cell_type": "code",
   "execution_count": 41,
   "metadata": {
    "id": "bjyT0zzy_Q8E"
   },
   "outputs": [],
   "source": [
    "# opt = tf.keras.optimizers.Adam()\n",
    "\n",
    "# def train_step(model, inputs, dir_inputs):\n",
    "#   with tf.GradientTape() as tape:\n",
    "#     z_mean, z_log_var, z = model.encoder([inputs, dir_inputs])\n",
    "#     outputs = model.decoder([z, dir_inputs])\n",
    "#     total_loss, recon_loss, kl_loss = vae_loss(inputs, outputs, z_mean, z_log_var)\n",
    "#   grads = tape.gradient(total_loss, model.trainable_variables)\n",
    "#   opt.apply_gradients(zip(grads, model.trainable_variables))\n",
    "#   return total_loss, recon_loss, kl_loss\n",
    "\n",
    "opt = tf.keras.optimizers.Adam()\n",
    "\n",
    "# def regul(epoch):\n",
    "#     if epoch%10<=5:\n",
    "#         return epoch*0.2\n",
    "\n",
    "def train_step(model, inputs, dir_inputs, epoch=None):\n",
    "  with tf.GradientTape() as tape:\n",
    "    z_mean, z_log_var, z = model.encoder([inputs, dir_inputs])\n",
    "    # outputs = model.decoder([z, dir_inputs])\n",
    "    outputs = model.decoder([z, dir_inputs])\n",
    "    \n",
    "    total_loss, recon_loss, intercp_loss, kl_loss = vae_loss(inputs, outputs, z_mean, z_log_var)\n",
    "  grads = tape.gradient(total_loss, model.trainable_variables)\n",
    "  opt.apply_gradients(zip(grads, model.trainable_variables))\n",
    "  return total_loss, recon_loss, intercp_loss, kl_loss"
   ]
  },
  {
   "cell_type": "code",
   "execution_count": 42,
   "metadata": {
    "id": "usu_v5FxBgmn"
   },
   "outputs": [],
   "source": [
    "def batch(betas, dirs, batch_size):\n",
    "  num_samples = betas.shape[0]\n",
    "  indices = np.arange(num_samples)\n",
    "  np.random.shuffle(indices)\n",
    "  betas = np.array(betas)[indices]\n",
    "  dirs = np.array(dirs)[indices]\n",
    "  for i in range(0, betas.shape[0], batch_size):\n",
    "    yield betas[i:i+batch_size], dirs[i:i+batch_size]"
   ]
  },
  {
   "cell_type": "code",
   "execution_count": null,
   "metadata": {
    "colab": {
     "base_uri": "https://localhost:8080/"
    },
    "id": "Rhn1yqRa_UBV",
    "outputId": "8dd8c722-dc02-4ed6-f74c-cd21085979b5",
    "scrolled": true
   },
   "outputs": [
    {
     "name": "stdout",
     "output_type": "stream",
     "text": [
      "Epoch 0\n"
     ]
    },
    {
     "name": "stderr",
     "output_type": "stream",
     "text": [
      "2024-04-29 14:18:09.364108: I tensorflow/compiler/xla/service/service.cc:173] XLA service 0x17727400 initialized for platform CUDA (this does not guarantee that XLA will be used). Devices:\n",
      "2024-04-29 14:18:09.364164: I tensorflow/compiler/xla/service/service.cc:181]   StreamExecutor device (0): NVIDIA TITAN RTX, Compute Capability 7.5\n",
      "2024-04-29 14:18:09.382259: I tensorflow/compiler/mlir/tensorflow/utils/dump_mlir_util.cc:268] disabling MLIR crash reproducer, set env var `MLIR_CRASH_REPRODUCER_DIRECTORY` to enable.\n",
      "2024-04-29 14:18:09.634348: I tensorflow/tsl/platform/default/subprocess.cc:304] Start cannot spawn child process: No such file or directory\n",
      "2024-04-29 14:18:09.744649: I tensorflow/compiler/jit/xla_compilation_cache.cc:477] Compiled cluster using XLA!  This line is logged at most once for the lifetime of the process.\n"
     ]
    },
    {
     "name": "stdout",
     "output_type": "stream",
     "text": [
      "WARNING:tensorflow:5 out of the last 5 calls to <function _BaseOptimizer._update_step_xla at 0x7fd8e00e54c0> triggered tf.function retracing. Tracing is expensive and the excessive number of tracings could be due to (1) creating @tf.function repeatedly in a loop, (2) passing tensors with different shapes, (3) passing Python objects instead of tensors. For (1), please define your @tf.function outside of the loop. For (2), @tf.function has reduce_retracing=True option that can avoid unnecessary retracing. For (3), please refer to https://www.tensorflow.org/guide/function#controlling_retracing and https://www.tensorflow.org/api_docs/python/tf/function for  more details.\n",
      "WARNING:tensorflow:6 out of the last 6 calls to <function _BaseOptimizer._update_step_xla at 0x7fd8e00e54c0> triggered tf.function retracing. Tracing is expensive and the excessive number of tracings could be due to (1) creating @tf.function repeatedly in a loop, (2) passing tensors with different shapes, (3) passing Python objects instead of tensors. For (1), please define your @tf.function outside of the loop. For (2), @tf.function has reduce_retracing=True option that can avoid unnecessary retracing. For (3), please refer to https://www.tensorflow.org/guide/function#controlling_retracing and https://www.tensorflow.org/api_docs/python/tf/function for  more details.\n",
      "Step 0: loss = 1.0351190567016602, recon_loss = 1.0016474723815918, 0.032115381211042404, kl_loss = 0.6780949831008911\n",
      "\n",
      "Epoch 1\n",
      "Step 0: loss = 0.5420260429382324, recon_loss = 0.4597800374031067, 0.05433984845876694, kl_loss = 13.953095436096191\n",
      "\n",
      "Epoch 2\n",
      "Step 0: loss = 0.48356327414512634, recon_loss = 0.44173040986061096, 0.024395333603024483, kl_loss = 8.718759536743164\n",
      "\n",
      "Epoch 3\n",
      "Step 0: loss = 0.46967121958732605, recon_loss = 0.42836299538612366, 0.025281129404902458, kl_loss = 8.0135498046875\n",
      "\n",
      "Epoch 4\n",
      "Step 0: loss = 0.4630090594291687, recon_loss = 0.42517006397247314, 0.01941460371017456, kl_loss = 9.212190628051758\n",
      "\n",
      "Epoch 5\n",
      "Step 0: loss = 0.44245538115501404, recon_loss = 0.41880062222480774, 0.014929696917533875, kl_loss = 4.362531661987305\n",
      "\n",
      "Epoch 6\n",
      "Step 0: loss = 0.43722039461135864, recon_loss = 0.41710352897644043, 0.010781651362776756, kl_loss = 4.667606353759766\n",
      "\n",
      "Epoch 7\n",
      "Step 0: loss = 0.43981099128723145, recon_loss = 0.4207001030445099, 0.012827716767787933, kl_loss = 3.1415867805480957\n",
      "\n",
      "Epoch 8\n",
      "Step 0: loss = 0.45461925864219666, recon_loss = 0.4207910895347595, 0.010203924961388111, kl_loss = 11.812122344970703\n",
      "\n",
      "Epoch 9\n",
      "Step 0: loss = 0.44834157824516296, recon_loss = 0.42141810059547424, 0.01533620897680521, kl_loss = 5.793628692626953\n",
      "\n",
      "Epoch 10\n",
      "Step 0: loss = 0.4431377053260803, recon_loss = 0.42213869094848633, 0.01244460977613926, kl_loss = 4.277193546295166\n",
      "\n",
      "Epoch 11\n",
      "Step 0: loss = 0.4601040482521057, recon_loss = 0.43675196170806885, 0.016661129891872406, kl_loss = 3.345475673675537\n",
      "\n",
      "Epoch 12\n",
      "Step 0: loss = 0.4535343050956726, recon_loss = 0.42278894782066345, 0.015312443487346172, kl_loss = 7.716468811035156\n",
      "\n",
      "Epoch 13\n",
      "Step 0: loss = 0.4407596290111542, recon_loss = 0.41360464692115784, 0.017379697412252426, kl_loss = 4.887642860412598\n",
      "\n",
      "Epoch 14\n",
      "Step 0: loss = 0.43138569593429565, recon_loss = 0.4162381589412689, 0.008647015318274498, kl_loss = 3.2502617835998535\n",
      "\n",
      "Epoch 15\n",
      "Step 0: loss = 0.43172457814216614, recon_loss = 0.4147048592567444, 0.011012014001607895, kl_loss = 3.0038504600524902\n",
      "\n",
      "Epoch 16\n",
      "Step 0: loss = 0.44378799200057983, recon_loss = 0.4266650080680847, 0.012095607817173004, kl_loss = 2.5136938095092773\n",
      "\n",
      "Epoch 17\n",
      "Step 0: loss = 0.4327999949455261, recon_loss = 0.41423243284225464, 0.007874292321503162, kl_loss = 5.346648216247559\n",
      "\n",
      "Epoch 18\n",
      "Step 0: loss = 0.4310216009616852, recon_loss = 0.4162997007369995, 0.0070806583389639854, kl_loss = 3.820629358291626\n",
      "\n",
      "Epoch 19\n",
      "Step 0: loss = 0.42788562178611755, recon_loss = 0.4163491725921631, 0.005922079086303711, kl_loss = 2.807180404663086\n",
      "\n",
      "Epoch 20\n",
      "Step 0: loss = 0.4237021207809448, recon_loss = 0.41250452399253845, 0.0058289384469389915, kl_loss = 2.684330940246582\n",
      "\n",
      "Epoch 21\n",
      "Step 0: loss = 0.41706302762031555, recon_loss = 0.4057318866252899, 0.00651150569319725, kl_loss = 2.4098129272460938\n",
      "\n",
      "Epoch 22\n",
      "Step 0: loss = 0.4124884009361267, recon_loss = 0.4016067087650299, 0.006990419700741768, kl_loss = 1.9456324577331543\n",
      "\n",
      "Epoch 23\n",
      "Step 0: loss = 0.40664008259773254, recon_loss = 0.3982698917388916, 0.004807785153388977, kl_loss = 1.7812162637710571\n",
      "\n",
      "Epoch 24\n",
      "Step 0: loss = 0.4008710980415344, recon_loss = 0.3910490870475769, 0.006357918959110975, kl_loss = 1.7320455312728882\n",
      "\n",
      "Epoch 25\n",
      "Step 0: loss = 0.38949552178382874, recon_loss = 0.3804970979690552, 0.005360721610486507, kl_loss = 1.8188490867614746\n",
      "\n",
      "Epoch 26\n",
      "Step 0: loss = 0.3931550681591034, recon_loss = 0.3844758868217468, 0.0051148077473044395, kl_loss = 1.7821919918060303\n",
      "\n",
      "Epoch 27\n",
      "Step 0: loss = 0.38730165362358093, recon_loss = 0.3776721656322479, 0.005872471258044243, kl_loss = 1.8785109519958496\n"
     ]
    }
   ],
   "source": [
    "# epochs = 2000\n",
    "# batch_size = 32\n",
    "\n",
    "# for i in range(epochs):\n",
    "#   print(f\"Epoch {i}\")\n",
    "#   for step, (batch_betas, batch_dirs) in enumerate(batch(betas, random_dirs, batch_size)):\n",
    "#     loss_vals = train_step(vae, batch_betas, batch_dirs)\n",
    "#     if step % 100 == 0: # tmp\n",
    "#       print(f\"Step {step}: loss = {loss_vals[0].numpy()}, recon_loss = {loss_vals[1].numpy()}, kl_loss = {loss_vals[2].numpy()}\")\n",
    "#   print()\n",
    "\n",
    "epochs = 3000\n",
    "batch_size = 32\n",
    "\n",
    "for i in range(epochs):\n",
    "  print(f\"Epoch {i}\")\n",
    "  for step, (batch_betas, batch_dirs) in enumerate(batch(betas, random_dirs, batch_size)):\n",
    "    loss_vals = train_step(vae, batch_betas, batch_dirs, i)\n",
    "    if step % 100 == 0: # tmp\n",
    "      print(f\"Step {step}: loss = {loss_vals[0].numpy()}, recon_loss = {loss_vals[1].numpy()}, {loss_vals[2].numpy()}, kl_loss = {loss_vals[3].numpy()}\")\n",
    "  print()"
   ]
  },
  {
   "cell_type": "code",
   "execution_count": null,
   "metadata": {
    "id": "Uyl_Vz7yFRxU"
   },
   "outputs": [],
   "source": [
    "# Dont really think this works, since the latent space should be conditioned on the direction\n",
    "# Just to try something\n",
    "# Likely better to just have VAE solely on betas w/o directions\n",
    "def generate_new_betas(model, num_samples=1):\n",
    "  random_dirs = np.random.randn(num_samples, d)\n",
    "  random_dirs = random_dirs / np.linalg.norm(random_dirs, axis=1, keepdims=True)\n",
    "  random_dirs = tf.constant(random_dirs)\n",
    "  latent_samples = tf.random.normal(shape=(num_samples, latent_dim))\n",
    "  return model.decoder([latent_samples, random_dirs])"
   ]
  },
  {
   "cell_type": "code",
   "execution_count": null,
   "metadata": {
    "id": "S0XvcHOvKGNd"
   },
   "outputs": [],
   "source": [
    "drawn_betas = generate_new_betas(vae, 50_000)"
   ]
  },
  {
   "cell_type": "code",
   "execution_count": 29,
   "metadata": {
    "id": "L6UwhrytprJ7"
   },
   "outputs": [],
   "source": [
    "pperm = np.random.permutation(len(external_X))\n",
    "\n",
    "external_X = tf.constant(np.array(external_X)[pperm])\n",
    "external_Y = external_Y[pperm]"
   ]
  },
  {
   "cell_type": "code",
   "execution_count": 30,
   "metadata": {
    "id": "7-bWmPkrKQ5a"
   },
   "outputs": [],
   "source": [
    "# with open('/content/drive/My Drive/ml-ood/chem/val_ood.csv', 'r') as f:\n",
    "#   external_X = np.float32(np.array([line.strip().split(',')[4:] for line in f])[1:])\n",
    "\n",
    "# with open('/content/drive/My Drive/ml-ood/chem/val_ood.csv', 'r') as f:\n",
    "#   external_Y = np.float32(np.array([line.strip().split(',')[1] for line in f])[1:])\n",
    "\n",
    "# external_X = (external_X-mu_x)/sigma_x\n",
    "external_randfeats_X = get_rand_feats(external_X@pca_projs, model)"
   ]
  },
  {
   "cell_type": "code",
   "execution_count": null,
   "metadata": {
    "colab": {
     "base_uri": "https://localhost:8080/"
    },
    "id": "2uoIqkjR7G_K",
    "outputId": "0bf991ee-3291-4511-829c-846c40205d99"
   },
   "outputs": [
    {
     "name": "stdout",
     "output_type": "stream",
     "text": [
      "tf.Tensor([0. 0. 0. ... 0. 0. 0.], shape=(2048,), dtype=float32)\n",
      "tf.Tensor(\n",
      "[-0.9500462  -0.9970952  -0.7351471   0.25615945 -0.09993453  0.05183483\n",
      " -0.5821794   0.11442215 -0.07140958  0.35098624], shape=(10,), dtype=float32)\n",
      "0\n"
     ]
    }
   ],
   "source": [
    "print(external_X[0])\n",
    "print(external_randfeats_X[0][:10])\n",
    "print(external_Y[0])"
   ]
  },
  {
   "cell_type": "code",
   "execution_count": null,
   "metadata": {
    "colab": {
     "background_save": true
    },
    "id": "ZF8wAtKb14p_",
    "outputId": "bfcd92a0-6374-45ae-8850-46540e1e8f3c"
   },
   "outputs": [
    {
     "name": "stdout",
     "output_type": "stream",
     "text": [
      "(24599, 2048)\n",
      "(24599, 1000)\n",
      "(24599,)\n"
     ]
    }
   ],
   "source": [
    "print(external_X.shape)\n",
    "print(external_randfeats_X.shape)\n",
    "print(external_Y.shape)"
   ]
  },
  {
   "cell_type": "code",
   "execution_count": null,
   "metadata": {
    "colab": {
     "base_uri": "https://localhost:8080/"
    },
    "id": "35zXouXU2X2f",
    "outputId": "0a3ffc4e-705f-447c-f5fc-3185929e811e"
   },
   "outputs": [
    {
     "name": "stdout",
     "output_type": "stream",
     "text": [
      "tf.Tensor(\n",
      "[[0. 0. 0. ... 0. 0. 0.]\n",
      " [0. 0. 0. ... 0. 0. 0.]\n",
      " [0. 0. 0. ... 0. 0. 0.]\n",
      " ...\n",
      " [0. 0. 0. ... 0. 0. 0.]\n",
      " [0. 1. 0. ... 0. 0. 0.]\n",
      " [0. 0. 0. ... 0. 0. 0.]], shape=(10, 2048), dtype=float32)\n",
      "tf.Tensor([1 1 1 1 1 1 1 1 1 1], shape=(10,), dtype=int64)\n"
     ]
    }
   ],
   "source": [
    "print(external_X[:10])\n",
    "print(external_Y[:10])"
   ]
  },
  {
   "cell_type": "code",
   "execution_count": 34,
   "metadata": {
    "id": "W32O3S_gKnEp"
   },
   "outputs": [],
   "source": [
    "def get_preds(randfeats, betas):\n",
    "  \"\"\"\n",
    "  Args:\n",
    "    randfeats: N x d\n",
    "    betas: M x d\n",
    "  Return:\n",
    "    preds: N x M - each beta predicts on each instance\n",
    "  \"\"\"\n",
    "  #preds = []\n",
    "  #for i in range(len(betas)):\n",
    "  #  if i % 25_000 == 0: print(f\"{i} Predictions Made\")\n",
    "  #  preds.append(np.matmul(randfeats, betas[i]))\n",
    "  #return np.array(preds)\n",
    "  return np.concatenate([_b.predict_proba(randfeats)[:, 1][None, :] for _b in betas], axis=0).T\n",
    "\n",
    "  # betaT = np.transpose(betas) # d x M\n",
    "  # preds = np.matmul(randfeats, betaT) # N x M\n",
    "  # return preds\n",
    "\n",
    "def aggregate_preds(preds):\n",
    "  mean_pred = np.mean(preds, axis=-1, keepdims=False)\n",
    "  std_pred = np.std(preds, axis=-1, keepdims=False)\n",
    "  # Typically 0.5 threshold, just was all 0s\n",
    "  return np.float32(mean_pred), np.float32(mean_pred), np.float32(std_pred)\n",
    "\n",
    "def get_preds_and_aggregate(randfeats, betas):\n",
    "  preds = get_preds(randfeats, betas)\n",
    "  return aggregate_preds(preds)\n",
    "\n",
    "def get_preds_and_aggregate_sorted(randfeats, eX, dirs, betas):\n",
    "  preds = get_preds(randfeats, betas)\n",
    "  projs = np.dot(tf.linalg.normalize(eX, axis=-1)[0], tf.transpose(tf.linalg.normalize(dirs, axis=-1)[0]))\n",
    "  print(projs.shape, preds.shape)\n",
    "  thresh = np.percentile(projs, 100 - 20, axis=-1)\n",
    "  # wghts = (projs > thresh[:, None]) * projs\n",
    "  wghts = tf.ones_like(projs > thresh[:, None])\n",
    "  # wghts = (projs > thresh[:, None]).astype(np.float64)\n",
    "  wghts /= np.sum(wghts, axis=-1, keepdims=True)\n",
    "  return aggregate_preds(preds * wghts)\n",
    "\n",
    "# ext_preds, mp_rand, sp_rand = get_preds_and_aggregate_sorted(external_randfeats_X, external_X, random_dirs, betas) # 0.622\n",
    "\n",
    "\n",
    "ext_probs, mp_rand, sp_rand = get_preds_and_aggregate(external_randfeats_X,betas)"
   ]
  },
  {
   "cell_type": "code",
   "execution_count": null,
   "metadata": {
    "colab": {
     "base_uri": "https://localhost:8080/"
    },
    "id": "U8k8Ut4rSzEG",
    "outputId": "6915fcf3-4622-436b-863d-57f520e7bfe7"
   },
   "outputs": [
    {
     "data": {
      "text/plain": [
       "(array([-0.00610113,  0.09620966,  0.01917842, ...,  0.06529432,\n",
       "        -0.15893549, -0.9960615 ], dtype=float32),\n",
       " array([-0.04719334,  0.16918047, -0.17358743, ...,  0.02874647,\n",
       "         0.22791718, -1.57171667]))"
      ]
     },
     "execution_count": 64,
     "metadata": {},
     "output_type": "execute_result"
    }
   ],
   "source": [
    "drawn_betas[0].numpy(), betas[0].numpy()"
   ]
  },
  {
   "cell_type": "code",
   "execution_count": null,
   "metadata": {
    "colab": {
     "base_uri": "https://localhost:8080/"
    },
    "id": "Kcwk5JuaL9hK",
    "outputId": "c7853e3c-5de9-41b4-ee14-db7cb19048bd"
   },
   "outputs": [
    {
     "name": "stdout",
     "output_type": "stream",
     "text": [
      "(937,)\n"
     ]
    }
   ],
   "source": [
    "print(ext_preds.shape)"
   ]
  },
  {
   "cell_type": "code",
   "execution_count": null,
   "metadata": {
    "colab": {
     "base_uri": "https://localhost:8080/"
    },
    "id": "gyB9pfuaU0dn",
    "outputId": "6cb5d323-4178-435a-fd68-0c0159e117bf"
   },
   "outputs": [
    {
     "name": "stdout",
     "output_type": "stream",
     "text": [
      "[0. 0. 1. ... 1. 1. 1.]\n"
     ]
    }
   ],
   "source": [
    "print(ext_preds)"
   ]
  },
  {
   "cell_type": "code",
   "execution_count": 32,
   "metadata": {
    "colab": {
     "base_uri": "https://localhost:8080/"
    },
    "id": "Swp-RSU52GmJ",
    "outputId": "9ca75ef9-3c3a-4d03-e527-7ae816f0b812"
   },
   "outputs": [
    {
     "name": "stdout",
     "output_type": "stream",
     "text": [
      "First 10 Predictions:  [1. 1. 0. 1. 0. 1. 0. 1. 1. 1.]\n",
      "Total Positive Preds:  2709.0\n",
      "Total Preds:  6567\n",
      "% Positive Preds:  0.4125171311100959\n",
      "\n",
      "First 10 Ground Truth:  [1 0 1 0 0 0 1 0 1 1]\n",
      "Total Positive Ground Truth:  2931\n",
      "Total Ground Truth:  6567\n",
      "% Positive Ground Truth:  0.4463225216994061\n",
      "\n",
      "Accuracy:  0.5367747830059388\n"
     ]
    }
   ],
   "source": [
    "print(\"First 10 Predictions: \", ext_preds[:10])\n",
    "print(\"Total Positive Preds: \", sum(ext_preds))\n",
    "print(\"Total Preds: \", len(ext_preds))\n",
    "print(\"% Positive Preds: \", sum(ext_preds) / len(ext_preds))\n",
    "print()\n",
    "print(\"First 10 Ground Truth: \", external_Y[:10])\n",
    "print(\"Total Positive Ground Truth: \", sum(external_Y))\n",
    "print(\"Total Ground Truth: \", len(external_Y))\n",
    "print(\"% Positive Ground Truth: \", sum(external_Y) / len(external_Y))\n",
    "print()\n",
    "print(\"Accuracy: \", sum(ext_preds == external_Y) / len(ext_preds))"
   ]
  },
  {
   "cell_type": "code",
   "execution_count": 33,
   "metadata": {
    "colab": {
     "base_uri": "https://localhost:8080/",
     "height": 490
    },
    "id": "L7kl6J3wLped",
    "outputId": "d7a361d9-892f-481e-868d-9ef8e9059946"
   },
   "outputs": [
    {
     "data": {
      "text/plain": [
       "<matplotlib.legend.Legend at 0x7f9e50407eb0>"
      ]
     },
     "execution_count": 33,
     "metadata": {},
     "output_type": "execute_result"
    },
    {
     "data": {
      "image/png": "[encoded data removed]",
      "text/plain": [
       "<Figure size 640x480 with 1 Axes>"
      ]
     },
     "metadata": {},
     "output_type": "display_data"
    }
   ],
   "source": [
    "threshs = sp_rand\n",
    "std_threshs = np.linspace(np.min(threshs), np.max(threshs), 20) # Diff std. dev. thresholds (20 of them in this case)\n",
    "reject_rate = [1 - np.mean((threshs<=s)) for s in std_threshs] # Portion of instances rejected @ each std threshold\n",
    "accus = [np.mean((ext_preds==external_Y)[(threshs<=s)]) for s in std_threshs] # Acc @ each std thresh.\n",
    "tps = [np.sum(((external_Y)*(ext_preds==external_Y))[(threshs<=s)]) for s in std_threshs]  # correct and positive\n",
    "fps = [np.sum(((ext_preds)*(ext_preds!=external_Y))[(threshs<=s)]) for s in std_threshs]  # incorrect and predicted positive\n",
    "pos = np.sum(external_Y)\n",
    "recall = [tp/pos for tp in tps]\n",
    "precision = [tp/(tp+fp) for tp, fp in zip(tps, fps)]\n",
    "plt.plot(recall, precision, marker='+', c='orange')\n",
    "\n",
    "plt.plot(recall, precision, marker='+', c='orange')\n",
    "plt.xticks(np.arange(0, 1.01, step=0.1))\n",
    "plt.xticks(np.arange(0, 1.01, step=0.05), minor=True)\n",
    "plt.yticks(np.arange(.6, 1.01, step=0.05))\n",
    "plt.grid(True, which='both')\n",
    "plt.xlabel('Recall ({} Positive)'.format(int(pos)))\n",
    "plt.ylabel('Precision')\n",
    "plt.title('Precision vs Recall by Thresholding Ensemble Std')\n",
    "plt.legend(['Autoencoder Method'])"
   ]
  },
  {
   "cell_type": "code",
   "execution_count": 35,
   "metadata": {
    "colab": {
     "background_save": true
    },
    "id": "5eUQIi5uCvqd",
    "outputId": "ac851900-90b2-49e3-ef1b-55b7c3569f4b"
   },
   "outputs": [
    {
     "data": {
      "text/plain": [
       "[<matplotlib.lines.Line2D at 0x7f9e50348d90>]"
      ]
     },
     "execution_count": 35,
     "metadata": {},
     "output_type": "execute_result"
    },
    {
     "data": {
      "image/png": "[encoded data removed]",
      "text/plain": [
       "<Figure size 640x480 with 1 Axes>"
      ]
     },
     "metadata": {},
     "output_type": "display_data"
    }
   ],
   "source": [
    "from sklearn.metrics import precision_recall_curve\n",
    "p, r, thres = precision_recall_curve(external_Y, ext_probs)\n",
    "\n",
    "plt.plot(r, p)"
   ]
  },
  {
   "cell_type": "code",
   "execution_count": null,
   "metadata": {},
   "outputs": [],
   "source": []
  }
 ],
 "metadata": {
  "colab": {
   "machine_shape": "hm",
   "provenance": []
  },
  "kernelspec": {
   "display_name": "Python 3 (ipykernel)",
   "language": "python",
   "name": "python3"
  },
  "language_info": {
   "codemirror_mode": {
    "name": "ipython",
    "version": 3
   },
   "file_extension": ".py",
   "mimetype": "text/x-python",
   "name": "python",
   "nbconvert_exporter": "python",
   "pygments_lexer": "ipython3",
   "version": "3.8.10"
  }
 },
 "nbformat": 4,
 "nbformat_minor": 4
}
