{
 "cells": [
  {
   "cell_type": "code",
   "execution_count": null,
   "metadata": {},
   "outputs": [
    {
     "name": "stdout",
     "output_type": "stream",
     "text": [
      "Collecting matplotlib\n",
      "  Using cached matplotlib-3.7.5-cp38-cp38-manylinux_2_12_x86_64.manylinux2010_x86_64.whl (9.2 MB)\n",
      "Requirement already satisfied: scipy in /playpen/debman/ood/lib/python3.8/site-packages (1.10.1)\n",
      "Collecting pandas\n",
      "  Using cached pandas-2.0.3-cp38-cp38-manylinux_2_17_x86_64.manylinux2014_x86_64.whl (12.4 MB)\n",
      "Requirement already satisfied: tensorflow in /playpen/debman/ood/lib/python3.8/site-packages (2.13.1)\n",
      "Collecting xgboost\n",
      "  Using cached xgboost-2.0.3-py3-none-manylinux2014_x86_64.whl (297.1 MB)\n"
     ]
    }
   ],
   "source": [
    "%pip install matplotlib scipy pandas tensorflow xgboost scikit-learn json pickle"
   ]
  },
  {
   "cell_type": "code",
   "execution_count": 2,
   "metadata": {
    "id": "EXxipvmSWDIi"
   },
   "outputs": [],
   "source": [
    "%matplotlib inline\n",
    "import numpy as np\n",
    "import matplotlib.pyplot as plt\n",
    "import scipy.stats\n",
    "import pandas as pd\n",
    "import random as rnd\n",
    "import os\n",
    "os.environ[\"CUDA_DEVICE_ORDER\"]=\"PCI_BUS_ID\"   # see issue #152\n",
    "os.environ[\"CUDA_VISIBLE_DEVICES\"]=\"\""
   ]
  },
  {
   "cell_type": "code",
   "execution_count": 3,
   "metadata": {
    "id": "FDwgr2mvrr43"
   },
   "outputs": [
    {
     "name": "stderr",
     "output_type": "stream",
     "text": [
      "2024-06-05 21:12:05.826129: I tensorflow/core/platform/cpu_feature_guard.cc:193] This TensorFlow binary is optimized with oneAPI Deep Neural Network Library (oneDNN) to use the following CPU instructions in performance-critical operations:  AVX2 FMA\n",
      "To enable them in other operations, rebuild TensorFlow with the appropriate compiler flags.\n",
      "2024-06-05 21:12:06.805331: W tensorflow/compiler/xla/stream_executor/platform/default/dso_loader.cc:64] Could not load dynamic library 'libnvinfer.so.7'; dlerror: libnvinfer.so.7: cannot open shared object file: No such file or directory\n",
      "2024-06-05 21:12:06.805444: W tensorflow/compiler/xla/stream_executor/platform/default/dso_loader.cc:64] Could not load dynamic library 'libnvinfer_plugin.so.7'; dlerror: libnvinfer_plugin.so.7: cannot open shared object file: No such file or directory\n",
      "2024-06-05 21:12:06.805458: W tensorflow/compiler/tf2tensorrt/utils/py_utils.cc:38] TF-TRT Warning: Cannot dlopen some TensorRT libraries. If you would like to use Nvidia GPU with TensorRT, please make sure the missing libraries mentioned above are installed properly.\n"
     ]
    }
   ],
   "source": [
    "import tensorflow as tf\n",
    "import tensorflow_probability as tfp\n",
    "from tensorflow.keras import layers, models"
   ]
  },
  {
   "cell_type": "code",
   "execution_count": 4,
   "metadata": {},
   "outputs": [
    {
     "name": "stderr",
     "output_type": "stream",
     "text": [
      "2024-06-05 21:12:07.918243: E tensorflow/compiler/xla/stream_executor/cuda/cuda_driver.cc:267] failed call to cuInit: CUDA_ERROR_NO_DEVICE: no CUDA-capable device is detected\n",
      "2024-06-05 21:12:07.918304: I tensorflow/compiler/xla/stream_executor/cuda/cuda_diagnostics.cc:169] retrieving CUDA diagnostic information for host: hires-lambda1.cs.unc.edu\n",
      "2024-06-05 21:12:07.918322: I tensorflow/compiler/xla/stream_executor/cuda/cuda_diagnostics.cc:176] hostname: hires-lambda1.cs.unc.edu\n",
      "2024-06-05 21:12:07.918441: I tensorflow/compiler/xla/stream_executor/cuda/cuda_diagnostics.cc:200] libcuda reported version is: 535.104.12\n",
      "2024-06-05 21:12:07.918496: I tensorflow/compiler/xla/stream_executor/cuda/cuda_diagnostics.cc:204] kernel reported version is: 535.104.12\n",
      "2024-06-05 21:12:07.918512: I tensorflow/compiler/xla/stream_executor/cuda/cuda_diagnostics.cc:310] kernel version seems to match DSO: 535.104.12\n"
     ]
    },
    {
     "data": {
      "text/plain": [
       "[PhysicalDevice(name='/physical_device:CPU:0', device_type='CPU')]"
      ]
     },
     "execution_count": 4,
     "metadata": {},
     "output_type": "execute_result"
    }
   ],
   "source": [
    "tf.config.list_physical_devices()"
   ]
  },
  {
   "cell_type": "code",
   "execution_count": 5,
   "metadata": {
    "id": "MiA1dcJqpTKA"
   },
   "outputs": [],
   "source": [
    "from xgboost import XGBClassifier\n",
    "from scipy.linalg import null_space\n",
    "from sklearn.cross_decomposition import CCA\n",
    "from sklearn.ensemble import RandomForestClassifier\n",
    "from sklearn.linear_model import LogisticRegression\n",
    "from sklearn.svm import SVC"
   ]
  },
  {
   "cell_type": "code",
   "execution_count": 6,
   "metadata": {
    "colab": {
     "base_uri": "https://localhost:8080/"
    },
    "id": "VyVyoLZXEp70",
    "outputId": "5d4d3afe-5729-428e-f1ac-9447218bc0f9"
   },
   "outputs": [],
   "source": [
    "# from google.colab import drive\n",
    "import pickle\n",
    "import json\n",
    "# drive.mount('/content/drive')"
   ]
  },
  {
   "cell_type": "code",
   "execution_count": 7,
   "metadata": {
    "id": "RfIq5WVKjVuQ"
   },
   "outputs": [],
   "source": [
    "r_quad = 80 + np.sin(np.linspace(0, np.pi, 100)) * 40\n",
    "\n",
    "\n",
    "all_samples = []\n",
    "Y = []\n",
    "for quads in range(6):\n",
    "  thet_quad = np.linspace(0, np.pi/3, 100) + quads * np.pi/3\n",
    "  mus = np.vstack([r_quad * np.sin(thet_quad), r_quad * np.cos(thet_quad)]).T\n",
    "  samples = np.random.normal(size=(5*100*2)).reshape(5, 100, 2) * 13 * np.random.uniform(size=(5*100*2)).reshape(5, 100, 2) + \\\n",
    "              mus[None, :, :]\n",
    "  all_samples.append(samples.reshape(-1, 2))\n",
    "\n",
    "all_samples = np.concatenate(all_samples, axis=0)\n",
    "\n",
    "Y += [1]*len(all_samples)\n",
    "\n",
    "r_quad = 40 + np.sin(np.linspace(0, np.pi, 100)) * 25\n",
    "\n",
    "\n",
    "all_samplesn = []\n",
    "segs = 4\n",
    "for quads in range(segs):\n",
    "  thet_quad = np.linspace(0, np.pi/(segs/2), 100) + quads * np.pi/(segs/2) + np.pi/6\n",
    "  mus = np.vstack([r_quad * np.sin(thet_quad), r_quad * np.cos(thet_quad)]).T\n",
    "  samples = np.random.normal(size=(4*100*2)).reshape(4, 100, 2) * 9 * np.random.uniform(size=(4*100*2)).reshape(4, 100, 2) + \\\n",
    "              mus[None, :, :]\n",
    "  all_samplesn.append(samples.reshape(-1, 2))\n",
    "\n",
    "all_samplesn = np.concatenate(all_samplesn, axis=0)\n",
    "Y += [0]*len(all_samplesn)\n"
   ]
  },
  {
   "cell_type": "code",
   "execution_count": 8,
   "metadata": {
    "colab": {
     "base_uri": "https://localhost:8080/"
    },
    "id": "L0GwScb-Aq7s",
    "outputId": "904c42cb-d533-4c6a-839b-91f47f83c553"
   },
   "outputs": [
    {
     "data": {
      "text/plain": [
       "(1600, 2)"
      ]
     },
     "execution_count": 8,
     "metadata": {},
     "output_type": "execute_result"
    }
   ],
   "source": [
    "all_samplesn.shape"
   ]
  },
  {
   "cell_type": "code",
   "execution_count": 9,
   "metadata": {
    "id": "dYK5gT7YsZp-"
   },
   "outputs": [],
   "source": [
    "X = np.concatenate([all_samples, all_samplesn], axis=0)\n",
    "Y = np.array(Y)"
   ]
  },
  {
   "cell_type": "code",
   "execution_count": 10,
   "metadata": {
    "id": "kVlUR4qismwF"
   },
   "outputs": [],
   "source": [
    "r_quad = 65 + np.sin(np.linspace(0, np.pi, 100)) * 40\n",
    "\n",
    "\n",
    "all_samples = []\n",
    "t_Y = []\n",
    "for quads in range(6):\n",
    "  thet_quad = np.linspace(0, np.pi/3, 100) + quads * np.pi/3\n",
    "  mus = np.vstack([r_quad * np.sin(thet_quad), r_quad * np.cos(thet_quad)]).T\n",
    "  samples = np.random.normal(size=(5*100*2)).reshape(5, 100, 2) * 13 * np.random.uniform(size=(5*100*2)).reshape(5, 100, 2) + \\\n",
    "              mus[None, :, :]\n",
    "  all_samples.append(samples.reshape(-1, 2))\n",
    "\n",
    "all_samples = np.concatenate(all_samples, axis=0)\n",
    "\n",
    "t_Y += [1]*len(all_samples)\n",
    "\n",
    "r_quad = 55 + np.sin(np.linspace(0, np.pi, 100)) * 25\n",
    "\n",
    "\n",
    "all_samplesn = []\n",
    "segs = 4\n",
    "for quads in range(segs):\n",
    "  thet_quad = np.linspace(0, np.pi/(segs/2), 100) + quads * np.pi/(segs/2) + np.pi/6\n",
    "  mus = np.vstack([r_quad * np.sin(thet_quad), r_quad * np.cos(thet_quad)]).T\n",
    "  samples = np.random.normal(size=(4*100*2)).reshape(4, 100, 2) * 9 * np.random.uniform(size=(4*100*2)).reshape(4, 100, 2) + \\\n",
    "              mus[None, :, :]\n",
    "  all_samplesn.append(samples.reshape(-1, 2))\n",
    "\n",
    "all_samplesn = np.concatenate(all_samplesn, axis=0)\n",
    "t_Y += [0]*len(all_samplesn)"
   ]
  },
  {
   "cell_type": "code",
   "execution_count": 11,
   "metadata": {
    "colab": {
     "base_uri": "https://localhost:8080/"
    },
    "id": "CnjykNPrAfn9",
    "outputId": "285e6fc7-d8aa-4c6a-a55a-563887109f04"
   },
   "outputs": [
    {
     "data": {
      "text/plain": [
       "(1600, 2)"
      ]
     },
     "execution_count": 11,
     "metadata": {},
     "output_type": "execute_result"
    }
   ],
   "source": [
    "all_samplesn.shape"
   ]
  },
  {
   "cell_type": "code",
   "execution_count": 12,
   "metadata": {
    "id": "otVyzMlTs3QE"
   },
   "outputs": [],
   "source": [
    "test_X = np.concatenate([all_samples, all_samplesn], axis=0)\n",
    "test_Y = np.array(t_Y)"
   ]
  },
  {
   "cell_type": "code",
   "execution_count": 13,
   "metadata": {
    "colab": {
     "base_uri": "https://localhost:8080/"
    },
    "id": "Nq_AHg9m_8OZ",
    "outputId": "b7a61457-c365-43fa-ea29-8bac5663533b"
   },
   "outputs": [
    {
     "data": {
      "text/plain": [
       "((4600, 2), (4600, 2))"
      ]
     },
     "execution_count": 13,
     "metadata": {},
     "output_type": "execute_result"
    }
   ],
   "source": [
    "test_X.shape, X.shape"
   ]
  },
  {
   "cell_type": "code",
   "execution_count": 14,
   "metadata": {
    "colab": {
     "base_uri": "https://localhost:8080/",
     "height": 450
    },
    "id": "yYNS70Q-ws11",
    "outputId": "b7edcc4b-f0d5-48c0-cc6d-bdfd2676ed12"
   },
   "outputs": [
    {
     "data": {
      "image/png": "[encoded data removed]",
      "text/plain": [
       "<Figure size 640x480 with 1 Axes>"
      ]
     },
     "metadata": {},
     "output_type": "display_data"
    }
   ],
   "source": [
    "import matplotlib.pyplot as plt\n",
    "plt.plot(test_X[:3000, 0], test_X[:3000, 1], 'o', color='yellow', ms=0.5, label=\"OOD +ve\")\n",
    "plt.plot(test_X[3000:, 0], test_X[3000:, 1], 'o', color='maroon', ms=0.5, label=\"OOD -ve\")\n",
    "plt.plot(X[:3000, 0], X[:3000, 1], 'o', color='green', ms=0.5, label=\"ID +ve\")\n",
    "plt.plot(X[3000:, 0], X[3000:, 1], 'o', color='red', ms=0.5, label=\"ID -ve\")\n",
    "x = [-150, -100, -50, 0, 50, 100, 150]\n",
    "y = [-100, -50, 0, 50, 100]\n",
    "# create an index for each tick position\n",
    "xi = list(range(len(x)))\n",
    "plt.xticks(x, x)\n",
    "plt.yticks(y, y)\n",
    "plt.title(\"Toy OOD data\")\n",
    "plt.legend(loc=\"upper left\")\n",
    "plt.savefig(\"toy-ood.png\")\n",
    "plt.show()"
   ]
  },
  {
   "cell_type": "code",
   "execution_count": 15,
   "metadata": {},
   "outputs": [],
   "source": [
    "def project_and_filter(X, dir, percentile=75):\n",
    "  projs = np.dot(X, dir)\n",
    "  thresh = np.percentile(projs, 100 - percentile)\n",
    "  filtered_idxs = projs >= thresh\n",
    "  return X[filtered_idxs], filtered_idxs"
   ]
  },
  {
   "cell_type": "code",
   "execution_count": 16,
   "metadata": {},
   "outputs": [],
   "source": [
    "X_sub, X_ids = project_and_filter(X, np.array([1, 0]), 40)\n",
    "Y_sub = Y[X_ids]"
   ]
  },
  {
   "cell_type": "code",
   "execution_count": 17,
   "metadata": {},
   "outputs": [
    {
     "data": {
      "image/png": "[encoded data removed]",
      "text/plain": [
       "<Figure size 640x480 with 1 Axes>"
      ]
     },
     "metadata": {},
     "output_type": "display_data"
    }
   ],
   "source": [
    "# import matplotlib.pyplot as plt\n",
    "plt.scatter(X_sub[:, 0], X_sub[:, 1], c=[['red', 'green'][int(y)] for y in Y_sub], s=1)\n",
    "plt.scatter(X_sub[:, 0], X_sub[:, 1], c=[['red', 'green'][int(y)] for y in Y_sub], s=1)\n",
    "x = [-150, -100, -50, 0, 50, 100, 150]\n",
    "y = [-100, -50, 0, 50, 100]\n",
    "# create an index for each tick position\n",
    "xi = list(range(len(x)))\n",
    "plt.xticks(x, x)\n",
    "plt.yticks(y, y)\n",
    "plt.title(\"Toy subset1\")\n",
    "plt.savefig(\"toy-subs1.png\")\n",
    "plt.show()"
   ]
  },
  {
   "cell_type": "code",
   "execution_count": 18,
   "metadata": {},
   "outputs": [
    {
     "data": {
      "text/plain": [
       "<Figure size 640x480 with 0 Axes>"
      ]
     },
     "metadata": {},
     "output_type": "display_data"
    }
   ],
   "source": [
    "plt.savefig(\"toy-subs.png\")"
   ]
  },
  {
   "cell_type": "code",
   "execution_count": 19,
   "metadata": {
    "id": "9U56G1VRx-As"
   },
   "outputs": [],
   "source": [
    "# standardize the data\n",
    "mu_x = np.mean(X, 0, keepdims=True)\n",
    "#sigma_x = np.std(X, 0, keepdims=True)\n",
    "sigma_x = np.ones_like(mu_x)\n",
    "X = (X-mu_x)/sigma_x"
   ]
  },
  {
   "cell_type": "code",
   "execution_count": 20,
   "metadata": {
    "colab": {
     "base_uri": "https://localhost:8080/"
    },
    "id": "RhQ0HK11qm36",
    "outputId": "dc0b4148-1dca-4812-8920-83990265ceea"
   },
   "outputs": [
    {
     "name": "stdout",
     "output_type": "stream",
     "text": [
      "(4600, 2)\n",
      "(4600,)\n"
     ]
    }
   ],
   "source": [
    "print(X.shape)\n",
    "print(Y.shape)"
   ]
  },
  {
   "cell_type": "code",
   "execution_count": 21,
   "metadata": {
    "id": "w4f7gcI3MOqu"
   },
   "outputs": [],
   "source": [
    "class RandFeats:\n",
    "  # def __init__(self, sigma_rot, d, D=128):\n",
    "  def __init__(self, sigma_rot, d, D=10):\n",
    "\n",
    "    self.sigmas = [sigma_rot/4, sigma_rot/2, sigma_rot, sigma_rot*2, sigma_rot*4]\n",
    "    self.D = D\n",
    "    self.Ws = []\n",
    "    for sigma in self.sigmas:\n",
    "      self.Ws.append(np.float32(np.random.randn(d, D)/sigma))\n",
    "    self.Ws = np.stack(self.Ws, 0)\n",
    "\n",
    "  def get_features(self, x_in):\n",
    "    # phis = []\n",
    "    # TODO: vectorize\n",
    "    # for W in Ws:\n",
    "    #   XW = np.matmul(x_in, W)\n",
    "    #   phis.append(\n",
    "    #     np.concatenate([np.sin(XW), np.cos(XW)], -1))\n",
    "    # return np.concatenate(phis, -1)\n",
    "    phis = tf.matmul(x_in, self.Ws)  # k x N x D\n",
    "    phis = tf.transpose(phis, [1, 2, 0])  # N x D x k\n",
    "    phis = tf.concat((tf.sin(phis), tf.cos(phis)), 1)\n",
    "    return tf.reshape(phis, [x_in.shape[0], -1])\n",
    "\n",
    "  def __call__(self, x_in):\n",
    "    return self.get_features(x_in)\n",
    "\n",
    "# def define_rand_feats(ndata_feats, nrand_feats=1000, gamma=1.0):\n",
    "def define_rand_feats(X, xD):\n",
    "  \"\"\"\n",
    "  Args:\n",
    "    ndata_feats: scalar value of total number of data features\n",
    "    nrand_feats: scalar value of total number of desired random features\n",
    "    gamma: Float, scale of frequencies\n",
    "\n",
    "  Returns:\n",
    "    Ws: ndata_feats x nrand_feats weight matrix\n",
    "    bs: 1 x nrand_feats bias vector\n",
    "  \"\"\"\n",
    "  tf.random.set_seed(123129) # For reproducibility\n",
    "  from scipy.spatial import distance\n",
    "  rprm = np.random.permutation(X.shape[0])\n",
    "  ds = distance.cdist(np.array(X)[rprm[:100], :], np.array(X)[rprm[100:], :])\n",
    "  sigma_rot = np.mean(np.sort(ds)[:, 5])\n",
    "  model = RandFeats(sigma_rot, X.shape[1], X.shape[1]*xD)\n",
    "\n",
    "  # Ws = gamma*tf.random.normal((ndata_feats, nrand_feats))\n",
    "  # bs = 2.0*np.pi*tf.random.uniform((1,nrand_feats))\n",
    "  # return Ws, bs\n",
    "  return model"
   ]
  },
  {
   "cell_type": "code",
   "execution_count": 22,
   "metadata": {},
   "outputs": [],
   "source": [
    "Dx = [2, 4, 6, 8, 10, 16]"
   ]
  },
  {
   "cell_type": "code",
   "execution_count": 23,
   "metadata": {
    "id": "lUdTgThu3CDN"
   },
   "outputs": [],
   "source": [
    "def get_rand_feats(X, model):\n",
    "  \"\"\"\n",
    "  Args:\n",
    "    X: N x d matrix of input features\n",
    "    Ws: ndata_feats x nrand_feats weight matrix\n",
    "    bs: 1 x nrand_feats bias vector\n",
    "\n",
    "  Returns:\n",
    "    Phis: N x D matrix of random features\n",
    "  \"\"\"\n",
    "  # XWs = tf.matmul(X, Ws)\n",
    "  # return tf.cos(XWs+bs)\n",
    "  return model(X)"
   ]
  },
  {
   "cell_type": "code",
   "execution_count": 24,
   "metadata": {
    "id": "OdWKikf20dfX"
   },
   "outputs": [],
   "source": [
    "def linear_coefs(X, X_ids, Y):\n",
    "  \"\"\"\n",
    "  Args:\n",
    "    X: N x d matrix of input features\n",
    "    Y: N x 1 matrix (column vector) of output response\n",
    "\n",
    "  Returns:\n",
    "    Beta: d x 1 matrix of linear coefficients\n",
    "  \"\"\"\n",
    "  # clf = LogisticRegression(random_state=0, solver='liblinear').fit(X, Y)\n",
    "  clf = SVC(random_state=0, tol=1e-5, kernel='linear').fit(X, Y)\n",
    "  support = (clf.support_, clf.n_support_)\n",
    "\n",
    "  def get_supp(support):\n",
    "      supps_, n_supps_ = support\n",
    "      supps_0 = supps_[:n_supps_[0]]\n",
    "      supps_1 = supps_[n_supps_[0]:]\n",
    "      return X_ids[supps_0], X_ids[supps_1]\n",
    "\n",
    "  support = get_supp(support)\n",
    "    \n",
    "  # clf = LogisticRegression(random_state=0).fit(X, Y)\n",
    "  print(clf.score(X, Y))\n",
    "  wgts = np.hstack((clf.intercept_[:,None], clf.coef_))\n",
    "  print(wgts.shape)\n",
    "  prd = (1 / (1 + np.exp(-np.concatenate([np.ones((X.shape[0], 1)), X], axis=-1) @ wgts.T)) > 0.5) *1.0\n",
    "  # print(np.mean(prd[:, 0]==Y))\n",
    "  return wgts, support\n",
    "  # beta = tf.linalg.solve(tf.matmul(tf.transpose(X),X), tf.matmul(tf.transpose(X), Y[:, None]))\n",
    "  # return beta"
   ]
  },
  {
   "cell_type": "code",
   "execution_count": 25,
   "metadata": {
    "id": "U6sPtWN-zvlP"
   },
   "outputs": [],
   "source": [
    "def get_models(X, Y, dirs, model, percentile=75):\n",
    "  #X_subsets = []\n",
    "  #data_ids = []\n",
    "  #Y_subsets = []\n",
    "  betas = []\n",
    "  supps = []\n",
    "  i = 0\n",
    "  for dir in dirs: # TODO: Vectorize\n",
    "    if i % 25 == 0: print(f\"Step {i}\")\n",
    "    X_sub, X_ids = project_and_filter(X, dir, percentile)\n",
    "    Y_sub = Y[X_ids]\n",
    "    print(X.shape, X_ids.shape)\n",
    "    beta, supp = linear_coefs(get_rand_feats(X_sub, model), np.argwhere(X_ids), Y_sub)\n",
    "    # beta = linear_coefs(X_sub, Y_sub)\n",
    "\n",
    "    #X_subsets.append(X_sub)\n",
    "    #data_ids.append(X_ids)\n",
    "    #Y_subsets.append(Y_sub)\n",
    "    betas.append(beta)\n",
    "    supps.append(supp)\n",
    "    i += 1\n",
    "    if i == len(dirs) - 1: print(f\"Done\")\n",
    "\n",
    "  # cant do this because subsets of variable sizes\n",
    "  #X_subsets = np.array(X_subsets)\n",
    "  #data_ids = np.array(data_ids)\n",
    "  #Y_subsets = np.array(Y_subsets)\n",
    "  betas = np.array(betas)\n",
    "\n",
    "  return betas, supps\n",
    "  #return X_subsets, data_ids, Y_subsets, betas"
   ]
  },
  {
   "cell_type": "code",
   "execution_count": 26,
   "metadata": {
    "colab": {
     "base_uri": "https://localhost:8080/",
     "height": 392
    },
    "id": "ZIvRCVks0XyQ",
    "outputId": "e16f7f64-5ec5-4f9c-af83-165097f4cfcd",
    "scrolled": true
   },
   "outputs": [
    {
     "name": "stdout",
     "output_type": "stream",
     "text": [
      "Step 0\n",
      "(4600, 2) (4600,)\n"
     ]
    },
    {
     "name": "stderr",
     "output_type": "stream",
     "text": [
      "2024-06-05 21:12:12.091432: I tensorflow/core/platform/cpu_feature_guard.cc:193] This TensorFlow binary is optimized with oneAPI Deep Neural Network Library (oneDNN) to use the following CPU instructions in performance-critical operations:  AVX2 FMA\n",
      "To enable them in other operations, rebuild TensorFlow with the appropriate compiler flags.\n"
     ]
    },
    {
     "ename": "KeyboardInterrupt",
     "evalue": "",
     "output_type": "error",
     "traceback": [
      "\u001b[0;31m---------------------------------------------------------------------------\u001b[0m",
      "\u001b[0;31mKeyboardInterrupt\u001b[0m                         Traceback (most recent call last)",
      "Cell \u001b[0;32mIn[26], line 15\u001b[0m\n\u001b[1;32m     12\u001b[0m random_dirs \u001b[38;5;241m=\u001b[39m random_dirs \u001b[38;5;241m/\u001b[39m np\u001b[38;5;241m.\u001b[39mlinalg\u001b[38;5;241m.\u001b[39mnorm(random_dirs, axis\u001b[38;5;241m=\u001b[39m\u001b[38;5;241m1\u001b[39m, keepdims\u001b[38;5;241m=\u001b[39m\u001b[38;5;28;01mTrue\u001b[39;00m)\n\u001b[1;32m     14\u001b[0m \u001b[38;5;66;03m#X_subsets, data_ids, Y_subsets, betas = get_models(X, Y, random_dirs, Ws, bs, percentile=33)\u001b[39;00m\n\u001b[0;32m---> 15\u001b[0m betas, supps \u001b[38;5;241m=\u001b[39m \u001b[43mget_models\u001b[49m\u001b[43m(\u001b[49m\u001b[43mX\u001b[49m\u001b[43m,\u001b[49m\u001b[43m \u001b[49m\u001b[43mY\u001b[49m\u001b[43m,\u001b[49m\u001b[43m \u001b[49m\u001b[43mrandom_dirs\u001b[49m\u001b[43m,\u001b[49m\u001b[43m \u001b[49m\u001b[43mmodel\u001b[49m\u001b[43m,\u001b[49m\u001b[43m \u001b[49m\u001b[43mpercentile\u001b[49m\u001b[38;5;241;43m=\u001b[39;49m\u001b[38;5;241;43m80\u001b[39;49m\u001b[43m)\u001b[49m\n",
      "Cell \u001b[0;32mIn[25], line 13\u001b[0m, in \u001b[0;36mget_models\u001b[0;34m(X, Y, dirs, model, percentile)\u001b[0m\n\u001b[1;32m     11\u001b[0m Y_sub \u001b[38;5;241m=\u001b[39m Y[X_ids]\n\u001b[1;32m     12\u001b[0m \u001b[38;5;28mprint\u001b[39m(X\u001b[38;5;241m.\u001b[39mshape, X_ids\u001b[38;5;241m.\u001b[39mshape)\n\u001b[0;32m---> 13\u001b[0m beta, supp \u001b[38;5;241m=\u001b[39m \u001b[43mlinear_coefs\u001b[49m\u001b[43m(\u001b[49m\u001b[43mget_rand_feats\u001b[49m\u001b[43m(\u001b[49m\u001b[43mX_sub\u001b[49m\u001b[43m,\u001b[49m\u001b[43m \u001b[49m\u001b[43mmodel\u001b[49m\u001b[43m)\u001b[49m\u001b[43m,\u001b[49m\u001b[43m \u001b[49m\u001b[43mnp\u001b[49m\u001b[38;5;241;43m.\u001b[39;49m\u001b[43margwhere\u001b[49m\u001b[43m(\u001b[49m\u001b[43mX_ids\u001b[49m\u001b[43m)\u001b[49m\u001b[43m,\u001b[49m\u001b[43m \u001b[49m\u001b[43mY_sub\u001b[49m\u001b[43m)\u001b[49m\n\u001b[1;32m     14\u001b[0m \u001b[38;5;66;03m# beta = linear_coefs(X_sub, Y_sub)\u001b[39;00m\n\u001b[1;32m     15\u001b[0m \n\u001b[1;32m     16\u001b[0m \u001b[38;5;66;03m#X_subsets.append(X_sub)\u001b[39;00m\n\u001b[1;32m     17\u001b[0m \u001b[38;5;66;03m#data_ids.append(X_ids)\u001b[39;00m\n\u001b[1;32m     18\u001b[0m \u001b[38;5;66;03m#Y_subsets.append(Y_sub)\u001b[39;00m\n\u001b[1;32m     19\u001b[0m betas\u001b[38;5;241m.\u001b[39mappend(beta)\n",
      "Cell \u001b[0;32mIn[24], line 11\u001b[0m, in \u001b[0;36mlinear_coefs\u001b[0;34m(X, X_ids, Y)\u001b[0m\n\u001b[1;32m      2\u001b[0m \u001b[38;5;250m\u001b[39m\u001b[38;5;124;03m\"\"\"\u001b[39;00m\n\u001b[1;32m      3\u001b[0m \u001b[38;5;124;03mArgs:\u001b[39;00m\n\u001b[1;32m      4\u001b[0m \u001b[38;5;124;03m  X: N x d matrix of input features\u001b[39;00m\n\u001b[0;32m   (...)\u001b[0m\n\u001b[1;32m      8\u001b[0m \u001b[38;5;124;03m  Beta: d x 1 matrix of linear coefficients\u001b[39;00m\n\u001b[1;32m      9\u001b[0m \u001b[38;5;124;03m\"\"\"\u001b[39;00m\n\u001b[1;32m     10\u001b[0m \u001b[38;5;66;03m# clf = LogisticRegression(random_state=0, solver='liblinear').fit(X, Y)\u001b[39;00m\n\u001b[0;32m---> 11\u001b[0m clf \u001b[38;5;241m=\u001b[39m \u001b[43mSVC\u001b[49m\u001b[43m(\u001b[49m\u001b[43mrandom_state\u001b[49m\u001b[38;5;241;43m=\u001b[39;49m\u001b[38;5;241;43m0\u001b[39;49m\u001b[43m,\u001b[49m\u001b[43m \u001b[49m\u001b[43mtol\u001b[49m\u001b[38;5;241;43m=\u001b[39;49m\u001b[38;5;241;43m1e-5\u001b[39;49m\u001b[43m,\u001b[49m\u001b[43m \u001b[49m\u001b[43mkernel\u001b[49m\u001b[38;5;241;43m=\u001b[39;49m\u001b[38;5;124;43m'\u001b[39;49m\u001b[38;5;124;43mlinear\u001b[39;49m\u001b[38;5;124;43m'\u001b[39;49m\u001b[43m)\u001b[49m\u001b[38;5;241;43m.\u001b[39;49m\u001b[43mfit\u001b[49m\u001b[43m(\u001b[49m\u001b[43mX\u001b[49m\u001b[43m,\u001b[49m\u001b[43m \u001b[49m\u001b[43mY\u001b[49m\u001b[43m)\u001b[49m\n\u001b[1;32m     12\u001b[0m support \u001b[38;5;241m=\u001b[39m (clf\u001b[38;5;241m.\u001b[39msupport_, clf\u001b[38;5;241m.\u001b[39mn_support_)\n\u001b[1;32m     14\u001b[0m \u001b[38;5;28;01mdef\u001b[39;00m \u001b[38;5;21mget_supp\u001b[39m(support):\n",
      "File \u001b[0;32m/playpen/debman/ood/lib/python3.8/site-packages/sklearn/svm/_base.py:217\u001b[0m, in \u001b[0;36mBaseLibSVM.fit\u001b[0;34m(self, X, y, sample_weight)\u001b[0m\n\u001b[1;32m    214\u001b[0m     \u001b[38;5;28mprint\u001b[39m(\u001b[38;5;124m'\u001b[39m\u001b[38;5;124m[LibSVM]\u001b[39m\u001b[38;5;124m'\u001b[39m, end\u001b[38;5;241m=\u001b[39m\u001b[38;5;124m'\u001b[39m\u001b[38;5;124m'\u001b[39m)\n\u001b[1;32m    216\u001b[0m seed \u001b[38;5;241m=\u001b[39m rnd\u001b[38;5;241m.\u001b[39mrandint(np\u001b[38;5;241m.\u001b[39miinfo(\u001b[38;5;124m'\u001b[39m\u001b[38;5;124mi\u001b[39m\u001b[38;5;124m'\u001b[39m)\u001b[38;5;241m.\u001b[39mmax)\n\u001b[0;32m--> 217\u001b[0m \u001b[43mfit\u001b[49m\u001b[43m(\u001b[49m\u001b[43mX\u001b[49m\u001b[43m,\u001b[49m\u001b[43m \u001b[49m\u001b[43my\u001b[49m\u001b[43m,\u001b[49m\u001b[43m \u001b[49m\u001b[43msample_weight\u001b[49m\u001b[43m,\u001b[49m\u001b[43m \u001b[49m\u001b[43msolver_type\u001b[49m\u001b[43m,\u001b[49m\u001b[43m \u001b[49m\u001b[43mkernel\u001b[49m\u001b[43m,\u001b[49m\u001b[43m \u001b[49m\u001b[43mrandom_seed\u001b[49m\u001b[38;5;241;43m=\u001b[39;49m\u001b[43mseed\u001b[49m\u001b[43m)\u001b[49m\n\u001b[1;32m    218\u001b[0m \u001b[38;5;66;03m# see comment on the other call to np.iinfo in this file\u001b[39;00m\n\u001b[1;32m    220\u001b[0m \u001b[38;5;28mself\u001b[39m\u001b[38;5;241m.\u001b[39mshape_fit_ \u001b[38;5;241m=\u001b[39m X\u001b[38;5;241m.\u001b[39mshape \u001b[38;5;28;01mif\u001b[39;00m \u001b[38;5;28mhasattr\u001b[39m(X, \u001b[38;5;124m\"\u001b[39m\u001b[38;5;124mshape\u001b[39m\u001b[38;5;124m\"\u001b[39m) \u001b[38;5;28;01melse\u001b[39;00m (n_samples, )\n",
      "File \u001b[0;32m/playpen/debman/ood/lib/python3.8/site-packages/sklearn/svm/_base.py:268\u001b[0m, in \u001b[0;36mBaseLibSVM._dense_fit\u001b[0;34m(self, X, y, sample_weight, solver_type, kernel, random_seed)\u001b[0m\n\u001b[1;32m    262\u001b[0m libsvm\u001b[38;5;241m.\u001b[39mset_verbosity_wrap(\u001b[38;5;28mself\u001b[39m\u001b[38;5;241m.\u001b[39mverbose)\n\u001b[1;32m    264\u001b[0m \u001b[38;5;66;03m# we don't pass **self.get_params() to allow subclasses to\u001b[39;00m\n\u001b[1;32m    265\u001b[0m \u001b[38;5;66;03m# add other parameters to __init__\u001b[39;00m\n\u001b[1;32m    266\u001b[0m \u001b[38;5;28mself\u001b[39m\u001b[38;5;241m.\u001b[39msupport_, \u001b[38;5;28mself\u001b[39m\u001b[38;5;241m.\u001b[39msupport_vectors_, \u001b[38;5;28mself\u001b[39m\u001b[38;5;241m.\u001b[39m_n_support, \\\n\u001b[1;32m    267\u001b[0m     \u001b[38;5;28mself\u001b[39m\u001b[38;5;241m.\u001b[39mdual_coef_, \u001b[38;5;28mself\u001b[39m\u001b[38;5;241m.\u001b[39mintercept_, \u001b[38;5;28mself\u001b[39m\u001b[38;5;241m.\u001b[39m_probA, \\\n\u001b[0;32m--> 268\u001b[0m     \u001b[38;5;28mself\u001b[39m\u001b[38;5;241m.\u001b[39m_probB, \u001b[38;5;28mself\u001b[39m\u001b[38;5;241m.\u001b[39mfit_status_ \u001b[38;5;241m=\u001b[39m \u001b[43mlibsvm\u001b[49m\u001b[38;5;241;43m.\u001b[39;49m\u001b[43mfit\u001b[49m\u001b[43m(\u001b[49m\n\u001b[1;32m    269\u001b[0m \u001b[43m        \u001b[49m\u001b[43mX\u001b[49m\u001b[43m,\u001b[49m\u001b[43m \u001b[49m\u001b[43my\u001b[49m\u001b[43m,\u001b[49m\n\u001b[1;32m    270\u001b[0m \u001b[43m        \u001b[49m\u001b[43msvm_type\u001b[49m\u001b[38;5;241;43m=\u001b[39;49m\u001b[43msolver_type\u001b[49m\u001b[43m,\u001b[49m\u001b[43m \u001b[49m\u001b[43msample_weight\u001b[49m\u001b[38;5;241;43m=\u001b[39;49m\u001b[43msample_weight\u001b[49m\u001b[43m,\u001b[49m\n\u001b[1;32m    271\u001b[0m \u001b[43m        \u001b[49m\u001b[43mclass_weight\u001b[49m\u001b[38;5;241;43m=\u001b[39;49m\u001b[38;5;28;43mself\u001b[39;49m\u001b[38;5;241;43m.\u001b[39;49m\u001b[43mclass_weight_\u001b[49m\u001b[43m,\u001b[49m\u001b[43m \u001b[49m\u001b[43mkernel\u001b[49m\u001b[38;5;241;43m=\u001b[39;49m\u001b[43mkernel\u001b[49m\u001b[43m,\u001b[49m\u001b[43m \u001b[49m\u001b[43mC\u001b[49m\u001b[38;5;241;43m=\u001b[39;49m\u001b[38;5;28;43mself\u001b[39;49m\u001b[38;5;241;43m.\u001b[39;49m\u001b[43mC\u001b[49m\u001b[43m,\u001b[49m\n\u001b[1;32m    272\u001b[0m \u001b[43m        \u001b[49m\u001b[43mnu\u001b[49m\u001b[38;5;241;43m=\u001b[39;49m\u001b[38;5;28;43mself\u001b[39;49m\u001b[38;5;241;43m.\u001b[39;49m\u001b[43mnu\u001b[49m\u001b[43m,\u001b[49m\u001b[43m \u001b[49m\u001b[43mprobability\u001b[49m\u001b[38;5;241;43m=\u001b[39;49m\u001b[38;5;28;43mself\u001b[39;49m\u001b[38;5;241;43m.\u001b[39;49m\u001b[43mprobability\u001b[49m\u001b[43m,\u001b[49m\u001b[43m \u001b[49m\u001b[43mdegree\u001b[49m\u001b[38;5;241;43m=\u001b[39;49m\u001b[38;5;28;43mself\u001b[39;49m\u001b[38;5;241;43m.\u001b[39;49m\u001b[43mdegree\u001b[49m\u001b[43m,\u001b[49m\n\u001b[1;32m    273\u001b[0m \u001b[43m        \u001b[49m\u001b[43mshrinking\u001b[49m\u001b[38;5;241;43m=\u001b[39;49m\u001b[38;5;28;43mself\u001b[39;49m\u001b[38;5;241;43m.\u001b[39;49m\u001b[43mshrinking\u001b[49m\u001b[43m,\u001b[49m\u001b[43m \u001b[49m\u001b[43mtol\u001b[49m\u001b[38;5;241;43m=\u001b[39;49m\u001b[38;5;28;43mself\u001b[39;49m\u001b[38;5;241;43m.\u001b[39;49m\u001b[43mtol\u001b[49m\u001b[43m,\u001b[49m\n\u001b[1;32m    274\u001b[0m \u001b[43m        \u001b[49m\u001b[43mcache_size\u001b[49m\u001b[38;5;241;43m=\u001b[39;49m\u001b[38;5;28;43mself\u001b[39;49m\u001b[38;5;241;43m.\u001b[39;49m\u001b[43mcache_size\u001b[49m\u001b[43m,\u001b[49m\u001b[43m \u001b[49m\u001b[43mcoef0\u001b[49m\u001b[38;5;241;43m=\u001b[39;49m\u001b[38;5;28;43mself\u001b[39;49m\u001b[38;5;241;43m.\u001b[39;49m\u001b[43mcoef0\u001b[49m\u001b[43m,\u001b[49m\n\u001b[1;32m    275\u001b[0m \u001b[43m        \u001b[49m\u001b[43mgamma\u001b[49m\u001b[38;5;241;43m=\u001b[39;49m\u001b[38;5;28;43mself\u001b[39;49m\u001b[38;5;241;43m.\u001b[39;49m\u001b[43m_gamma\u001b[49m\u001b[43m,\u001b[49m\u001b[43m \u001b[49m\u001b[43mepsilon\u001b[49m\u001b[38;5;241;43m=\u001b[39;49m\u001b[38;5;28;43mself\u001b[39;49m\u001b[38;5;241;43m.\u001b[39;49m\u001b[43mepsilon\u001b[49m\u001b[43m,\u001b[49m\n\u001b[1;32m    276\u001b[0m \u001b[43m        \u001b[49m\u001b[43mmax_iter\u001b[49m\u001b[38;5;241;43m=\u001b[39;49m\u001b[38;5;28;43mself\u001b[39;49m\u001b[38;5;241;43m.\u001b[39;49m\u001b[43mmax_iter\u001b[49m\u001b[43m,\u001b[49m\u001b[43m \u001b[49m\u001b[43mrandom_seed\u001b[49m\u001b[38;5;241;43m=\u001b[39;49m\u001b[43mrandom_seed\u001b[49m\u001b[43m)\u001b[49m\n\u001b[1;32m    278\u001b[0m \u001b[38;5;28mself\u001b[39m\u001b[38;5;241m.\u001b[39m_warn_from_fit_status()\n",
      "\u001b[0;31mKeyboardInterrupt\u001b[0m: "
     ]
    }
   ],
   "source": [
    "np.random.seed(74)\n",
    "model = define_rand_feats(X, Dx[2])\n",
    "\n",
    "N = 2**11    # ~ 8k\n",
    "# N = 2**1    # ~ 8k\n",
    "d = X.shape[-1]\n",
    "random_dirs = np.random.randn(N, d) # Maybe do the random directions in the random feature space??? Feel like that makes more sense\n",
    "# Some other strategies:\n",
    "### Completely random\n",
    "### Maybe draw random directions, but also some one hot directions (essentially taking the highest/lowest values of certain features as a subset)\n",
    "### Second idea in theory would increase variance between subsets - thinking similar instances have similar feature values\n",
    "random_dirs = random_dirs / np.linalg.norm(random_dirs, axis=1, keepdims=True)\n",
    "\n",
    "#X_subsets, data_ids, Y_subsets, betas = get_models(X, Y, random_dirs, Ws, bs, percentile=33)\n",
    "betas, supps = get_models(X, Y, random_dirs, model, percentile=80)"
   ]
  },
  {
   "cell_type": "code",
   "execution_count": 26,
   "metadata": {},
   "outputs": [
    {
     "ename": "NameError",
     "evalue": "name 'betas' is not defined",
     "output_type": "error",
     "traceback": [
      "\u001b[0;31m---------------------------------------------------------------------------\u001b[0m",
      "\u001b[0;31mNameError\u001b[0m                                 Traceback (most recent call last)",
      "Cell \u001b[0;32mIn[26], line 10\u001b[0m\n\u001b[1;32m      8\u001b[0m X_sub, X_ids \u001b[38;5;241m=\u001b[39m project_and_filter(external_X, np\u001b[38;5;241m.\u001b[39marray([[\u001b[38;5;241m1\u001b[39m, \u001b[38;5;241m0.0\u001b[39m], [\u001b[38;5;241m0.6\u001b[39m, \u001b[38;5;241m0.8\u001b[39m]])[\u001b[38;5;241m0\u001b[39m], \u001b[38;5;241m80\u001b[39m)\n\u001b[1;32m      9\u001b[0m Y_sub \u001b[38;5;241m=\u001b[39m external_Y[X_ids]\n\u001b[0;32m---> 10\u001b[0m prd \u001b[38;5;241m=\u001b[39m softmax(get_rand_feats(X_sub, model), \u001b[43mbetas\u001b[49m[\u001b[38;5;241m0\u001b[39m])\n",
      "\u001b[0;31mNameError\u001b[0m: name 'betas' is not defined"
     ]
    }
   ],
   "source": [
    "def softmax(X, wgts):\n",
    "  sd = (1 / (1 + np.exp(-np.concatenate([np.ones((X.shape[0], 1)), X], axis=-1) @ wgts.T)) > 0.5) *1.0\n",
    "  return sd[:]\n",
    "\n",
    "external_X = tf.cast(test_X, tf.float32)\n",
    "external_Y = test_Y\n",
    "external_X = (external_X-mu_x)/sigma_x\n",
    "X_sub, X_ids = project_and_filter(external_X, np.array([[1, 0.0], [0.6, 0.8]])[0], 80)\n",
    "Y_sub = external_Y[X_ids]\n",
    "prd = softmax(get_rand_feats(X_sub, model), betas[0])"
   ]
  },
  {
   "cell_type": "code",
   "execution_count": 27,
   "metadata": {},
   "outputs": [
    {
     "ename": "NameError",
     "evalue": "name 'prd' is not defined",
     "output_type": "error",
     "traceback": [
      "\u001b[0;31m---------------------------------------------------------------------------\u001b[0m",
      "\u001b[0;31mNameError\u001b[0m                                 Traceback (most recent call last)",
      "Cell \u001b[0;32mIn[27], line 2\u001b[0m\n\u001b[1;32m      1\u001b[0m clr \u001b[38;5;241m=\u001b[39m [[\u001b[38;5;124m'\u001b[39m\u001b[38;5;124mred\u001b[39m\u001b[38;5;124m'\u001b[39m, \u001b[38;5;124m'\u001b[39m\u001b[38;5;124mpink\u001b[39m\u001b[38;5;124m'\u001b[39m], [\u001b[38;5;124m'\u001b[39m\u001b[38;5;124mpink\u001b[39m\u001b[38;5;124m'\u001b[39m, \u001b[38;5;124m'\u001b[39m\u001b[38;5;124mgreen\u001b[39m\u001b[38;5;124m'\u001b[39m]]\n\u001b[0;32m----> 2\u001b[0m plt\u001b[38;5;241m.\u001b[39mscatter(X_sub[:, \u001b[38;5;241m0\u001b[39m], X_sub[:, \u001b[38;5;241m1\u001b[39m], c\u001b[38;5;241m=\u001b[39m[clr[\u001b[38;5;28mint\u001b[39m(tru)][\u001b[38;5;28mint\u001b[39m(prd)] \u001b[38;5;28;01mfor\u001b[39;00m tru, prd \u001b[38;5;129;01min\u001b[39;00m \u001b[38;5;28mzip\u001b[39m(Y_sub, \u001b[43mprd\u001b[49m)], s\u001b[38;5;241m=\u001b[39m\u001b[38;5;241m1\u001b[39m)\n\u001b[1;32m      3\u001b[0m plt\u001b[38;5;241m.\u001b[39mscatter(X_sub[:, \u001b[38;5;241m0\u001b[39m], X_sub[:, \u001b[38;5;241m1\u001b[39m], c\u001b[38;5;241m=\u001b[39m[clr[\u001b[38;5;28mint\u001b[39m(tru)][\u001b[38;5;28mint\u001b[39m(prd)] \u001b[38;5;28;01mfor\u001b[39;00m tru, prd \u001b[38;5;129;01min\u001b[39;00m \u001b[38;5;28mzip\u001b[39m(Y_sub, prd)], s\u001b[38;5;241m=\u001b[39m\u001b[38;5;241m1\u001b[39m)\n\u001b[1;32m      4\u001b[0m x \u001b[38;5;241m=\u001b[39m [\u001b[38;5;241m-\u001b[39m\u001b[38;5;241m150\u001b[39m, \u001b[38;5;241m-\u001b[39m\u001b[38;5;241m100\u001b[39m, \u001b[38;5;241m-\u001b[39m\u001b[38;5;241m50\u001b[39m, \u001b[38;5;241m0\u001b[39m, \u001b[38;5;241m50\u001b[39m, \u001b[38;5;241m100\u001b[39m, \u001b[38;5;241m150\u001b[39m]\n",
      "\u001b[0;31mNameError\u001b[0m: name 'prd' is not defined"
     ]
    }
   ],
   "source": [
    "clr = [['red', 'pink'], ['pink', 'green']]\n",
    "plt.scatter(X_sub[:, 0], X_sub[:, 1], c=[clr[int(tru)][int(prd)] for tru, prd in zip(Y_sub, prd)], s=1)\n",
    "plt.scatter(X_sub[:, 0], X_sub[:, 1], c=[clr[int(tru)][int(prd)] for tru, prd in zip(Y_sub, prd)], s=1)\n",
    "x = [-150, -100, -50, 0, 50, 100, 150]\n",
    "y = [-100, -50, 0, 50, 100]\n",
    "# create an index for each tick position\n",
    "xi = list(range(len(x)))\n",
    "plt.xticks(x, x)\n",
    "plt.yticks(y, y)\n",
    "plt.title(\"Toy sample1\")\n",
    "# plt.title(\"Toy sample2\")\n",
    "plt.savefig(\"toy-samp1.png\")\n",
    "# plt.savefig(\"toy-samp2.png\")\n",
    "plt.show()"
   ]
  },
  {
   "cell_type": "code",
   "execution_count": 127,
   "metadata": {
    "id": "7mIR1KmZaMyK"
   },
   "outputs": [],
   "source": [
    "# np.save('toy-random_dirs-svm.npy', random_dirs)\n",
    "# np.save('toy-betas-svm.npy', betas)\n",
    "# np.save('toy-Ws-svm.npy', model.Ws)"
   ]
  },
  {
   "cell_type": "code",
   "execution_count": 27,
   "metadata": {},
   "outputs": [],
   "source": [
    "import pickle\n",
    "# with open(\"supps.npy\", \"wb\") as fp:\n",
    "#     pickle.dump(supps, fp)\n",
    "with open(\"supps.npy\", \"rb\") as fp:\n",
    "    supps_b = pickle.load(fp)"
   ]
  },
  {
   "cell_type": "code",
   "execution_count": 28,
   "metadata": {
    "id": "U19DF3R89dDb"
   },
   "outputs": [],
   "source": [
    "random_dirs = tf.constant(np.load('./toy-random_dirs-svm.npy'))\n",
    "betas = tf.squeeze(tf.constant(np.load('./toy-betas-svm.npy')))\n",
    "model = define_rand_feats(X, Dx[2])\n",
    "model.Ws = tf.constant(np.load('./toy-Ws-svm.npy'))"
   ]
  },
  {
   "cell_type": "code",
   "execution_count": 29,
   "metadata": {
    "colab": {
     "base_uri": "https://localhost:8080/"
    },
    "id": "8QlEhsHL3VV3",
    "outputId": "d5a76270-a684-4b65-eb87-f0a656203bd8"
   },
   "outputs": [
    {
     "name": "stdout",
     "output_type": "stream",
     "text": [
      "(2048, 121)\n",
      "(2048, 2)\n"
     ]
    }
   ],
   "source": [
    "betas = tf.squeeze(betas)\n",
    "print(betas.shape)\n",
    "random_dirs = tf.constant(random_dirs)\n",
    "print(random_dirs.shape)"
   ]
  },
  {
   "cell_type": "code",
   "execution_count": 30,
   "metadata": {
    "colab": {
     "base_uri": "https://localhost:8080/"
    },
    "id": "y_CpbBpp5jpF",
    "outputId": "f74aab73-b4ee-416b-9e26-cdca5dc64364"
   },
   "outputs": [
    {
     "name": "stdout",
     "output_type": "stream",
     "text": [
      "tf.Tensor(0.24307452204532506, shape=(), dtype=float64)\n"
     ]
    }
   ],
   "source": [
    "var = tf.math.reduce_variance(betas, axis=0)\n",
    "mean_var = tf.reduce_mean(var)\n",
    "print(mean_var)"
   ]
  },
  {
   "cell_type": "code",
   "execution_count": 31,
   "metadata": {
    "colab": {
     "base_uri": "https://localhost:8080/"
    },
    "id": "6jsrK0piF7WW",
    "outputId": "faf4e2f2-fd12-4bc8-c7c0-73bc09e2ad22"
   },
   "outputs": [
    {
     "data": {
      "text/plain": [
       "(0.984927536231884,\n",
       " <tf.Tensor: shape=(2,), dtype=float64, numpy=array([ 0.75872289, -0.65141352])>)"
      ]
     },
     "execution_count": 31,
     "metadata": {},
     "output_type": "execute_result"
    }
   ],
   "source": [
    "sample = 100\n",
    "def softmax(X, wgts):\n",
    "  sd = (1 / (1 + np.exp(-np.concatenate([np.ones((X.shape[0], 1)), X], axis=-1) @ wgts.numpy().T)) > 0.5) *1.0\n",
    "  return sd[:]\n",
    "\n",
    "X_sub, X_ids = project_and_filter(X, random_dirs[sample], 75)\n",
    "Y_sub = Y[X_ids]\n",
    "prd = softmax(get_rand_feats(tf.cast(X_sub, dtype=tf.float32), model), betas[sample])\n",
    "\n",
    "np.mean(prd == Y_sub), random_dirs[sample]"
   ]
  },
  {
   "cell_type": "code",
   "execution_count": 32,
   "metadata": {
    "scrolled": true
   },
   "outputs": [
    {
     "data": {
      "text/plain": [
       "((125, 1),\n",
       " array([[   0],\n",
       "        [   1],\n",
       "        [  10],\n",
       "        [  12],\n",
       "        [  25],\n",
       "        [  50],\n",
       "        [ 104],\n",
       "        [ 108],\n",
       "        [ 120],\n",
       "        [ 122],\n",
       "        [ 180],\n",
       "        [ 188],\n",
       "        [ 193],\n",
       "        [ 236],\n",
       "        [ 298],\n",
       "        [ 300],\n",
       "        [ 314],\n",
       "        [ 318],\n",
       "        [ 323],\n",
       "        [ 324],\n",
       "        [ 355],\n",
       "        [ 360],\n",
       "        [ 362],\n",
       "        [ 396],\n",
       "        [ 398],\n",
       "        [ 400],\n",
       "        [ 402],\n",
       "        [ 403],\n",
       "        [ 426],\n",
       "        [ 428],\n",
       "        [ 434],\n",
       "        [ 485],\n",
       "        [ 497],\n",
       "        [ 499],\n",
       "        [ 501],\n",
       "        [ 506],\n",
       "        [ 507],\n",
       "        [ 518],\n",
       "        [ 610],\n",
       "        [ 701],\n",
       "        [ 704],\n",
       "        [ 705],\n",
       "        [ 798],\n",
       "        [ 802],\n",
       "        [ 803],\n",
       "        [ 810],\n",
       "        [ 812],\n",
       "        [ 896],\n",
       "        [ 903],\n",
       "        [ 904],\n",
       "        [1078],\n",
       "        [1100],\n",
       "        [1172],\n",
       "        [1174],\n",
       "        [1193],\n",
       "        [1195],\n",
       "        [1199],\n",
       "        [1284],\n",
       "        [1294],\n",
       "        [1295],\n",
       "        [1296],\n",
       "        [1298],\n",
       "        [1301],\n",
       "        [1304],\n",
       "        [1361],\n",
       "        [1372],\n",
       "        [1392],\n",
       "        [1398],\n",
       "        [1401],\n",
       "        [1476],\n",
       "        [1492],\n",
       "        [1496],\n",
       "        [1505],\n",
       "        [1508],\n",
       "        [1533],\n",
       "        [1534],\n",
       "        [1546],\n",
       "        [1595],\n",
       "        [1596],\n",
       "        [1597],\n",
       "        [1598],\n",
       "        [1601],\n",
       "        [1607],\n",
       "        [1611],\n",
       "        [1616],\n",
       "        [1632],\n",
       "        [1686],\n",
       "        [1700],\n",
       "        [1707],\n",
       "        [1713],\n",
       "        [1715],\n",
       "        [1727],\n",
       "        [1733],\n",
       "        [1740],\n",
       "        [1799],\n",
       "        [1802],\n",
       "        [1825],\n",
       "        [1891],\n",
       "        [1895],\n",
       "        [1905],\n",
       "        [1907],\n",
       "        [1925],\n",
       "        [1938],\n",
       "        [1944],\n",
       "        [1991],\n",
       "        [1997],\n",
       "        [2000],\n",
       "        [2101],\n",
       "        [2107],\n",
       "        [2111],\n",
       "        [2203],\n",
       "        [2224],\n",
       "        [2306],\n",
       "        [2307],\n",
       "        [2311],\n",
       "        [2403],\n",
       "        [2404],\n",
       "        [2406],\n",
       "        [2691],\n",
       "        [2698],\n",
       "        [2799],\n",
       "        [2890],\n",
       "        [2892],\n",
       "        [2896],\n",
       "        [2984],\n",
       "        [2996]]))"
      ]
     },
     "execution_count": 32,
     "metadata": {},
     "output_type": "execute_result"
    }
   ],
   "source": [
    "supps_0, supps_1 = supps_b[sample]\n",
    "supps_0.shape, supps_1"
   ]
  },
  {
   "cell_type": "code",
   "execution_count": 33,
   "metadata": {
    "scrolled": true
   },
   "outputs": [
    {
     "data": {
      "text/plain": [
       "array([[ 2.18245135e+01,  3.48628287e+01],\n",
       "       [ 5.68769311e+01,  3.67435749e+01],\n",
       "       [ 5.62513178e+01,  1.89976487e+01],\n",
       "       [ 5.79288789e+01,  1.72881291e+01],\n",
       "       [ 6.87885351e+01,  1.05878547e+01],\n",
       "       [ 5.29313940e+01, -4.67924586e-02],\n",
       "       [ 5.29552713e+01, -7.88894758e+00],\n",
       "       [ 1.61140382e+01,  3.23341687e+01],\n",
       "       [ 4.34010769e+01,  4.21174524e+01],\n",
       "       [ 4.61943646e+01,  3.33616180e+01],\n",
       "       [ 6.07875426e+01,  2.49044359e+01],\n",
       "       [ 5.61949271e+01,  2.39086997e+01],\n",
       "       [ 6.04730125e+01,  2.22924366e+01],\n",
       "       [ 6.27723076e+01,  1.72964024e+01],\n",
       "       [ 6.67398810e+01,  1.39232370e+01],\n",
       "       [ 6.25319552e+01,  2.03780437e+00],\n",
       "       [ 6.10762378e+01,  6.92581866e-01],\n",
       "       [ 6.32705942e+01, -7.92294887e+00],\n",
       "       [ 6.77171852e+01, -2.78832853e+00],\n",
       "       [ 5.49142250e+01, -1.08799655e+01],\n",
       "       [ 5.24112187e+01,  3.35848216e+01],\n",
       "       [ 6.17350156e+01,  3.92770811e+01],\n",
       "       [ 6.18425284e+01,  2.27206200e+01],\n",
       "       [ 6.51885498e+01,  3.65496551e+00],\n",
       "       [ 6.59589038e+01,  6.84860984e+00],\n",
       "       [ 5.71170026e+01, -1.33174504e+01],\n",
       "       [ 3.60423549e+01,  3.83141706e+01],\n",
       "       [ 5.76064217e+01,  3.23492986e+01],\n",
       "       [ 5.70300500e+01,  1.76793687e+01],\n",
       "       [ 5.26087558e+01, -7.17147840e+00],\n",
       "       [ 5.63573877e+01, -2.40970594e+01],\n",
       "       [ 3.69007113e+01, -3.50510735e+01],\n",
       "       [ 3.43656967e+01, -6.26818910e+01],\n",
       "       [ 3.22749501e+01, -5.88073865e+01],\n",
       "       [ 1.26009832e+01, -6.30551846e+01],\n",
       "       [ 1.06187790e+01, -7.15198038e+01],\n",
       "       [ 1.76741376e+01, -6.30654407e+01],\n",
       "       [ 9.69308766e+00, -6.55589774e+01],\n",
       "       [ 9.05473100e+00, -6.56709469e+01],\n",
       "       [-4.18265902e+00, -6.44973966e+01],\n",
       "       [-4.52291650e+00, -5.83547152e+01],\n",
       "       [-7.30694465e+00, -5.50267409e+01],\n",
       "       [ 2.56955138e+01, -6.50901616e+01],\n",
       "       [ 1.75702357e+01, -6.02437289e+01],\n",
       "       [-7.66840517e+00, -6.22458946e+01],\n",
       "       [-5.96775573e+00, -6.32241033e+01],\n",
       "       [-1.20622733e+01, -5.69165400e+01],\n",
       "       [ 4.27430678e+01, -4.61757612e+01],\n",
       "       [ 4.63024437e+01, -4.52362455e+01],\n",
       "       [ 3.15940480e+01, -5.48568132e+01],\n",
       "       [ 2.80323167e+01, -6.64210524e+01],\n",
       "       [ 2.99672471e+01, -6.40573436e+01],\n",
       "       [ 8.98998139e+00, -6.61382667e+01],\n",
       "       [ 3.54640789e+00, -6.55753169e+01],\n",
       "       [-9.32782600e-01, -6.44187463e+01],\n",
       "       [ 2.35944996e+00, -6.12488228e+01],\n",
       "       [-3.37714123e+01, -3.92911735e+01],\n",
       "       [ 3.67258033e+01, -3.68909243e+01],\n",
       "       [ 3.74307523e+01, -4.49899680e+01],\n",
       "       [ 4.09361963e+01, -4.16156576e+01],\n",
       "       [ 2.20516616e+01, -5.91822817e+01],\n",
       "       [ 3.79935200e+00, -5.89737729e+01],\n",
       "       [-5.53588837e+00, -6.01475787e+01],\n",
       "       [-9.82225585e+00, -4.14523839e+01],\n",
       "       [-6.52458894e+00, -5.30715728e+01],\n",
       "       [-6.99419114e+00, -5.64969740e+01],\n",
       "       [-1.12922020e+01, -5.47484227e+01],\n",
       "       [-1.23526973e+01, -5.34781616e+01],\n",
       "       [-4.40549289e+01, -3.66536798e+01],\n",
       "       [-5.21363961e+01, -3.32929641e+01],\n",
       "       [-5.52420765e+01, -3.33619895e+01],\n",
       "       [-6.23527102e+01, -2.87311627e+01],\n",
       "       [-6.89500316e+01, -2.28706414e+01],\n",
       "       [-6.52675739e+01, -1.11713204e+01],\n",
       "       [-6.78316766e+01, -1.56021459e+00],\n",
       "       [-4.32454699e+01, -3.63524753e+01],\n",
       "       [-5.30193722e+01, -3.64647807e+01],\n",
       "       [-6.19155233e+01, -2.35676888e+01],\n",
       "       [-6.67684398e+01, -1.16926908e+01],\n",
       "       [-5.04304038e+01,  6.75109207e-01],\n",
       "       [-5.72464111e+01,  2.57615241e+00],\n",
       "       [-4.43994223e+01, -3.47452324e+01],\n",
       "       [-4.72104970e+01, -3.59589578e+01],\n",
       "       [-5.33381518e+01, -3.11512634e+01],\n",
       "       [-5.58853524e+01, -1.82207387e+01],\n",
       "       [-6.43962506e+01, -1.08951007e+01],\n",
       "       [-6.68353501e+01,  1.10055654e+00],\n",
       "       [-4.74262945e+01, -3.32347887e+01],\n",
       "       [-6.22312488e+01, -2.06692115e+01],\n",
       "       [-8.54671664e+01, -9.07190080e+00],\n",
       "       [-3.62483091e+01,  2.59783772e+01],\n",
       "       [-3.88991445e+01,  5.60036372e+01],\n",
       "       [-6.70561506e+00,  6.12046338e+01],\n",
       "       [-3.62107848e+00,  6.15153429e+01],\n",
       "       [-3.48893936e+00,  6.32852901e+01],\n",
       "       [ 2.69956510e+01,  4.18949960e+01],\n",
       "       [-3.46268266e+01,  2.64530953e+01],\n",
       "       [-3.57334895e+01,  3.20928352e+01],\n",
       "       [-3.10775923e+01,  4.81830374e+01],\n",
       "       [-1.88324719e+01,  5.96491552e+01],\n",
       "       [-1.23993125e+01,  6.64068495e+01],\n",
       "       [-7.40043584e+00,  6.32014825e+01],\n",
       "       [-1.19895628e+01,  6.38988601e+01],\n",
       "       [-1.36754394e+01,  5.89697549e+01],\n",
       "       [ 6.32486859e+00,  5.98450132e+01],\n",
       "       [-1.48923371e+00,  8.06799036e+01],\n",
       "       [ 1.56807652e-01,  6.33356318e+01],\n",
       "       [ 1.56746341e+00,  6.24593164e+01],\n",
       "       [ 6.18584298e+00,  5.87018472e+01],\n",
       "       [ 1.00527425e+01,  5.38742262e+01],\n",
       "       [ 1.61908004e+01,  4.76687293e+01],\n",
       "       [-2.54856279e+01,  5.38323252e+01],\n",
       "       [-6.53668588e+00,  6.17458747e+01],\n",
       "       [ 6.74266209e-02,  6.81934240e+01],\n",
       "       [ 4.15230858e+00,  5.65420295e+01],\n",
       "       [ 1.55534592e+01,  4.68866887e+01],\n",
       "       [ 8.27440643e+00,  4.13766252e+01],\n",
       "       [ 1.64050553e+01,  4.52893760e+01],\n",
       "       [-3.82933601e+01,  4.72276885e+01],\n",
       "       [-2.22874789e+01,  5.77789207e+01],\n",
       "       [-7.92490134e+00,  5.66912560e+01],\n",
       "       [-1.42314386e+01,  6.41164885e+01],\n",
       "       [-6.91056832e+00,  6.19537661e+01],\n",
       "       [-2.44049448e+00,  6.19001435e+01],\n",
       "       [ 2.18738857e+00,  5.96133887e+01]])"
      ]
     },
     "execution_count": 33,
     "metadata": {},
     "output_type": "execute_result"
    }
   ],
   "source": [
    "suppvs_0 = X[supps_0.reshape((-1,))]\n",
    "suppvs_1 = X[supps_1.reshape((-1,))]\n",
    "y_supp_0 = Y[supps_0.reshape((-1,))]\n",
    "y_supp_1 = Y[supps_1.reshape((-1,))]\n",
    "suppvs_0"
   ]
  },
  {
   "cell_type": "code",
   "execution_count": 34,
   "metadata": {},
   "outputs": [
    {
     "data": {
      "text/plain": [
       "(126, 2)"
      ]
     },
     "execution_count": 34,
     "metadata": {},
     "output_type": "execute_result"
    }
   ],
   "source": [
    "suppvs_1.shape"
   ]
  },
  {
   "cell_type": "code",
   "execution_count": 35,
   "metadata": {},
   "outputs": [
    {
     "name": "stdout",
     "output_type": "stream",
     "text": [
      "[-2.11125803 -0.51723986 -2.96915018 -3.02650184 -1.66648433 -2.04817684\n",
      " -2.02473534 -1.58507266 -1.63294071 -1.95158367 -2.30544165 -2.26725578\n",
      " -2.55735763 -3.54290233 -2.82824422 -1.38010703 -1.01377259 -0.82877093\n",
      " -0.55346017 -1.14562073 -1.36399143  0.17726931 -2.48432658 -1.46485508\n",
      " -1.34426267 -0.99909804 -2.14006869 -1.15145962 -2.93191015 -2.0735221\n",
      " -1.06509931 -1.85653894 -0.61553617 -1.46967587 -1.24688965 -0.42957951\n",
      " -1.157147   -1.0204418  -0.98819395 -0.99640386 -1.2818944  -1.35345908\n",
      " -0.97536588 -1.17936862 -1.32369772 -1.15697499 -1.42497135 -1.78748443\n",
      " -1.45443937 -1.22490216 -0.91847727 -1.36431641 -1.00329497 -1.06719945\n",
      " -1.09390847 -1.13735314 -2.13250058 -2.18268563 -2.03805016 -1.6612138\n",
      " -1.46221612 -1.06497087 -1.59361047 -0.87147692 -1.18966378 -1.52391068\n",
      " -1.26273353 -1.50090045 -1.4752767  -1.26010664 -1.33587912 -1.24254793\n",
      " -2.26936086 -2.03114378 -1.12378909 -1.71503449 -1.27734228 -2.76845226\n",
      " -1.97875603 -1.63258257 -1.31607115 -1.4264986  -1.359591   -1.07136671\n",
      " -3.14560414 -2.02682432 -1.39591935 -1.06490763 -3.2294646   1.94888264\n",
      " -1.12587883 -2.0836355  -1.50248616 -1.36295606 -1.29326158 -2.47441392\n",
      " -1.21495408 -1.17080832 -1.10386313 -0.99446465 -1.06561005 -1.31198392\n",
      " -1.48196776 -1.02826817 -1.40392926  1.24293652 -0.98932344 -1.09648523\n",
      " -1.41495664 -1.4404037  -1.56277167 -1.43827729 -1.43502572 -0.14772242\n",
      " -1.16055034 -1.48396525 -0.87925628 -1.62003414 -1.13240261 -1.01901311\n",
      " -0.90940535 -1.42472472 -1.4530904  -1.1072686  -1.48118822] [0 0 0 0 0 0 0 0 0 0 0 0 0 0 0 0 0 0 0 0 0 0 0 0 0 0 0 0 0 0 0 0 0 0 0 0 0\n",
      " 0 0 0 0 0 0 0 0 0 0 0 0 0 0 0 0 0 0 0 0 0 0 0 0 0 0 0 0 0 0 0 0 0 0 0 0 0\n",
      " 0 0 0 0 0 0 0 0 0 0 0 0 0 0 0 0 0 0 0 0 0 0 0 0 0 0 0 0 0 0 0 0 0 0 0 0 0\n",
      " 0 0 0 0 0 0 0 0 0 0 0 0 0 0]\n",
      "tf.Tensor(0.08085812313347808, shape=(), dtype=float64)\n"
     ]
    }
   ],
   "source": [
    "def get_margin(X, wgts):\n",
    "  sd = (np.concatenate([np.ones((X.shape[0], 1)), X], axis=-1) @ wgts.numpy().T) * 1.0\n",
    "  return sd[:]\n",
    "\n",
    "def loss_2(labels, margins):\n",
    "    l = 2*labels - 1\n",
    "    return tf.reduce_sum(tf.reduce_mean(tf.nn.relu(-margins * l), axis=0))\n",
    "\n",
    "get_rand_feats(tf.cast(suppvs_0, dtype=tf.float32), model).shape, betas[sample].shape\n",
    "print(get_margin(get_rand_feats(tf.cast(suppvs_0, dtype=tf.float32), model), betas[sample]), y_supp_0)\n",
    "# loss_2 = tf.keras.losses.BinaryCrossentropy(from_logits=True)\n",
    "print(loss_2(y_supp_0[:len(suppvs_0)], get_margin(get_rand_feats(tf.cast(suppvs_0, dtype=tf.float32), model), betas[sample]*3)))"
   ]
  },
  {
   "cell_type": "code",
   "execution_count": 36,
   "metadata": {},
   "outputs": [
    {
     "data": {
      "text/plain": [
       "(TensorShape([125, 120]), TensorShape([121]))"
      ]
     },
     "execution_count": 36,
     "metadata": {},
     "output_type": "execute_result"
    }
   ],
   "source": [
    "get_rand_feats(tf.cast(suppvs_0, dtype=tf.float32), model).shape, betas[sample].shape"
   ]
  },
  {
   "cell_type": "code",
   "execution_count": 37,
   "metadata": {},
   "outputs": [
    {
     "data": {
      "text/plain": [
       "TensorShape([125, 2])"
      ]
     },
     "execution_count": 37,
     "metadata": {},
     "output_type": "execute_result"
    }
   ],
   "source": [
    "tf.cast(suppvs_0, dtype=tf.float32).shape"
   ]
  },
  {
   "cell_type": "code",
   "execution_count": 38,
   "metadata": {},
   "outputs": [
    {
     "data": {
      "text/plain": [
       "(125,)"
      ]
     },
     "execution_count": 38,
     "metadata": {},
     "output_type": "execute_result"
    }
   ],
   "source": [
    "y_supp_1[:len(suppvs_0)].shape"
   ]
  },
  {
   "cell_type": "code",
   "execution_count": 39,
   "metadata": {},
   "outputs": [
    {
     "data": {
      "text/plain": [
       "<tf.Tensor: shape=(), dtype=float32, numpy=2.0895967e-09>"
      ]
     },
     "execution_count": 39,
     "metadata": {},
     "output_type": "execute_result"
    }
   ],
   "source": [
    "y_true = [0, 1, 0, 0]\n",
    "y_pred = [-18.6, 100.51, -122.94, -212.8]\n",
    "bce = tf.keras.losses.BinaryCrossentropy(from_logits=True)\n",
    "bce(y_true, y_pred)\n"
   ]
  },
  {
   "cell_type": "code",
   "execution_count": 40,
   "metadata": {},
   "outputs": [
    {
     "data": {
      "image/png": "[encoded data removed]",
      "text/plain": [
       "<Figure size 640x480 with 1 Axes>"
      ]
     },
     "metadata": {},
     "output_type": "display_data"
    }
   ],
   "source": [
    "clr = [['red', 'pink'], ['pink', 'green']]\n",
    "plt.scatter(X_sub[:, 0], X_sub[:, 1], c=[clr[int(tru)][int(prd)] for tru, prd in zip(Y_sub, prd)], s=1)\n",
    "plt.scatter(X_sub[:, 0], X_sub[:, 1], c=[clr[int(tru)][int(prd)] for tru, prd in zip(Y_sub, prd)], s=1)\n",
    "plt.scatter(suppvs_0[:, 0], suppvs_0[:, 1], c=\"blue\", s=10)\n",
    "plt.scatter(suppvs_1[:, 0], suppvs_1[:, 1], c=\"yellow\", s=10)\n",
    "x = [-150, -100, -50, 0, 50, 100, 150]\n",
    "y = [-100, -50, 0, 50, 100]\n",
    "# create an index for each tick position\n",
    "xi = list(range(len(x)))\n",
    "plt.xticks(x, x)\n",
    "plt.yticks(y, y)\n",
    "plt.title(\"Toy sample1\")\n",
    "# plt.title(\"Toy sample2\")\n",
    "# plt.savefig(\"toy-samp2.png\")\n",
    "plt.show()"
   ]
  },
  {
   "cell_type": "code",
   "execution_count": 41,
   "metadata": {
    "colab": {
     "base_uri": "https://localhost:8080/"
    },
    "id": "nmQLY8yfnSCW",
    "outputId": "3c54b2de-333f-43d8-db90-ae24417c16d3"
   },
   "outputs": [
    {
     "data": {
      "text/plain": [
       "0.7515942028985507"
      ]
     },
     "execution_count": 41,
     "metadata": {},
     "output_type": "execute_result"
    }
   ],
   "source": [
    "external_X = tf.cast(test_X, tf.float32)\n",
    "external_Y = test_Y\n",
    "external_X = (external_X-mu_x)/sigma_x\n",
    "\n",
    "X_sub, X_ids = project_and_filter(external_X, random_dirs[sample], 75)\n",
    "Y_sub = external_Y[X_ids]\n",
    "prd = softmax(get_rand_feats(X_sub, model), betas[sample])\n",
    "\n",
    "np.mean(prd == Y_sub)"
   ]
  },
  {
   "cell_type": "code",
   "execution_count": 42,
   "metadata": {},
   "outputs": [],
   "source": [
    "def plot_3d(points, points_color, title):\n",
    "    x, y, z = points.T\n",
    "\n",
    "    fig, ax = plt.subplots(\n",
    "        figsize=(6, 6),\n",
    "        facecolor=\"white\",\n",
    "        tight_layout=True,\n",
    "        subplot_kw={\"projection\": \"3d\"},\n",
    "    )\n",
    "    fig.suptitle(title, size=16)\n",
    "    col = ax.scatter(x, y, z, c=points_color, s=50, alpha=0.8)\n",
    "    ax.view_init(azim=-60, elev=9)\n",
    "    ax.xaxis.set_major_locator(ticker.MultipleLocator(1))\n",
    "    ax.yaxis.set_major_locator(ticker.MultipleLocator(1))\n",
    "    ax.zaxis.set_major_locator(ticker.MultipleLocator(1))\n",
    "\n",
    "    fig.colorbar(col, ax=ax, orientation=\"horizontal\", shrink=0.6, aspect=60, pad=0.01)\n",
    "    plt.show()\n",
    "\n",
    "\n",
    "def plot_2d(points, points_color, title):\n",
    "    fig, ax = plt.subplots(figsize=(3, 3), facecolor=\"white\", constrained_layout=True)\n",
    "    fig.suptitle(title, size=16)\n",
    "    add_2d_scatter(ax, points, points_color)\n",
    "    plt.show()\n",
    "\n",
    "\n",
    "def add_2d_scatter(ax, points, points_color, title=None):\n",
    "    x, y = points.T\n",
    "    ax.scatter(x, y, c=points_color, s=5, alpha=0.8)\n",
    "    ax.set_title(title)\n",
    "    ax.xaxis.set_major_formatter(ticker.NullFormatter())\n",
    "    ax.yaxis.set_major_formatter(ticker.NullFormatter())"
   ]
  },
  {
   "cell_type": "code",
   "execution_count": 43,
   "metadata": {},
   "outputs": [],
   "source": [
    "y_colors = np.array(['red', 'green'])[Y_sub]"
   ]
  },
  {
   "cell_type": "code",
   "execution_count": 44,
   "metadata": {},
   "outputs": [],
   "source": [
    "\n",
    "\n",
    "import matplotlib.pyplot as plt\n",
    "\n",
    "# unused but required import for doing 3d projections with matplotlib < 3.2\n",
    "import mpl_toolkits.mplot3d  # noqa: F401\n",
    "from matplotlib import ticker\n",
    "\n",
    "from sklearn import datasets, manifold\n",
    "\n"
   ]
  },
  {
   "cell_type": "code",
   "execution_count": 45,
   "metadata": {},
   "outputs": [
    {
     "ename": "KeyboardInterrupt",
     "evalue": "",
     "output_type": "error",
     "traceback": [
      "\u001b[0;31m---------------------------------------------------------------------------\u001b[0m",
      "\u001b[0;31mKeyboardInterrupt\u001b[0m                         Traceback (most recent call last)",
      "Cell \u001b[0;32mIn[45], line 7\u001b[0m\n\u001b[1;32m      1\u001b[0m md_scaling \u001b[38;5;241m=\u001b[39m manifold\u001b[38;5;241m.\u001b[39mMDS(\n\u001b[1;32m      2\u001b[0m     n_components\u001b[38;5;241m=\u001b[39m\u001b[38;5;241m2\u001b[39m,\n\u001b[1;32m      3\u001b[0m     max_iter\u001b[38;5;241m=\u001b[39m\u001b[38;5;241m50\u001b[39m,\n\u001b[1;32m      4\u001b[0m     n_init\u001b[38;5;241m=\u001b[39m\u001b[38;5;241m4\u001b[39m,\n\u001b[1;32m      5\u001b[0m     random_state\u001b[38;5;241m=\u001b[39m\u001b[38;5;241m0\u001b[39m,\n\u001b[1;32m      6\u001b[0m )\n\u001b[0;32m----> 7\u001b[0m S_scaling \u001b[38;5;241m=\u001b[39m \u001b[43mmd_scaling\u001b[49m\u001b[38;5;241;43m.\u001b[39;49m\u001b[43mfit_transform\u001b[49m\u001b[43m(\u001b[49m\u001b[43mget_rand_feats\u001b[49m\u001b[43m(\u001b[49m\u001b[43mX_sub\u001b[49m\u001b[43m,\u001b[49m\u001b[43m \u001b[49m\u001b[43mmodel\u001b[49m\u001b[43m)\u001b[49m\u001b[43m)\u001b[49m\n\u001b[1;32m      9\u001b[0m plot_2d(S_scaling, y_colors, \u001b[38;5;124m\"\u001b[39m\u001b[38;5;124mMultidimensional scaling\u001b[39m\u001b[38;5;124m\"\u001b[39m)\n",
      "File \u001b[0;32m/playpen/debman/ood/lib/python3.8/site-packages/sklearn/manifold/_mds.py:432\u001b[0m, in \u001b[0;36mMDS.fit_transform\u001b[0;34m(self, X, y, init)\u001b[0m\n\u001b[1;32m    428\u001b[0m \u001b[38;5;28;01melse\u001b[39;00m:\n\u001b[1;32m    429\u001b[0m     \u001b[38;5;28;01mraise\u001b[39;00m \u001b[38;5;167;01mValueError\u001b[39;00m(\u001b[38;5;124m\"\u001b[39m\u001b[38;5;124mProximity must be \u001b[39m\u001b[38;5;124m'\u001b[39m\u001b[38;5;124mprecomputed\u001b[39m\u001b[38;5;124m'\u001b[39m\u001b[38;5;124m or \u001b[39m\u001b[38;5;124m'\u001b[39m\u001b[38;5;124meuclidean\u001b[39m\u001b[38;5;124m'\u001b[39m\u001b[38;5;124m.\u001b[39m\u001b[38;5;124m\"\u001b[39m\n\u001b[1;32m    430\u001b[0m                      \u001b[38;5;124m\"\u001b[39m\u001b[38;5;124m Got \u001b[39m\u001b[38;5;132;01m%s\u001b[39;00m\u001b[38;5;124m instead\u001b[39m\u001b[38;5;124m\"\u001b[39m \u001b[38;5;241m%\u001b[39m \u001b[38;5;28mstr\u001b[39m(\u001b[38;5;28mself\u001b[39m\u001b[38;5;241m.\u001b[39mdissimilarity))\n\u001b[0;32m--> 432\u001b[0m \u001b[38;5;28mself\u001b[39m\u001b[38;5;241m.\u001b[39membedding_, \u001b[38;5;28mself\u001b[39m\u001b[38;5;241m.\u001b[39mstress_, \u001b[38;5;28mself\u001b[39m\u001b[38;5;241m.\u001b[39mn_iter_ \u001b[38;5;241m=\u001b[39m \u001b[43msmacof\u001b[49m\u001b[43m(\u001b[49m\n\u001b[1;32m    433\u001b[0m \u001b[43m    \u001b[49m\u001b[38;5;28;43mself\u001b[39;49m\u001b[38;5;241;43m.\u001b[39;49m\u001b[43mdissimilarity_matrix_\u001b[49m\u001b[43m,\u001b[49m\u001b[43m \u001b[49m\u001b[43mmetric\u001b[49m\u001b[38;5;241;43m=\u001b[39;49m\u001b[38;5;28;43mself\u001b[39;49m\u001b[38;5;241;43m.\u001b[39;49m\u001b[43mmetric\u001b[49m\u001b[43m,\u001b[49m\n\u001b[1;32m    434\u001b[0m \u001b[43m    \u001b[49m\u001b[43mn_components\u001b[49m\u001b[38;5;241;43m=\u001b[39;49m\u001b[38;5;28;43mself\u001b[39;49m\u001b[38;5;241;43m.\u001b[39;49m\u001b[43mn_components\u001b[49m\u001b[43m,\u001b[49m\u001b[43m \u001b[49m\u001b[43minit\u001b[49m\u001b[38;5;241;43m=\u001b[39;49m\u001b[43minit\u001b[49m\u001b[43m,\u001b[49m\u001b[43m \u001b[49m\u001b[43mn_init\u001b[49m\u001b[38;5;241;43m=\u001b[39;49m\u001b[38;5;28;43mself\u001b[39;49m\u001b[38;5;241;43m.\u001b[39;49m\u001b[43mn_init\u001b[49m\u001b[43m,\u001b[49m\n\u001b[1;32m    435\u001b[0m \u001b[43m    \u001b[49m\u001b[43mn_jobs\u001b[49m\u001b[38;5;241;43m=\u001b[39;49m\u001b[38;5;28;43mself\u001b[39;49m\u001b[38;5;241;43m.\u001b[39;49m\u001b[43mn_jobs\u001b[49m\u001b[43m,\u001b[49m\u001b[43m \u001b[49m\u001b[43mmax_iter\u001b[49m\u001b[38;5;241;43m=\u001b[39;49m\u001b[38;5;28;43mself\u001b[39;49m\u001b[38;5;241;43m.\u001b[39;49m\u001b[43mmax_iter\u001b[49m\u001b[43m,\u001b[49m\u001b[43m \u001b[49m\u001b[43mverbose\u001b[49m\u001b[38;5;241;43m=\u001b[39;49m\u001b[38;5;28;43mself\u001b[39;49m\u001b[38;5;241;43m.\u001b[39;49m\u001b[43mverbose\u001b[49m\u001b[43m,\u001b[49m\n\u001b[1;32m    436\u001b[0m \u001b[43m    \u001b[49m\u001b[43meps\u001b[49m\u001b[38;5;241;43m=\u001b[39;49m\u001b[38;5;28;43mself\u001b[39;49m\u001b[38;5;241;43m.\u001b[39;49m\u001b[43meps\u001b[49m\u001b[43m,\u001b[49m\u001b[43m \u001b[49m\u001b[43mrandom_state\u001b[49m\u001b[38;5;241;43m=\u001b[39;49m\u001b[38;5;28;43mself\u001b[39;49m\u001b[38;5;241;43m.\u001b[39;49m\u001b[43mrandom_state\u001b[49m\u001b[43m,\u001b[49m\n\u001b[1;32m    437\u001b[0m \u001b[43m    \u001b[49m\u001b[43mreturn_n_iter\u001b[49m\u001b[38;5;241;43m=\u001b[39;49m\u001b[38;5;28;43;01mTrue\u001b[39;49;00m\u001b[43m)\u001b[49m\n\u001b[1;32m    439\u001b[0m \u001b[38;5;28;01mreturn\u001b[39;00m \u001b[38;5;28mself\u001b[39m\u001b[38;5;241m.\u001b[39membedding_\n",
      "File \u001b[0;32m/playpen/debman/ood/lib/python3.8/site-packages/sklearn/utils/validation.py:73\u001b[0m, in \u001b[0;36m_deprecate_positional_args.<locals>.inner_f\u001b[0;34m(*args, **kwargs)\u001b[0m\n\u001b[1;32m     68\u001b[0m     warnings\u001b[38;5;241m.\u001b[39mwarn(\u001b[38;5;124m\"\u001b[39m\u001b[38;5;124mPass \u001b[39m\u001b[38;5;132;01m{}\u001b[39;00m\u001b[38;5;124m as keyword args. From version 0.25 \u001b[39m\u001b[38;5;124m\"\u001b[39m\n\u001b[1;32m     69\u001b[0m                   \u001b[38;5;124m\"\u001b[39m\u001b[38;5;124mpassing these as positional arguments will \u001b[39m\u001b[38;5;124m\"\u001b[39m\n\u001b[1;32m     70\u001b[0m                   \u001b[38;5;124m\"\u001b[39m\u001b[38;5;124mresult in an error\u001b[39m\u001b[38;5;124m\"\u001b[39m\u001b[38;5;241m.\u001b[39mformat(\u001b[38;5;124m\"\u001b[39m\u001b[38;5;124m, \u001b[39m\u001b[38;5;124m\"\u001b[39m\u001b[38;5;241m.\u001b[39mjoin(args_msg)),\n\u001b[1;32m     71\u001b[0m                   \u001b[38;5;167;01mFutureWarning\u001b[39;00m)\n\u001b[1;32m     72\u001b[0m kwargs\u001b[38;5;241m.\u001b[39mupdate({k: arg \u001b[38;5;28;01mfor\u001b[39;00m k, arg \u001b[38;5;129;01min\u001b[39;00m \u001b[38;5;28mzip\u001b[39m(sig\u001b[38;5;241m.\u001b[39mparameters, args)})\n\u001b[0;32m---> 73\u001b[0m \u001b[38;5;28;01mreturn\u001b[39;00m \u001b[43mf\u001b[49m\u001b[43m(\u001b[49m\u001b[38;5;241;43m*\u001b[39;49m\u001b[38;5;241;43m*\u001b[39;49m\u001b[43mkwargs\u001b[49m\u001b[43m)\u001b[49m\n",
      "File \u001b[0;32m/playpen/debman/ood/lib/python3.8/site-packages/sklearn/manifold/_mds.py:248\u001b[0m, in \u001b[0;36msmacof\u001b[0;34m(dissimilarities, metric, n_components, init, n_init, n_jobs, max_iter, verbose, eps, random_state, return_n_iter)\u001b[0m\n\u001b[1;32m    246\u001b[0m \u001b[38;5;28;01mif\u001b[39;00m effective_n_jobs(n_jobs) \u001b[38;5;241m==\u001b[39m \u001b[38;5;241m1\u001b[39m:\n\u001b[1;32m    247\u001b[0m     \u001b[38;5;28;01mfor\u001b[39;00m it \u001b[38;5;129;01min\u001b[39;00m \u001b[38;5;28mrange\u001b[39m(n_init):\n\u001b[0;32m--> 248\u001b[0m         pos, stress, n_iter_ \u001b[38;5;241m=\u001b[39m \u001b[43m_smacof_single\u001b[49m\u001b[43m(\u001b[49m\n\u001b[1;32m    249\u001b[0m \u001b[43m            \u001b[49m\u001b[43mdissimilarities\u001b[49m\u001b[43m,\u001b[49m\u001b[43m \u001b[49m\u001b[43mmetric\u001b[49m\u001b[38;5;241;43m=\u001b[39;49m\u001b[43mmetric\u001b[49m\u001b[43m,\u001b[49m\n\u001b[1;32m    250\u001b[0m \u001b[43m            \u001b[49m\u001b[43mn_components\u001b[49m\u001b[38;5;241;43m=\u001b[39;49m\u001b[43mn_components\u001b[49m\u001b[43m,\u001b[49m\u001b[43m \u001b[49m\u001b[43minit\u001b[49m\u001b[38;5;241;43m=\u001b[39;49m\u001b[43minit\u001b[49m\u001b[43m,\u001b[49m\n\u001b[1;32m    251\u001b[0m \u001b[43m            \u001b[49m\u001b[43mmax_iter\u001b[49m\u001b[38;5;241;43m=\u001b[39;49m\u001b[43mmax_iter\u001b[49m\u001b[43m,\u001b[49m\u001b[43m \u001b[49m\u001b[43mverbose\u001b[49m\u001b[38;5;241;43m=\u001b[39;49m\u001b[43mverbose\u001b[49m\u001b[43m,\u001b[49m\n\u001b[1;32m    252\u001b[0m \u001b[43m            \u001b[49m\u001b[43meps\u001b[49m\u001b[38;5;241;43m=\u001b[39;49m\u001b[43meps\u001b[49m\u001b[43m,\u001b[49m\u001b[43m \u001b[49m\u001b[43mrandom_state\u001b[49m\u001b[38;5;241;43m=\u001b[39;49m\u001b[43mrandom_state\u001b[49m\u001b[43m)\u001b[49m\n\u001b[1;32m    253\u001b[0m         \u001b[38;5;28;01mif\u001b[39;00m best_stress \u001b[38;5;129;01mis\u001b[39;00m \u001b[38;5;28;01mNone\u001b[39;00m \u001b[38;5;129;01mor\u001b[39;00m stress \u001b[38;5;241m<\u001b[39m best_stress:\n\u001b[1;32m    254\u001b[0m             best_stress \u001b[38;5;241m=\u001b[39m stress\n",
      "File \u001b[0;32m/playpen/debman/ood/lib/python3.8/site-packages/sklearn/manifold/_mds.py:116\u001b[0m, in \u001b[0;36m_smacof_single\u001b[0;34m(dissimilarities, metric, n_components, init, max_iter, verbose, eps, random_state)\u001b[0m\n\u001b[1;32m    114\u001b[0m ratio \u001b[38;5;241m=\u001b[39m disparities \u001b[38;5;241m/\u001b[39m dis\n\u001b[1;32m    115\u001b[0m B \u001b[38;5;241m=\u001b[39m \u001b[38;5;241m-\u001b[39m ratio\n\u001b[0;32m--> 116\u001b[0m B[np\u001b[38;5;241m.\u001b[39marange(\u001b[38;5;28mlen\u001b[39m(B)), np\u001b[38;5;241m.\u001b[39marange(\u001b[38;5;28mlen\u001b[39m(B))] \u001b[38;5;241m+\u001b[39m\u001b[38;5;241m=\u001b[39m \u001b[43mratio\u001b[49m\u001b[38;5;241;43m.\u001b[39;49m\u001b[43msum\u001b[49m\u001b[43m(\u001b[49m\u001b[43maxis\u001b[49m\u001b[38;5;241;43m=\u001b[39;49m\u001b[38;5;241;43m1\u001b[39;49m\u001b[43m)\u001b[49m\n\u001b[1;32m    117\u001b[0m X \u001b[38;5;241m=\u001b[39m \u001b[38;5;241m1.\u001b[39m \u001b[38;5;241m/\u001b[39m n_samples \u001b[38;5;241m*\u001b[39m np\u001b[38;5;241m.\u001b[39mdot(B, X)\n\u001b[1;32m    119\u001b[0m dis \u001b[38;5;241m=\u001b[39m np\u001b[38;5;241m.\u001b[39msqrt((X \u001b[38;5;241m*\u001b[39m\u001b[38;5;241m*\u001b[39m \u001b[38;5;241m2\u001b[39m)\u001b[38;5;241m.\u001b[39msum(axis\u001b[38;5;241m=\u001b[39m\u001b[38;5;241m1\u001b[39m))\u001b[38;5;241m.\u001b[39msum()\n",
      "File \u001b[0;32m/playpen/debman/ood/lib/python3.8/site-packages/numpy/core/_methods.py:48\u001b[0m, in \u001b[0;36m_sum\u001b[0;34m(a, axis, dtype, out, keepdims, initial, where)\u001b[0m\n\u001b[1;32m     46\u001b[0m \u001b[38;5;28;01mdef\u001b[39;00m \u001b[38;5;21m_sum\u001b[39m(a, axis\u001b[38;5;241m=\u001b[39m\u001b[38;5;28;01mNone\u001b[39;00m, dtype\u001b[38;5;241m=\u001b[39m\u001b[38;5;28;01mNone\u001b[39;00m, out\u001b[38;5;241m=\u001b[39m\u001b[38;5;28;01mNone\u001b[39;00m, keepdims\u001b[38;5;241m=\u001b[39m\u001b[38;5;28;01mFalse\u001b[39;00m,\n\u001b[1;32m     47\u001b[0m          initial\u001b[38;5;241m=\u001b[39m_NoValue, where\u001b[38;5;241m=\u001b[39m\u001b[38;5;28;01mTrue\u001b[39;00m):\n\u001b[0;32m---> 48\u001b[0m     \u001b[38;5;28;01mreturn\u001b[39;00m \u001b[43mumr_sum\u001b[49m\u001b[43m(\u001b[49m\u001b[43ma\u001b[49m\u001b[43m,\u001b[49m\u001b[43m \u001b[49m\u001b[43maxis\u001b[49m\u001b[43m,\u001b[49m\u001b[43m \u001b[49m\u001b[43mdtype\u001b[49m\u001b[43m,\u001b[49m\u001b[43m \u001b[49m\u001b[43mout\u001b[49m\u001b[43m,\u001b[49m\u001b[43m \u001b[49m\u001b[43mkeepdims\u001b[49m\u001b[43m,\u001b[49m\u001b[43m \u001b[49m\u001b[43minitial\u001b[49m\u001b[43m,\u001b[49m\u001b[43m \u001b[49m\u001b[43mwhere\u001b[49m\u001b[43m)\u001b[49m\n",
      "\u001b[0;31mKeyboardInterrupt\u001b[0m: "
     ]
    }
   ],
   "source": [
    "\n",
    "md_scaling = manifold.MDS(\n",
    "    n_components=2,\n",
    "    max_iter=50,\n",
    "    n_init=4,\n",
    "    random_state=0,\n",
    ")\n",
    "S_scaling = md_scaling.fit_transform(get_rand_feats(X_sub, model))\n",
    "\n",
    "plot_2d(S_scaling, y_colors, \"Multidimensional scaling\")"
   ]
  },
  {
   "cell_type": "code",
   "execution_count": 44,
   "metadata": {},
   "outputs": [
    {
     "data": {
      "image/png": "[encoded data removed]",
      "text/plain": [
       "<Figure size 300x300 with 1 Axes>"
      ]
     },
     "metadata": {},
     "output_type": "display_data"
    }
   ],
   "source": [
    "t_sne = manifold.TSNE(\n",
    "    n_components=2,\n",
    "    perplexity=15,\n",
    "    init=\"random\",\n",
    "    n_iter=1000,\n",
    "    random_state=0,\n",
    ")\n",
    "S_t_sne = t_sne.fit_transform(get_rand_feats(X_sub, model))\n",
    "\n",
    "plot_2d(S_t_sne, y_colors, \"T-distributed Stochastic  \\n Neighbor Embedding\")"
   ]
  },
  {
   "cell_type": "markdown",
   "metadata": {
    "id": "ARSClVlo7Jlq"
   },
   "source": [
    "## Should test Betas performance first"
   ]
  },
  {
   "cell_type": "code",
   "execution_count": 48,
   "metadata": {
    "id": "_bklenRt7L2Z"
   },
   "outputs": [],
   "source": [
    "from tensorflow.keras import layers, models\n",
    "\n",
    "beta_dim = betas.shape[-1]\n",
    "input_dir_dim = random_dirs.shape[-1]\n",
    "latent_dim = 8\n",
    "\n",
    "# Encoder\n",
    "# beta_input = layers.Input(shape=(beta_dim,))\n",
    "dir_input = layers.Input(shape=(input_dir_dim,))\n",
    "encoder_inputs = layers.Concatenate()([dir_input])\n",
    "# x = layers.Dense(512, activation=tf.nn.elu)(encoder_inputs)\n",
    "# x = layers.Dense(256, activation=tf.nn.elu)(x)\n",
    "# x = layers.Dense(128, activation=tf.nn.elu)(x)\n",
    "x = layers.Dense(64, activation=tf.nn.elu)(encoder_inputs)\n",
    "x = layers.Dense(32, activation=tf.nn.elu)(x)\n",
    "x = layers.Dense(16, activation=tf.nn.elu)(x)\n",
    "x = layers.Dense(latent_dim, activation=tf.nn.elu)(x)\n",
    "# z_mean = layers.Dense(latent_dim)(x)\n",
    "# z_log_var = layers.Dense(latent_dim)(x)\n",
    "\n",
    "def sampling(args):\n",
    "  z_mean, z_log_var = args\n",
    "  eps = tf.random.normal(shape=tf.shape(z_mean))\n",
    "  return z_mean + tf.exp(0.5 * z_log_var) * eps\n",
    "\n",
    "# z = layers.Lambda(sampling)([z_mean, z_log_var])\n",
    "z = layers.Dense(latent_dim)(x)\n",
    "\n",
    "\n",
    "### Using direction in Decoder is weird\n",
    "### Likely just train VAE solely on betas with directions\n",
    "\n",
    "\n",
    "# Decoder\n",
    "latent_inputs = layers.Input(shape=(latent_dim,))\n",
    "# decoder_dir_input = layers.Input(shape=(input_dir_dim,))\n",
    "decoder_inputs = layers.Concatenate()([latent_inputs])\n",
    "x = layers.Dense(16, activation=tf.nn.elu)(decoder_inputs)\n",
    "x = layers.Dense(32, activation=tf.nn.elu)(x)\n",
    "x = layers.Dense(64, activation=tf.nn.elu)(x)\n",
    "# x = layers.Dense(64, activation=tf.nn.elu)(x)\n",
    "# x = layers.Dense(256, activation=tf.nn.elu)(decoder_inputs)\n",
    "# x = layers.Dense(512, activation=tf.nn.elu)(x)\n",
    "beta_output = layers.Dense(beta_dim)(x)\n",
    "\n",
    "# Instantiate model\n",
    "encoder = models.Model([dir_input], z, name=\"encoder\")\n",
    "decoder = models.Model([latent_inputs], beta_output, name=\"decoder\")\n",
    "\n",
    "# VAE\n",
    "outputs = decoder([encoder([dir_input])])\n",
    "vae = models.Model([dir_input], outputs, name=\"autoenc\")\n",
    "vae.encoder = encoder\n",
    "vae.decoder = decoder"
   ]
  },
  {
   "cell_type": "code",
   "execution_count": null,
   "metadata": {
    "colab": {
     "base_uri": "https://localhost:8080/",
     "height": 147
    },
    "id": "1DPTkxvRxV8i",
    "outputId": "52c5c458-c4c0-45a7-aa5d-1c19601e9965"
   },
   "outputs": [
    {
     "ename": "NameError",
     "evalue": "name 'vae' is not defined",
     "output_type": "error",
     "traceback": [
      "\u001b[0;31m---------------------------------------------------------------------------\u001b[0m",
      "\u001b[0;31mNameError\u001b[0m                                 Traceback (most recent call last)",
      "\u001b[0;32m<ipython-input-27-99e8becab42a>\u001b[0m in \u001b[0;36m<cell line: 1>\u001b[0;34m()\u001b[0m\n\u001b[0;32m----> 1\u001b[0;31m \u001b[0mvae\u001b[0m\u001b[0;34m.\u001b[0m\u001b[0msave_weights\u001b[0m\u001b[0;34m(\u001b[0m\u001b[0;34m'./checkpoints/my_checkpoint'\u001b[0m\u001b[0;34m)\u001b[0m\u001b[0;34m\u001b[0m\u001b[0;34m\u001b[0m\u001b[0m\n\u001b[0m",
      "\u001b[0;31mNameError\u001b[0m: name 'vae' is not defined"
     ]
    }
   ],
   "source": [
    "vae.save_weights('./checkpoints/my_checkpoint')"
   ]
  },
  {
   "cell_type": "code",
   "execution_count": null,
   "metadata": {
    "id": "kYh5bRuf-dPt"
   },
   "outputs": [],
   "source": [
    "vae.load_weights('./checkpoints/my_checkpoint')"
   ]
  },
  {
   "cell_type": "code",
   "execution_count": null,
   "metadata": {
    "colab": {
     "base_uri": "https://localhost:8080/"
    },
    "id": "WPyhZENnxizR",
    "outputId": "62a864f3-e80b-488c-a7d2-2b612e30f255"
   },
   "outputs": [
    {
     "name": "stdout",
     "output_type": "stream",
     "text": [
      "  adding: checkpoints/ (stored 0%)\n",
      "  adding: checkpoints/my_checkpoint.data-00000-of-00001 (deflated 10%)\n",
      "  adding: checkpoints/my_checkpoint.index (deflated 59%)\n",
      "  adding: checkpoints/checkpoint (deflated 49%)\n"
     ]
    }
   ],
   "source": [
    "!zip -r checkpoints-toy.zip checkpoints/"
   ]
  },
  {
   "cell_type": "code",
   "execution_count": 49,
   "metadata": {},
   "outputs": [],
   "source": [
    "def get_margin_batched(supp_vs, wgts):\n",
    "  sd = (tf.concat([tf.ones((*supp_vs.shape[:-1], 1)), supp_vs], axis=-1) @ wgts[:, :, None]) * 1.0\n",
    "  return sd[:]"
   ]
  },
  {
   "cell_type": "code",
   "execution_count": 50,
   "metadata": {
    "id": "GEVOITgr-mEL"
   },
   "outputs": [],
   "source": [
    "# (get_margin(get_rand_feats(tf.cast(suppvs_0, dtype=tf.float32), model), betas[sample]), y_supp_0)\n",
    "# # loss_2 = tf.keras.losses.BinaryCrossentropy(from_logits=True)\n",
    "# print(loss_2(y_supp_0[:len(suppvs_0)], get_margin(get_rand_feats(tf.cast(suppvs_0, dtype=tf.float32), model), betas[sample])))\n",
    "\n",
    "def vae_loss(inputs, outputs, supp_vs, supp_ys, reg=1.0, regr=1.0):\n",
    "  # recon_loss = tf.reduce_mean(tf.reduce_sum(tf.square(inputs - outputs), axis=-1))\n",
    "  recon_loss = tf.reduce_mean(1-tf.reduce_sum(tf.linalg.normalize(tf.cast(inputs, dtype=tf.float32), axis=-1)[0] *\n",
    "                                              tf.linalg.normalize(outputs, axis=-1)[0], axis=-1))\n",
    "  # print(supp_vs.shape, outputs.shape)\n",
    "  supp_margins = get_margin_batched(supp_vs, outputs)\n",
    "  supp_loss = loss_2(supp_ys, supp_margins)\n",
    "  # print(supp_ys[0][30:], supp_margins[0][30:])\n",
    "  # print(supp_margins.shape, supp_ys.shape)\n",
    "  # kl_loss = -0.5 * tf.reduce_mean(tf.reduce_sum(1 + z_log_var - tf.square(z_mean) - tf.exp(z_log_var), axis=-1))\n",
    "  total_loss = regr * recon_loss + 0.0 * supp_loss\n",
    "  return total_loss, regr*recon_loss, reg*supp_loss"
   ]
  },
  {
   "cell_type": "code",
   "execution_count": 51,
   "metadata": {
    "id": "bjyT0zzy_Q8E"
   },
   "outputs": [],
   "source": [
    "opt = tf.keras.optimizers.Adam()\n",
    "\n",
    "\n",
    "def train_step(model, inputs, dir_inputs, supp_vs, supp_ys, alpha, ralpha=1.0):\n",
    "  with tf.GradientTape() as tape:\n",
    "    z = model.encoder([dir_inputs])\n",
    "    outputs = model.decoder([z])\n",
    "    total_loss, recon_loss, supp_loss = vae_loss(inputs, outputs, supp_vs, supp_ys, alpha, ralpha)\n",
    "  grads = tape.gradient(total_loss, model.trainable_variables)\n",
    "  opt.apply_gradients(zip(grads, model.trainable_variables))\n",
    "  return total_loss, recon_loss, supp_loss"
   ]
  },
  {
   "cell_type": "code",
   "execution_count": 52,
   "metadata": {
    "id": "usu_v5FxBgmn"
   },
   "outputs": [],
   "source": [
    "def batch(X, betas, dirs, supps, batch_size, support_batch_size):\n",
    "  num_samples = betas.shape[0]\n",
    "  indices = np.arange(num_samples)\n",
    "  np.random.shuffle(indices)\n",
    "  betas = np.array(betas)[indices]\n",
    "  dirs = np.array(dirs)[indices]\n",
    "  supps_ = [supps[i] for i in indices]\n",
    "  supps_ = np.array([np.stack([i[np.random.choice(len(i), support_batch_size)],\n",
    "                     j[np.random.choice(len(j), support_batch_size)]], axis=0) for i, j in supps_])\n",
    "  def supp_get_vs(_supps):\n",
    "      supps_0, supps_1 = np.transpose(_supps, (1, 0, 2, 3))\n",
    "      suppvs_0 = X[supps_0.reshape((-1,))]\n",
    "      suppvs_1 = X[supps_1.reshape((-1,))]\n",
    "      suppvs_0 = tf.reshape(get_rand_feats(tf.cast(suppvs_0, dtype=tf.float32), model), (batch_size, support_batch_size, -1))\n",
    "      suppvs_1 = tf.reshape(get_rand_feats(tf.cast(suppvs_1, dtype=tf.float32), model), (batch_size, support_batch_size, -1))\n",
    "      y_supp_0 = Y[supps_0.reshape((-1,))].reshape((batch_size, support_batch_size, -1))\n",
    "      y_supp_1 = Y[supps_1.reshape((-1,))].reshape((batch_size, support_batch_size, -1))\n",
    "      return np.concatenate([suppvs_0, suppvs_1], axis=1), np.concatenate([y_supp_0, y_supp_1], axis=1)\n",
    "  for i in range(0, betas.shape[0], batch_size):\n",
    "    yield betas[i:i+batch_size], dirs[i:i+batch_size], *supp_get_vs(supps_[i:i+batch_size])"
   ]
  },
  {
   "cell_type": "code",
   "execution_count": null,
   "metadata": {},
   "outputs": [],
   "source": []
  },
  {
   "cell_type": "code",
   "execution_count": 53,
   "metadata": {
    "colab": {
     "base_uri": "https://localhost:8080/",
     "height": 1000
    },
    "id": "Rhn1yqRa_UBV",
    "outputId": "702b3b18-d7a8-4bd1-bb32-907c2d7765af",
    "scrolled": true
   },
   "outputs": [
    {
     "name": "stdout",
     "output_type": "stream",
     "text": [
      "Epoch 0\n",
      "Step 0: loss = 0.9827458262443542, recon loss = 0.9827458262443542, supp loss = 0.0\n",
      "\n",
      "Epoch 1\n",
      "Step 0: loss = 0.1118251234292984, recon loss = 0.1118251234292984, supp loss = 0.0\n",
      "\n",
      "Epoch 2\n",
      "Step 0: loss = 0.08166489750146866, recon loss = 0.08166489750146866, supp loss = 0.0\n",
      "\n",
      "Epoch 3\n",
      "Step 0: loss = 0.07369405031204224, recon loss = 0.07369405031204224, supp loss = 0.0\n",
      "\n",
      "Epoch 4\n",
      "Step 0: loss = 0.055396996438503265, recon loss = 0.055396996438503265, supp loss = 0.0\n",
      "\n",
      "Epoch 5\n",
      "Step 0: loss = 0.05326642096042633, recon loss = 0.05326642096042633, supp loss = 0.0\n",
      "\n",
      "Epoch 6\n",
      "Step 0: loss = 0.04175896197557449, recon loss = 0.04175896197557449, supp loss = 0.0\n",
      "\n",
      "Epoch 7\n",
      "Step 0: loss = 0.03833238035440445, recon loss = 0.03833238035440445, supp loss = 0.0\n",
      "\n",
      "Epoch 8\n",
      "Step 0: loss = 0.039792612195014954, recon loss = 0.039792612195014954, supp loss = 0.0\n",
      "\n",
      "Epoch 9\n",
      "Step 0: loss = 0.037365399301052094, recon loss = 0.037365399301052094, supp loss = 0.0\n",
      "\n",
      "Epoch 10\n",
      "Step 0: loss = 0.0342395082116127, recon loss = 0.0342395082116127, supp loss = 0.0\n",
      "\n",
      "Epoch 11\n",
      "Step 0: loss = 0.03330510854721069, recon loss = 0.03330510854721069, supp loss = 0.0\n",
      "\n",
      "Epoch 12\n",
      "Step 0: loss = 0.0309866052120924, recon loss = 0.0309866052120924, supp loss = 0.0\n",
      "\n",
      "Epoch 13\n",
      "Step 0: loss = 0.026186596602201462, recon loss = 0.026186596602201462, supp loss = 0.0\n",
      "\n",
      "Epoch 14\n",
      "Step 0: loss = 0.03169293701648712, recon loss = 0.03169293701648712, supp loss = 0.0\n",
      "\n",
      "Epoch 15\n",
      "Step 0: loss = 0.034214410930871964, recon loss = 0.034214410930871964, supp loss = 0.0\n",
      "\n",
      "Epoch 16\n",
      "Step 0: loss = 0.029674481600522995, recon loss = 0.029674481600522995, supp loss = 0.0\n",
      "\n",
      "Epoch 17\n",
      "Step 0: loss = 0.029486289247870445, recon loss = 0.029486289247870445, supp loss = 0.0\n",
      "\n",
      "Epoch 18\n",
      "Step 0: loss = 0.029930125921964645, recon loss = 0.029930125921964645, supp loss = 0.0\n",
      "\n",
      "Epoch 19\n",
      "Step 0: loss = 0.025367937982082367, recon loss = 0.025367937982082367, supp loss = 0.0\n",
      "\n",
      "Epoch 20\n",
      "Step 0: loss = 0.030977917835116386, recon loss = 0.030977917835116386, supp loss = 0.0\n",
      "\n",
      "Epoch 21\n",
      "Step 0: loss = 0.028100404888391495, recon loss = 0.028100404888391495, supp loss = 0.0\n",
      "\n",
      "Epoch 22\n",
      "Step 0: loss = 0.023874999955296516, recon loss = 0.023874999955296516, supp loss = 0.0\n",
      "\n",
      "Epoch 23\n",
      "Step 0: loss = 0.028139567002654076, recon loss = 0.028139567002654076, supp loss = 0.0\n",
      "\n",
      "Epoch 24\n",
      "Step 0: loss = 0.028708618134260178, recon loss = 0.028708618134260178, supp loss = 0.0\n",
      "\n",
      "Epoch 25\n",
      "Step 0: loss = 0.022312436252832413, recon loss = 0.022312436252832413, supp loss = 0.0\n",
      "\n",
      "Epoch 26\n",
      "Step 0: loss = 0.026324721053242683, recon loss = 0.026324721053242683, supp loss = 0.0\n",
      "\n",
      "Epoch 27\n",
      "Step 0: loss = 0.02532796747982502, recon loss = 0.02532796747982502, supp loss = 0.0\n",
      "\n",
      "Epoch 28\n",
      "Step 0: loss = 0.02168361097574234, recon loss = 0.02168361097574234, supp loss = 0.0\n",
      "\n",
      "Epoch 29\n",
      "Step 0: loss = 0.024830998852849007, recon loss = 0.024830998852849007, supp loss = 0.0\n",
      "\n",
      "Epoch 30\n",
      "Step 0: loss = 0.02198741026222706, recon loss = 0.02198741026222706, supp loss = 0.0\n",
      "\n",
      "Epoch 31\n",
      "Step 0: loss = 0.021767055615782738, recon loss = 0.021767055615782738, supp loss = 0.0\n",
      "\n",
      "Epoch 32\n",
      "Step 0: loss = 0.022267425432801247, recon loss = 0.022267425432801247, supp loss = 0.0\n",
      "\n",
      "Epoch 33\n",
      "Step 0: loss = 0.02187926322221756, recon loss = 0.02187926322221756, supp loss = 0.0\n",
      "\n",
      "Epoch 34\n",
      "Step 0: loss = 0.022975726053118706, recon loss = 0.022975726053118706, supp loss = 0.0\n",
      "\n",
      "Epoch 35\n",
      "Step 0: loss = 0.022565770894289017, recon loss = 0.022565770894289017, supp loss = 0.0\n",
      "\n",
      "Epoch 36\n",
      "Step 0: loss = 0.02005881443619728, recon loss = 0.02005881443619728, supp loss = 0.0\n",
      "\n",
      "Epoch 37\n",
      "Step 0: loss = 0.021364860236644745, recon loss = 0.021364860236644745, supp loss = 0.0\n",
      "\n",
      "Epoch 38\n",
      "Step 0: loss = 0.021819371730089188, recon loss = 0.021819371730089188, supp loss = 0.0\n",
      "\n",
      "Epoch 39\n",
      "Step 0: loss = 0.024116739630699158, recon loss = 0.024116739630699158, supp loss = 0.0\n",
      "\n",
      "Epoch 40\n",
      "Step 0: loss = 0.020031901076436043, recon loss = 0.020031901076436043, supp loss = 0.0\n",
      "\n",
      "Epoch 41\n",
      "Step 0: loss = 0.021730709820985794, recon loss = 0.021730709820985794, supp loss = 0.0\n",
      "\n",
      "Epoch 42\n",
      "Step 0: loss = 0.020516876131296158, recon loss = 0.020516876131296158, supp loss = 0.0\n",
      "\n",
      "Epoch 43\n",
      "Step 0: loss = 0.02189679443836212, recon loss = 0.02189679443836212, supp loss = 0.0\n",
      "\n",
      "Epoch 44\n",
      "Step 0: loss = 0.015833839774131775, recon loss = 0.015833839774131775, supp loss = 0.0\n",
      "\n",
      "Epoch 45\n",
      "Step 0: loss = 0.02293386682868004, recon loss = 0.02293386682868004, supp loss = 0.0\n",
      "\n",
      "Epoch 46\n",
      "Step 0: loss = 0.022969182580709457, recon loss = 0.022969182580709457, supp loss = 0.0\n",
      "\n",
      "Epoch 47\n",
      "Step 0: loss = 0.02101985551416874, recon loss = 0.02101985551416874, supp loss = 0.0\n",
      "\n",
      "Epoch 48\n",
      "Step 0: loss = 0.017402980476617813, recon loss = 0.017402980476617813, supp loss = 0.0\n",
      "\n",
      "Epoch 49\n",
      "Step 0: loss = 0.02015608735382557, recon loss = 0.02015608735382557, supp loss = 0.0\n",
      "\n",
      "Epoch 50\n",
      "Step 0: loss = 0.018346313387155533, recon loss = 0.018346313387155533, supp loss = 0.0\n",
      "\n",
      "Epoch 51\n",
      "Step 0: loss = 0.018840616568922997, recon loss = 0.018840616568922997, supp loss = 0.0\n",
      "\n",
      "Epoch 52\n",
      "Step 0: loss = 0.020284170284867287, recon loss = 0.020284170284867287, supp loss = 0.0\n",
      "\n",
      "Epoch 53\n",
      "Step 0: loss = 0.021221503615379333, recon loss = 0.021221503615379333, supp loss = 0.0\n",
      "\n",
      "Epoch 54\n",
      "Step 0: loss = 0.023005306720733643, recon loss = 0.023005306720733643, supp loss = 0.0\n",
      "\n",
      "Epoch 55\n",
      "Step 0: loss = 0.018394654616713524, recon loss = 0.018394654616713524, supp loss = 0.0\n",
      "\n",
      "Epoch 56\n",
      "Step 0: loss = 0.019757146015763283, recon loss = 0.019757146015763283, supp loss = 0.0\n",
      "\n",
      "Epoch 57\n",
      "Step 0: loss = 0.019459856674075127, recon loss = 0.019459856674075127, supp loss = 0.0\n",
      "\n",
      "Epoch 58\n",
      "Step 0: loss = 0.021486295387148857, recon loss = 0.021486295387148857, supp loss = 0.0\n",
      "\n",
      "Epoch 59\n",
      "Step 0: loss = 0.020976083353161812, recon loss = 0.020976083353161812, supp loss = 0.0\n",
      "\n",
      "Epoch 60\n",
      "Step 0: loss = 0.018787698820233345, recon loss = 0.018787698820233345, supp loss = 0.0\n",
      "\n",
      "Epoch 61\n",
      "Step 0: loss = 0.021059898659586906, recon loss = 0.021059898659586906, supp loss = 0.0\n",
      "\n",
      "Epoch 62\n",
      "Step 0: loss = 0.018250353634357452, recon loss = 0.018250353634357452, supp loss = 0.0\n",
      "\n",
      "Epoch 63\n",
      "Step 0: loss = 0.01774614118039608, recon loss = 0.01774614118039608, supp loss = 0.0\n",
      "\n",
      "Epoch 64\n",
      "Step 0: loss = 0.022999295964837074, recon loss = 0.022999295964837074, supp loss = 0.0\n",
      "\n",
      "Epoch 65\n",
      "Step 0: loss = 0.017723584547638893, recon loss = 0.017723584547638893, supp loss = 0.0\n",
      "\n",
      "Epoch 66\n",
      "Step 0: loss = 0.022435277700424194, recon loss = 0.022435277700424194, supp loss = 0.0\n",
      "\n",
      "Epoch 67\n",
      "Step 0: loss = 0.02069200575351715, recon loss = 0.02069200575351715, supp loss = 0.0\n",
      "\n",
      "Epoch 68\n",
      "Step 0: loss = 0.019438130781054497, recon loss = 0.019438130781054497, supp loss = 0.0\n",
      "\n",
      "Epoch 69\n",
      "Step 0: loss = 0.01933194324374199, recon loss = 0.01933194324374199, supp loss = 0.0\n",
      "\n",
      "Epoch 70\n",
      "Step 0: loss = 0.019071361050009727, recon loss = 0.019071361050009727, supp loss = 0.0\n",
      "\n",
      "Epoch 71\n",
      "Step 0: loss = 0.019863586872816086, recon loss = 0.019863586872816086, supp loss = 0.0\n",
      "\n",
      "Epoch 72\n",
      "Step 0: loss = 0.018291637301445007, recon loss = 0.018291637301445007, supp loss = 0.0\n",
      "\n",
      "Epoch 73\n",
      "Step 0: loss = 0.02025613933801651, recon loss = 0.02025613933801651, supp loss = 0.0\n",
      "\n",
      "Epoch 74\n",
      "Step 0: loss = 0.02067849040031433, recon loss = 0.02067849040031433, supp loss = 0.0\n",
      "\n",
      "Epoch 75\n",
      "Step 0: loss = 0.01976313628256321, recon loss = 0.01976313628256321, supp loss = 0.0\n",
      "\n",
      "Epoch 76\n",
      "Step 0: loss = 0.019487585872411728, recon loss = 0.019487585872411728, supp loss = 0.0\n",
      "\n",
      "Epoch 77\n",
      "Step 0: loss = 0.018432775512337685, recon loss = 0.018432775512337685, supp loss = 0.0\n",
      "\n",
      "Epoch 78\n",
      "Step 0: loss = 0.020520906895399094, recon loss = 0.020520906895399094, supp loss = 0.0\n",
      "\n",
      "Epoch 79\n",
      "Step 0: loss = 0.01812499202787876, recon loss = 0.01812499202787876, supp loss = 0.0\n",
      "\n",
      "Epoch 80\n",
      "Step 0: loss = 0.01799369603395462, recon loss = 0.01799369603395462, supp loss = 0.0\n",
      "\n",
      "Epoch 81\n",
      "Step 0: loss = 0.020893119275569916, recon loss = 0.020893119275569916, supp loss = 0.0\n",
      "\n",
      "Epoch 82\n",
      "Step 0: loss = 0.02024260349571705, recon loss = 0.02024260349571705, supp loss = 0.0\n",
      "\n",
      "Epoch 83\n",
      "Step 0: loss = 0.019843079149723053, recon loss = 0.019843079149723053, supp loss = 0.0\n",
      "\n",
      "Epoch 84\n",
      "Step 0: loss = 0.016562756150960922, recon loss = 0.016562756150960922, supp loss = 0.0\n",
      "\n",
      "Epoch 85\n",
      "Step 0: loss = 0.019155988469719887, recon loss = 0.019155988469719887, supp loss = 0.0\n",
      "\n",
      "Epoch 86\n",
      "Step 0: loss = 0.0194003377109766, recon loss = 0.0194003377109766, supp loss = 0.0\n",
      "\n",
      "Epoch 87\n",
      "Step 0: loss = 0.017557358369231224, recon loss = 0.017557358369231224, supp loss = 0.0\n",
      "\n",
      "Epoch 88\n",
      "Step 0: loss = 0.01840309053659439, recon loss = 0.01840309053659439, supp loss = 0.0\n",
      "\n",
      "Epoch 89\n",
      "Step 0: loss = 0.01997995376586914, recon loss = 0.01997995376586914, supp loss = 0.0\n",
      "\n",
      "Epoch 90\n",
      "Step 0: loss = 0.015960674732923508, recon loss = 0.015960674732923508, supp loss = 0.0\n",
      "\n",
      "Epoch 91\n",
      "Step 0: loss = 0.016062330454587936, recon loss = 0.016062330454587936, supp loss = 0.0\n",
      "\n",
      "Epoch 92\n",
      "Step 0: loss = 0.01632862538099289, recon loss = 0.01632862538099289, supp loss = 0.0\n",
      "\n",
      "Epoch 93\n",
      "Step 0: loss = 0.018004676327109337, recon loss = 0.018004676327109337, supp loss = 0.0\n",
      "\n",
      "Epoch 94\n",
      "Step 0: loss = 0.015852056443691254, recon loss = 0.015852056443691254, supp loss = 0.0\n",
      "\n",
      "Epoch 95\n",
      "Step 0: loss = 0.018577786162495613, recon loss = 0.018577786162495613, supp loss = 0.0\n",
      "\n",
      "Epoch 96\n",
      "Step 0: loss = 0.01837494596838951, recon loss = 0.01837494596838951, supp loss = 0.0\n",
      "\n",
      "Epoch 97\n",
      "Step 0: loss = 0.017868291586637497, recon loss = 0.017868291586637497, supp loss = 0.0\n",
      "\n",
      "Epoch 98\n",
      "Step 0: loss = 0.01915033347904682, recon loss = 0.01915033347904682, supp loss = 0.0\n",
      "\n",
      "Epoch 99\n",
      "Step 0: loss = 0.018292846158146858, recon loss = 0.018292846158146858, supp loss = 0.0\n",
      "\n",
      "Epoch 100\n",
      "Step 0: loss = 0.01461387425661087, recon loss = 0.01461387425661087, supp loss = 0.0\n",
      "\n",
      "Epoch 101\n",
      "Step 0: loss = 0.01917186938226223, recon loss = 0.01917186938226223, supp loss = 0.0\n",
      "\n",
      "Epoch 102\n",
      "Step 0: loss = 0.01680922880768776, recon loss = 0.01680922880768776, supp loss = 0.0\n",
      "\n",
      "Epoch 103\n",
      "Step 0: loss = 0.015382949262857437, recon loss = 0.015382949262857437, supp loss = 0.0\n",
      "\n",
      "Epoch 104\n",
      "Step 0: loss = 0.01950513757765293, recon loss = 0.01950513757765293, supp loss = 0.0\n",
      "\n",
      "Epoch 105\n",
      "Step 0: loss = 0.016053806990385056, recon loss = 0.016053806990385056, supp loss = 0.0\n",
      "\n",
      "Epoch 106\n",
      "Step 0: loss = 0.019066940993070602, recon loss = 0.019066940993070602, supp loss = 0.0\n",
      "\n",
      "Epoch 107\n",
      "Step 0: loss = 0.015181230381131172, recon loss = 0.015181230381131172, supp loss = 0.0\n",
      "\n",
      "Epoch 108\n",
      "Step 0: loss = 0.018668165430426598, recon loss = 0.018668165430426598, supp loss = 0.0\n",
      "\n",
      "Epoch 109\n",
      "Step 0: loss = 0.017166009172797203, recon loss = 0.017166009172797203, supp loss = 0.0\n",
      "\n",
      "Epoch 110\n",
      "Step 0: loss = 0.014097366482019424, recon loss = 0.014097366482019424, supp loss = 0.0\n",
      "\n",
      "Epoch 111\n",
      "Step 0: loss = 0.014097699895501137, recon loss = 0.014097699895501137, supp loss = 0.0\n",
      "\n",
      "Epoch 112\n",
      "Step 0: loss = 0.015314694494009018, recon loss = 0.015314694494009018, supp loss = 0.0\n",
      "\n",
      "Epoch 113\n",
      "Step 0: loss = 0.0172747652977705, recon loss = 0.0172747652977705, supp loss = 0.0\n",
      "\n",
      "Epoch 114\n",
      "Step 0: loss = 0.015334827825427055, recon loss = 0.015334827825427055, supp loss = 0.0\n",
      "\n",
      "Epoch 115\n",
      "Step 0: loss = 0.01693170890212059, recon loss = 0.01693170890212059, supp loss = 0.0\n",
      "\n",
      "Epoch 116\n",
      "Step 0: loss = 0.016769930720329285, recon loss = 0.016769930720329285, supp loss = 0.0\n",
      "\n",
      "Epoch 117\n",
      "Step 0: loss = 0.016031155362725258, recon loss = 0.016031155362725258, supp loss = 0.0\n",
      "\n",
      "Epoch 118\n",
      "Step 0: loss = 0.01608063466846943, recon loss = 0.01608063466846943, supp loss = 0.0\n",
      "\n",
      "Epoch 119\n",
      "Step 0: loss = 0.01639229618012905, recon loss = 0.01639229618012905, supp loss = 0.0\n",
      "\n",
      "Epoch 120\n",
      "Step 0: loss = 0.018574612215161324, recon loss = 0.018574612215161324, supp loss = 0.0\n",
      "\n",
      "Epoch 121\n",
      "Step 0: loss = 0.017631230875849724, recon loss = 0.017631230875849724, supp loss = 0.0\n",
      "\n",
      "Epoch 122\n",
      "Step 0: loss = 0.014296922832727432, recon loss = 0.014296922832727432, supp loss = 0.0\n",
      "\n",
      "Epoch 123\n",
      "Step 0: loss = 0.014290308579802513, recon loss = 0.014290308579802513, supp loss = 0.0\n",
      "\n",
      "Epoch 124\n",
      "Step 0: loss = 0.016482150182127953, recon loss = 0.016482150182127953, supp loss = 0.0\n",
      "\n",
      "Epoch 125\n",
      "Step 0: loss = 0.013505162671208382, recon loss = 0.013505162671208382, supp loss = 0.0\n",
      "\n",
      "Epoch 126\n",
      "Step 0: loss = 0.013790721073746681, recon loss = 0.013790721073746681, supp loss = 0.0\n",
      "\n",
      "Epoch 127\n",
      "Step 0: loss = 0.015465978533029556, recon loss = 0.015465978533029556, supp loss = 0.0\n",
      "\n",
      "Epoch 128\n",
      "Step 0: loss = 0.013099368661642075, recon loss = 0.013099368661642075, supp loss = 0.0\n",
      "\n",
      "Epoch 129\n",
      "Step 0: loss = 0.01585986465215683, recon loss = 0.01585986465215683, supp loss = 0.0\n",
      "\n",
      "Epoch 130\n",
      "Step 0: loss = 0.014127837494015694, recon loss = 0.014127837494015694, supp loss = 0.0\n",
      "\n",
      "Epoch 131\n",
      "Step 0: loss = 0.01599683240056038, recon loss = 0.01599683240056038, supp loss = 0.0\n",
      "\n",
      "Epoch 132\n",
      "Step 0: loss = 0.016409428790211678, recon loss = 0.016409428790211678, supp loss = 0.0\n",
      "\n",
      "Epoch 133\n",
      "Step 0: loss = 0.016606459394097328, recon loss = 0.016606459394097328, supp loss = 0.0\n",
      "\n",
      "Epoch 134\n",
      "Step 0: loss = 0.01528252474963665, recon loss = 0.01528252474963665, supp loss = 0.0\n",
      "\n",
      "Epoch 135\n",
      "Step 0: loss = 0.014214681461453438, recon loss = 0.014214681461453438, supp loss = 0.0\n",
      "\n",
      "Epoch 136\n",
      "Step 0: loss = 0.016133029013872147, recon loss = 0.016133029013872147, supp loss = 0.0\n",
      "\n",
      "Epoch 137\n",
      "Step 0: loss = 0.011075129732489586, recon loss = 0.011075129732489586, supp loss = 0.0\n",
      "\n",
      "Epoch 138\n",
      "Step 0: loss = 0.012367134913802147, recon loss = 0.012367134913802147, supp loss = 0.0\n",
      "\n",
      "Epoch 139\n",
      "Step 0: loss = 0.012120060622692108, recon loss = 0.012120060622692108, supp loss = 0.0\n",
      "\n",
      "Epoch 140\n",
      "Step 0: loss = 0.01403561420738697, recon loss = 0.01403561420738697, supp loss = 0.0\n",
      "\n",
      "Epoch 141\n",
      "Step 0: loss = 0.01167190633714199, recon loss = 0.01167190633714199, supp loss = 0.0\n",
      "\n",
      "Epoch 142\n",
      "Step 0: loss = 0.014022646471858025, recon loss = 0.014022646471858025, supp loss = 0.0\n",
      "\n",
      "Epoch 143\n",
      "Step 0: loss = 0.013414142653346062, recon loss = 0.013414142653346062, supp loss = 0.0\n",
      "\n",
      "Epoch 144\n",
      "Step 0: loss = 0.01142052374780178, recon loss = 0.01142052374780178, supp loss = 0.0\n",
      "\n",
      "Epoch 145\n",
      "Step 0: loss = 0.013309024274349213, recon loss = 0.013309024274349213, supp loss = 0.0\n",
      "\n",
      "Epoch 146\n",
      "Step 0: loss = 0.015828488394618034, recon loss = 0.015828488394618034, supp loss = 0.0\n",
      "\n",
      "Epoch 147\n",
      "Step 0: loss = 0.011274794116616249, recon loss = 0.011274794116616249, supp loss = 0.0\n",
      "\n",
      "Epoch 148\n",
      "Step 0: loss = 0.011332519352436066, recon loss = 0.011332519352436066, supp loss = 0.0\n",
      "\n",
      "Epoch 149\n",
      "Step 0: loss = 0.01033070869743824, recon loss = 0.01033070869743824, supp loss = 0.0\n",
      "\n",
      "Epoch 150\n",
      "Step 0: loss = 0.011155616492033005, recon loss = 0.011155616492033005, supp loss = 0.0\n",
      "\n",
      "Epoch 151\n",
      "Step 0: loss = 0.010540971532464027, recon loss = 0.010540971532464027, supp loss = 0.0\n",
      "\n",
      "Epoch 152\n",
      "Step 0: loss = 0.012503381818532944, recon loss = 0.012503381818532944, supp loss = 0.0\n",
      "\n",
      "Epoch 153\n",
      "Step 0: loss = 0.010421091690659523, recon loss = 0.010421091690659523, supp loss = 0.0\n",
      "\n",
      "Epoch 154\n",
      "Step 0: loss = 0.011487819254398346, recon loss = 0.011487819254398346, supp loss = 0.0\n",
      "\n",
      "Epoch 155\n",
      "Step 0: loss = 0.012168388813734055, recon loss = 0.012168388813734055, supp loss = 0.0\n",
      "\n",
      "Epoch 156\n",
      "Step 0: loss = 0.01403844729065895, recon loss = 0.01403844729065895, supp loss = 0.0\n",
      "\n",
      "Epoch 157\n",
      "Step 0: loss = 0.01084284856915474, recon loss = 0.01084284856915474, supp loss = 0.0\n",
      "\n",
      "Epoch 158\n",
      "Step 0: loss = 0.010651804506778717, recon loss = 0.010651804506778717, supp loss = 0.0\n",
      "\n",
      "Epoch 159\n",
      "Step 0: loss = 0.010456893593072891, recon loss = 0.010456893593072891, supp loss = 0.0\n",
      "\n",
      "Epoch 160\n",
      "Step 0: loss = 0.011880777776241302, recon loss = 0.011880777776241302, supp loss = 0.0\n",
      "\n",
      "Epoch 161\n",
      "Step 0: loss = 0.011678393930196762, recon loss = 0.011678393930196762, supp loss = 0.0\n",
      "\n",
      "Epoch 162\n",
      "Step 0: loss = 0.01170952059328556, recon loss = 0.01170952059328556, supp loss = 0.0\n",
      "\n",
      "Epoch 163\n",
      "Step 0: loss = 0.010168036445975304, recon loss = 0.010168036445975304, supp loss = 0.0\n",
      "\n",
      "Epoch 164\n",
      "Step 0: loss = 0.010426798835396767, recon loss = 0.010426798835396767, supp loss = 0.0\n",
      "\n",
      "Epoch 165\n",
      "Step 0: loss = 0.009337933734059334, recon loss = 0.009337933734059334, supp loss = 0.0\n",
      "\n",
      "Epoch 166\n",
      "Step 0: loss = 0.009341705590486526, recon loss = 0.009341705590486526, supp loss = 0.0\n",
      "\n",
      "Epoch 167\n",
      "Step 0: loss = 0.008998466655611992, recon loss = 0.008998466655611992, supp loss = 0.0\n",
      "\n",
      "Epoch 168\n",
      "Step 0: loss = 0.009548254311084747, recon loss = 0.009548254311084747, supp loss = 0.0\n",
      "\n",
      "Epoch 169\n",
      "Step 0: loss = 0.010336512699723244, recon loss = 0.010336512699723244, supp loss = 0.0\n",
      "\n",
      "Epoch 170\n",
      "Step 0: loss = 0.010462785139679909, recon loss = 0.010462785139679909, supp loss = 0.0\n",
      "\n",
      "Epoch 171\n",
      "Step 0: loss = 0.009011229500174522, recon loss = 0.009011229500174522, supp loss = 0.0\n",
      "\n",
      "Epoch 172\n",
      "Step 0: loss = 0.007827481254935265, recon loss = 0.007827481254935265, supp loss = 0.0\n",
      "\n",
      "Epoch 173\n",
      "Step 0: loss = 0.00974157266318798, recon loss = 0.00974157266318798, supp loss = 0.0\n",
      "\n",
      "Epoch 174\n",
      "Step 0: loss = 0.008331403136253357, recon loss = 0.008331403136253357, supp loss = 0.0\n",
      "\n",
      "Epoch 175\n",
      "Step 0: loss = 0.009233018383383751, recon loss = 0.009233018383383751, supp loss = 0.0\n",
      "\n",
      "Epoch 176\n",
      "Step 0: loss = 0.009469831362366676, recon loss = 0.009469831362366676, supp loss = 0.0\n",
      "\n",
      "Epoch 177\n",
      "Step 0: loss = 0.009217552840709686, recon loss = 0.009217552840709686, supp loss = 0.0\n",
      "\n",
      "Epoch 178\n",
      "Step 0: loss = 0.008732004091143608, recon loss = 0.008732004091143608, supp loss = 0.0\n",
      "\n",
      "Epoch 179\n",
      "Step 0: loss = 0.008100271224975586, recon loss = 0.008100271224975586, supp loss = 0.0\n",
      "\n",
      "Epoch 180\n",
      "Step 0: loss = 0.007872790098190308, recon loss = 0.007872790098190308, supp loss = 0.0\n",
      "\n",
      "Epoch 181\n",
      "Step 0: loss = 0.0072369445115327835, recon loss = 0.0072369445115327835, supp loss = 0.0\n",
      "\n",
      "Epoch 182\n",
      "Step 0: loss = 0.006817907094955444, recon loss = 0.006817907094955444, supp loss = 0.0\n",
      "\n",
      "Epoch 183\n",
      "Step 0: loss = 0.0067868661135435104, recon loss = 0.0067868661135435104, supp loss = 0.0\n",
      "\n",
      "Epoch 184\n",
      "Step 0: loss = 0.008228426799178123, recon loss = 0.008228426799178123, supp loss = 0.0\n",
      "\n",
      "Epoch 185\n",
      "Step 0: loss = 0.007589906454086304, recon loss = 0.007589906454086304, supp loss = 0.0\n",
      "\n",
      "Epoch 186\n",
      "Step 0: loss = 0.007852861657738686, recon loss = 0.007852861657738686, supp loss = 0.0\n",
      "\n",
      "Epoch 187\n",
      "Step 0: loss = 0.007518542930483818, recon loss = 0.007518542930483818, supp loss = 0.0\n",
      "\n",
      "Epoch 188\n",
      "Step 0: loss = 0.006059868261218071, recon loss = 0.006059868261218071, supp loss = 0.0\n",
      "\n",
      "Epoch 189\n",
      "Step 0: loss = 0.007370036095380783, recon loss = 0.007370036095380783, supp loss = 0.0\n",
      "\n",
      "Epoch 190\n",
      "Step 0: loss = 0.006634974852204323, recon loss = 0.006634974852204323, supp loss = 0.0\n",
      "\n",
      "Epoch 191\n",
      "Step 0: loss = 0.008091840893030167, recon loss = 0.008091840893030167, supp loss = 0.0\n",
      "\n",
      "Epoch 192\n",
      "Step 0: loss = 0.0067120324820280075, recon loss = 0.0067120324820280075, supp loss = 0.0\n",
      "\n",
      "Epoch 193\n",
      "Step 0: loss = 0.0065211281180381775, recon loss = 0.0065211281180381775, supp loss = 0.0\n",
      "\n",
      "Epoch 194\n",
      "Step 0: loss = 0.007886141538619995, recon loss = 0.007886141538619995, supp loss = 0.0\n",
      "\n",
      "Epoch 195\n",
      "Step 0: loss = 0.007069835439324379, recon loss = 0.007069835439324379, supp loss = 0.0\n",
      "\n",
      "Epoch 196\n",
      "Step 0: loss = 0.007114790380001068, recon loss = 0.007114790380001068, supp loss = 0.0\n",
      "\n",
      "Epoch 197\n",
      "Step 0: loss = 0.006134333088994026, recon loss = 0.006134333088994026, supp loss = 0.0\n",
      "\n",
      "Epoch 198\n",
      "Step 0: loss = 0.006234968081116676, recon loss = 0.006234968081116676, supp loss = 0.0\n",
      "\n",
      "Epoch 199\n",
      "Step 0: loss = 0.006077742204070091, recon loss = 0.006077742204070091, supp loss = 0.0\n",
      "\n",
      "Epoch 200\n",
      "Step 0: loss = 0.007073152810335159, recon loss = 0.007073152810335159, supp loss = 0.0\n",
      "\n",
      "Epoch 201\n",
      "Step 0: loss = 0.006293224170804024, recon loss = 0.006293224170804024, supp loss = 0.0\n",
      "\n",
      "Epoch 202\n",
      "Step 0: loss = 0.006943464279174805, recon loss = 0.006943464279174805, supp loss = 0.0\n",
      "\n",
      "Epoch 203\n",
      "Step 0: loss = 0.006103558465838432, recon loss = 0.006103558465838432, supp loss = 0.0\n",
      "\n",
      "Epoch 204\n",
      "Step 0: loss = 0.006665028631687164, recon loss = 0.006665028631687164, supp loss = 0.0\n",
      "\n",
      "Epoch 205\n",
      "Step 0: loss = 0.006516890600323677, recon loss = 0.006516890600323677, supp loss = 0.0\n",
      "\n",
      "Epoch 206\n",
      "Step 0: loss = 0.005324626341462135, recon loss = 0.005324626341462135, supp loss = 0.0\n",
      "\n",
      "Epoch 207\n",
      "Step 0: loss = 0.006199389696121216, recon loss = 0.006199389696121216, supp loss = 0.0\n",
      "\n",
      "Epoch 208\n",
      "Step 0: loss = 0.006346629932522774, recon loss = 0.006346629932522774, supp loss = 0.0\n",
      "\n",
      "Epoch 209\n",
      "Step 0: loss = 0.005959652364253998, recon loss = 0.005959652364253998, supp loss = 0.0\n",
      "\n",
      "Epoch 210\n",
      "Step 0: loss = 0.006496446207165718, recon loss = 0.006496446207165718, supp loss = 0.0\n",
      "\n",
      "Epoch 211\n",
      "Step 0: loss = 0.005989031866192818, recon loss = 0.005989031866192818, supp loss = 0.0\n",
      "\n",
      "Epoch 212\n",
      "Step 0: loss = 0.00587821751832962, recon loss = 0.00587821751832962, supp loss = 0.0\n",
      "\n",
      "Epoch 213\n",
      "Step 0: loss = 0.005397941917181015, recon loss = 0.005397941917181015, supp loss = 0.0\n",
      "\n",
      "Epoch 214\n",
      "Step 0: loss = 0.005751708522439003, recon loss = 0.005751708522439003, supp loss = 0.0\n",
      "\n",
      "Epoch 215\n",
      "Step 0: loss = 0.00715012289583683, recon loss = 0.00715012289583683, supp loss = 0.0\n",
      "\n",
      "Epoch 216\n",
      "Step 0: loss = 0.0064520277082920074, recon loss = 0.0064520277082920074, supp loss = 0.0\n",
      "\n",
      "Epoch 217\n",
      "Step 0: loss = 0.005165748298168182, recon loss = 0.005165748298168182, supp loss = 0.0\n",
      "\n",
      "Epoch 218\n",
      "Step 0: loss = 0.0059135667979717255, recon loss = 0.0059135667979717255, supp loss = 0.0\n",
      "\n",
      "Epoch 219\n",
      "Step 0: loss = 0.006211034953594208, recon loss = 0.006211034953594208, supp loss = 0.0\n",
      "\n",
      "Epoch 220\n",
      "Step 0: loss = 0.005375167354941368, recon loss = 0.005375167354941368, supp loss = 0.0\n",
      "\n",
      "Epoch 221\n",
      "Step 0: loss = 0.005597686395049095, recon loss = 0.005597686395049095, supp loss = 0.0\n",
      "\n",
      "Epoch 222\n",
      "Step 0: loss = 0.005424076691269875, recon loss = 0.005424076691269875, supp loss = 0.0\n",
      "\n",
      "Epoch 223\n",
      "Step 0: loss = 0.006485147401690483, recon loss = 0.006485147401690483, supp loss = 0.0\n",
      "\n",
      "Epoch 224\n",
      "Step 0: loss = 0.0055512115359306335, recon loss = 0.0055512115359306335, supp loss = 0.0\n",
      "\n",
      "Epoch 225\n",
      "Step 0: loss = 0.005782630294561386, recon loss = 0.005782630294561386, supp loss = 0.0\n",
      "\n",
      "Epoch 226\n",
      "Step 0: loss = 0.005715211853384972, recon loss = 0.005715211853384972, supp loss = 0.0\n",
      "\n",
      "Epoch 227\n",
      "Step 0: loss = 0.0058111343532800674, recon loss = 0.0058111343532800674, supp loss = 0.0\n",
      "\n",
      "Epoch 228\n",
      "Step 0: loss = 0.005357097834348679, recon loss = 0.005357097834348679, supp loss = 0.0\n",
      "\n",
      "Epoch 229\n",
      "Step 0: loss = 0.005843734368681908, recon loss = 0.005843734368681908, supp loss = 0.0\n",
      "\n",
      "Epoch 230\n",
      "Step 0: loss = 0.006163360550999641, recon loss = 0.006163360550999641, supp loss = 0.0\n",
      "\n",
      "Epoch 231\n",
      "Step 0: loss = 0.005078276619315147, recon loss = 0.005078276619315147, supp loss = 0.0\n",
      "\n",
      "Epoch 232\n",
      "Step 0: loss = 0.00582318939268589, recon loss = 0.00582318939268589, supp loss = 0.0\n",
      "\n",
      "Epoch 233\n",
      "Step 0: loss = 0.006158798933029175, recon loss = 0.006158798933029175, supp loss = 0.0\n",
      "\n",
      "Epoch 234\n",
      "Step 0: loss = 0.005607934668660164, recon loss = 0.005607934668660164, supp loss = 0.0\n",
      "\n",
      "Epoch 235\n",
      "Step 0: loss = 0.005382781848311424, recon loss = 0.005382781848311424, supp loss = 0.0\n",
      "\n",
      "Epoch 236\n",
      "Step 0: loss = 0.0051206015050411224, recon loss = 0.0051206015050411224, supp loss = 0.0\n",
      "\n",
      "Epoch 237\n",
      "Step 0: loss = 0.0053571667522192, recon loss = 0.0053571667522192, supp loss = 0.0\n",
      "\n",
      "Epoch 238\n",
      "Step 0: loss = 0.00505608506500721, recon loss = 0.00505608506500721, supp loss = 0.0\n",
      "\n",
      "Epoch 239\n",
      "Step 0: loss = 0.005274973809719086, recon loss = 0.005274973809719086, supp loss = 0.0\n",
      "\n",
      "Epoch 240\n",
      "Step 0: loss = 0.004885980859398842, recon loss = 0.004885980859398842, supp loss = 0.0\n",
      "\n",
      "Epoch 241\n",
      "Step 0: loss = 0.005769398063421249, recon loss = 0.005769398063421249, supp loss = 0.0\n",
      "\n",
      "Epoch 242\n",
      "Step 0: loss = 0.004889113828539848, recon loss = 0.004889113828539848, supp loss = 0.0\n",
      "\n",
      "Epoch 243\n",
      "Step 0: loss = 0.00489204004406929, recon loss = 0.00489204004406929, supp loss = 0.0\n",
      "\n",
      "Epoch 244\n",
      "Step 0: loss = 0.0041994135826826096, recon loss = 0.0041994135826826096, supp loss = 0.0\n",
      "\n",
      "Epoch 245\n",
      "Step 0: loss = 0.004896422848105431, recon loss = 0.004896422848105431, supp loss = 0.0\n",
      "\n",
      "Epoch 246\n",
      "Step 0: loss = 0.0044058337807655334, recon loss = 0.0044058337807655334, supp loss = 0.0\n",
      "\n",
      "Epoch 247\n",
      "Step 0: loss = 0.005247434601187706, recon loss = 0.005247434601187706, supp loss = 0.0\n",
      "\n",
      "Epoch 248\n",
      "Step 0: loss = 0.005315054208040237, recon loss = 0.005315054208040237, supp loss = 0.0\n",
      "\n",
      "Epoch 249\n",
      "Step 0: loss = 0.004888297989964485, recon loss = 0.004888297989964485, supp loss = 0.0\n",
      "\n",
      "Epoch 250\n",
      "Step 0: loss = 0.005072513595223427, recon loss = 0.005072513595223427, supp loss = 0.0\n",
      "\n",
      "Epoch 251\n",
      "Step 0: loss = 0.004849597811698914, recon loss = 0.004849597811698914, supp loss = 0.0\n",
      "\n",
      "Epoch 252\n",
      "Step 0: loss = 0.006374487653374672, recon loss = 0.006374487653374672, supp loss = 0.0\n",
      "\n",
      "Epoch 253\n",
      "Step 0: loss = 0.004395630210638046, recon loss = 0.004395630210638046, supp loss = 0.0\n",
      "\n",
      "Epoch 254\n",
      "Step 0: loss = 0.004673723131418228, recon loss = 0.004673723131418228, supp loss = 0.0\n",
      "\n",
      "Epoch 255\n",
      "Step 0: loss = 0.0048183538019657135, recon loss = 0.0048183538019657135, supp loss = 0.0\n",
      "\n",
      "Epoch 256\n",
      "Step 0: loss = 0.004248244687914848, recon loss = 0.004248244687914848, supp loss = 0.0\n",
      "\n",
      "Epoch 257\n",
      "Step 0: loss = 0.005672227591276169, recon loss = 0.005672227591276169, supp loss = 0.0\n",
      "\n",
      "Epoch 258\n",
      "Step 0: loss = 0.005751227959990501, recon loss = 0.005751227959990501, supp loss = 0.0\n",
      "\n",
      "Epoch 259\n",
      "Step 0: loss = 0.004917876794934273, recon loss = 0.004917876794934273, supp loss = 0.0\n",
      "\n",
      "Epoch 260\n",
      "Step 0: loss = 0.004814425483345985, recon loss = 0.004814425483345985, supp loss = 0.0\n",
      "\n",
      "Epoch 261\n",
      "Step 0: loss = 0.005176220089197159, recon loss = 0.005176220089197159, supp loss = 0.0\n",
      "\n",
      "Epoch 262\n",
      "Step 0: loss = 0.0043819360435009, recon loss = 0.0043819360435009, supp loss = 0.0\n",
      "\n",
      "Epoch 263\n",
      "Step 0: loss = 0.004646327346563339, recon loss = 0.004646327346563339, supp loss = 0.0\n",
      "\n",
      "Epoch 264\n",
      "Step 0: loss = 0.005281565710902214, recon loss = 0.005281565710902214, supp loss = 0.0\n",
      "\n",
      "Epoch 265\n",
      "Step 0: loss = 0.004857568070292473, recon loss = 0.004857568070292473, supp loss = 0.0\n",
      "\n",
      "Epoch 266\n",
      "Step 0: loss = 0.005718698725104332, recon loss = 0.005718698725104332, supp loss = 0.0\n",
      "\n",
      "Epoch 267\n",
      "Step 0: loss = 0.0049477387219667435, recon loss = 0.0049477387219667435, supp loss = 0.0\n",
      "\n",
      "Epoch 268\n",
      "Step 0: loss = 0.004170399159193039, recon loss = 0.004170399159193039, supp loss = 0.0\n",
      "\n",
      "Epoch 269\n",
      "Step 0: loss = 0.005572175607085228, recon loss = 0.005572175607085228, supp loss = 0.0\n",
      "\n",
      "Epoch 270\n",
      "Step 0: loss = 0.004751201719045639, recon loss = 0.004751201719045639, supp loss = 0.0\n",
      "\n",
      "Epoch 271\n",
      "Step 0: loss = 0.0045816730707883835, recon loss = 0.0045816730707883835, supp loss = 0.0\n",
      "\n",
      "Epoch 272\n",
      "Step 0: loss = 0.0045271459966897964, recon loss = 0.0045271459966897964, supp loss = 0.0\n",
      "\n",
      "Epoch 273\n",
      "Step 0: loss = 0.004380756989121437, recon loss = 0.004380756989121437, supp loss = 0.0\n",
      "\n",
      "Epoch 274\n",
      "Step 0: loss = 0.0038255974650382996, recon loss = 0.0038255974650382996, supp loss = 0.0\n",
      "\n",
      "Epoch 275\n",
      "Step 0: loss = 0.004873465746641159, recon loss = 0.004873465746641159, supp loss = 0.0\n",
      "\n",
      "Epoch 276\n",
      "Step 0: loss = 0.004848260432481766, recon loss = 0.004848260432481766, supp loss = 0.0\n",
      "\n",
      "Epoch 277\n",
      "Step 0: loss = 0.004073845222592354, recon loss = 0.004073845222592354, supp loss = 0.0\n",
      "\n",
      "Epoch 278\n",
      "Step 0: loss = 0.004855204373598099, recon loss = 0.004855204373598099, supp loss = 0.0\n",
      "\n",
      "Epoch 279\n",
      "Step 0: loss = 0.0044717937707901, recon loss = 0.0044717937707901, supp loss = 0.0\n",
      "\n",
      "Epoch 280\n",
      "Step 0: loss = 0.003929510712623596, recon loss = 0.003929510712623596, supp loss = 0.0\n",
      "\n",
      "Epoch 281\n",
      "Step 0: loss = 0.0041343215852975845, recon loss = 0.0041343215852975845, supp loss = 0.0\n",
      "\n",
      "Epoch 282\n",
      "Step 0: loss = 0.004304481670260429, recon loss = 0.004304481670260429, supp loss = 0.0\n",
      "\n",
      "Epoch 283\n",
      "Step 0: loss = 0.00433831661939621, recon loss = 0.00433831661939621, supp loss = 0.0\n",
      "\n",
      "Epoch 284\n",
      "Step 0: loss = 0.00445287860929966, recon loss = 0.00445287860929966, supp loss = 0.0\n",
      "\n",
      "Epoch 285\n",
      "Step 0: loss = 0.004863010719418526, recon loss = 0.004863010719418526, supp loss = 0.0\n",
      "\n",
      "Epoch 286\n",
      "Step 0: loss = 0.004001261666417122, recon loss = 0.004001261666417122, supp loss = 0.0\n",
      "\n",
      "Epoch 287\n",
      "Step 0: loss = 0.004644857719540596, recon loss = 0.004644857719540596, supp loss = 0.0\n",
      "\n",
      "Epoch 288\n",
      "Step 0: loss = 0.004336852580308914, recon loss = 0.004336852580308914, supp loss = 0.0\n",
      "\n",
      "Epoch 289\n",
      "Step 0: loss = 0.003998713567852974, recon loss = 0.003998713567852974, supp loss = 0.0\n",
      "\n",
      "Epoch 290\n",
      "Step 0: loss = 0.004194397479295731, recon loss = 0.004194397479295731, supp loss = 0.0\n",
      "\n",
      "Epoch 291\n",
      "Step 0: loss = 0.00338573195040226, recon loss = 0.00338573195040226, supp loss = 0.0\n",
      "\n",
      "Epoch 292\n",
      "Step 0: loss = 0.004056259989738464, recon loss = 0.004056259989738464, supp loss = 0.0\n",
      "\n",
      "Epoch 293\n",
      "Step 0: loss = 0.004371941089630127, recon loss = 0.004371941089630127, supp loss = 0.0\n",
      "\n",
      "Epoch 294\n",
      "Step 0: loss = 0.004188455641269684, recon loss = 0.004188455641269684, supp loss = 0.0\n",
      "\n",
      "Epoch 295\n",
      "Step 0: loss = 0.0033777710050344467, recon loss = 0.0033777710050344467, supp loss = 0.0\n",
      "\n",
      "Epoch 296\n",
      "Step 0: loss = 0.0051255300641059875, recon loss = 0.0051255300641059875, supp loss = 0.0\n",
      "\n",
      "Epoch 297\n",
      "Step 0: loss = 0.003987545147538185, recon loss = 0.003987545147538185, supp loss = 0.0\n",
      "\n",
      "Epoch 298\n",
      "Step 0: loss = 0.004227111116051674, recon loss = 0.004227111116051674, supp loss = 0.0\n",
      "\n",
      "Epoch 299\n",
      "Step 0: loss = 0.004266927018761635, recon loss = 0.004266927018761635, supp loss = 0.0\n",
      "\n",
      "Epoch 300\n",
      "Step 0: loss = 0.004451438784599304, recon loss = 0.004451438784599304, supp loss = 0.0\n",
      "\n",
      "Epoch 301\n",
      "Step 0: loss = 0.004502424970269203, recon loss = 0.004502424970269203, supp loss = 0.0\n",
      "\n",
      "Epoch 302\n",
      "Step 0: loss = 0.004110593348741531, recon loss = 0.004110593348741531, supp loss = 0.0\n",
      "\n",
      "Epoch 303\n",
      "Step 0: loss = 0.004210423678159714, recon loss = 0.004210423678159714, supp loss = 0.0\n",
      "\n",
      "Epoch 304\n",
      "Step 0: loss = 0.0039980001747608185, recon loss = 0.0039980001747608185, supp loss = 0.0\n",
      "\n",
      "Epoch 305\n",
      "Step 0: loss = 0.004124358296394348, recon loss = 0.004124358296394348, supp loss = 0.0\n",
      "\n",
      "Epoch 306\n",
      "Step 0: loss = 0.00419393926858902, recon loss = 0.00419393926858902, supp loss = 0.0\n",
      "\n",
      "Epoch 307\n",
      "Step 0: loss = 0.003568798303604126, recon loss = 0.003568798303604126, supp loss = 0.0\n",
      "\n",
      "Epoch 308\n",
      "Step 0: loss = 0.004761267453432083, recon loss = 0.004761267453432083, supp loss = 0.0\n",
      "\n",
      "Epoch 309\n",
      "Step 0: loss = 0.004129277542233467, recon loss = 0.004129277542233467, supp loss = 0.0\n",
      "\n",
      "Epoch 310\n",
      "Step 0: loss = 0.0037397220730781555, recon loss = 0.0037397220730781555, supp loss = 0.0\n",
      "\n",
      "Epoch 311\n",
      "Step 0: loss = 0.004346182569861412, recon loss = 0.004346182569861412, supp loss = 0.0\n",
      "\n",
      "Epoch 312\n",
      "Step 0: loss = 0.0036318153142929077, recon loss = 0.0036318153142929077, supp loss = 0.0\n",
      "\n",
      "Epoch 313\n",
      "Step 0: loss = 0.004326349124312401, recon loss = 0.004326349124312401, supp loss = 0.0\n",
      "\n",
      "Epoch 314\n",
      "Step 0: loss = 0.00379745289683342, recon loss = 0.00379745289683342, supp loss = 0.0\n",
      "\n",
      "Epoch 315\n",
      "Step 0: loss = 0.004288654774427414, recon loss = 0.004288654774427414, supp loss = 0.0\n",
      "\n",
      "Epoch 316\n",
      "Step 0: loss = 0.004520181566476822, recon loss = 0.004520181566476822, supp loss = 0.0\n",
      "\n",
      "Epoch 317\n",
      "Step 0: loss = 0.004236077889800072, recon loss = 0.004236077889800072, supp loss = 0.0\n",
      "\n",
      "Epoch 318\n",
      "Step 0: loss = 0.004008270800113678, recon loss = 0.004008270800113678, supp loss = 0.0\n",
      "\n",
      "Epoch 319\n",
      "Step 0: loss = 0.00424996018409729, recon loss = 0.00424996018409729, supp loss = 0.0\n",
      "\n",
      "Epoch 320\n",
      "Step 0: loss = 0.003765759989619255, recon loss = 0.003765759989619255, supp loss = 0.0\n",
      "\n",
      "Epoch 321\n",
      "Step 0: loss = 0.003967251628637314, recon loss = 0.003967251628637314, supp loss = 0.0\n",
      "\n",
      "Epoch 322\n",
      "Step 0: loss = 0.003608943894505501, recon loss = 0.003608943894505501, supp loss = 0.0\n",
      "\n",
      "Epoch 323\n",
      "Step 0: loss = 0.0032468121498823166, recon loss = 0.0032468121498823166, supp loss = 0.0\n",
      "\n",
      "Epoch 324\n",
      "Step 0: loss = 0.003810916095972061, recon loss = 0.003810916095972061, supp loss = 0.0\n",
      "\n",
      "Epoch 325\n",
      "Step 0: loss = 0.003711879253387451, recon loss = 0.003711879253387451, supp loss = 0.0\n",
      "\n",
      "Epoch 326\n",
      "Step 0: loss = 0.0034261122345924377, recon loss = 0.0034261122345924377, supp loss = 0.0\n",
      "\n",
      "Epoch 327\n",
      "Step 0: loss = 0.004400637000799179, recon loss = 0.004400637000799179, supp loss = 0.0\n",
      "\n",
      "Epoch 328\n",
      "Step 0: loss = 0.00346221961081028, recon loss = 0.00346221961081028, supp loss = 0.0\n",
      "\n",
      "Epoch 329\n",
      "Step 0: loss = 0.003463098779320717, recon loss = 0.003463098779320717, supp loss = 0.0\n",
      "\n",
      "Epoch 330\n",
      "Step 0: loss = 0.004033295437693596, recon loss = 0.004033295437693596, supp loss = 0.0\n",
      "\n",
      "Epoch 331\n",
      "Step 0: loss = 0.0042776986956596375, recon loss = 0.0042776986956596375, supp loss = 0.0\n",
      "\n",
      "Epoch 332\n",
      "Step 0: loss = 0.004105474799871445, recon loss = 0.004105474799871445, supp loss = 0.0\n",
      "\n",
      "Epoch 333\n",
      "Step 0: loss = 0.0037772636860609055, recon loss = 0.0037772636860609055, supp loss = 0.0\n",
      "\n",
      "Epoch 334\n",
      "Step 0: loss = 0.003775099292397499, recon loss = 0.003775099292397499, supp loss = 0.0\n",
      "\n",
      "Epoch 335\n",
      "Step 0: loss = 0.0030127447098493576, recon loss = 0.0030127447098493576, supp loss = 0.0\n",
      "\n",
      "Epoch 336\n",
      "Step 0: loss = 0.0034640803933143616, recon loss = 0.0034640803933143616, supp loss = 0.0\n",
      "\n",
      "Epoch 337\n",
      "Step 0: loss = 0.003223961219191551, recon loss = 0.003223961219191551, supp loss = 0.0\n",
      "\n",
      "Epoch 338\n",
      "Step 0: loss = 0.003605946898460388, recon loss = 0.003605946898460388, supp loss = 0.0\n",
      "\n",
      "Epoch 339\n",
      "Step 0: loss = 0.003864811733365059, recon loss = 0.003864811733365059, supp loss = 0.0\n",
      "\n",
      "Epoch 340\n",
      "Step 0: loss = 0.0035513974726200104, recon loss = 0.0035513974726200104, supp loss = 0.0\n",
      "\n",
      "Epoch 341\n",
      "Step 0: loss = 0.004202684387564659, recon loss = 0.004202684387564659, supp loss = 0.0\n",
      "\n",
      "Epoch 342\n",
      "Step 0: loss = 0.004213573411107063, recon loss = 0.004213573411107063, supp loss = 0.0\n",
      "\n",
      "Epoch 343\n",
      "Step 0: loss = 0.0039749667048454285, recon loss = 0.0039749667048454285, supp loss = 0.0\n",
      "\n",
      "Epoch 344\n",
      "Step 0: loss = 0.003647325560450554, recon loss = 0.003647325560450554, supp loss = 0.0\n",
      "\n",
      "Epoch 345\n",
      "Step 0: loss = 0.0037470869719982147, recon loss = 0.0037470869719982147, supp loss = 0.0\n",
      "\n",
      "Epoch 346\n",
      "Step 0: loss = 0.00351654551923275, recon loss = 0.00351654551923275, supp loss = 0.0\n",
      "\n",
      "Epoch 347\n",
      "Step 0: loss = 0.00350128673017025, recon loss = 0.00350128673017025, supp loss = 0.0\n",
      "\n",
      "Epoch 348\n",
      "Step 0: loss = 0.003845253959298134, recon loss = 0.003845253959298134, supp loss = 0.0\n",
      "\n",
      "Epoch 349\n",
      "Step 0: loss = 0.003612017259001732, recon loss = 0.003612017259001732, supp loss = 0.0\n",
      "\n",
      "Epoch 350\n",
      "Step 0: loss = 0.0038496237248182297, recon loss = 0.0038496237248182297, supp loss = 0.0\n",
      "\n",
      "Epoch 351\n",
      "Step 0: loss = 0.0038998648524284363, recon loss = 0.0038998648524284363, supp loss = 0.0\n",
      "\n",
      "Epoch 352\n",
      "Step 0: loss = 0.003474656492471695, recon loss = 0.003474656492471695, supp loss = 0.0\n",
      "\n",
      "Epoch 353\n",
      "Step 0: loss = 0.003605838865041733, recon loss = 0.003605838865041733, supp loss = 0.0\n",
      "\n",
      "Epoch 354\n",
      "Step 0: loss = 0.0035427678376436234, recon loss = 0.0035427678376436234, supp loss = 0.0\n",
      "\n",
      "Epoch 355\n",
      "Step 0: loss = 0.0033557582646608353, recon loss = 0.0033557582646608353, supp loss = 0.0\n",
      "\n",
      "Epoch 356\n",
      "Step 0: loss = 0.0036000851541757584, recon loss = 0.0036000851541757584, supp loss = 0.0\n",
      "\n",
      "Epoch 357\n",
      "Step 0: loss = 0.0032644513994455338, recon loss = 0.0032644513994455338, supp loss = 0.0\n",
      "\n",
      "Epoch 358\n",
      "Step 0: loss = 0.003592357039451599, recon loss = 0.003592357039451599, supp loss = 0.0\n",
      "\n",
      "Epoch 359\n",
      "Step 0: loss = 0.0033499356359243393, recon loss = 0.0033499356359243393, supp loss = 0.0\n",
      "\n",
      "Epoch 360\n",
      "Step 0: loss = 0.002728590741753578, recon loss = 0.002728590741753578, supp loss = 0.0\n",
      "\n",
      "Epoch 361\n",
      "Step 0: loss = 0.0034879371523857117, recon loss = 0.0034879371523857117, supp loss = 0.0\n",
      "\n",
      "Epoch 362\n",
      "Step 0: loss = 0.003539441153407097, recon loss = 0.003539441153407097, supp loss = 0.0\n",
      "\n",
      "Epoch 363\n",
      "Step 0: loss = 0.0036797821521759033, recon loss = 0.0036797821521759033, supp loss = 0.0\n",
      "\n",
      "Epoch 364\n",
      "Step 0: loss = 0.003479268401861191, recon loss = 0.003479268401861191, supp loss = 0.0\n",
      "\n",
      "Epoch 365\n",
      "Step 0: loss = 0.003719143569469452, recon loss = 0.003719143569469452, supp loss = 0.0\n",
      "\n",
      "Epoch 366\n",
      "Step 0: loss = 0.0035996679216623306, recon loss = 0.0035996679216623306, supp loss = 0.0\n",
      "\n",
      "Epoch 367\n",
      "Step 0: loss = 0.003672286868095398, recon loss = 0.003672286868095398, supp loss = 0.0\n",
      "\n",
      "Epoch 368\n",
      "Step 0: loss = 0.0032761599868535995, recon loss = 0.0032761599868535995, supp loss = 0.0\n",
      "\n",
      "Epoch 369\n",
      "Step 0: loss = 0.0030791480094194412, recon loss = 0.0030791480094194412, supp loss = 0.0\n",
      "\n",
      "Epoch 370\n",
      "Step 0: loss = 0.0037835873663425446, recon loss = 0.0037835873663425446, supp loss = 0.0\n",
      "\n",
      "Epoch 371\n",
      "Step 0: loss = 0.0036620236933231354, recon loss = 0.0036620236933231354, supp loss = 0.0\n",
      "\n",
      "Epoch 372\n",
      "Step 0: loss = 0.0030865147709846497, recon loss = 0.0030865147709846497, supp loss = 0.0\n",
      "\n",
      "Epoch 373\n",
      "Step 0: loss = 0.0036905240267515182, recon loss = 0.0036905240267515182, supp loss = 0.0\n",
      "\n",
      "Epoch 374\n",
      "Step 0: loss = 0.003642650321125984, recon loss = 0.003642650321125984, supp loss = 0.0\n",
      "\n",
      "Epoch 375\n",
      "Step 0: loss = 0.0039446111768484116, recon loss = 0.0039446111768484116, supp loss = 0.0\n",
      "\n",
      "Epoch 376\n",
      "Step 0: loss = 0.0035040248185396194, recon loss = 0.0035040248185396194, supp loss = 0.0\n",
      "\n",
      "Epoch 377\n",
      "Step 0: loss = 0.002970777451992035, recon loss = 0.002970777451992035, supp loss = 0.0\n",
      "\n",
      "Epoch 378\n",
      "Step 0: loss = 0.003523562103509903, recon loss = 0.003523562103509903, supp loss = 0.0\n",
      "\n",
      "Epoch 379\n",
      "Step 0: loss = 0.0035955365747213364, recon loss = 0.0035955365747213364, supp loss = 0.0\n",
      "\n",
      "Epoch 380\n",
      "Step 0: loss = 0.002980545163154602, recon loss = 0.002980545163154602, supp loss = 0.0\n",
      "\n",
      "Epoch 381\n",
      "Step 0: loss = 0.0032363608479499817, recon loss = 0.0032363608479499817, supp loss = 0.0\n",
      "\n",
      "Epoch 382\n",
      "Step 0: loss = 0.004298819229006767, recon loss = 0.004298819229006767, supp loss = 0.0\n",
      "\n",
      "Epoch 383\n",
      "Step 0: loss = 0.0028028376400470734, recon loss = 0.0028028376400470734, supp loss = 0.0\n",
      "\n",
      "Epoch 384\n",
      "Step 0: loss = 0.0030158013105392456, recon loss = 0.0030158013105392456, supp loss = 0.0\n",
      "\n",
      "Epoch 385\n",
      "Step 0: loss = 0.0037854909896850586, recon loss = 0.0037854909896850586, supp loss = 0.0\n",
      "\n",
      "Epoch 386\n",
      "Step 0: loss = 0.0033160466700792313, recon loss = 0.0033160466700792313, supp loss = 0.0\n",
      "\n",
      "Epoch 387\n",
      "Step 0: loss = 0.0030852630734443665, recon loss = 0.0030852630734443665, supp loss = 0.0\n",
      "\n",
      "Epoch 388\n",
      "Step 0: loss = 0.003064950928092003, recon loss = 0.003064950928092003, supp loss = 0.0\n",
      "\n",
      "Epoch 389\n",
      "Step 0: loss = 0.003455445170402527, recon loss = 0.003455445170402527, supp loss = 0.0\n",
      "\n",
      "Epoch 390\n",
      "Step 0: loss = 0.0034834686666727066, recon loss = 0.0034834686666727066, supp loss = 0.0\n",
      "\n",
      "Epoch 391\n",
      "Step 0: loss = 0.0030212942510843277, recon loss = 0.0030212942510843277, supp loss = 0.0\n",
      "\n",
      "Epoch 392\n",
      "Step 0: loss = 0.0032010842114686966, recon loss = 0.0032010842114686966, supp loss = 0.0\n",
      "\n",
      "Epoch 393\n",
      "Step 0: loss = 0.0032343510538339615, recon loss = 0.0032343510538339615, supp loss = 0.0\n",
      "\n",
      "Epoch 394\n",
      "Step 0: loss = 0.0035118944942951202, recon loss = 0.0035118944942951202, supp loss = 0.0\n",
      "\n",
      "Epoch 395\n",
      "Step 0: loss = 0.003233572468161583, recon loss = 0.003233572468161583, supp loss = 0.0\n",
      "\n",
      "Epoch 396\n",
      "Step 0: loss = 0.003007221966981888, recon loss = 0.003007221966981888, supp loss = 0.0\n",
      "\n",
      "Epoch 397\n",
      "Step 0: loss = 0.0030483845621347427, recon loss = 0.0030483845621347427, supp loss = 0.0\n",
      "\n",
      "Epoch 398\n",
      "Step 0: loss = 0.0034149903804063797, recon loss = 0.0034149903804063797, supp loss = 0.0\n",
      "\n",
      "Epoch 399\n",
      "Step 0: loss = 0.0030805785208940506, recon loss = 0.0030805785208940506, supp loss = 0.0\n",
      "\n",
      "Epoch 400\n",
      "Step 0: loss = 0.003323132172226906, recon loss = 0.003323132172226906, supp loss = 0.0\n",
      "\n",
      "Epoch 401\n",
      "Step 0: loss = 0.003964360803365707, recon loss = 0.003964360803365707, supp loss = 0.0\n",
      "\n",
      "Epoch 402\n",
      "Step 0: loss = 0.002681732177734375, recon loss = 0.002681732177734375, supp loss = 0.0\n",
      "\n",
      "Epoch 403\n",
      "Step 0: loss = 0.0027906633913517, recon loss = 0.0027906633913517, supp loss = 0.0\n",
      "\n",
      "Epoch 404\n",
      "Step 0: loss = 0.0028513986617326736, recon loss = 0.0028513986617326736, supp loss = 0.0\n",
      "\n",
      "Epoch 405\n",
      "Step 0: loss = 0.0038076359778642654, recon loss = 0.0038076359778642654, supp loss = 0.0\n",
      "\n",
      "Epoch 406\n",
      "Step 0: loss = 0.0027727726846933365, recon loss = 0.0027727726846933365, supp loss = 0.0\n",
      "\n",
      "Epoch 407\n",
      "Step 0: loss = 0.0024710390716791153, recon loss = 0.0024710390716791153, supp loss = 0.0\n",
      "\n",
      "Epoch 408\n",
      "Step 0: loss = 0.00355725921690464, recon loss = 0.00355725921690464, supp loss = 0.0\n",
      "\n",
      "Epoch 409\n",
      "Step 0: loss = 0.0031650830060243607, recon loss = 0.0031650830060243607, supp loss = 0.0\n",
      "\n",
      "Epoch 410\n",
      "Step 0: loss = 0.00307365320622921, recon loss = 0.00307365320622921, supp loss = 0.0\n",
      "\n",
      "Epoch 411\n",
      "Step 0: loss = 0.002524707466363907, recon loss = 0.002524707466363907, supp loss = 0.0\n",
      "\n",
      "Epoch 412\n",
      "Step 0: loss = 0.00338747538626194, recon loss = 0.00338747538626194, supp loss = 0.0\n",
      "\n",
      "Epoch 413\n",
      "Step 0: loss = 0.003225274384021759, recon loss = 0.003225274384021759, supp loss = 0.0\n",
      "\n",
      "Epoch 414\n",
      "Step 0: loss = 0.003380943089723587, recon loss = 0.003380943089723587, supp loss = 0.0\n",
      "\n",
      "Epoch 415\n",
      "Step 0: loss = 0.003488842397928238, recon loss = 0.003488842397928238, supp loss = 0.0\n",
      "\n",
      "Epoch 416\n",
      "Step 0: loss = 0.0029853153973817825, recon loss = 0.0029853153973817825, supp loss = 0.0\n",
      "\n",
      "Epoch 417\n",
      "Step 0: loss = 0.003722595050930977, recon loss = 0.003722595050930977, supp loss = 0.0\n",
      "\n",
      "Epoch 418\n",
      "Step 0: loss = 0.003315787762403488, recon loss = 0.003315787762403488, supp loss = 0.0\n",
      "\n",
      "Epoch 419\n",
      "Step 0: loss = 0.0027821697294712067, recon loss = 0.0027821697294712067, supp loss = 0.0\n",
      "\n",
      "Epoch 420\n",
      "Step 0: loss = 0.003745356574654579, recon loss = 0.003745356574654579, supp loss = 0.0\n",
      "\n",
      "Epoch 421\n",
      "Step 0: loss = 0.0029986929148435593, recon loss = 0.0029986929148435593, supp loss = 0.0\n",
      "\n",
      "Epoch 422\n",
      "Step 0: loss = 0.0027899350970983505, recon loss = 0.0027899350970983505, supp loss = 0.0\n",
      "\n",
      "Epoch 423\n",
      "Step 0: loss = 0.0028033219277858734, recon loss = 0.0028033219277858734, supp loss = 0.0\n",
      "\n",
      "Epoch 424\n",
      "Step 0: loss = 0.0035820454359054565, recon loss = 0.0035820454359054565, supp loss = 0.0\n",
      "\n",
      "Epoch 425\n",
      "Step 0: loss = 0.002814115956425667, recon loss = 0.002814115956425667, supp loss = 0.0\n",
      "\n",
      "Epoch 426\n",
      "Step 0: loss = 0.0031296908855438232, recon loss = 0.0031296908855438232, supp loss = 0.0\n",
      "\n",
      "Epoch 427\n",
      "Step 0: loss = 0.0032825693488121033, recon loss = 0.0032825693488121033, supp loss = 0.0\n",
      "\n",
      "Epoch 428\n",
      "Step 0: loss = 0.003000229597091675, recon loss = 0.003000229597091675, supp loss = 0.0\n",
      "\n",
      "Epoch 429\n",
      "Step 0: loss = 0.002656027674674988, recon loss = 0.002656027674674988, supp loss = 0.0\n",
      "\n",
      "Epoch 430\n",
      "Step 0: loss = 0.0031901467591524124, recon loss = 0.0031901467591524124, supp loss = 0.0\n",
      "\n",
      "Epoch 431\n",
      "Step 0: loss = 0.0027096569538116455, recon loss = 0.0027096569538116455, supp loss = 0.0\n",
      "\n",
      "Epoch 432\n",
      "Step 0: loss = 0.0030816420912742615, recon loss = 0.0030816420912742615, supp loss = 0.0\n",
      "\n",
      "Epoch 433\n",
      "Step 0: loss = 0.0029646307229995728, recon loss = 0.0029646307229995728, supp loss = 0.0\n",
      "\n",
      "Epoch 434\n",
      "Step 0: loss = 0.00292375311255455, recon loss = 0.00292375311255455, supp loss = 0.0\n",
      "\n",
      "Epoch 435\n",
      "Step 0: loss = 0.002775415778160095, recon loss = 0.002775415778160095, supp loss = 0.0\n",
      "\n",
      "Epoch 436\n",
      "Step 0: loss = 0.0032870136201381683, recon loss = 0.0032870136201381683, supp loss = 0.0\n",
      "\n",
      "Epoch 437\n",
      "Step 0: loss = 0.0031411219388246536, recon loss = 0.0031411219388246536, supp loss = 0.0\n",
      "\n",
      "Epoch 438\n",
      "Step 0: loss = 0.002666208893060684, recon loss = 0.002666208893060684, supp loss = 0.0\n",
      "\n",
      "Epoch 439\n",
      "Step 0: loss = 0.003552095964550972, recon loss = 0.003552095964550972, supp loss = 0.0\n",
      "\n",
      "Epoch 440\n",
      "Step 0: loss = 0.0028159823268651962, recon loss = 0.0028159823268651962, supp loss = 0.0\n",
      "\n",
      "Epoch 441\n",
      "Step 0: loss = 0.002412654459476471, recon loss = 0.002412654459476471, supp loss = 0.0\n",
      "\n",
      "Epoch 442\n",
      "Step 0: loss = 0.003348827362060547, recon loss = 0.003348827362060547, supp loss = 0.0\n",
      "\n",
      "Epoch 443\n",
      "Step 0: loss = 0.003066679462790489, recon loss = 0.003066679462790489, supp loss = 0.0\n",
      "\n",
      "Epoch 444\n",
      "Step 0: loss = 0.0034467987716197968, recon loss = 0.0034467987716197968, supp loss = 0.0\n",
      "\n",
      "Epoch 445\n",
      "Step 0: loss = 0.0032399091869592667, recon loss = 0.0032399091869592667, supp loss = 0.0\n",
      "\n",
      "Epoch 446\n",
      "Step 0: loss = 0.003080775961279869, recon loss = 0.003080775961279869, supp loss = 0.0\n",
      "\n",
      "Epoch 447\n",
      "Step 0: loss = 0.0022549889981746674, recon loss = 0.0022549889981746674, supp loss = 0.0\n",
      "\n",
      "Epoch 448\n",
      "Step 0: loss = 0.0022275857627391815, recon loss = 0.0022275857627391815, supp loss = 0.0\n",
      "\n",
      "Epoch 449\n",
      "Step 0: loss = 0.002565210685133934, recon loss = 0.002565210685133934, supp loss = 0.0\n",
      "\n",
      "Epoch 450\n",
      "Step 0: loss = 0.0031473711133003235, recon loss = 0.0031473711133003235, supp loss = 0.0\n",
      "\n",
      "Epoch 451\n",
      "Step 0: loss = 0.002948390319943428, recon loss = 0.002948390319943428, supp loss = 0.0\n",
      "\n",
      "Epoch 452\n",
      "Step 0: loss = 0.002656036987900734, recon loss = 0.002656036987900734, supp loss = 0.0\n",
      "\n",
      "Epoch 453\n",
      "Step 0: loss = 0.0030796024948358536, recon loss = 0.0030796024948358536, supp loss = 0.0\n",
      "\n",
      "Epoch 454\n",
      "Step 0: loss = 0.0030158143490552902, recon loss = 0.0030158143490552902, supp loss = 0.0\n",
      "\n",
      "Epoch 455\n",
      "Step 0: loss = 0.0030564945191144943, recon loss = 0.0030564945191144943, supp loss = 0.0\n",
      "\n",
      "Epoch 456\n",
      "Step 0: loss = 0.0029393676668405533, recon loss = 0.0029393676668405533, supp loss = 0.0\n",
      "\n",
      "Epoch 457\n",
      "Step 0: loss = 0.002933623269200325, recon loss = 0.002933623269200325, supp loss = 0.0\n",
      "\n",
      "Epoch 458\n",
      "Step 0: loss = 0.0025516748428344727, recon loss = 0.0025516748428344727, supp loss = 0.0\n",
      "\n",
      "Epoch 459\n",
      "Step 0: loss = 0.00414123572409153, recon loss = 0.00414123572409153, supp loss = 0.0\n",
      "\n",
      "Epoch 460\n",
      "Step 0: loss = 0.0028322748839855194, recon loss = 0.0028322748839855194, supp loss = 0.0\n",
      "\n",
      "Epoch 461\n",
      "Step 0: loss = 0.0028427839279174805, recon loss = 0.0028427839279174805, supp loss = 0.0\n",
      "\n",
      "Epoch 462\n",
      "Step 0: loss = 0.003381354734301567, recon loss = 0.003381354734301567, supp loss = 0.0\n",
      "\n",
      "Epoch 463\n",
      "Step 0: loss = 0.0034656841307878494, recon loss = 0.0034656841307878494, supp loss = 0.0\n",
      "\n",
      "Epoch 464\n",
      "Step 0: loss = 0.0030368082225322723, recon loss = 0.0030368082225322723, supp loss = 0.0\n",
      "\n",
      "Epoch 465\n",
      "Step 0: loss = 0.002651819959282875, recon loss = 0.002651819959282875, supp loss = 0.0\n",
      "\n",
      "Epoch 466\n",
      "Step 0: loss = 0.002464689314365387, recon loss = 0.002464689314365387, supp loss = 0.0\n",
      "\n",
      "Epoch 467\n",
      "Step 0: loss = 0.002846289426088333, recon loss = 0.002846289426088333, supp loss = 0.0\n",
      "\n",
      "Epoch 468\n",
      "Step 0: loss = 0.0023919343948364258, recon loss = 0.0023919343948364258, supp loss = 0.0\n",
      "\n",
      "Epoch 469\n",
      "Step 0: loss = 0.002953244373202324, recon loss = 0.002953244373202324, supp loss = 0.0\n",
      "\n",
      "Epoch 470\n",
      "Step 0: loss = 0.002399880439043045, recon loss = 0.002399880439043045, supp loss = 0.0\n",
      "\n",
      "Epoch 471\n",
      "Step 0: loss = 0.0026139598339796066, recon loss = 0.0026139598339796066, supp loss = 0.0\n",
      "\n",
      "Epoch 472\n",
      "Step 0: loss = 0.002433162182569504, recon loss = 0.002433162182569504, supp loss = 0.0\n",
      "\n",
      "Epoch 473\n",
      "Step 0: loss = 0.002734249457716942, recon loss = 0.002734249457716942, supp loss = 0.0\n",
      "\n",
      "Epoch 474\n",
      "Step 0: loss = 0.0022894106805324554, recon loss = 0.0022894106805324554, supp loss = 0.0\n",
      "\n",
      "Epoch 475\n",
      "Step 0: loss = 0.00273238867521286, recon loss = 0.00273238867521286, supp loss = 0.0\n",
      "\n",
      "Epoch 476\n",
      "Step 0: loss = 0.0027898158878087997, recon loss = 0.0027898158878087997, supp loss = 0.0\n",
      "\n",
      "Epoch 477\n",
      "Step 0: loss = 0.0024850647896528244, recon loss = 0.0024850647896528244, supp loss = 0.0\n",
      "\n",
      "Epoch 478\n",
      "Step 0: loss = 0.002530554309487343, recon loss = 0.002530554309487343, supp loss = 0.0\n",
      "\n",
      "Epoch 479\n",
      "Step 0: loss = 0.0026061218231916428, recon loss = 0.0026061218231916428, supp loss = 0.0\n",
      "\n",
      "Epoch 480\n",
      "Step 0: loss = 0.002743855118751526, recon loss = 0.002743855118751526, supp loss = 0.0\n",
      "\n",
      "Epoch 481\n",
      "Step 0: loss = 0.002549048513174057, recon loss = 0.002549048513174057, supp loss = 0.0\n",
      "\n",
      "Epoch 482\n",
      "Step 0: loss = 0.002539960667490959, recon loss = 0.002539960667490959, supp loss = 0.0\n",
      "\n",
      "Epoch 483\n",
      "Step 0: loss = 0.0021923501044511795, recon loss = 0.0021923501044511795, supp loss = 0.0\n",
      "\n",
      "Epoch 484\n",
      "Step 0: loss = 0.0025080088526010513, recon loss = 0.0025080088526010513, supp loss = 0.0\n",
      "\n",
      "Epoch 485\n",
      "Step 0: loss = 0.0025681443512439728, recon loss = 0.0025681443512439728, supp loss = 0.0\n",
      "\n",
      "Epoch 486\n",
      "Step 0: loss = 0.0030452031642198563, recon loss = 0.0030452031642198563, supp loss = 0.0\n",
      "\n",
      "Epoch 487\n",
      "Step 0: loss = 0.0027519818395376205, recon loss = 0.0027519818395376205, supp loss = 0.0\n",
      "\n",
      "Epoch 488\n",
      "Step 0: loss = 0.0022895634174346924, recon loss = 0.0022895634174346924, supp loss = 0.0\n",
      "\n",
      "Epoch 489\n",
      "Step 0: loss = 0.0025696083903312683, recon loss = 0.0025696083903312683, supp loss = 0.0\n",
      "\n",
      "Epoch 490\n",
      "Step 0: loss = 0.0024420395493507385, recon loss = 0.0024420395493507385, supp loss = 0.0\n",
      "\n",
      "Epoch 491\n",
      "Step 0: loss = 0.0027550794184207916, recon loss = 0.0027550794184207916, supp loss = 0.0\n",
      "\n",
      "Epoch 492\n",
      "Step 0: loss = 0.002502068877220154, recon loss = 0.002502068877220154, supp loss = 0.0\n",
      "\n",
      "Epoch 493\n",
      "Step 0: loss = 0.002396419644355774, recon loss = 0.002396419644355774, supp loss = 0.0\n",
      "\n",
      "Epoch 494\n",
      "Step 0: loss = 0.0025129541754722595, recon loss = 0.0025129541754722595, supp loss = 0.0\n",
      "\n",
      "Epoch 495\n",
      "Step 0: loss = 0.0023778025060892105, recon loss = 0.0023778025060892105, supp loss = 0.0\n",
      "\n",
      "Epoch 496\n",
      "Step 0: loss = 0.0020821262151002884, recon loss = 0.0020821262151002884, supp loss = 0.0\n",
      "\n",
      "Epoch 497\n",
      "Step 0: loss = 0.002679184079170227, recon loss = 0.002679184079170227, supp loss = 0.0\n",
      "\n",
      "Epoch 498\n",
      "Step 0: loss = 0.0026019085198640823, recon loss = 0.0026019085198640823, supp loss = 0.0\n",
      "\n",
      "Epoch 499\n",
      "Step 0: loss = 0.0024193841964006424, recon loss = 0.0024193841964006424, supp loss = 0.0\n",
      "\n",
      "Epoch 500\n",
      "Step 0: loss = 0.002205474302172661, recon loss = 0.002205474302172661, supp loss = 0.0\n",
      "\n",
      "Epoch 501\n",
      "Step 0: loss = 0.0028668325394392014, recon loss = 0.0028668325394392014, supp loss = 0.0\n",
      "\n",
      "Epoch 502\n",
      "Step 0: loss = 0.002418534830212593, recon loss = 0.002418534830212593, supp loss = 0.0\n",
      "\n",
      "Epoch 503\n",
      "Step 0: loss = 0.0026485268026590347, recon loss = 0.0026485268026590347, supp loss = 0.0\n",
      "\n",
      "Epoch 504\n",
      "Step 0: loss = 0.00235869362950325, recon loss = 0.00235869362950325, supp loss = 0.0\n",
      "\n",
      "Epoch 505\n",
      "Step 0: loss = 0.002941381186246872, recon loss = 0.002941381186246872, supp loss = 0.0\n",
      "\n",
      "Epoch 506\n",
      "Step 0: loss = 0.002440132200717926, recon loss = 0.002440132200717926, supp loss = 0.0\n",
      "\n",
      "Epoch 507\n",
      "Step 0: loss = 0.002658514305949211, recon loss = 0.002658514305949211, supp loss = 0.0\n",
      "\n",
      "Epoch 508\n",
      "Step 0: loss = 0.002742541953921318, recon loss = 0.002742541953921318, supp loss = 0.0\n",
      "\n",
      "Epoch 509\n",
      "Step 0: loss = 0.0023555289953947067, recon loss = 0.0023555289953947067, supp loss = 0.0\n",
      "\n",
      "Epoch 510\n",
      "Step 0: loss = 0.0022725071758031845, recon loss = 0.0022725071758031845, supp loss = 0.0\n",
      "\n",
      "Epoch 511\n",
      "Step 0: loss = 0.00235847570002079, recon loss = 0.00235847570002079, supp loss = 0.0\n",
      "\n",
      "Epoch 512\n",
      "Step 0: loss = 0.0022859368473291397, recon loss = 0.0022859368473291397, supp loss = 0.0\n",
      "\n",
      "Epoch 513\n",
      "Step 0: loss = 0.0022792723029851913, recon loss = 0.0022792723029851913, supp loss = 0.0\n",
      "\n",
      "Epoch 514\n",
      "Step 0: loss = 0.0024880152195692062, recon loss = 0.0024880152195692062, supp loss = 0.0\n",
      "\n",
      "Epoch 515\n",
      "Step 0: loss = 0.002144657075405121, recon loss = 0.002144657075405121, supp loss = 0.0\n",
      "\n",
      "Epoch 516\n",
      "Step 0: loss = 0.0021695196628570557, recon loss = 0.0021695196628570557, supp loss = 0.0\n",
      "\n",
      "Epoch 517\n",
      "Step 0: loss = 0.002495676279067993, recon loss = 0.002495676279067993, supp loss = 0.0\n",
      "\n",
      "Epoch 518\n",
      "Step 0: loss = 0.0027147717773914337, recon loss = 0.0027147717773914337, supp loss = 0.0\n",
      "\n",
      "Epoch 519\n",
      "Step 0: loss = 0.003306657075881958, recon loss = 0.003306657075881958, supp loss = 0.0\n",
      "\n",
      "Epoch 520\n",
      "Step 0: loss = 0.002966534346342087, recon loss = 0.002966534346342087, supp loss = 0.0\n",
      "\n",
      "Epoch 521\n",
      "Step 0: loss = 0.003013545647263527, recon loss = 0.003013545647263527, supp loss = 0.0\n",
      "\n",
      "Epoch 522\n",
      "Step 0: loss = 0.0024368111044168472, recon loss = 0.0024368111044168472, supp loss = 0.0\n",
      "\n",
      "Epoch 523\n",
      "Step 0: loss = 0.002434246242046356, recon loss = 0.002434246242046356, supp loss = 0.0\n",
      "\n",
      "Epoch 524\n",
      "Step 0: loss = 0.0020295288413763046, recon loss = 0.0020295288413763046, supp loss = 0.0\n",
      "\n",
      "Epoch 525\n",
      "Step 0: loss = 0.0026711132377386093, recon loss = 0.0026711132377386093, supp loss = 0.0\n",
      "\n",
      "Epoch 526\n",
      "Step 0: loss = 0.0023524537682533264, recon loss = 0.0023524537682533264, supp loss = 0.0\n",
      "\n",
      "Epoch 527\n",
      "Step 0: loss = 0.0022690091282129288, recon loss = 0.0022690091282129288, supp loss = 0.0\n",
      "\n",
      "Epoch 528\n",
      "Step 0: loss = 0.002392815425992012, recon loss = 0.002392815425992012, supp loss = 0.0\n",
      "\n",
      "Epoch 529\n",
      "Step 0: loss = 0.002358781173825264, recon loss = 0.002358781173825264, supp loss = 0.0\n",
      "\n",
      "Epoch 530\n",
      "Step 0: loss = 0.0022031813859939575, recon loss = 0.0022031813859939575, supp loss = 0.0\n",
      "\n",
      "Epoch 531\n",
      "Step 0: loss = 0.0023076236248016357, recon loss = 0.0023076236248016357, supp loss = 0.0\n",
      "\n",
      "Epoch 532\n",
      "Step 0: loss = 0.002568969503045082, recon loss = 0.002568969503045082, supp loss = 0.0\n",
      "\n",
      "Epoch 533\n",
      "Step 0: loss = 0.002439470961689949, recon loss = 0.002439470961689949, supp loss = 0.0\n",
      "\n",
      "Epoch 534\n",
      "Step 0: loss = 0.0022722557187080383, recon loss = 0.0022722557187080383, supp loss = 0.0\n",
      "\n",
      "Epoch 535\n",
      "Step 0: loss = 0.0024459902197122574, recon loss = 0.0024459902197122574, supp loss = 0.0\n",
      "\n",
      "Epoch 536\n",
      "Step 0: loss = 0.002223774790763855, recon loss = 0.002223774790763855, supp loss = 0.0\n",
      "\n",
      "Epoch 537\n",
      "Step 0: loss = 0.002211945131421089, recon loss = 0.002211945131421089, supp loss = 0.0\n",
      "\n",
      "Epoch 538\n",
      "Step 0: loss = 0.0021618660539388657, recon loss = 0.0021618660539388657, supp loss = 0.0\n",
      "\n",
      "Epoch 539\n",
      "Step 0: loss = 0.0021056141704320908, recon loss = 0.0021056141704320908, supp loss = 0.0\n",
      "\n",
      "Epoch 540\n",
      "Step 0: loss = 0.0022888705134391785, recon loss = 0.0022888705134391785, supp loss = 0.0\n",
      "\n",
      "Epoch 541\n",
      "Step 0: loss = 0.0019677244126796722, recon loss = 0.0019677244126796722, supp loss = 0.0\n",
      "\n",
      "Epoch 542\n",
      "Step 0: loss = 0.002613099291920662, recon loss = 0.002613099291920662, supp loss = 0.0\n",
      "\n",
      "Epoch 543\n",
      "Step 0: loss = 0.0023065004497766495, recon loss = 0.0023065004497766495, supp loss = 0.0\n",
      "\n",
      "Epoch 544\n",
      "Step 0: loss = 0.0019069928675889969, recon loss = 0.0019069928675889969, supp loss = 0.0\n",
      "\n",
      "Epoch 545\n",
      "Step 0: loss = 0.002528838813304901, recon loss = 0.002528838813304901, supp loss = 0.0\n",
      "\n",
      "Epoch 546\n",
      "Step 0: loss = 0.0022162776440382004, recon loss = 0.0022162776440382004, supp loss = 0.0\n",
      "\n",
      "Epoch 547\n",
      "Step 0: loss = 0.001821191981434822, recon loss = 0.001821191981434822, supp loss = 0.0\n",
      "\n",
      "Epoch 548\n",
      "Step 0: loss = 0.0022713113576173782, recon loss = 0.0022713113576173782, supp loss = 0.0\n",
      "\n",
      "Epoch 549\n",
      "Step 0: loss = 0.002089729532599449, recon loss = 0.002089729532599449, supp loss = 0.0\n",
      "\n",
      "Epoch 550\n",
      "Step 0: loss = 0.0021419376134872437, recon loss = 0.0021419376134872437, supp loss = 0.0\n",
      "\n",
      "Epoch 551\n",
      "Step 0: loss = 0.002200741320848465, recon loss = 0.002200741320848465, supp loss = 0.0\n",
      "\n",
      "Epoch 552\n",
      "Step 0: loss = 0.002497877925634384, recon loss = 0.002497877925634384, supp loss = 0.0\n",
      "\n",
      "Epoch 553\n",
      "Step 0: loss = 0.002374274656176567, recon loss = 0.002374274656176567, supp loss = 0.0\n",
      "\n",
      "Epoch 554\n",
      "Step 0: loss = 0.0027716252952814102, recon loss = 0.0027716252952814102, supp loss = 0.0\n",
      "\n",
      "Epoch 555\n",
      "Step 0: loss = 0.0019020456820726395, recon loss = 0.0019020456820726395, supp loss = 0.0\n",
      "\n",
      "Epoch 556\n",
      "Step 0: loss = 0.002171432599425316, recon loss = 0.002171432599425316, supp loss = 0.0\n",
      "\n",
      "Epoch 557\n",
      "Step 0: loss = 0.002160497009754181, recon loss = 0.002160497009754181, supp loss = 0.0\n",
      "\n",
      "Epoch 558\n",
      "Step 0: loss = 0.0025921911001205444, recon loss = 0.0025921911001205444, supp loss = 0.0\n",
      "\n",
      "Epoch 559\n",
      "Step 0: loss = 0.002144794911146164, recon loss = 0.002144794911146164, supp loss = 0.0\n",
      "\n",
      "Epoch 560\n",
      "Step 0: loss = 0.002221209928393364, recon loss = 0.002221209928393364, supp loss = 0.0\n",
      "\n",
      "Epoch 561\n",
      "Step 0: loss = 0.002323681488633156, recon loss = 0.002323681488633156, supp loss = 0.0\n",
      "\n",
      "Epoch 562\n",
      "Step 0: loss = 0.002511763945221901, recon loss = 0.002511763945221901, supp loss = 0.0\n",
      "\n",
      "Epoch 563\n",
      "Step 0: loss = 0.0027665384113788605, recon loss = 0.0027665384113788605, supp loss = 0.0\n",
      "\n",
      "Epoch 564\n",
      "Step 0: loss = 0.0021705124527215958, recon loss = 0.0021705124527215958, supp loss = 0.0\n",
      "\n",
      "Epoch 565\n",
      "Step 0: loss = 0.002709589898586273, recon loss = 0.002709589898586273, supp loss = 0.0\n",
      "\n",
      "Epoch 566\n",
      "Step 0: loss = 0.0024190284311771393, recon loss = 0.0024190284311771393, supp loss = 0.0\n",
      "\n",
      "Epoch 567\n",
      "Step 0: loss = 0.002563741058111191, recon loss = 0.002563741058111191, supp loss = 0.0\n",
      "\n",
      "Epoch 568\n",
      "Step 0: loss = 0.001956421881914139, recon loss = 0.001956421881914139, supp loss = 0.0\n",
      "\n",
      "Epoch 569\n",
      "Step 0: loss = 0.002108084037899971, recon loss = 0.002108084037899971, supp loss = 0.0\n"
     ]
    },
    {
     "ename": "KeyboardInterrupt",
     "evalue": "",
     "output_type": "error",
     "traceback": [
      "\u001b[0;31m---------------------------------------------------------------------------\u001b[0m",
      "\u001b[0;31mKeyboardInterrupt\u001b[0m                         Traceback (most recent call last)",
      "Cell \u001b[0;32mIn[53], line 10\u001b[0m\n\u001b[1;32m      8\u001b[0m nalpha \u001b[38;5;241m=\u001b[39m alpha0 \n\u001b[1;32m      9\u001b[0m \u001b[38;5;28mprint\u001b[39m(\u001b[38;5;124mf\u001b[39m\u001b[38;5;124m\"\u001b[39m\u001b[38;5;124mEpoch \u001b[39m\u001b[38;5;132;01m{\u001b[39;00mi\u001b[38;5;132;01m}\u001b[39;00m\u001b[38;5;124m\"\u001b[39m)\n\u001b[0;32m---> 10\u001b[0m \u001b[38;5;28;01mfor\u001b[39;00m step, (batch_betas, batch_dirs, supp_vs, supp_ys) \u001b[38;5;129;01min\u001b[39;00m \u001b[38;5;28menumerate\u001b[39m(batch(X, betas, random_dirs, supps_b, batch_size, support_batch_size)):\n\u001b[1;32m     11\u001b[0m   \u001b[38;5;66;03m# print(supp_vs.shape, supp_ys.shape)\u001b[39;00m\n\u001b[1;32m     12\u001b[0m   loss_vals \u001b[38;5;241m=\u001b[39m train_step(vae, batch_betas, batch_dirs, supp_vs, supp_ys, \u001b[38;5;241m0.0\u001b[39m, \u001b[38;5;241m1.0\u001b[39m)\n\u001b[1;32m     13\u001b[0m   \u001b[38;5;28;01mif\u001b[39;00m step \u001b[38;5;241m%\u001b[39m \u001b[38;5;241m100\u001b[39m \u001b[38;5;241m==\u001b[39m \u001b[38;5;241m0\u001b[39m: \u001b[38;5;66;03m# tmp\u001b[39;00m\n",
      "Cell \u001b[0;32mIn[52], line 20\u001b[0m, in \u001b[0;36mbatch\u001b[0;34m(X, betas, dirs, supps, batch_size, support_batch_size)\u001b[0m\n\u001b[1;32m     18\u001b[0m     \u001b[38;5;28;01mreturn\u001b[39;00m np\u001b[38;5;241m.\u001b[39mconcatenate([suppvs_0, suppvs_1], axis\u001b[38;5;241m=\u001b[39m\u001b[38;5;241m1\u001b[39m), np\u001b[38;5;241m.\u001b[39mconcatenate([y_supp_0, y_supp_1], axis\u001b[38;5;241m=\u001b[39m\u001b[38;5;241m1\u001b[39m)\n\u001b[1;32m     19\u001b[0m \u001b[38;5;28;01mfor\u001b[39;00m i \u001b[38;5;129;01min\u001b[39;00m \u001b[38;5;28mrange\u001b[39m(\u001b[38;5;241m0\u001b[39m, betas\u001b[38;5;241m.\u001b[39mshape[\u001b[38;5;241m0\u001b[39m], batch_size):\n\u001b[0;32m---> 20\u001b[0m   \u001b[38;5;28;01myield\u001b[39;00m betas[i:i\u001b[38;5;241m+\u001b[39mbatch_size], dirs[i:i\u001b[38;5;241m+\u001b[39mbatch_size], \u001b[38;5;241m*\u001b[39m\u001b[43msupp_get_vs\u001b[49m\u001b[43m(\u001b[49m\u001b[43msupps_\u001b[49m\u001b[43m[\u001b[49m\u001b[43mi\u001b[49m\u001b[43m:\u001b[49m\u001b[43mi\u001b[49m\u001b[38;5;241;43m+\u001b[39;49m\u001b[43mbatch_size\u001b[49m\u001b[43m]\u001b[49m\u001b[43m)\u001b[49m\n",
      "Cell \u001b[0;32mIn[52], line 14\u001b[0m, in \u001b[0;36mbatch.<locals>.supp_get_vs\u001b[0;34m(_supps)\u001b[0m\n\u001b[1;32m     12\u001b[0m suppvs_0 \u001b[38;5;241m=\u001b[39m X[supps_0\u001b[38;5;241m.\u001b[39mreshape((\u001b[38;5;241m-\u001b[39m\u001b[38;5;241m1\u001b[39m,))]\n\u001b[1;32m     13\u001b[0m suppvs_1 \u001b[38;5;241m=\u001b[39m X[supps_1\u001b[38;5;241m.\u001b[39mreshape((\u001b[38;5;241m-\u001b[39m\u001b[38;5;241m1\u001b[39m,))]\n\u001b[0;32m---> 14\u001b[0m suppvs_0 \u001b[38;5;241m=\u001b[39m tf\u001b[38;5;241m.\u001b[39mreshape(\u001b[43mget_rand_feats\u001b[49m\u001b[43m(\u001b[49m\u001b[43mtf\u001b[49m\u001b[38;5;241;43m.\u001b[39;49m\u001b[43mcast\u001b[49m\u001b[43m(\u001b[49m\u001b[43msuppvs_0\u001b[49m\u001b[43m,\u001b[49m\u001b[43m \u001b[49m\u001b[43mdtype\u001b[49m\u001b[38;5;241;43m=\u001b[39;49m\u001b[43mtf\u001b[49m\u001b[38;5;241;43m.\u001b[39;49m\u001b[43mfloat32\u001b[49m\u001b[43m)\u001b[49m\u001b[43m,\u001b[49m\u001b[43m \u001b[49m\u001b[43mmodel\u001b[49m\u001b[43m)\u001b[49m, (batch_size, support_batch_size, \u001b[38;5;241m-\u001b[39m\u001b[38;5;241m1\u001b[39m))\n\u001b[1;32m     15\u001b[0m suppvs_1 \u001b[38;5;241m=\u001b[39m tf\u001b[38;5;241m.\u001b[39mreshape(get_rand_feats(tf\u001b[38;5;241m.\u001b[39mcast(suppvs_1, dtype\u001b[38;5;241m=\u001b[39mtf\u001b[38;5;241m.\u001b[39mfloat32), model), (batch_size, support_batch_size, \u001b[38;5;241m-\u001b[39m\u001b[38;5;241m1\u001b[39m))\n\u001b[1;32m     16\u001b[0m y_supp_0 \u001b[38;5;241m=\u001b[39m Y[supps_0\u001b[38;5;241m.\u001b[39mreshape((\u001b[38;5;241m-\u001b[39m\u001b[38;5;241m1\u001b[39m,))]\u001b[38;5;241m.\u001b[39mreshape((batch_size, support_batch_size, \u001b[38;5;241m-\u001b[39m\u001b[38;5;241m1\u001b[39m))\n",
      "Cell \u001b[0;32mIn[23], line 13\u001b[0m, in \u001b[0;36mget_rand_feats\u001b[0;34m(X, model)\u001b[0m\n\u001b[1;32m      2\u001b[0m \u001b[38;5;250m\u001b[39m\u001b[38;5;124;03m\"\"\"\u001b[39;00m\n\u001b[1;32m      3\u001b[0m \u001b[38;5;124;03mArgs:\u001b[39;00m\n\u001b[1;32m      4\u001b[0m \u001b[38;5;124;03m  X: N x d matrix of input features\u001b[39;00m\n\u001b[0;32m   (...)\u001b[0m\n\u001b[1;32m      9\u001b[0m \u001b[38;5;124;03m  Phis: N x D matrix of random features\u001b[39;00m\n\u001b[1;32m     10\u001b[0m \u001b[38;5;124;03m\"\"\"\u001b[39;00m\n\u001b[1;32m     11\u001b[0m \u001b[38;5;66;03m# XWs = tf.matmul(X, Ws)\u001b[39;00m\n\u001b[1;32m     12\u001b[0m \u001b[38;5;66;03m# return tf.cos(XWs+bs)\u001b[39;00m\n\u001b[0;32m---> 13\u001b[0m \u001b[38;5;28;01mreturn\u001b[39;00m \u001b[43mmodel\u001b[49m\u001b[43m(\u001b[49m\u001b[43mX\u001b[49m\u001b[43m)\u001b[49m\n",
      "Cell \u001b[0;32mIn[21], line 26\u001b[0m, in \u001b[0;36mRandFeats.__call__\u001b[0;34m(self, x_in)\u001b[0m\n\u001b[1;32m     25\u001b[0m \u001b[38;5;28;01mdef\u001b[39;00m \u001b[38;5;21m__call__\u001b[39m(\u001b[38;5;28mself\u001b[39m, x_in):\n\u001b[0;32m---> 26\u001b[0m   \u001b[38;5;28;01mreturn\u001b[39;00m \u001b[38;5;28;43mself\u001b[39;49m\u001b[38;5;241;43m.\u001b[39;49m\u001b[43mget_features\u001b[49m\u001b[43m(\u001b[49m\u001b[43mx_in\u001b[49m\u001b[43m)\u001b[49m\n",
      "Cell \u001b[0;32mIn[21], line 23\u001b[0m, in \u001b[0;36mRandFeats.get_features\u001b[0;34m(self, x_in)\u001b[0m\n\u001b[1;32m     21\u001b[0m phis \u001b[38;5;241m=\u001b[39m tf\u001b[38;5;241m.\u001b[39mtranspose(phis, [\u001b[38;5;241m1\u001b[39m, \u001b[38;5;241m2\u001b[39m, \u001b[38;5;241m0\u001b[39m])  \u001b[38;5;66;03m# N x D x k\u001b[39;00m\n\u001b[1;32m     22\u001b[0m phis \u001b[38;5;241m=\u001b[39m tf\u001b[38;5;241m.\u001b[39mconcat((tf\u001b[38;5;241m.\u001b[39msin(phis), tf\u001b[38;5;241m.\u001b[39mcos(phis)), \u001b[38;5;241m1\u001b[39m)\n\u001b[0;32m---> 23\u001b[0m \u001b[38;5;28;01mreturn\u001b[39;00m \u001b[43mtf\u001b[49m\u001b[38;5;241;43m.\u001b[39;49m\u001b[43mreshape\u001b[49m\u001b[43m(\u001b[49m\u001b[43mphis\u001b[49m\u001b[43m,\u001b[49m\u001b[43m \u001b[49m\u001b[43m[\u001b[49m\u001b[43mx_in\u001b[49m\u001b[38;5;241;43m.\u001b[39;49m\u001b[43mshape\u001b[49m\u001b[43m[\u001b[49m\u001b[38;5;241;43m0\u001b[39;49m\u001b[43m]\u001b[49m\u001b[43m,\u001b[49m\u001b[43m \u001b[49m\u001b[38;5;241;43m-\u001b[39;49m\u001b[38;5;241;43m1\u001b[39;49m\u001b[43m]\u001b[49m\u001b[43m)\u001b[49m\n",
      "File \u001b[0;32m/playpen/debman/ood/lib/python3.8/site-packages/tensorflow/python/util/traceback_utils.py:150\u001b[0m, in \u001b[0;36mfilter_traceback.<locals>.error_handler\u001b[0;34m(*args, **kwargs)\u001b[0m\n\u001b[1;32m    148\u001b[0m filtered_tb \u001b[38;5;241m=\u001b[39m \u001b[38;5;28;01mNone\u001b[39;00m\n\u001b[1;32m    149\u001b[0m \u001b[38;5;28;01mtry\u001b[39;00m:\n\u001b[0;32m--> 150\u001b[0m   \u001b[38;5;28;01mreturn\u001b[39;00m \u001b[43mfn\u001b[49m\u001b[43m(\u001b[49m\u001b[38;5;241;43m*\u001b[39;49m\u001b[43margs\u001b[49m\u001b[43m,\u001b[49m\u001b[43m \u001b[49m\u001b[38;5;241;43m*\u001b[39;49m\u001b[38;5;241;43m*\u001b[39;49m\u001b[43mkwargs\u001b[49m\u001b[43m)\u001b[49m\n\u001b[1;32m    151\u001b[0m \u001b[38;5;28;01mexcept\u001b[39;00m \u001b[38;5;167;01mException\u001b[39;00m \u001b[38;5;28;01mas\u001b[39;00m e:\n\u001b[1;32m    152\u001b[0m   filtered_tb \u001b[38;5;241m=\u001b[39m _process_traceback_frames(e\u001b[38;5;241m.\u001b[39m__traceback__)\n",
      "File \u001b[0;32m/playpen/debman/ood/lib/python3.8/site-packages/tensorflow/python/util/dispatch.py:1176\u001b[0m, in \u001b[0;36madd_dispatch_support.<locals>.decorator.<locals>.op_dispatch_handler\u001b[0;34m(*args, **kwargs)\u001b[0m\n\u001b[1;32m   1174\u001b[0m \u001b[38;5;66;03m# Fallback dispatch system (dispatch v1):\u001b[39;00m\n\u001b[1;32m   1175\u001b[0m \u001b[38;5;28;01mtry\u001b[39;00m:\n\u001b[0;32m-> 1176\u001b[0m   \u001b[38;5;28;01mreturn\u001b[39;00m \u001b[43mdispatch_target\u001b[49m\u001b[43m(\u001b[49m\u001b[38;5;241;43m*\u001b[39;49m\u001b[43margs\u001b[49m\u001b[43m,\u001b[49m\u001b[43m \u001b[49m\u001b[38;5;241;43m*\u001b[39;49m\u001b[38;5;241;43m*\u001b[39;49m\u001b[43mkwargs\u001b[49m\u001b[43m)\u001b[49m\n\u001b[1;32m   1177\u001b[0m \u001b[38;5;28;01mexcept\u001b[39;00m (\u001b[38;5;167;01mTypeError\u001b[39;00m, \u001b[38;5;167;01mValueError\u001b[39;00m):\n\u001b[1;32m   1178\u001b[0m   \u001b[38;5;66;03m# Note: convert_to_eager_tensor currently raises a ValueError, not a\u001b[39;00m\n\u001b[1;32m   1179\u001b[0m   \u001b[38;5;66;03m# TypeError, when given unexpected types.  So we need to catch both.\u001b[39;00m\n\u001b[1;32m   1180\u001b[0m   result \u001b[38;5;241m=\u001b[39m dispatch(op_dispatch_handler, args, kwargs)\n",
      "File \u001b[0;32m/playpen/debman/ood/lib/python3.8/site-packages/tensorflow/python/ops/array_ops.py:199\u001b[0m, in \u001b[0;36mreshape\u001b[0;34m(tensor, shape, name)\u001b[0m\n\u001b[1;32m     63\u001b[0m \u001b[38;5;129m@tf_export\u001b[39m(\u001b[38;5;124m\"\u001b[39m\u001b[38;5;124mreshape\u001b[39m\u001b[38;5;124m\"\u001b[39m, v1\u001b[38;5;241m=\u001b[39m[\u001b[38;5;124m\"\u001b[39m\u001b[38;5;124mreshape\u001b[39m\u001b[38;5;124m\"\u001b[39m, \u001b[38;5;124m\"\u001b[39m\u001b[38;5;124mmanip.reshape\u001b[39m\u001b[38;5;124m\"\u001b[39m])\n\u001b[1;32m     64\u001b[0m \u001b[38;5;129m@dispatch\u001b[39m\u001b[38;5;241m.\u001b[39madd_dispatch_support\n\u001b[1;32m     65\u001b[0m \u001b[38;5;28;01mdef\u001b[39;00m \u001b[38;5;21mreshape\u001b[39m(tensor, shape, name\u001b[38;5;241m=\u001b[39m\u001b[38;5;28;01mNone\u001b[39;00m):  \u001b[38;5;66;03m# pylint: disable=redefined-outer-name\u001b[39;00m\n\u001b[1;32m     66\u001b[0m \u001b[38;5;250m  \u001b[39m\u001b[38;5;124mr\u001b[39m\u001b[38;5;124;03m\"\"\"Reshapes a tensor.\u001b[39;00m\n\u001b[1;32m     67\u001b[0m \n\u001b[1;32m     68\u001b[0m \u001b[38;5;124;03m  Given `tensor`, this operation returns a new `tf.Tensor` that has the same\u001b[39;00m\n\u001b[0;32m   (...)\u001b[0m\n\u001b[1;32m    197\u001b[0m \u001b[38;5;124;03m    A `Tensor`. Has the same type as `tensor`.\u001b[39;00m\n\u001b[1;32m    198\u001b[0m \u001b[38;5;124;03m  \"\"\"\u001b[39;00m\n\u001b[0;32m--> 199\u001b[0m   result \u001b[38;5;241m=\u001b[39m \u001b[43mgen_array_ops\u001b[49m\u001b[38;5;241;43m.\u001b[39;49m\u001b[43mreshape\u001b[49m\u001b[43m(\u001b[49m\u001b[43mtensor\u001b[49m\u001b[43m,\u001b[49m\u001b[43m \u001b[49m\u001b[43mshape\u001b[49m\u001b[43m,\u001b[49m\u001b[43m \u001b[49m\u001b[43mname\u001b[49m\u001b[43m)\u001b[49m\n\u001b[1;32m    200\u001b[0m   tensor_util\u001b[38;5;241m.\u001b[39mmaybe_set_static_shape(result, shape)\n\u001b[1;32m    201\u001b[0m   \u001b[38;5;28;01mreturn\u001b[39;00m result\n",
      "File \u001b[0;32m/playpen/debman/ood/lib/python3.8/site-packages/tensorflow/python/ops/gen_array_ops.py:8546\u001b[0m, in \u001b[0;36mreshape\u001b[0;34m(tensor, shape, name)\u001b[0m\n\u001b[1;32m   8544\u001b[0m   \u001b[38;5;28;01mpass\u001b[39;00m\n\u001b[1;32m   8545\u001b[0m \u001b[38;5;28;01mtry\u001b[39;00m:\n\u001b[0;32m-> 8546\u001b[0m   \u001b[38;5;28;01mreturn\u001b[39;00m \u001b[43mreshape_eager_fallback\u001b[49m\u001b[43m(\u001b[49m\n\u001b[1;32m   8547\u001b[0m \u001b[43m      \u001b[49m\u001b[43mtensor\u001b[49m\u001b[43m,\u001b[49m\u001b[43m \u001b[49m\u001b[43mshape\u001b[49m\u001b[43m,\u001b[49m\u001b[43m \u001b[49m\u001b[43mname\u001b[49m\u001b[38;5;241;43m=\u001b[39;49m\u001b[43mname\u001b[49m\u001b[43m,\u001b[49m\u001b[43m \u001b[49m\u001b[43mctx\u001b[49m\u001b[38;5;241;43m=\u001b[39;49m\u001b[43m_ctx\u001b[49m\u001b[43m)\u001b[49m\n\u001b[1;32m   8548\u001b[0m \u001b[38;5;28;01mexcept\u001b[39;00m _core\u001b[38;5;241m.\u001b[39m_SymbolicException:\n\u001b[1;32m   8549\u001b[0m   \u001b[38;5;28;01mpass\u001b[39;00m  \u001b[38;5;66;03m# Add nodes to the TensorFlow graph.\u001b[39;00m\n",
      "File \u001b[0;32m/playpen/debman/ood/lib/python3.8/site-packages/tensorflow/python/ops/gen_array_ops.py:8568\u001b[0m, in \u001b[0;36mreshape_eager_fallback\u001b[0;34m(tensor, shape, name, ctx)\u001b[0m\n\u001b[1;32m   8566\u001b[0m \u001b[38;5;28;01mdef\u001b[39;00m \u001b[38;5;21mreshape_eager_fallback\u001b[39m(tensor, shape, name, ctx):\n\u001b[1;32m   8567\u001b[0m   _attr_T, (tensor,) \u001b[38;5;241m=\u001b[39m _execute\u001b[38;5;241m.\u001b[39margs_to_matching_eager([tensor], ctx, [])\n\u001b[0;32m-> 8568\u001b[0m   _attr_Tshape, (shape,) \u001b[38;5;241m=\u001b[39m \u001b[43m_execute\u001b[49m\u001b[38;5;241;43m.\u001b[39;49m\u001b[43margs_to_matching_eager\u001b[49m\u001b[43m(\u001b[49m\u001b[43m[\u001b[49m\u001b[43mshape\u001b[49m\u001b[43m]\u001b[49m\u001b[43m,\u001b[49m\u001b[43m \u001b[49m\u001b[43mctx\u001b[49m\u001b[43m,\u001b[49m\u001b[43m \u001b[49m\u001b[43m[\u001b[49m\u001b[43m_dtypes\u001b[49m\u001b[38;5;241;43m.\u001b[39;49m\u001b[43mint32\u001b[49m\u001b[43m,\u001b[49m\u001b[43m \u001b[49m\u001b[43m_dtypes\u001b[49m\u001b[38;5;241;43m.\u001b[39;49m\u001b[43mint64\u001b[49m\u001b[43m,\u001b[49m\u001b[43m \u001b[49m\u001b[43m]\u001b[49m\u001b[43m,\u001b[49m\u001b[43m \u001b[49m\u001b[43m_dtypes\u001b[49m\u001b[38;5;241;43m.\u001b[39;49m\u001b[43mint32\u001b[49m\u001b[43m)\u001b[49m\n\u001b[1;32m   8569\u001b[0m   _inputs_flat \u001b[38;5;241m=\u001b[39m [tensor, shape]\n\u001b[1;32m   8570\u001b[0m   _attrs \u001b[38;5;241m=\u001b[39m (\u001b[38;5;124m\"\u001b[39m\u001b[38;5;124mT\u001b[39m\u001b[38;5;124m\"\u001b[39m, _attr_T, \u001b[38;5;124m\"\u001b[39m\u001b[38;5;124mTshape\u001b[39m\u001b[38;5;124m\"\u001b[39m, _attr_Tshape)\n",
      "File \u001b[0;32m/playpen/debman/ood/lib/python3.8/site-packages/tensorflow/python/eager/execute.py:254\u001b[0m, in \u001b[0;36margs_to_matching_eager\u001b[0;34m(l, ctx, allowed_dtypes, default_dtype)\u001b[0m\n\u001b[1;32m    250\u001b[0m \u001b[38;5;66;03m# First see if we can get a valid dtype with the default conversion\u001b[39;00m\n\u001b[1;32m    251\u001b[0m \u001b[38;5;66;03m# and see if it matches an allowed dtypes. Some ops like ConcatV2 may\u001b[39;00m\n\u001b[1;32m    252\u001b[0m \u001b[38;5;66;03m# not list allowed dtypes, in which case we should skip this.\u001b[39;00m\n\u001b[1;32m    253\u001b[0m \u001b[38;5;28;01mif\u001b[39;00m dtype \u001b[38;5;129;01mis\u001b[39;00m \u001b[38;5;28;01mNone\u001b[39;00m \u001b[38;5;129;01mand\u001b[39;00m allowed_dtypes:\n\u001b[0;32m--> 254\u001b[0m   tensor \u001b[38;5;241m=\u001b[39m \u001b[43mops\u001b[49m\u001b[38;5;241;43m.\u001b[39;49m\u001b[43mconvert_to_tensor\u001b[49m\u001b[43m(\u001b[49m\u001b[43mt\u001b[49m\u001b[43m,\u001b[49m\u001b[43m \u001b[49m\u001b[43mctx\u001b[49m\u001b[38;5;241;43m=\u001b[39;49m\u001b[43mctx\u001b[49m\u001b[43m)\u001b[49m\n\u001b[1;32m    255\u001b[0m   \u001b[38;5;66;03m# If we did not match an allowed dtype, try again with the default\u001b[39;00m\n\u001b[1;32m    256\u001b[0m   \u001b[38;5;66;03m# dtype. This could be because we have an empty tensor and thus we\u001b[39;00m\n\u001b[1;32m    257\u001b[0m   \u001b[38;5;66;03m# picked the wrong type.\u001b[39;00m\n\u001b[1;32m    258\u001b[0m   \u001b[38;5;28;01mif\u001b[39;00m tensor\u001b[38;5;241m.\u001b[39mdtype \u001b[38;5;129;01mnot\u001b[39;00m \u001b[38;5;129;01min\u001b[39;00m allowed_dtypes:\n",
      "File \u001b[0;32m/playpen/debman/ood/lib/python3.8/site-packages/tensorflow/python/profiler/trace.py:183\u001b[0m, in \u001b[0;36mtrace_wrapper.<locals>.inner_wrapper.<locals>.wrapped\u001b[0;34m(*args, **kwargs)\u001b[0m\n\u001b[1;32m    181\u001b[0m   \u001b[38;5;28;01mwith\u001b[39;00m Trace(trace_name, \u001b[38;5;241m*\u001b[39m\u001b[38;5;241m*\u001b[39mtrace_kwargs):\n\u001b[1;32m    182\u001b[0m     \u001b[38;5;28;01mreturn\u001b[39;00m func(\u001b[38;5;241m*\u001b[39margs, \u001b[38;5;241m*\u001b[39m\u001b[38;5;241m*\u001b[39mkwargs)\n\u001b[0;32m--> 183\u001b[0m \u001b[38;5;28;01mreturn\u001b[39;00m \u001b[43mfunc\u001b[49m\u001b[43m(\u001b[49m\u001b[38;5;241;43m*\u001b[39;49m\u001b[43margs\u001b[49m\u001b[43m,\u001b[49m\u001b[43m \u001b[49m\u001b[38;5;241;43m*\u001b[39;49m\u001b[38;5;241;43m*\u001b[39;49m\u001b[43mkwargs\u001b[49m\u001b[43m)\u001b[49m\n",
      "File \u001b[0;32m/playpen/debman/ood/lib/python3.8/site-packages/tensorflow/python/framework/ops.py:1609\u001b[0m, in \u001b[0;36mconvert_to_tensor\u001b[0;34m(value, dtype, name, as_ref, preferred_dtype, dtype_hint, ctx, accepted_result_types)\u001b[0m\n\u001b[1;32m   1605\u001b[0m   preferred_dtype \u001b[38;5;241m=\u001b[39m dtypes\u001b[38;5;241m.\u001b[39mas_dtype(preferred_dtype)\n\u001b[1;32m   1607\u001b[0m \u001b[38;5;66;03m# See below for the reason why it's `type(value)` and not just `value`.\u001b[39;00m\n\u001b[1;32m   1608\u001b[0m \u001b[38;5;66;03m# https://docs.python.org/3.8/reference/datamodel.html#special-lookup\u001b[39;00m\n\u001b[0;32m-> 1609\u001b[0m overload \u001b[38;5;241m=\u001b[39m \u001b[38;5;28;43mgetattr\u001b[39;49m\u001b[43m(\u001b[49m\u001b[38;5;28;43mtype\u001b[39;49m\u001b[43m(\u001b[49m\u001b[43mvalue\u001b[49m\u001b[43m)\u001b[49m\u001b[43m,\u001b[49m\u001b[43m \u001b[49m\u001b[38;5;124;43m\"\u001b[39;49m\u001b[38;5;124;43m__tf_tensor__\u001b[39;49m\u001b[38;5;124;43m\"\u001b[39;49m\u001b[43m,\u001b[49m\u001b[43m \u001b[49m\u001b[38;5;28;43;01mNone\u001b[39;49;00m\u001b[43m)\u001b[49m\n\u001b[1;32m   1610\u001b[0m \u001b[38;5;28;01mif\u001b[39;00m overload \u001b[38;5;129;01mis\u001b[39;00m \u001b[38;5;129;01mnot\u001b[39;00m \u001b[38;5;28;01mNone\u001b[39;00m:\n\u001b[1;32m   1611\u001b[0m   \u001b[38;5;28;01mreturn\u001b[39;00m overload(value, dtype, name)  \u001b[38;5;66;03m#  pylint: disable=not-callable\u001b[39;00m\n",
      "\u001b[0;31mKeyboardInterrupt\u001b[0m: "
     ]
    }
   ],
   "source": [
    "epochs = 2000\n",
    "fine_tune_epochs = 10\n",
    "batch_size = 32\n",
    "support_batch_size = 150\n",
    "alpha0 = 10.0\n",
    "\n",
    "for i in range(epochs):\n",
    "  nalpha = alpha0 \n",
    "  print(f\"Epoch {i}\")\n",
    "  for step, (batch_betas, batch_dirs, supp_vs, supp_ys) in enumerate(batch(X, betas, random_dirs, supps_b, batch_size, support_batch_size)):\n",
    "    # print(supp_vs.shape, supp_ys.shape)\n",
    "    loss_vals = train_step(vae, batch_betas, batch_dirs, supp_vs, supp_ys, 0.0, 1.0)\n",
    "    if step % 100 == 0: # tmp\n",
    "      print(f\"Step {step}: loss = {loss_vals[0].numpy()}, recon loss = {loss_vals[1].numpy()}, supp loss = {loss_vals[2].numpy()}\")\n",
    "    # for j in range(fine_tune_epochs):\n",
    "    #     loss_vals = train_step(vae, batch_betas, tf.linalg.normalize(batch_dirs + np.random.randn(*batch_dirs.shape)*0.1, axis=-1)[0], supp_vs, supp_ys, 0.0, 1.0)\n",
    "    # if step % 100 == 0: # tmp\n",
    "    #   print(f\"Step {step}: loss = {loss_vals[0].numpy()}, recon loss = {loss_vals[1].numpy()}, supp loss = {loss_vals[2].numpy()}\")\n",
    "  print()"
   ]
  },
  {
   "cell_type": "code",
   "execution_count": 1,
   "metadata": {},
   "outputs": [
    {
     "ename": "NameError",
     "evalue": "name 'np' is not defined",
     "output_type": "error",
     "traceback": [
      "\u001b[0;31m---------------------------------------------------------------------------\u001b[0m",
      "\u001b[0;31mNameError\u001b[0m                                 Traceback (most recent call last)",
      "Cell \u001b[0;32mIn[1], line 1\u001b[0m\n\u001b[0;32m----> 1\u001b[0m mgns \u001b[38;5;241m=\u001b[39m \u001b[43mnp\u001b[49m\u001b[38;5;241m.\u001b[39marray([[ \u001b[38;5;241m0.08995201\u001b[39m], [\u001b[38;5;241m-\u001b[39m\u001b[38;5;241m1.1334991\u001b[39m ], [\u001b[38;5;241m-\u001b[39m\u001b[38;5;241m0.70692503\u001b[39m], [\u001b[38;5;241m-\u001b[39m\u001b[38;5;241m0.38700718\u001b[39m], [ \u001b[38;5;241m0.5677118\u001b[39m ], [ \u001b[38;5;241m0.01707119\u001b[39m], [\u001b[38;5;241m-\u001b[39m\u001b[38;5;241m0.48715714\u001b[39m], [\u001b[38;5;241m-\u001b[39m\u001b[38;5;241m0.5596267\u001b[39m ], [ \u001b[38;5;241m0.22097269\u001b[39m], [\u001b[38;5;241m-\u001b[39m\u001b[38;5;241m0.57446826\u001b[39m], [\u001b[38;5;241m-\u001b[39m\u001b[38;5;241m0.862669\u001b[39m  ], [\u001b[38;5;241m-\u001b[39m\u001b[38;5;241m0.6796471\u001b[39m ], [ \u001b[38;5;241m0.23565988\u001b[39m], [ \u001b[38;5;241m0.23698509\u001b[39m], [\u001b[38;5;241m-\u001b[39m\u001b[38;5;241m0.49622265\u001b[39m], [\u001b[38;5;241m-\u001b[39m\u001b[38;5;241m0.29971486\u001b[39m], [\u001b[38;5;241m-\u001b[39m\u001b[38;5;241m0.49622265\u001b[39m], [\u001b[38;5;241m-\u001b[39m\u001b[38;5;241m0.49622265\u001b[39m], [ \u001b[38;5;241m1.1249352\u001b[39m ], [ \u001b[38;5;241m0.76724946\u001b[39m], [ \u001b[38;5;241m0.24266881\u001b[39m], [\u001b[38;5;241m-\u001b[39m\u001b[38;5;241m1.9033227\u001b[39m ], [ \u001b[38;5;241m1.1249352\u001b[39m ], [\u001b[38;5;241m-\u001b[39m\u001b[38;5;241m0.08539084\u001b[39m], [\u001b[38;5;241m-\u001b[39m\u001b[38;5;241m0.9893254\u001b[39m ], [\u001b[38;5;241m-\u001b[39m\u001b[38;5;241m0.9405016\u001b[39m ], [ \u001b[38;5;241m0.3633032\u001b[39m ], [\u001b[38;5;241m-\u001b[39m\u001b[38;5;241m1.836024\u001b[39m  ], [\u001b[38;5;241m-\u001b[39m\u001b[38;5;241m0.6231923\u001b[39m ], [\u001b[38;5;241m-\u001b[39m\u001b[38;5;241m0.18999296\u001b[39m], [ \u001b[38;5;241m0.89069945\u001b[39m], [\u001b[38;5;241m-\u001b[39m\u001b[38;5;241m0.03760376\u001b[39m], [\u001b[38;5;241m-\u001b[39m\u001b[38;5;241m0.14066231\u001b[39m], [ \u001b[38;5;241m0.13058978\u001b[39m], [\u001b[38;5;241m-\u001b[39m\u001b[38;5;241m0.2839343\u001b[39m ], [\u001b[38;5;241m-\u001b[39m\u001b[38;5;241m0.6231923\u001b[39m ], [\u001b[38;5;241m-\u001b[39m\u001b[38;5;241m1.9114025\u001b[39m ], [ \u001b[38;5;241m0.02007889\u001b[39m], [\u001b[38;5;241m-\u001b[39m\u001b[38;5;241m0.6231923\u001b[39m ], [\u001b[38;5;241m-\u001b[39m\u001b[38;5;241m0.44188303\u001b[39m], [ \u001b[38;5;241m0.23565988\u001b[39m], [ \u001b[38;5;241m0.46744713\u001b[39m], [ \u001b[38;5;241m0.06224036\u001b[39m], [ \u001b[38;5;241m0.7398792\u001b[39m ], [\u001b[38;5;241m-\u001b[39m\u001b[38;5;241m0.3238587\u001b[39m ], [ \u001b[38;5;241m0.50761056\u001b[39m], [\u001b[38;5;241m-\u001b[39m\u001b[38;5;241m0.5885894\u001b[39m ], [ \u001b[38;5;241m0.4163871\u001b[39m ], [\u001b[38;5;241m-\u001b[39m\u001b[38;5;241m0.2839343\u001b[39m ], [\u001b[38;5;241m-\u001b[39m\u001b[38;5;241m0.6989446\u001b[39m ]])\n\u001b[1;32m      2\u001b[0m y_sp \u001b[38;5;241m=\u001b[39m np\u001b[38;5;241m.\u001b[39marray([[\u001b[38;5;241m0\u001b[39m], [\u001b[38;5;241m0\u001b[39m], [\u001b[38;5;241m0\u001b[39m], [\u001b[38;5;241m0\u001b[39m], [\u001b[38;5;241m0\u001b[39m], [\u001b[38;5;241m0\u001b[39m], [\u001b[38;5;241m0\u001b[39m], [\u001b[38;5;241m0\u001b[39m], [\u001b[38;5;241m0\u001b[39m], [\u001b[38;5;241m0\u001b[39m], [\u001b[38;5;241m1\u001b[39m], [\u001b[38;5;241m1\u001b[39m], [\u001b[38;5;241m1\u001b[39m], [\u001b[38;5;241m1\u001b[39m], [\u001b[38;5;241m1\u001b[39m], [\u001b[38;5;241m1\u001b[39m], [\u001b[38;5;241m1\u001b[39m], [\u001b[38;5;241m1\u001b[39m], [\u001b[38;5;241m1\u001b[39m], [\u001b[38;5;241m1\u001b[39m], [\u001b[38;5;241m1\u001b[39m], [\u001b[38;5;241m1\u001b[39m], [\u001b[38;5;241m1\u001b[39m], [\u001b[38;5;241m1\u001b[39m], [\u001b[38;5;241m1\u001b[39m], [\u001b[38;5;241m1\u001b[39m], [\u001b[38;5;241m1\u001b[39m], [\u001b[38;5;241m1\u001b[39m], [\u001b[38;5;241m1\u001b[39m], [\u001b[38;5;241m1\u001b[39m], [\u001b[38;5;241m1\u001b[39m], [\u001b[38;5;241m1\u001b[39m], [\u001b[38;5;241m1\u001b[39m], [\u001b[38;5;241m1\u001b[39m], [\u001b[38;5;241m1\u001b[39m], [\u001b[38;5;241m1\u001b[39m], [\u001b[38;5;241m1\u001b[39m], [\u001b[38;5;241m1\u001b[39m], [\u001b[38;5;241m1\u001b[39m], [\u001b[38;5;241m1\u001b[39m], [\u001b[38;5;241m1\u001b[39m], [\u001b[38;5;241m1\u001b[39m], [\u001b[38;5;241m1\u001b[39m], [\u001b[38;5;241m1\u001b[39m], [\u001b[38;5;241m1\u001b[39m], [\u001b[38;5;241m1\u001b[39m], [\u001b[38;5;241m1\u001b[39m], [\u001b[38;5;241m1\u001b[39m], [\u001b[38;5;241m1\u001b[39m], [\u001b[38;5;241m1\u001b[39m]])\n\u001b[1;32m      3\u001b[0m loss_2(y_sp, mgns) \u001b[38;5;241m*\u001b[39m \u001b[38;5;241m0.05\u001b[39m\n",
      "\u001b[0;31mNameError\u001b[0m: name 'np' is not defined"
     ]
    }
   ],
   "source": [
    "mgns = np.array([[ 0.08995201], [-1.1334991 ], [-0.70692503], [-0.38700718], [ 0.5677118 ], [ 0.01707119], [-0.48715714], [-0.5596267 ], [ 0.22097269], [-0.57446826], [-0.862669  ], [-0.6796471 ], [ 0.23565988], [ 0.23698509], [-0.49622265], [-0.29971486], [-0.49622265], [-0.49622265], [ 1.1249352 ], [ 0.76724946], [ 0.24266881], [-1.9033227 ], [ 1.1249352 ], [-0.08539084], [-0.9893254 ], [-0.9405016 ], [ 0.3633032 ], [-1.836024  ], [-0.6231923 ], [-0.18999296], [ 0.89069945], [-0.03760376], [-0.14066231], [ 0.13058978], [-0.2839343 ], [-0.6231923 ], [-1.9114025 ], [ 0.02007889], [-0.6231923 ], [-0.44188303], [ 0.23565988], [ 0.46744713], [ 0.06224036], [ 0.7398792 ], [-0.3238587 ], [ 0.50761056], [-0.5885894 ], [ 0.4163871 ], [-0.2839343 ], [-0.6989446 ]])\n",
    "y_sp = np.array([[0], [0], [0], [0], [0], [0], [0], [0], [0], [0], [1], [1], [1], [1], [1], [1], [1], [1], [1], [1], [1], [1], [1], [1], [1], [1], [1], [1], [1], [1], [1], [1], [1], [1], [1], [1], [1], [1], [1], [1], [1], [1], [1], [1], [1], [1], [1], [1], [1], [1]])\n",
    "loss_2(y_sp, mgns) * 0.05"
   ]
  },
  {
   "cell_type": "code",
   "execution_count": null,
   "metadata": {},
   "outputs": [],
   "source": [
    "# check agreement between vae and training samples\n",
    "from sklearn.metrics import jacard_score\n",
    "def agreement(y_pred1, y_pred2, y_true):\n",
    "    tp1 = np.float32() * \n",
    "    tp1 = np.float32() * \n",
    "    tp1 = np.float32() * \n",
    "    tp1 = np.float32() * \n",
    "\n",
    "    tp1 = np.float32() * \n",
    "    tp1 = np.float32() * \n",
    "    tp1 = np.float32() * \n",
    "    tp1 = np.float32() * \n",
    "\n",
    "    "
   ]
  },
  {
   "cell_type": "code",
   "execution_count": 68,
   "metadata": {
    "id": "Uyl_Vz7yFRxU"
   },
   "outputs": [],
   "source": [
    "# Dont really think this works, since the latent space should be conditioned on the direction\n",
    "# Just to try something\n",
    "# Likely better to just have VAE solely on betas w/o directions\n",
    "# def generate_new_betas(model, num_samples=1):\n",
    "#   random_dirs = np.random.randn(num_samples, d)\n",
    "#   random_dirs = random_dirs / np.linalg.norm(random_dirs, axis=1, keepdims=True)\n",
    "#   random_dirs = tf.constant(random_dirs)\n",
    "#   latent_samples = tf.random.normal(shape=(num_samples, latent_dim))\n",
    "#   return model.decoder([latent_samples, random_dirs])\n",
    "\n",
    "# def generate_new_betas(model, num_samples=1):\n",
    "#   random_dirs1 = np.random.randn(num_samples, d)\n",
    "#   random_dirs2 = np.random.randn(num_samples, d)\n",
    "#   random_dirs1 = random_dirs1 / np.linalg.norm(random_dirs1, axis=1, keepdims=True)\n",
    "#   random_dirs1 = tf.constant(random_dirs1)\n",
    "#   random_dirs2 = random_dirs2 / np.linalg.norm(random_dirs2, axis=1, keepdims=True)\n",
    "#   random_dirs2 = tf.constant(random_dirs2)\n",
    "#   latent_samples1 = tf.random.normal(shape=(num_samples, latent_dim))    \n",
    "#   latent_samples2 = tf.random.normal(shape=(num_samples, latent_dim))\n",
    "#   return model.decoder([latent_samples1, random_dirs1]), random_dirs1, model.decoder([latent_samples2, random_dirs1])\n",
    "\n",
    "\n",
    "def generate_new_samples(model, num_samples=1):\n",
    "  random_dirs = np.random.randn(num_samples, d)\n",
    "  random_dirs = random_dirs / np.linalg.norm(random_dirs, axis=1, keepdims=True)\n",
    "  random_dirs = tf.constant(random_dirs)\n",
    "  z = model.encoder([random_dirs])\n",
    "  outputs = model.decoder([z])\n",
    "  return outputs, random_dirs"
   ]
  },
  {
   "cell_type": "code",
   "execution_count": 69,
   "metadata": {
    "id": "S0XvcHOvKGNd"
   },
   "outputs": [],
   "source": [
    "drawn_betas, drawn_random_dirs = generate_new_samples(vae, 50_000)\n",
    "# drawn_betas = generate_new_betas(vae, 50_000)"
   ]
  },
  {
   "cell_type": "code",
   "execution_count": 56,
   "metadata": {},
   "outputs": [],
   "source": [
    "z = vae.encoder([random_dirs])\n",
    "outputs = vae.decoder([z])"
   ]
  },
  {
   "cell_type": "code",
   "execution_count": 58,
   "metadata": {},
   "outputs": [
    {
     "data": {
      "text/plain": [
       "(<tf.Tensor: shape=(121,), dtype=float32, numpy=\n",
       " array([ 4.07103157e+00, -1.41095608e-01,  6.02660850e-02,  6.62039816e-02,\n",
       "         2.26435468e-01, -8.58713329e-01,  6.29742071e-02,  1.49188071e-01,\n",
       "         1.91211700e-03, -2.78855920e-01,  4.67080176e-02,  7.48675168e-02,\n",
       "        -2.82673258e-02, -7.02979416e-02,  1.03429794e-01, -4.20703620e-01,\n",
       "         8.26313421e-02,  4.55030948e-02, -2.50118017e-01, -1.41364485e-01,\n",
       "         6.33052766e-01, -1.39805451e-02,  1.85988843e-03,  1.34131283e-01,\n",
       "         2.02353045e-01, -3.94500136e+00, -7.76350498e-05, -3.47380131e-01,\n",
       "        -5.60829118e-02, -7.60536969e-01,  4.38720047e-01, -1.25993714e-01,\n",
       "         1.80026829e-01,  3.07321459e-01,  8.81597400e-01,  1.35589087e+00,\n",
       "         2.98498571e-02, -3.95937920e-01,  1.23262204e-01,  9.04652596e-01,\n",
       "        -1.42948478e-01,  4.69540000e-01, -2.15738744e-01,  1.68370381e-01,\n",
       "         4.18798089e-01, -1.10677338e+00,  1.98297333e-02, -1.12583354e-01,\n",
       "        -1.90740138e-01, -7.50176683e-02,  1.99688089e+00, -1.63545385e-02,\n",
       "        -1.07356906e-01, -1.23816222e-01,  2.41608262e-01, -7.04689622e-01,\n",
       "         2.00137332e-01, -2.28844061e-01,  3.29211146e-01, -1.76241457e+00,\n",
       "         5.68211138e-01, -7.71379247e-02, -1.54379606e-01,  1.18032709e-01,\n",
       "         3.55009437e-01, -4.62879229e+00,  1.95687413e-02,  7.28546083e-02,\n",
       "        -2.13935181e-01,  3.65902334e-02, -4.91761714e-02, -7.59943128e-02,\n",
       "         1.19898148e-01,  1.48365304e-01,  2.27504760e-01, -6.85922742e-01,\n",
       "        -2.38168448e-01, -3.13093811e-02, -3.03095113e-02,  1.27151799e+00,\n",
       "         5.13601363e-01,  6.14565983e-02, -2.69301385e-02, -8.44039768e-03,\n",
       "         5.34481049e-01, -3.70835280e+00, -1.05307400e-01,  3.86883467e-02,\n",
       "        -3.58765535e-02,  1.34978652e-01, -1.07019126e+00, -5.26040420e-03,\n",
       "         1.22811660e-01,  7.50766844e-02,  1.05727613e+00,  1.01424694e+00,\n",
       "        -1.38354406e-01,  1.41947836e-01,  1.57399908e-01, -8.86633098e-02,\n",
       "         2.61187220e+00, -5.01482002e-02,  2.58455835e-02,  1.48926109e-01,\n",
       "        -4.04880702e-01, -3.77354121e+00, -1.04166359e-01, -2.98641250e-02,\n",
       "         8.92907754e-02,  1.99141234e-01, -1.07355165e+00,  4.27288488e-02,\n",
       "        -8.47470537e-02,  3.68605368e-02, -2.31627345e-01,  3.24104333e+00,\n",
       "        -2.80506536e-03,  5.59446961e-03, -1.30826497e+00, -8.23810697e-03,\n",
       "        -2.44965291e+00], dtype=float32)>,\n",
       " <tf.Tensor: shape=(121,), dtype=float64, numpy=\n",
       " array([ 2.65664831e+00, -6.24835813e-02,  7.39900802e-02,  7.22905969e-02,\n",
       "         2.00372608e-01, -6.28475917e-01,  3.27184751e-02,  5.83015082e-02,\n",
       "        -4.00831510e-02, -1.59619634e-01,  1.92125751e-02,  4.94960029e-02,\n",
       "         1.61888493e-02, -2.07197083e-02,  7.88752967e-02, -2.88649662e-01,\n",
       "         4.07564951e-02,  1.35612943e-02, -1.82203853e-01, -5.64546486e-02,\n",
       "         4.83558881e-01,  1.17586009e-03, -6.86471839e-03,  6.49225626e-02,\n",
       "         1.98569827e-01, -2.64360988e+00,  5.44363919e-03, -2.02531802e-01,\n",
       "        -3.83722950e-02, -4.36958271e-01,  3.16328708e-01, -7.80662158e-02,\n",
       "         1.28722755e-01,  2.10051538e-01,  5.91946918e-01,  7.68019190e-01,\n",
       "         1.53585642e-03, -2.82793587e-01,  8.04116807e-02,  5.66889144e-01,\n",
       "        -1.20328991e-02,  3.26501042e-01, -1.69029628e-01,  1.04999172e-01,\n",
       "         2.50742260e-01, -6.49750878e-01, -2.75618305e-04, -2.20037773e-02,\n",
       "        -7.82358803e-02, -5.80638972e-02,  1.31374905e+00, -3.13588797e-02,\n",
       "        -7.79628733e-02, -1.17876418e-01,  1.91549425e-01, -4.65179634e-01,\n",
       "         1.12365765e-01, -1.48604589e-01,  1.04314787e-01, -1.21825780e+00,\n",
       "         2.48244561e-01, -6.70358670e-04, -7.41436792e-02,  1.16124258e-01,\n",
       "         2.22476406e-01, -2.92348633e+00,  1.73485878e-02,  4.25625702e-02,\n",
       "        -1.55073090e-01,  7.73818578e-02, -2.19153803e-02, -6.32008376e-02,\n",
       "         6.53632604e-02,  9.70805212e-02,  1.74444000e-01, -4.12410507e-01,\n",
       "        -1.64309911e-01, -2.65586581e-02,  1.15475536e-02,  8.18306663e-01,\n",
       "         2.57350576e-01,  8.11996598e-02, -3.26295900e-03,  1.55570483e-02,\n",
       "         2.80297867e-01, -2.44663171e+00, -6.41992193e-02,  2.69140419e-02,\n",
       "        -2.30043277e-02,  1.86373625e-01, -7.27080346e-01, -2.12866483e-02,\n",
       "         9.90149349e-02,  3.33006043e-02,  7.18931177e-01,  5.45970231e-01,\n",
       "        -7.14421469e-02,  1.05613365e-01,  1.26396344e-01, -1.08969188e-01,\n",
       "         1.72076741e+00, -9.66675489e-02,  5.34970161e-02,  6.55349074e-02,\n",
       "        -3.35543714e-01, -2.42310999e+00, -1.32540915e-01, -2.12132861e-02,\n",
       "         8.06053134e-03,  2.10026306e-01, -5.64163667e-01,  5.17228874e-02,\n",
       "        -7.30477876e-02,  4.07125823e-02, -1.72215581e-01,  2.06723798e+00,\n",
       "        -4.99005695e-02, -5.57724990e-03, -8.40587428e-01,  1.63069641e-01,\n",
       "        -1.59498491e+00])>)"
      ]
     },
     "execution_count": 58,
     "metadata": {},
     "output_type": "execute_result"
    }
   ],
   "source": [
    "outputs[0], betas[0]"
   ]
  },
  {
   "cell_type": "code",
   "execution_count": 66,
   "metadata": {},
   "outputs": [
    {
     "data": {
      "text/plain": [
       "<tf.Tensor: shape=(), dtype=float32, numpy=-0.99904144>"
      ]
     },
     "execution_count": 66,
     "metadata": {},
     "output_type": "execute_result"
    }
   ],
   "source": [
    "tf.losses.CosineSimilarity()(outputs[100], tf.cast(betas[100], dtype=tf.float32))"
   ]
  },
  {
   "cell_type": "code",
   "execution_count": 134,
   "metadata": {},
   "outputs": [
    {
     "ename": "NameError",
     "evalue": "name 'generate_new_betas' is not defined",
     "output_type": "error",
     "traceback": [
      "\u001b[0;31m---------------------------------------------------------------------------\u001b[0m",
      "\u001b[0;31mNameError\u001b[0m                                 Traceback (most recent call last)",
      "Cell \u001b[0;32mIn[134], line 1\u001b[0m\n\u001b[0;32m----> 1\u001b[0m drawn_betas \u001b[38;5;241m=\u001b[39m \u001b[43mgenerate_new_betas\u001b[49m(vae, \u001b[38;5;241m50_000\u001b[39m)\n",
      "\u001b[0;31mNameError\u001b[0m: name 'generate_new_betas' is not defined"
     ]
    }
   ],
   "source": [
    "drawn_betas = generate_new_betas(vae, 50_000)"
   ]
  },
  {
   "cell_type": "code",
   "execution_count": 71,
   "metadata": {
    "id": "pXq63wNe2ws6"
   },
   "outputs": [],
   "source": [
    "external_X = tf.cast(test_X, tf.float32)\n",
    "external_Y = test_Y\n",
    "external_X = (external_X-mu_x)/sigma_x"
   ]
  },
  {
   "cell_type": "code",
   "execution_count": 72,
   "metadata": {
    "id": "L6UwhrytprJ7"
   },
   "outputs": [],
   "source": [
    "pperm = np.random.permutation(len(external_X))\n",
    "\n",
    "external_X = tf.constant(np.array(external_X)[pperm])\n",
    "external_Y = external_Y[pperm]"
   ]
  },
  {
   "cell_type": "code",
   "execution_count": 73,
   "metadata": {},
   "outputs": [],
   "source": [
    "external_randfeats_X = get_rand_feats(external_X, model)"
   ]
  },
  {
   "cell_type": "code",
   "execution_count": 75,
   "metadata": {
    "colab": {
     "base_uri": "https://localhost:8080/"
    },
    "id": "2uoIqkjR7G_K",
    "outputId": "0bf991ee-3291-4511-829c-846c40205d99"
   },
   "outputs": [
    {
     "name": "stdout",
     "output_type": "stream",
     "text": [
      "tf.Tensor([-69.249535 -62.7964  ], shape=(2,), dtype=float32)\n",
      "tf.Tensor(\n",
      "[-0.53246677 -0.6224173  -0.7500553  -0.96449435  0.494363   -0.22940174\n",
      "  0.98979336 -0.76833683  0.28031394  0.996387  ], shape=(10,), dtype=float32)\n",
      "1\n"
     ]
    }
   ],
   "source": [
    "print(external_X[0])\n",
    "print(external_randfeats_X[0][:10])\n",
    "print(external_Y[0])"
   ]
  },
  {
   "cell_type": "code",
   "execution_count": null,
   "metadata": {
    "colab": {
     "background_save": true
    },
    "id": "ZF8wAtKb14p_",
    "outputId": "bfcd92a0-6374-45ae-8850-46540e1e8f3c"
   },
   "outputs": [
    {
     "name": "stdout",
     "output_type": "stream",
     "text": [
      "(24599, 2048)\n",
      "(24599, 1000)\n",
      "(24599,)\n"
     ]
    }
   ],
   "source": [
    "print(external_X.shape)\n",
    "print(external_randfeats_X.shape)\n",
    "print(external_Y.shape)"
   ]
  },
  {
   "cell_type": "code",
   "execution_count": null,
   "metadata": {
    "colab": {
     "base_uri": "https://localhost:8080/"
    },
    "id": "35zXouXU2X2f",
    "outputId": "0a3ffc4e-705f-447c-f5fc-3185929e811e"
   },
   "outputs": [
    {
     "name": "stdout",
     "output_type": "stream",
     "text": [
      "tf.Tensor(\n",
      "[[0. 0. 0. ... 0. 0. 0.]\n",
      " [0. 0. 0. ... 0. 0. 0.]\n",
      " [0. 0. 0. ... 0. 0. 0.]\n",
      " ...\n",
      " [0. 0. 0. ... 0. 0. 0.]\n",
      " [0. 1. 0. ... 0. 0. 0.]\n",
      " [0. 0. 0. ... 0. 0. 0.]], shape=(10, 2048), dtype=float32)\n",
      "tf.Tensor([1 1 1 1 1 1 1 1 1 1], shape=(10,), dtype=int64)\n"
     ]
    }
   ],
   "source": [
    "print(external_X[:10])\n",
    "print(external_Y[:10])"
   ]
  },
  {
   "cell_type": "code",
   "execution_count": 80,
   "metadata": {
    "id": "W32O3S_gKnEp"
   },
   "outputs": [
    {
     "name": "stdout",
     "output_type": "stream",
     "text": [
      "(4600, 50000) (4600, 50000)\n"
     ]
    }
   ],
   "source": [
    "def get_preds(randfeats, betas):\n",
    "  \"\"\"\n",
    "  Args:\n",
    "    randfeats: N x d\n",
    "    betas: M x d\n",
    "  Return:\n",
    "    preds: N x M - each beta predicts on each instance\n",
    "  \"\"\"\n",
    "  #preds = []\n",
    "  #for i in range(len(betas)):\n",
    "  #  if i % 25_000 == 0: print(f\"{i} Predictions Made\")\n",
    "  #  preds.append(np.matmul(randfeats, betas[i]))\n",
    "  #return np.array(preds)\n",
    "  sd = (1 / (1 + np.exp(-np.concatenate([np.ones((randfeats.shape[0], 1)), randfeats], axis=-1) @ betas.numpy().T)))\n",
    "  return sd[:]\n",
    "\n",
    "  # betaT = np.transpose(betas) # d x M\n",
    "  # preds = np.matmul(randfeats, betaT) # N x M\n",
    "  # return preds\n",
    "\n",
    "def aggregate_preds(preds):\n",
    "  # mean_pred = np.mean(preds, axis=-1, keepdims=False)\n",
    "  mean_pred = np.sum(preds, axis=-1, keepdims=False)\n",
    "  std_pred = np.std(preds, axis=-1, keepdims=False)\n",
    "  # Typically 0.5 threshold, just was all 0s\n",
    "  return np.float32(mean_pred > 0.5), np.float32(mean_pred), np.float32(std_pred)\n",
    "\n",
    "def get_preds_and_aggregate_sorted(randfeats, eX, dirs, betas):\n",
    "  preds = get_preds(randfeats, betas)\n",
    "  projs = np.dot(tf.linalg.normalize(eX, axis=-1)[0], tf.transpose(tf.linalg.normalize(dirs, axis=-1)[0]))\n",
    "  print(projs.shape, preds.shape)\n",
    "  thresh = np.percentile(projs, 100 - 90, axis=-1)\n",
    "  # wghts = (projs > thresh[:, None]) * projs\n",
    "  # wghts = np.ones_like(projs > thresh[:, None])\n",
    "  wghts = (projs > thresh[:, None]).astype(np.float64)\n",
    "  wghts /= np.sum(wghts, axis=-1, keepdims=True)\n",
    "  return aggregate_preds(preds * wghts)\n",
    "\n",
    "def get_preds_and_aggregate(randfeats, betas):\n",
    "  preds = get_preds(randfeats, betas)\n",
    "  return *aggregate_preds(preds), preds\n",
    "\n",
    "# ext_preds, mp_rand, sp_rand = get_preds_and_aggregate_sorted(external_randfeats_X, external_X, dir1, drawn_betas) # 0.622\n",
    "\n",
    "# ext_probs, mp_rand, sp_rand, pred = get_preds_and_aggregate_sorted(external_randfeats_X, external_X, random_dirs, betas) # 0.622\n",
    "\n",
    "# ext_probs, mp_rand, sp_rand, pred = get_preds_and_aggregate(external_randfeats_X, betas)\n",
    "# ext_probs, mp_rand, sp_rand, pred = get_preds_and_aggregate(external_randfeats_X, drawn_betas)\n",
    "# ext_preds, mp_rand, sp_rand, preds = get_preds_and_aggregate(external_randfeats_X, betas)\n",
    "ext_preds, mp_rand, sp_rand = get_preds_and_aggregate_sorted(external_randfeats_X, external_X, drawn_random_dirs, drawn_betas)\n",
    "# ext_preds, mp_rand, sp_rand = get_preds_and_aggregate_sorted(external_randfeats_X, external_X, random_dirs, betas)\n",
    "# ext_preds, mp_rand, sp_rand = get_preds_and_aggregate_sorted(external_randfeats_X, external_X, random_dirs, betas)"
   ]
  },
  {
   "cell_type": "code",
   "execution_count": 57,
   "metadata": {},
   "outputs": [
    {
     "ename": "ImportError",
     "evalue": "cannot import name 'jacard_score' from 'sklearn.metrics' (/playpen/debman/ood/lib/python3.8/site-packages/sklearn/metrics/__init__.py)",
     "output_type": "error",
     "traceback": [
      "\u001b[0;31m---------------------------------------------------------------------------\u001b[0m",
      "\u001b[0;31mImportError\u001b[0m                               Traceback (most recent call last)",
      "Cell \u001b[0;32mIn[57], line 2\u001b[0m\n\u001b[1;32m      1\u001b[0m \u001b[38;5;66;03m# check agreement between vae and training samples\u001b[39;00m\n\u001b[0;32m----> 2\u001b[0m \u001b[38;5;28;01mfrom\u001b[39;00m \u001b[38;5;21;01msklearn\u001b[39;00m\u001b[38;5;21;01m.\u001b[39;00m\u001b[38;5;21;01mmetrics\u001b[39;00m \u001b[38;5;28;01mimport\u001b[39;00m jacard_score\n\u001b[1;32m      3\u001b[0m \u001b[38;5;28;01mdef\u001b[39;00m \u001b[38;5;21magreement\u001b[39m(y_pred1, y_pred2, y_true):\n\u001b[1;32m      4\u001b[0m     tp1 \u001b[38;5;241m=\u001b[39m np\u001b[38;5;241m.\u001b[39mfloat32(y_pred1\u001b[38;5;241m==\u001b[39m\u001b[38;5;241m1\u001b[39m) \u001b[38;5;241m*\u001b[39m np\u001b[38;5;241m.\u001b[39mfloat32(y_true\u001b[38;5;241m==\u001b[39m\u001b[38;5;241m1\u001b[39m)\n",
      "\u001b[0;31mImportError\u001b[0m: cannot import name 'jacard_score' from 'sklearn.metrics' (/playpen/debman/ood/lib/python3.8/site-packages/sklearn/metrics/__init__.py)"
     ]
    }
   ],
   "source": [
    "# check agreement between vae and training samples\n",
    "from sklearn.metrics import jacard_score\n",
    "def agreement(y_pred1, y_pred2, y_true):\n",
    "    tp1 = np.float32(y_pred1==1) * np.float32(y_true==1)\n",
    "    fp1 = np.float32(y_pred1==1) * np.float32(y_true==0)\n",
    "    tn1 = np.float32(y_pred1==0) * np.float32(y_true==0)\n",
    "    fn1 = np.float32(y_pred1==0) * np.float32(y_true==1)\n",
    "\n",
    "    tp2 = np.float32(y_pred2==1) * np.float32(y_true==1)\n",
    "    fp2 = np.float32(y_pred2==1) * np.float32(y_true==0)\n",
    "    tn2 = np.float32(y_pred2==0) * np.float32(y_true==0)\n",
    "    fn2 = np.float32(y_pred2==0) * np.float32(y_true==1)\n",
    "\n",
    "    return jacard_score(tp1, tp2), jacard_score(fp1, fp2), jacard_score(tn1, tn2), jacard_score(fn1, fn2)"
   ]
  },
  {
   "cell_type": "code",
   "execution_count": null,
   "metadata": {
    "colab": {
     "base_uri": "https://localhost:8080/"
    },
    "id": "U8k8Ut4rSzEG",
    "outputId": "75af6e72-a5c8-4403-b942-f9e26641d569"
   },
   "outputs": [],
   "source": [
    "drawn_betas[0].numpy(), betas[0].numpy()"
   ]
  },
  {
   "cell_type": "code",
   "execution_count": null,
   "metadata": {
    "colab": {
     "base_uri": "https://localhost:8080/"
    },
    "id": "Kcwk5JuaL9hK",
    "outputId": "c7853e3c-5de9-41b4-ee14-db7cb19048bd"
   },
   "outputs": [
    {
     "name": "stdout",
     "output_type": "stream",
     "text": [
      "(937,)\n"
     ]
    }
   ],
   "source": [
    "print(ext_preds.shape)"
   ]
  },
  {
   "cell_type": "code",
   "execution_count": 134,
   "metadata": {
    "colab": {
     "base_uri": "https://localhost:8080/"
    },
    "id": "gyB9pfuaU0dn",
    "outputId": "6cb5d323-4178-435a-fd68-0c0159e117bf"
   },
   "outputs": [
    {
     "name": "stdout",
     "output_type": "stream",
     "text": [
      "[0. 0. 0. ... 0. 0. 0.]\n"
     ]
    }
   ],
   "source": [
    "print(ext_preds)"
   ]
  },
  {
   "cell_type": "code",
   "execution_count": 138,
   "metadata": {
    "colab": {
     "base_uri": "https://localhost:8080/"
    },
    "id": "F4_1vfSbDPoM",
    "outputId": "d1dfefa7-7f6c-478b-870b-9a01469c8cd3"
   },
   "outputs": [
    {
     "data": {
      "text/plain": [
       "(4600, TensorShape([4600, 2]))"
      ]
     },
     "execution_count": 138,
     "metadata": {},
     "output_type": "execute_result"
    }
   ],
   "source": [
    "len(ext_preds), external_X.shape"
   ]
  },
  {
   "cell_type": "code",
   "execution_count": 150,
   "metadata": {
    "colab": {
     "base_uri": "https://localhost:8080/",
     "height": 448
    },
    "id": "V8jQ1TPkDc8C",
    "outputId": "320f2619-af12-49ce-9a3e-33778b6431bc"
   },
   "outputs": [
    {
     "ename": "NameError",
     "evalue": "name 'ext_probs' is not defined",
     "output_type": "error",
     "traceback": [
      "\u001b[0;31m---------------------------------------------------------------------------\u001b[0m",
      "\u001b[0;31mNameError\u001b[0m                                 Traceback (most recent call last)",
      "Cell \u001b[0;32mIn[150], line 3\u001b[0m\n\u001b[1;32m      1\u001b[0m \u001b[38;5;28;01mimport\u001b[39;00m \u001b[38;5;21;01mmatplotlib\u001b[39;00m\u001b[38;5;21;01m.\u001b[39;00m\u001b[38;5;21;01mpyplot\u001b[39;00m \u001b[38;5;28;01mas\u001b[39;00m \u001b[38;5;21;01mplt\u001b[39;00m\n\u001b[1;32m      2\u001b[0m clr \u001b[38;5;241m=\u001b[39m [[\u001b[38;5;124m'\u001b[39m\u001b[38;5;124mred\u001b[39m\u001b[38;5;124m'\u001b[39m, \u001b[38;5;124m'\u001b[39m\u001b[38;5;124mpink\u001b[39m\u001b[38;5;124m'\u001b[39m], [\u001b[38;5;124m'\u001b[39m\u001b[38;5;124mpink\u001b[39m\u001b[38;5;124m'\u001b[39m, \u001b[38;5;124m'\u001b[39m\u001b[38;5;124mgreen\u001b[39m\u001b[38;5;124m'\u001b[39m]]\n\u001b[0;32m----> 3\u001b[0m plt\u001b[38;5;241m.\u001b[39mscatter(external_X[:, \u001b[38;5;241m0\u001b[39m], external_X[:, \u001b[38;5;241m1\u001b[39m], c\u001b[38;5;241m=\u001b[39m[clr[\u001b[38;5;28mint\u001b[39m(tru)][\u001b[38;5;28mint\u001b[39m(prd)] \u001b[38;5;28;01mfor\u001b[39;00m tru, prd \u001b[38;5;129;01min\u001b[39;00m \u001b[38;5;28mzip\u001b[39m(external_Y, np\u001b[38;5;241m.\u001b[39mfloat32(\u001b[43mext_probs\u001b[49m \u001b[38;5;241m>\u001b[39m \u001b[38;5;241m0.5\u001b[39m))], s\u001b[38;5;241m=\u001b[39m\u001b[38;5;241m1\u001b[39m)\n\u001b[1;32m      4\u001b[0m plt\u001b[38;5;241m.\u001b[39mtitle(\u001b[38;5;124m'\u001b[39m\u001b[38;5;124mEnsemble\u001b[39m\u001b[38;5;124m'\u001b[39m)\n\u001b[1;32m      5\u001b[0m plt\u001b[38;5;241m.\u001b[39msavefig(\u001b[38;5;124m'\u001b[39m\u001b[38;5;124mensemble.png\u001b[39m\u001b[38;5;124m'\u001b[39m)\n",
      "\u001b[0;31mNameError\u001b[0m: name 'ext_probs' is not defined"
     ]
    }
   ],
   "source": [
    "import matplotlib.pyplot as plt\n",
    "clr = [['red', 'pink'], ['pink', 'green']]\n",
    "plt.scatter(external_X[:, 0], external_X[:, 1], c=[clr[int(tru)][int(prd)] for tru, prd in zip(external_Y, np.float32(ext_probs > 0.5))], s=1)\n",
    "plt.title('Ensemble')\n",
    "plt.savefig('ensemble.png')\n",
    "# plt.scatter(external_X[:, 0], external_X[:, 1], c=[clr[int(tru)][int(prd)] for tru, prd in zip(external_Y, pred[:, 800])], s=1)\n",
    "# plt.scatter(external_X[:, 0], external_X[:, 1], c=[clr[int(tru)][int(prd)] for tru, prd in zip(external_Y, np.mean(pred, axis=-1)>0.5)], s=1)"
   ]
  },
  {
   "cell_type": "code",
   "execution_count": null,
   "metadata": {},
   "outputs": [],
   "source": []
  },
  {
   "cell_type": "code",
   "execution_count": 136,
   "metadata": {},
   "outputs": [
    {
     "data": {
      "text/plain": [
       "(array([0., 0., 0., ..., 0., 0., 0.]),\n",
       " array([0.00187107, 0.00096595, 0.16303205, ..., 0.00499356, 0.01134013,\n",
       "        0.00106441], dtype=float32))"
      ]
     },
     "execution_count": 136,
     "metadata": {},
     "output_type": "execute_result"
    }
   ],
   "source": [
    "np.mean(pred, axis=-1), ext_probs"
   ]
  },
  {
   "cell_type": "code",
   "execution_count": 81,
   "metadata": {
    "colab": {
     "base_uri": "https://localhost:8080/"
    },
    "id": "Swp-RSU52GmJ",
    "outputId": "eaac9473-f2dc-46b1-e7ee-9640364a1208"
   },
   "outputs": [
    {
     "name": "stdout",
     "output_type": "stream",
     "text": [
      "First 10 Predictions:  [1. 1. 0. 0. 1. 1. 1. 0. 0. 0.]\n",
      "Total Positive Preds:  3284.0\n",
      "Total Preds:  4600\n",
      "% Positive Preds:  0.7139130434782609\n",
      "\n",
      "First 10 Ground Truth:  [1 1 0 0 0 1 1 1 0 1]\n",
      "Total Positive Ground Truth:  3000\n",
      "Total Ground Truth:  4600\n",
      "% Positive Ground Truth:  0.6521739130434783\n",
      "\n",
      "Accuracy:  0.7713043478260869\n"
     ]
    }
   ],
   "source": [
    "# ext_preds = np.float32(ext_probs > 0.1)\n",
    "print(\"First 10 Predictions: \", ext_preds[:10])\n",
    "print(\"Total Positive Preds: \", sum(ext_preds))\n",
    "print(\"Total Preds: \", len(ext_preds))\n",
    "print(\"% Positive Preds: \", sum(ext_preds) / len(ext_preds))\n",
    "print()\n",
    "print(\"First 10 Ground Truth: \", external_Y[:10])\n",
    "print(\"Total Positive Ground Truth: \", sum(external_Y))\n",
    "print(\"Total Ground Truth: \", len(external_Y))\n",
    "print(\"% Positive Ground Truth: \", sum(external_Y) / len(external_Y))\n",
    "print()\n",
    "print(\"Accuracy: \", sum(ext_preds == external_Y) / len(ext_preds))"
   ]
  },
  {
   "cell_type": "code",
   "execution_count": 152,
   "metadata": {
    "colab": {
     "base_uri": "https://localhost:8080/",
     "height": 490
    },
    "id": "L7kl6J3wLped",
    "outputId": "126d1280-9f63-491d-fc0d-64405fa4b079",
    "scrolled": true
   },
   "outputs": [
    {
     "name": "stderr",
     "output_type": "stream",
     "text": [
      "/tmp/ipykernel_2585826/2574676416.py:9: RuntimeWarning: invalid value encountered in true_divide\n",
      "  precision = [tp/(tp+fp) for tp, fp in zip(tps, fps)]\n"
     ]
    },
    {
     "data": {
      "text/plain": [
       "<matplotlib.legend.Legend at 0x7fa48c624f10>"
      ]
     },
     "execution_count": 152,
     "metadata": {},
     "output_type": "execute_result"
    },
    {
     "data": {
      "image/png": "[encoded data removed]",
      "text/plain": [
       "<Figure size 640x480 with 1 Axes>"
      ]
     },
     "metadata": {},
     "output_type": "display_data"
    }
   ],
   "source": [
    "threshs = sp_rand\n",
    "std_threshs = np.linspace(np.min(threshs), np.max(threshs), 20) # Diff std. dev. thresholds (20 of them in this case)\n",
    "reject_rate = [1 - np.mean((threshs<=s)) for s in std_threshs] # Portion of instances rejected @ each std threshold\n",
    "accus = [np.mean((ext_preds==external_Y)[(threshs<=s)]) for s in std_threshs] # Acc @ each std thresh.\n",
    "tps = [np.sum(((external_Y)*(ext_preds==external_Y))[(threshs<=s)]) for s in std_threshs]  # correct and positive\n",
    "fps = [np.sum(((ext_preds)*(ext_preds!=external_Y))[(threshs<=s)]) for s in std_threshs]  # incorrect and predicted positive\n",
    "pos = np.sum(external_Y)\n",
    "recall = [tp/pos for tp in tps]\n",
    "precision = [tp/(tp+fp) for tp, fp in zip(tps, fps)]\n",
    "plt.plot(recall, precision, marker='+', c='orange')\n",
    "\n",
    "plt.plot(recall, precision, marker='+', c='orange')\n",
    "plt.xticks(np.arange(0, 1.01, step=0.1))\n",
    "plt.xticks(np.arange(0, 1.01, step=0.05), minor=True)\n",
    "plt.yticks(np.arange(.6, 1.01, step=0.05))\n",
    "plt.grid(True, which='both')\n",
    "plt.xlabel('Recall ({} Positive)'.format(int(pos)))\n",
    "plt.ylabel('Precision')\n",
    "plt.title('Precision vs Recall by Thresholding Ensemble Std')\n",
    "plt.legend(['Autoencoder Method'])"
   ]
  },
  {
   "cell_type": "code",
   "execution_count": 153,
   "metadata": {
    "id": "x1rJWxJ3KUAa"
   },
   "outputs": [
    {
     "ename": "NameError",
     "evalue": "name 'ext_probs' is not defined",
     "output_type": "error",
     "traceback": [
      "\u001b[0;31m---------------------------------------------------------------------------\u001b[0m",
      "\u001b[0;31mNameError\u001b[0m                                 Traceback (most recent call last)",
      "Cell \u001b[0;32mIn[153], line 2\u001b[0m\n\u001b[1;32m      1\u001b[0m \u001b[38;5;28;01mfrom\u001b[39;00m \u001b[38;5;21;01msklearn\u001b[39;00m\u001b[38;5;21;01m.\u001b[39;00m\u001b[38;5;21;01mmetrics\u001b[39;00m \u001b[38;5;28;01mimport\u001b[39;00m precision_recall_curve\n\u001b[0;32m----> 2\u001b[0m p, r, thres \u001b[38;5;241m=\u001b[39m precision_recall_curve(external_Y, \u001b[43mext_probs\u001b[49m)\n\u001b[1;32m      4\u001b[0m plt\u001b[38;5;241m.\u001b[39mplot(r, p)\n",
      "\u001b[0;31mNameError\u001b[0m: name 'ext_probs' is not defined"
     ]
    }
   ],
   "source": [
    "from sklearn.metrics import precision_recall_curve\n",
    "p, r, thres = precision_recall_curve(external_Y, ext_probs)\n",
    "\n",
    "plt.plot(r, p)"
   ]
  },
  {
   "cell_type": "code",
   "execution_count": null,
   "metadata": {
    "colab": {
     "background_save": true
    },
    "id": "5eUQIi5uCvqd",
    "outputId": "ac851900-90b2-49e3-ef1b-55b7c3569f4b"
   },
   "outputs": [
    {
     "name": "stdout",
     "output_type": "stream",
     "text": [
      "[0.0, 0.5, 0.4738372093023256, 0.4956921309592188, 0.49409681227863045, 0.49305069493050696, 0.4944530357022793, 0.49494787489975944, 0.49523989958793163, 0.49640065362363645, 0.4956647398843931, 0.4954388303411505, 0.4954494914137462, 0.49574293900941463, 0.4954910841800302, 0.4957665065537735, 0.49576926206167116, 0.49581164606376055, 0.4957713263397577, 0.49579251189072726]\n"
     ]
    }
   ],
   "source": [
    "print(accus)"
   ]
  }
 ],
 "metadata": {
  "colab": {
   "machine_shape": "hm",
   "provenance": []
  },
  "kernelspec": {
   "display_name": "Python 3 (ipykernel)",
   "language": "python",
   "name": "python3"
  },
  "language_info": {
   "codemirror_mode": {
    "name": "ipython",
    "version": 3
   },
   "file_extension": ".py",
   "mimetype": "text/x-python",
   "name": "python",
   "nbconvert_exporter": "python",
   "pygments_lexer": "ipython3",
   "version": "3.8.10"
  }
 },
 "nbformat": 4,
 "nbformat_minor": 4
}
