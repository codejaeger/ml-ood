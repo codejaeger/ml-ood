{
 "cells": [
  {
   "cell_type": "code",
   "execution_count": 27,
   "metadata": {
    "id": "EXxipvmSWDIi"
   },
   "outputs": [],
   "source": [
    "import numpy as np\n",
    "import matplotlib.pyplot as plt\n",
    "import scipy.stats\n",
    "import pandas as pd\n",
    "import os\n",
    "os.environ[\"CUDA_DEVICE_ORDER\"]=\"PCI_BUS_ID\"   # see issue #152\n",
    "os.environ[\"CUDA_VISIBLE_DEVICES\"]=\"3\""
   ]
  },
  {
   "cell_type": "code",
   "execution_count": 2,
   "metadata": {
    "id": "FDwgr2mvrr43"
   },
   "outputs": [
    {
     "name": "stderr",
     "output_type": "stream",
     "text": [
      "2024-06-21 15:56:29.948937: I tensorflow/core/platform/cpu_feature_guard.cc:193] This TensorFlow binary is optimized with oneAPI Deep Neural Network Library (oneDNN) to use the following CPU instructions in performance-critical operations:  AVX2 FMA\n",
      "To enable them in other operations, rebuild TensorFlow with the appropriate compiler flags.\n",
      "2024-06-21 15:56:31.277198: W tensorflow/compiler/xla/stream_executor/platform/default/dso_loader.cc:64] Could not load dynamic library 'libnvinfer.so.7'; dlerror: libnvinfer.so.7: cannot open shared object file: No such file or directory\n",
      "2024-06-21 15:56:31.277347: W tensorflow/compiler/xla/stream_executor/platform/default/dso_loader.cc:64] Could not load dynamic library 'libnvinfer_plugin.so.7'; dlerror: libnvinfer_plugin.so.7: cannot open shared object file: No such file or directory\n",
      "2024-06-21 15:56:31.277365: W tensorflow/compiler/tf2tensorrt/utils/py_utils.cc:38] TF-TRT Warning: Cannot dlopen some TensorRT libraries. If you would like to use Nvidia GPU with TensorRT, please make sure the missing libraries mentioned above are installed properly.\n"
     ]
    }
   ],
   "source": [
    "import tensorflow as tf\n",
    "import tensorflow_probability as tfp\n",
    "from tensorflow.keras import layers, models"
   ]
  },
  {
   "cell_type": "code",
   "execution_count": 3,
   "metadata": {},
   "outputs": [
    {
     "data": {
      "text/plain": [
       "[PhysicalDevice(name='/physical_device:CPU:0', device_type='CPU'),\n",
       " PhysicalDevice(name='/physical_device:GPU:0', device_type='GPU')]"
      ]
     },
     "execution_count": 3,
     "metadata": {},
     "output_type": "execute_result"
    }
   ],
   "source": [
    "tf.config.list_physical_devices()"
   ]
  },
  {
   "cell_type": "code",
   "execution_count": 4,
   "metadata": {
    "id": "MiA1dcJqpTKA"
   },
   "outputs": [],
   "source": [
    "from xgboost import XGBClassifier\n",
    "from scipy.linalg import null_space\n",
    "from sklearn.neighbors import NearestNeighbors\n",
    "from sklearn.cluster import KMeans\n",
    "from sklearn.cross_decomposition import CCA\n",
    "from sklearn.ensemble import RandomForestClassifier\n",
    "from sklearn.linear_model import LogisticRegression\n",
    "from sklearn.svm import SVC, LinearSVC"
   ]
  },
  {
   "cell_type": "code",
   "execution_count": 5,
   "metadata": {
    "colab": {
     "base_uri": "https://localhost:8080/"
    },
    "id": "VyVyoLZXEp70",
    "outputId": "20637ffb-f819-4f0a-b926-d24784746a9e"
   },
   "outputs": [],
   "source": [
    "import pickle\n",
    "import json"
   ]
  },
  {
   "cell_type": "code",
   "execution_count": 6,
   "metadata": {
    "colab": {
     "base_uri": "https://localhost:8080/"
    },
    "id": "jkF1N4olXTtZ",
    "outputId": "de7467ba-69c5-42b4-a918-755fe87765d4"
   },
   "outputs": [
    {
     "data": {
      "text/plain": [
       "[PhysicalDevice(name='/physical_device:CPU:0', device_type='CPU'),\n",
       " PhysicalDevice(name='/physical_device:GPU:0', device_type='GPU')]"
      ]
     },
     "execution_count": 6,
     "metadata": {},
     "output_type": "execute_result"
    }
   ],
   "source": [
    "tf.config.list_physical_devices()"
   ]
  },
  {
   "cell_type": "code",
   "execution_count": 7,
   "metadata": {
    "id": "weKR7jCuMvQl"
   },
   "outputs": [],
   "source": [
    "with open('../datasets-ood/chem/train.csv', 'r') as f:\n",
    "  dataX = np.float32(np.array([line.strip().split(',')[2:] for line in f])[1:])\n",
    "\n",
    "with open('../datasets-ood/chem/train.csv', 'r') as f:\n",
    "  dataY = np.float32(np.array([line.strip().split(',')[1] for line in f])[1:])\n",
    "\n",
    "X = dataX\n",
    "Y = dataY"
   ]
  },
  {
   "cell_type": "code",
   "execution_count": 8,
   "metadata": {},
   "outputs": [],
   "source": [
    "with open('../datasets-ood/chem/val_ood.csv', 'r') as f:\n",
    "  external_X = np.float32(np.array([line.strip().split(',')[4:] for line in f])[1:])\n",
    "\n",
    "with open('../datasets-ood/chem/val_ood.csv', 'r') as f:\n",
    "  external_Y = np.float32(np.array([line.strip().split(',')[1] for line in f])[1:])\n"
   ]
  },
  {
   "cell_type": "code",
   "execution_count": 9,
   "metadata": {
    "id": "9U56G1VRx-As"
   },
   "outputs": [],
   "source": [
    "# standardize the data\n",
    "mu_x = np.mean(X, 0, keepdims=True)\n",
    "# sigma_x = np.std(X, 0, keepdims=True)\n",
    "sigma_x = np.ones_like(mu_x)\n",
    "X = (X-mu_x)/sigma_x"
   ]
  },
  {
   "cell_type": "code",
   "execution_count": 10,
   "metadata": {
    "colab": {
     "base_uri": "https://localhost:8080/"
    },
    "id": "RhQ0HK11qm36",
    "outputId": "2948628d-0085-48ba-8e9b-4bbe93f27e66"
   },
   "outputs": [
    {
     "name": "stdout",
     "output_type": "stream",
     "text": [
      "(5997, 1024)\n",
      "(5997,)\n"
     ]
    }
   ],
   "source": [
    "print(X.shape)\n",
    "print(Y.shape)"
   ]
  },
  {
   "cell_type": "code",
   "execution_count": 11,
   "metadata": {
    "id": "w4f7gcI3MOqu"
   },
   "outputs": [],
   "source": [
    "class RandFeats:\n",
    "  # def __init__(self, sigma_rot, d, D=196):\n",
    "  def __init__(self, sigma_rot, d, D=128):\n",
    "\n",
    "    # self.sigmas = [sigma_rot/4, sigma_rot/2, sigma_rot]\n",
    "    self.sigmas = [sigma_rot/4, sigma_rot/2, sigma_rot, sigma_rot*2, sigma_rot*4]\n",
    "    self.D = D\n",
    "    self.Ws = []\n",
    "    for sigma in self.sigmas:\n",
    "      self.Ws.append(np.float32(np.random.randn(d, D)/sigma))\n",
    "    self.Ws = np.stack(self.Ws, 0)\n",
    "\n",
    "  def get_features(self, x_in):\n",
    "    # phis = []\n",
    "    # TODO: vectorize\n",
    "    # for W in Ws:\n",
    "    #   XW = np.matmul(x_in, W)\n",
    "    #   phis.append(\n",
    "    #     np.concatenate([np.sin(XW), np.cos(XW)], -1))\n",
    "    # return np.concatenate(phis, -1)\n",
    "    phis = tf.matmul(x_in, self.Ws)  # k x N x D\n",
    "    phis = tf.transpose(phis, [1, 2, 0])  # N x D x k\n",
    "    phis = tf.concat((tf.sin(phis), tf.cos(phis)), 1)\n",
    "    return tf.reshape(phis, [x_in.shape[0], -1])\n",
    "\n",
    "  def __call__(self, x_in):\n",
    "    return self.get_features(x_in)\n",
    "\n",
    "# def define_rand_feats(ndata_feats, nrand_feats=1000, gamma=1.0):\n",
    "def define_rand_feats(X, xD):\n",
    "  \"\"\"\n",
    "  Args:\n",
    "    ndata_feats: scalar value of total number of data features\n",
    "    nrand_feats: scalar value of total number of desired random features\n",
    "    gamma: Float, scale of frequencies\n",
    "\n",
    "  Returns:\n",
    "    Ws: ndata_feats x nrand_feats weight matrix\n",
    "    bs: 1 x nrand_feats bias vector\n",
    "  \"\"\"\n",
    "  tf.random.set_seed(123129) # For reproducibility\n",
    "  from scipy.spatial import distance\n",
    "  rprm = np.random.permutation(X.shape[0])\n",
    "  ds = distance.cdist(X[rprm[:100], :], X[rprm[100:], :])\n",
    "  sigma_rot = np.mean(np.sort(ds)[:, 5])\n",
    "  model = RandFeats(sigma_rot, X.shape[1], int(X.shape[1]*xD))\n",
    "\n",
    "  # Ws = gamma*tf.random.normal((ndata_feats, nrand_feats))\n",
    "  # bs = 2.0*np.pi*tf.random.uniform((1,nrand_feats))\n",
    "  # return Ws, bs\n",
    "  return model"
   ]
  },
  {
   "cell_type": "code",
   "execution_count": 12,
   "metadata": {},
   "outputs": [],
   "source": [
    "class RandFeats:\n",
    "  # def __init__(self, sigma_rot, d, D=196):\n",
    "  def __init__(self, sigma_rot, X, d, D=128):\n",
    "\n",
    "    # self.sigmas = [sigma_rot/4, sigma_rot/2, sigma_rot]\n",
    "    self.sigmas = [sigma_rot/4, sigma_rot/2, sigma_rot, sigma_rot/2, sigma_rot/4]\n",
    "    self.D = D\n",
    "    self.Ws = []\n",
    "    for sigma in self.sigmas:\n",
    "      self.Ws.append(np.float32(np.random.randn(d, D)/sigma))\n",
    "    self.Ws = np.stack(self.Ws, 0)\n",
    "    self.Ws = self.sample_features(X)\n",
    "    \n",
    "  def sample_features(self, X, ):\n",
    "    L = int(0.3 * len(X))\n",
    "    M = self.Ws.shape[0] * self.Ws.shape[2]\n",
    "    # N = np.random.choice(M, int(M/100), replace=False)\n",
    "    N = int(M/100)+10\n",
    "    phi_Xt = tf.transpose(self.get_features(X[np.random.choice(len(X), L)])) / np.sqrt(L)\n",
    "    phi_phi_T = phi_Xt @ tf.transpose(phi_Xt)\n",
    "    mu = np.power(10, 0)\n",
    "    diag = np.diag(phi_phi_T @ np.linalg.inv(phi_phi_T + mu))\n",
    "    diag = diag / np.sum(diag)\n",
    "    print(M, len(diag)//2, phi_Xt.shape, self.Ws.shape)\n",
    "    print(\"Diag\", M, diag, np.argsort(diag)[-N])\n",
    "    k, N, D = self.Ws.shape\n",
    "    diag = diag[:len(diag)//2] + diag[len(diag)//2:]\n",
    "    w_indices = np.unique(np.argsort(diag)[-N:])\n",
    "    _Ws = np.reshape(np.transpose(self.Ws, [1, 2, 0]), (N, -1))[:, w_indices]\n",
    "    return np.transpose(np.reshape(_Ws, (N, -1, 1)), [2, 0, 1])\n",
    "\n",
    "  def get_features(self, x_in):\n",
    "    # phis = []\n",
    "    # TODO: vectorize\n",
    "    # for W in Ws:\n",
    "    #   XW = np.matmul(x_in, W)\n",
    "    #   phis.append(\n",
    "    #     np.concatenate([np.sin(XW), np.cos(XW)], -1))\n",
    "    # return np.concatenate(phis, -1)\n",
    "    phis = tf.matmul(x_in, self.Ws)  # k x N x D\n",
    "    # phis = tf.transpose(phis, [1, 2, 0])  # N x D x k\n",
    "    phis = tf.transpose(phis, [1, 2, 0])[:, None, :, :]  # N x D x k\n",
    "    phis = tf.concat((tf.sin(phis), tf.cos(phis)), 1)\n",
    "    return tf.reshape(phis, [x_in.shape[0], -1])\n",
    "\n",
    "  def __call__(self, x_in):\n",
    "    return self.get_features(x_in)\n",
    "\n",
    "# def define_rand_feats(ndata_feats, nrand_feats=1000, gamma=1.0):\n",
    "def define_rand_feats(X, xD):\n",
    "  \"\"\"\n",
    "  Args:\n",
    "    ndata_feats: scalar value of total number of data features\n",
    "    nrand_feats: scalar value of total number of desired random features\n",
    "    gamma: Float, scale of frequencies\n",
    "\n",
    "  Returns:\n",
    "    Ws: ndata_feats x nrand_feats weight matrix\n",
    "    bs: 1 x nrand_feats bias vector\n",
    "  \"\"\"\n",
    "  tf.random.set_seed(123129) # For reproducibility\n",
    "  from scipy.spatial import distance\n",
    "  rprm = np.random.permutation(X.shape[0])\n",
    "  ds = distance.cdist(X[rprm[:100], :], X[rprm[100:], :])\n",
    "  sigma_rot = np.mean(np.sort(ds)[:, 5])\n",
    "  model = RandFeats(sigma_rot, X, X.shape[1], int(X.shape[1]*xD))\n",
    "\n",
    "  # Ws = gamma*tf.random.normal((ndata_feats, nrand_feats))\n",
    "  # bs = 2.0*np.pi*tf.random.uniform((1,nrand_feats))\n",
    "  # return Ws, bs\n",
    "  return model"
   ]
  },
  {
   "cell_type": "code",
   "execution_count": 13,
   "metadata": {
    "id": "3S8unT73bEtM"
   },
   "outputs": [],
   "source": [
    "Dx = [1.5, 2, 4, 8, 10, 16]"
   ]
  },
  {
   "cell_type": "code",
   "execution_count": 14,
   "metadata": {
    "id": "lUdTgThu3CDN"
   },
   "outputs": [],
   "source": [
    "def get_rand_feats(X, model):\n",
    "  \"\"\"\n",
    "  Args:\n",
    "    X: N x d matrix of input features\n",
    "    Ws: ndata_feats x nrand_feats weight matrix\n",
    "    bs: 1 x nrand_feats bias vector\n",
    "\n",
    "  Returns:\n",
    "    Phis: N x D matrix of random features\n",
    "  \"\"\"\n",
    "  # XWs = tf.matmul(X, Ws)\n",
    "  # return tf.cos(XWs+bs)\n",
    "  return model(X)"
   ]
  },
  {
   "cell_type": "code",
   "execution_count": 15,
   "metadata": {
    "id": "OdWKikf20dfX"
   },
   "outputs": [],
   "source": [
    "def linear_coefs(X, X_ids, Y):\n",
    "  \"\"\"\n",
    "  Args:\n",
    "    X: N x d matrix of input features\n",
    "    Y: N x 1 matrix (column vector) of output response\n",
    "\n",
    "  Returns:\n",
    "    Beta: d x 1 matrix of linear coefficients\n",
    "  \"\"\"\n",
    "  # clf = LogisticRegression(random_state=0, solver='liblinear').fit(X, Y)\n",
    "  print(np.mean(X), np.mean(Y), \"ASDASDADASD\")\n",
    "  clf = SVC(random_state=0, tol=1e-5, kernel='linear').fit(X, Y)\n",
    "  # clf = LinearSVC(random_state=0, tol=1e-5).fit(X, Y)\n",
    "  support = (clf.support_, clf.n_support_)\n",
    "\n",
    "  def get_supp(support):\n",
    "      supps_, n_supps_ = support\n",
    "      supps_0 = supps_[:n_supps_[0]]\n",
    "      supps_1 = supps_[n_supps_[0]:]\n",
    "      return X_ids[supps_0], X_ids[supps_1]\n",
    "\n",
    "  support = get_supp(support)\n",
    "    \n",
    "  # clf = LogisticRegression(random_state=0).fit(X, Y)\n",
    "  print(clf.score(X, Y))\n",
    "  wgts = np.hstack((clf.intercept_[:,None], clf.coef_))\n",
    "  print(wgts.shape)\n",
    "  prd = (1 / (1 + np.exp(-np.concatenate([np.ones((X.shape[0], 1)), X], axis=-1) @ wgts.T)) > 0.5) *1.0\n",
    "  # print(np.mean(prd[:, 0]==Y))\n",
    "  return wgts, None\n",
    "  # beta = tf.linalg.solve(tf.matmul(tf.transpose(X),X), tf.matmul(tf.transpose(X), Y[:, None]))\n",
    "  # return beta"
   ]
  },
  {
   "cell_type": "code",
   "execution_count": 16,
   "metadata": {
    "id": "sXCQKFR3zVf8"
   },
   "outputs": [],
   "source": [
    "def project_and_filter(X, dir, percentile=75):\n",
    "  projs = np.dot(X, dir)\n",
    "  thresh = np.percentile(projs, 100 - percentile)\n",
    "  filtered_idxs = projs >= thresh\n",
    "  return X[filtered_idxs], filtered_idxs"
   ]
  },
  {
   "cell_type": "code",
   "execution_count": 19,
   "metadata": {
    "id": "U6sPtWN-zvlP"
   },
   "outputs": [],
   "source": [
    "def get_models(X, Y, pca_projs, dirs, model, percentile=75):\n",
    "  #X_subsets = []\n",
    "  #data_ids = []\n",
    "  #Y_subsets = []\n",
    "  betas = []\n",
    "  supps = []\n",
    "  i = 0\n",
    "  for dir in dirs: # TODO: Vectorize\n",
    "    if i % 25 == 0: print(f\"Step {i}\")\n",
    "    X_sub, X_ids = project_and_filter(X, dir, percentile)\n",
    "    Y_sub = Y[X_ids]\n",
    "    print(X_sub.shape, X_ids.shape)\n",
    "    # print((X_sub@pca_projs).shape)\n",
    "    print(\"CHECKKKKK \", np.mean(get_rand_feats(X_sub@pca_projs, model)))\n",
    "    print(np.sum(X), np.sum(X@pca_projs))\n",
    "    beta, supp = linear_coefs(get_rand_feats(X_sub@pca_projs, model), np.argwhere(X_ids), Y_sub)\n",
    "    print(\"Dir\", dir)\n",
    "    print(\"Beta\", beta)\n",
    "    # beta = linear_coefs(X_sub, Y_sub)\n",
    "\n",
    "    #X_subsets.append(X_sub)\n",
    "    #data_ids.append(X_ids)\n",
    "    #Y_subsets.append(Y_sub)\n",
    "    betas.append(beta)\n",
    "    supps.append(supp)\n",
    "    i += 1\n",
    "    if i == len(dirs) - 1: print(f\"Done\")\n",
    "\n",
    "  # cant do this because subsets of variable sizes\n",
    "  #X_subsets = np.array(X_subsets)\n",
    "  #data_ids = np.array(data_ids)\n",
    "  #Y_subsets = np.array(Y_subsets)\n",
    "  betas = np.array(betas)\n",
    "\n",
    "  return betas, supps\n",
    "  #return X_subsets, data_ids, Y_subsets, betas"
   ]
  },
  {
   "cell_type": "code",
   "execution_count": 20,
   "metadata": {},
   "outputs": [
    {
     "data": {
      "text/plain": [
       "(5997, 1024)"
      ]
     },
     "execution_count": 20,
     "metadata": {},
     "output_type": "execute_result"
    }
   ],
   "source": [
    "X.shape"
   ]
  },
  {
   "cell_type": "code",
   "execution_count": 21,
   "metadata": {},
   "outputs": [
    {
     "data": {
      "text/plain": [
       "-0.0052576065"
      ]
     },
     "execution_count": 21,
     "metadata": {},
     "output_type": "execute_result"
    }
   ],
   "source": [
    "np.sum(X)"
   ]
  },
  {
   "cell_type": "code",
   "execution_count": 44,
   "metadata": {},
   "outputs": [],
   "source": [
    "with tf.device('gpu:1'):\n",
    "    s, u, v = tf.linalg.svd(X)"
   ]
  },
  {
   "cell_type": "code",
   "execution_count": 36,
   "metadata": {},
   "outputs": [
    {
     "name": "stdout",
     "output_type": "stream",
     "text": [
      "tf.Tensor(232.08453, shape=(), dtype=float32)\n"
     ]
    }
   ],
   "source": [
    "print(s[1])"
   ]
  },
  {
   "cell_type": "code",
   "execution_count": 37,
   "metadata": {},
   "outputs": [],
   "source": [
    "# dims = [0.05, 0.25, 0.3, 0.4, 0.8]\n",
    "dims = [0.05, 0.2, 0.3, 0.4, 0.8]\n",
    "pca_projs = v[:, :int(X.shape[-1]*dims[1])]"
   ]
  },
  {
   "cell_type": "code",
   "execution_count": null,
   "metadata": {},
   "outputs": [],
   "source": []
  },
  {
   "cell_type": "code",
   "execution_count": 38,
   "metadata": {},
   "outputs": [],
   "source": [
    "np.save('pca.npy', pca_projs)"
   ]
  },
  {
   "cell_type": "code",
   "execution_count": 43,
   "metadata": {},
   "outputs": [
    {
     "name": "stdout",
     "output_type": "stream",
     "text": [
      "ONENNN -24.82146\n"
     ]
    },
    {
     "data": {
      "text/plain": [
       "(0.08707595, None)"
      ]
     },
     "execution_count": 43,
     "metadata": {},
     "output_type": "execute_result"
    }
   ],
   "source": [
    "np.sum(pca_projs), print(\"ONENNN\", np.sum(v))"
   ]
  },
  {
   "cell_type": "code",
   "execution_count": 253,
   "metadata": {},
   "outputs": [],
   "source": [
    "X.shape, pca_projs.shape\n",
    "random_dirs = np.random.randn(N, d)"
   ]
  },
  {
   "cell_type": "code",
   "execution_count": 254,
   "metadata": {
    "colab": {
     "base_uri": "https://localhost:8080/",
     "height": 373
    },
    "id": "ZIvRCVks0XyQ",
    "outputId": "f3d09ad5-4e02-44a5-e001-fe83e3d99938",
    "scrolled": true
   },
   "outputs": [
    {
     "name": "stdout",
     "output_type": "stream",
     "text": [
      "Step 0\n",
      "(1200, 1024) (5997,)\n",
      "CHECKKKKK  0.19985221\n",
      "-0.0052576065 -0.00623703\n",
      "0.19985221 0.545 ASDASDADASD\n",
      "0.9966666666666667\n",
      "(1, 4081)\n",
      "Dir [ 0.04905563  0.03169993 -0.01668578 ... -0.02326956  0.02807696\n",
      "  0.05754044]\n",
      "Beta [[ 0.29058316  0.03562289 -0.00618984 ...  0.03539478 -0.0066337\n",
      "   0.00280665]]\n",
      "(1201, 1024) (5997,)\n",
      "CHECKKKKK  0.18812044\n",
      "-0.0052576065 -0.00623703\n",
      "0.18812044 0.6053289 ASDASDADASD\n",
      "0.9941715237302248\n",
      "(1, 4081)\n",
      "Dir [-0.05284877 -0.01113672  0.01344122 ... -0.01854731  0.02493274\n",
      " -0.03622702]\n",
      "Beta [[ 0.04925948 -0.00100127  0.0172976  ... -0.01054612  0.00822153\n",
      "   0.00358063]]\n",
      "(1200, 1024) (5997,)\n",
      "CHECKKKKK  0.19500722\n",
      "-0.0052576065 -0.00623703\n",
      "0.19500722 0.5775 ASDASDADASD\n",
      "0.995\n",
      "(1, 4081)\n",
      "Dir [-0.00040978  0.04100408 -0.0269265  ... -0.0292302  -0.01387339\n",
      "  0.0406016 ]\n",
      "Beta [[ 0.44189246 -0.00574511 -0.04819742 ... -0.00822744  0.00855847\n",
      "   0.00052637]]\n",
      "(1200, 1024) (5997,)\n",
      "CHECKKKKK  0.19672775\n",
      "-0.0052576065 -0.00623703\n",
      "0.19672775 0.46916667 ASDASDADASD\n",
      "0.995\n",
      "(1, 4081)\n",
      "Dir [ 0.02473948 -0.01989506 -0.02670362 ... -0.0214983  -0.04580616\n",
      "  0.0076278 ]\n",
      "Beta [[ 2.71267106e-01  1.17258847e-02 -3.26267266e-02 ... -9.34990606e-03\n",
      "   1.77147908e-02 -2.57165840e-04]]\n",
      "(1200, 1024) (5997,)\n",
      "CHECKKKKK  0.2016437\n",
      "-0.0052576065 -0.00623703\n",
      "0.2016437 0.55833334 ASDASDADASD\n",
      "0.9958333333333333\n",
      "(1, 4081)\n",
      "Dir [-0.0249224   0.01626729 -0.01536909 ... -0.01208532 -0.01406717\n",
      "  0.01407208]\n",
      "Beta [[-0.02087686  0.02410965 -0.00586908 ...  0.00902178  0.0010695\n",
      "   0.00741659]]\n",
      "(1200, 1024) (5997,)\n",
      "CHECKKKKK  0.19509709\n",
      "-0.0052576065 -0.00623703\n",
      "0.19509709 0.5025 ASDASDADASD\n",
      "0.9958333333333333\n",
      "(1, 4081)\n",
      "Dir [-0.01864907 -0.03720603  0.05605809 ...  0.02410797  0.0335988\n",
      "  0.01960076]\n",
      "Beta [[ 0.22501573 -0.02803904 -0.06101294 ...  0.01490491  0.01253886\n",
      "   0.00619937]]\n",
      "(1200, 1024) (5997,)\n",
      "CHECKKKKK  0.19849451\n",
      "-0.0052576065 -0.00623703\n",
      "0.19849451 0.5566667 ASDASDADASD\n",
      "0.9966666666666667\n",
      "(1, 4081)\n",
      "Dir [ 0.02646618 -0.04022221  0.01357067 ... -0.02566839 -0.01645584\n",
      " -0.01219936]\n",
      "Beta [[ 0.52979223 -0.01265296  0.02973078 ...  0.01345125  0.00133469\n",
      "   0.01385535]]\n",
      "(1200, 1024) (5997,)\n",
      "CHECKKKKK  0.20362836\n",
      "-0.0052576065 -0.00623703\n",
      "0.20362836 0.48916668 ASDASDADASD\n",
      "0.9933333333333333\n",
      "(1, 4081)\n",
      "Dir [ 0.01856821  0.0023587  -0.00064745 ...  0.00581698  0.06765707\n",
      "  0.02807538]\n",
      "Beta [[ 0.12235992 -0.00847422 -0.01238014 ... -0.01306574  0.01262169\n",
      "   0.00343372]]\n",
      "(1200, 1024) (5997,)\n",
      "CHECKKKKK  0.20510614\n",
      "-0.0052576065 -0.00623703\n",
      "0.20510614 0.58416665 ASDASDADASD\n",
      "0.9933333333333333\n",
      "(1, 4081)\n",
      "Dir [ 0.01724229  0.02803767  0.02921948 ... -0.00069007 -0.06495243\n",
      "  0.03521613]\n",
      "Beta [[-0.32094528  0.05372081 -0.02618266 ...  0.02926008  0.01982413\n",
      "   0.00365832]]\n",
      "(1200, 1024) (5997,)\n",
      "CHECKKKKK  0.19092399\n",
      "-0.0052576065 -0.00623703\n",
      "0.19092399 0.59 ASDASDADASD\n",
      "0.9966666666666667\n",
      "(1, 4081)\n",
      "Dir [ 0.03303573 -0.01577196  0.00706746 ... -0.02927634 -0.00509305\n",
      "  0.00611053]\n",
      "Beta [[ 0.10755376 -0.00892447  0.00013843 ...  0.0175174  -0.01194291\n",
      "   0.00359371]]\n",
      "(1200, 1024) (5997,)\n",
      "CHECKKKKK  0.19750738\n",
      "-0.0052576065 -0.00623703\n",
      "0.19750738 0.5075 ASDASDADASD\n",
      "0.995\n",
      "(1, 4081)\n",
      "Dir [ 0.03168633  0.06495862  0.04103932 ...  0.00095118 -0.00735116\n",
      " -0.01611738]\n",
      "Beta [[ 1.19742750e-01 -2.73717677e-02 -4.83500962e-03 ... -2.76753106e-02\n",
      "  -3.78011051e-05  3.81076905e-03]]\n",
      "(1200, 1024) (5997,)\n",
      "CHECKKKKK  0.19782507\n",
      "-0.0052576065 -0.00623703\n",
      "0.19782507 0.5625 ASDASDADASD\n",
      "0.995\n",
      "(1, 4081)\n",
      "Dir [ 0.00277891 -0.03651961  0.01369712 ... -0.03154832 -0.01678524\n",
      "  0.04267827]\n",
      "Beta [[-0.07784422 -0.01631388 -0.00436065 ... -0.01353326 -0.00746534\n",
      "  -0.00097958]]\n",
      "(1200, 1024) (5997,)\n",
      "CHECKKKKK  0.20123374\n",
      "-0.0052576065 -0.00623703\n",
      "0.20123374 0.45416668 ASDASDADASD\n",
      "0.9966666666666667\n",
      "(1, 4081)\n",
      "Dir [ 0.04800621  0.01082783 -0.02037785 ...  0.03341993  0.01415094\n",
      " -0.03749007]\n",
      "Beta [[ 0.09156004 -0.01550183  0.01278264 ... -0.01319262 -0.01457541\n",
      "   0.00300322]]\n",
      "(1200, 1024) (5997,)\n",
      "CHECKKKKK  0.19937482\n",
      "-0.0052576065 -0.00623703\n",
      "0.19937482 0.5316667 ASDASDADASD\n",
      "0.9933333333333333\n",
      "(1, 4081)\n",
      "Dir [0.02691227 0.00787205 0.02408651 ... 0.06152159 0.01881851 0.0252725 ]\n",
      "Beta [[ 0.17263075 -0.02686615 -0.0301869  ...  0.00762774 -0.00359561\n",
      "   0.006026  ]]\n",
      "(1200, 1024) (5997,)\n",
      "CHECKKKKK  0.20046435\n",
      "-0.0052576065 -0.00623703\n",
      "0.20046435 0.47583333 ASDASDADASD\n",
      "0.9975\n",
      "(1, 4081)\n",
      "Dir [0.02253449 0.01077164 0.02421499 ... 0.04154573 0.0611235  0.03692525]\n",
      "Beta [[-0.09171491 -0.02377048  0.03397559 ... -0.00462669  0.01082214\n",
      "   0.00167106]]\n",
      "(1200, 1024) (5997,)\n",
      "CHECKKKKK  0.19585408\n",
      "-0.0052576065 -0.00623703\n",
      "0.19585408 0.5708333 ASDASDADASD\n",
      "0.9941666666666666\n",
      "(1, 4081)\n",
      "Dir [ 0.01723905  0.00932982  0.02862695 ...  0.00473735  0.0417287\n",
      " -0.00043299]\n",
      "Beta [[ 4.34289569e-01  3.16561914e-02 -3.34190580e-03 ...  1.93999842e-02\n",
      "  -5.82446787e-03  1.48088304e-04]]\n",
      "(1200, 1024) (5997,)\n",
      "CHECKKKKK  0.19518363\n",
      "-0.0052576065 -0.00623703\n",
      "0.19518363 0.50083333 ASDASDADASD\n",
      "0.9925\n",
      "(1, 4081)\n",
      "Dir [ 0.00818381  0.05524835 -0.01712511 ...  0.02450519  0.01362116\n",
      "  0.02711455]\n",
      "Beta [[ 4.37762881e-01 -1.43685366e-02 -2.13051405e-02 ...  1.37165559e-04\n",
      "  -9.31245353e-03  6.02629631e-04]]\n",
      "(1200, 1024) (5997,)\n",
      "CHECKKKKK  0.19450207\n",
      "-0.0052576065 -0.00623703\n",
      "0.19450207 0.5316667 ASDASDADASD\n",
      "0.9958333333333333\n",
      "(1, 4081)\n",
      "Dir [ 0.00060991  0.01967341 -0.00978845 ... -0.03734414 -0.04589148\n",
      " -0.03576715]\n",
      "Beta [[ 0.41252257  0.01148889  0.02932781 ...  0.03258901 -0.00089913\n",
      "  -0.00080381]]\n",
      "(1200, 1024) (5997,)\n",
      "CHECKKKKK  0.19845985\n",
      "-0.0052576065 -0.00623703\n",
      "0.19845985 0.49416667 ASDASDADASD\n",
      "0.9908333333333333\n",
      "(1, 4081)\n",
      "Dir [-0.03870521  0.04986369  0.02366639 ...  0.0055116  -0.00092787\n",
      " -0.01240668]\n",
      "Beta [[-0.28734433 -0.02562378 -0.00585154 ...  0.01090687  0.01332554\n",
      "   0.00056884]]\n",
      "(1200, 1024) (5997,)\n",
      "CHECKKKKK  0.19934012\n",
      "-0.0052576065 -0.00623703\n",
      "0.19934012 0.49666667 ASDASDADASD\n",
      "0.9966666666666667\n",
      "(1, 4081)\n",
      "Dir [-0.01427566  0.08973892 -0.00928323 ...  0.003695    0.0188399\n",
      " -0.08265545]\n",
      "Beta [[ 0.33126367  0.02942609 -0.03237829 ...  0.00242114  0.00225396\n",
      "   0.00848012]]\n",
      "(1200, 1024) (5997,)\n",
      "CHECKKKKK  0.19853115\n",
      "-0.0052576065 -0.00623703\n",
      "0.19853115 0.5175 ASDASDADASD\n",
      "0.9941666666666666\n",
      "(1, 4081)\n",
      "Dir [ 0.00408598 -0.01200283  0.0584     ... -0.02660609  0.00062351\n",
      " -0.01699404]\n",
      "Beta [[-0.11376778  0.02672064  0.02516242 ... -0.01835691  0.00978474\n",
      "   0.00831344]]\n",
      "(1200, 1024) (5997,)\n",
      "CHECKKKKK  0.20173645\n",
      "-0.0052576065 -0.00623703\n",
      "0.20173645 0.535 ASDASDADASD\n",
      "0.9983333333333333\n",
      "(1, 4081)\n",
      "Dir [0.03055826 0.01532836 0.00438357 ... 0.04857082 0.00185673 0.00526939]\n",
      "Beta [[ 0.52129538 -0.00568791 -0.02081707 ...  0.01618903 -0.00322451\n",
      "   0.00446763]]\n",
      "(1200, 1024) (5997,)\n",
      "CHECKKKKK  0.19852637\n",
      "-0.0052576065 -0.00623703\n",
      "0.19852637 0.41916665 ASDASDADASD\n",
      "0.9908333333333333\n",
      "(1, 4081)\n",
      "Dir [ 0.05139564 -0.01552068 -0.01545289 ... -0.01340144  0.02881572\n",
      "  0.04791447]\n",
      "Beta [[-0.44791342  0.04033693 -0.0079302  ... -0.00797998  0.02043867\n",
      "   0.00142537]]\n",
      "(1200, 1024) (5997,)\n",
      "CHECKKKKK  0.19786227\n",
      "-0.0052576065 -0.00623703\n",
      "0.19786227 0.61333334 ASDASDADASD\n",
      "0.9933333333333333\n",
      "(1, 4081)\n",
      "Dir [-0.02897424 -0.0220174  -0.04966025 ...  0.01914678 -0.03873034\n",
      " -0.00213593]\n",
      "Beta [[ 0.1370959  -0.00487517 -0.01215066 ... -0.02686213  0.01664864\n",
      "  -0.00427096]]\n",
      "(1200, 1024) (5997,)\n",
      "CHECKKKKK  0.20143713\n",
      "-0.0052576065 -0.00623703\n",
      "0.20143713 0.625 ASDASDADASD\n",
      "0.9975\n",
      "(1, 4081)\n",
      "Dir [ 0.01484983 -0.02794425  0.09615445 ... -0.01269538  0.02036687\n",
      "  0.02159965]\n",
      "Beta [[-0.04511551  0.02722621  0.00580853 ... -0.00510483  0.01490847\n",
      "   0.00902028]]\n",
      "Step 25\n",
      "(1200, 1024) (5997,)\n",
      "CHECKKKKK  0.19359674\n",
      "-0.0052576065 -0.00623703\n",
      "0.19359674 0.5475 ASDASDADASD\n",
      "0.9975\n",
      "(1, 4081)\n",
      "Dir [ 0.03062971  0.00729675  0.02662    ... -0.01826016  0.03652041\n",
      " -0.02010462]\n",
      "Beta [[ 0.0448096  -0.03409597 -0.01752248 ... -0.00646482 -0.00049106\n",
      "   0.00350205]]\n",
      "(1200, 1024) (5997,)\n",
      "CHECKKKKK  0.197001\n",
      "-0.0052576065 -0.00623703\n",
      "0.197001 0.6075 ASDASDADASD\n",
      "0.9941666666666666\n",
      "(1, 4081)\n",
      "Dir [-0.00880713  0.02878523  0.00481571 ... -0.0019655  -0.04885442\n",
      " -0.03262503]\n",
      "Beta [[ 0.46759252 -0.00676028 -0.03149822 ...  0.00588738  0.00637101\n",
      "   0.00615338]]\n",
      "(1200, 1024) (5997,)\n",
      "CHECKKKKK  0.20095055\n",
      "-0.0052576065 -0.00623703\n",
      "0.20095055 0.57666665 ASDASDADASD\n",
      "0.9925\n",
      "(1, 4081)\n",
      "Dir [-0.01670731  0.01235236  0.03696373 ...  0.01358034 -0.00010722\n",
      "  0.00289552]\n",
      "Beta [[ 0.09884624 -0.02359238 -0.000368   ...  0.02177835  0.01017605\n",
      "   0.00222358]]\n",
      "(1200, 1024) (5997,)\n",
      "CHECKKKKK  0.19596587\n",
      "-0.0052576065 -0.00623703\n",
      "0.19596587 0.6016667 ASDASDADASD\n",
      "0.9966666666666667\n",
      "(1, 4081)\n",
      "Dir [ 0.0360369   0.02274474 -0.05182789 ...  0.04126596 -0.06215097\n",
      " -0.01369314]\n",
      "Beta [[ 0.03975566  0.01244685 -0.02086509 ... -0.03427629 -0.01259591\n",
      "   0.00366753]]\n",
      "(1200, 1024) (5997,)\n",
      "CHECKKKKK  0.18973969\n",
      "-0.0052576065 -0.00623703\n",
      "0.18973969 0.5183333 ASDASDADASD\n",
      "0.9966666666666667\n",
      "(1, 4081)\n",
      "Dir [-0.00805216 -0.02645824  0.00730783 ... -0.04042667  0.0149599\n",
      " -0.02170477]\n",
      "Beta [[-0.33894509  0.00377694  0.01178628 ... -0.02951412  0.01414912\n",
      "   0.0045863 ]]\n",
      "(1200, 1024) (5997,)\n",
      "CHECKKKKK  0.20214275\n",
      "-0.0052576065 -0.00623703\n",
      "0.20214275 0.48416665 ASDASDADASD\n",
      "0.995\n",
      "(1, 4081)\n",
      "Dir [-0.00081147 -0.05391486 -0.03064158 ... -0.0459241   0.00935409\n",
      "  0.03047794]\n",
      "Beta [[-0.06308828  0.0258972  -0.01308646 ... -0.01633004  0.00568437\n",
      "   0.00527397]]\n",
      "(1200, 1024) (5997,)\n",
      "CHECKKKKK  0.19817367\n",
      "-0.0052576065 -0.00623703\n",
      "0.19817367 0.56416667 ASDASDADASD\n",
      "0.9958333333333333\n",
      "(1, 4081)\n",
      "Dir [ 0.02757937 -0.01715149  0.03477351 ...  0.00739955 -0.0188983\n",
      "  0.0065274 ]\n",
      "Beta [[ 2.41129706e-01  2.58641941e-02 -2.34840715e-02 ... -1.14881356e-03\n",
      "   3.63224266e-03 -2.23397540e-04]]\n",
      "(1200, 1024) (5997,)\n",
      "CHECKKKKK  0.19616279\n",
      "-0.0052576065 -0.00623703\n",
      "0.19616279 0.5933333 ASDASDADASD\n",
      "0.995\n",
      "(1, 4081)\n",
      "Dir [-0.02731269 -0.0449276   0.00519761 ... -0.00221666  0.03832545\n",
      "  0.010679  ]\n",
      "Beta [[-0.30630315  0.01933386 -0.01966547 ... -0.0101271   0.01411215\n",
      "   0.0033118 ]]\n",
      "(1200, 1024) (5997,)\n",
      "CHECKKKKK  0.19909434\n",
      "-0.0052576065 -0.00623703\n",
      "0.19909434 0.46583334 ASDASDADASD\n",
      "0.99\n",
      "(1, 4081)\n",
      "Dir [-0.01133762  0.01109737  0.02932701 ...  0.02740344  0.02703836\n",
      "  0.02165434]\n",
      "Beta [[-0.31777351  0.02641443  0.01097169 ... -0.02023591  0.01402608\n",
      "   0.00389905]]\n",
      "(1200, 1024) (5997,)\n",
      "CHECKKKKK  0.19962175\n",
      "-0.0052576065 -0.00623703\n",
      "0.19962175 0.46833333 ASDASDADASD\n",
      "0.9966666666666667\n",
      "(1, 4081)\n",
      "Dir [-0.01670854 -0.02516782  0.00111923 ...  0.01664929  0.01695187\n",
      "  0.04930396]\n",
      "Beta [[-0.15452742 -0.02387635 -0.03508687 ... -0.00220003  0.0063511\n",
      "   0.00578504]]\n",
      "(1201, 1024) (5997,)\n",
      "CHECKKKKK  0.19620302\n",
      "-0.0052576065 -0.00623703\n",
      "0.19620302 0.49875104 ASDASDADASD\n",
      "0.9975020815986678\n",
      "(1, 4081)\n",
      "Dir [ 0.02835336 -0.00352622 -0.00281817 ... -0.03798012 -0.05117366\n",
      "  0.02139806]\n",
      "Beta [[-0.62563903 -0.03677458 -0.05312481 ...  0.02574476  0.02131805\n",
      "   0.00743353]]\n",
      "(1200, 1024) (5997,)\n",
      "CHECKKKKK  0.19786273\n",
      "-0.0052576065 -0.00623703\n",
      "0.19786273 0.5275 ASDASDADASD\n",
      "0.9975\n",
      "(1, 4081)\n",
      "Dir [-0.03313058 -0.04394817  0.07625089 ... -0.00813994 -0.06616709\n",
      " -0.00631788]\n",
      "Beta [[ 0.26731936  0.01329462 -0.00407638 ...  0.00339419  0.01212475\n",
      "   0.00282141]]\n",
      "(1200, 1024) (5997,)\n",
      "CHECKKKKK  0.19705743\n",
      "-0.0052576065 -0.00623703\n",
      "0.19705743 0.56416667 ASDASDADASD\n",
      "0.9933333333333333\n",
      "(1, 4081)\n",
      "Dir [-0.00755533  0.04385818 -0.01777965 ...  0.0159064   0.01014189\n",
      "  0.04044614]\n",
      "Beta [[0.22939822 0.01594152 0.01635699 ... 0.0099436  0.00503329 0.00043653]]\n",
      "(1200, 1024) (5997,)\n",
      "CHECKKKKK  0.2031487\n",
      "-0.0052576065 -0.00623703\n",
      "0.2031487 0.465 ASDASDADASD\n",
      "0.9958333333333333\n",
      "(1, 4081)\n",
      "Dir [ 0.02221212  0.00021779  0.01579742 ... -0.00147898 -0.04087674\n",
      "  0.00766586]\n",
      "Beta [[ 0.26667012 -0.00834492 -0.0081463  ... -0.01164679  0.00398021\n",
      "   0.0072923 ]]\n",
      "(1200, 1024) (5997,)\n",
      "CHECKKKKK  0.19499257\n",
      "-0.0052576065 -0.00623703\n",
      "0.19499257 0.60083336 ASDASDADASD\n",
      "0.9941666666666666\n",
      "(1, 4081)\n",
      "Dir [ 0.01422252  0.0145564   0.01125891 ... -0.00995903  0.0146182\n",
      "  0.02518615]\n",
      "Beta [[-1.03943338e-01 -3.99159102e-02 -3.16575475e-02 ...  1.33479122e-02\n",
      "  -4.30443908e-03 -7.36545411e-05]]\n",
      "(1200, 1024) (5997,)\n",
      "CHECKKKKK  0.19975345\n",
      "-0.0052576065 -0.00623703\n",
      "0.19975345 0.56333333 ASDASDADASD\n",
      "0.9975\n",
      "(1, 4081)\n",
      "Dir [ 0.02763073 -0.0138209  -0.01898838 ...  0.04554876  0.04404834\n",
      "  0.00482867]\n",
      "Beta [[ 0.09653178 -0.02211042  0.01688055 ...  0.00537951  0.01011429\n",
      "   0.00744174]]\n",
      "(1200, 1024) (5997,)\n",
      "CHECKKKKK  0.19926873\n",
      "-0.0052576065 -0.00623703\n",
      "0.19926873 0.56 ASDASDADASD\n",
      "0.9991666666666666\n",
      "(1, 4081)\n",
      "Dir [ 0.01887661 -0.00855011  0.00010025 ...  0.0003071  -0.00779199\n",
      "  0.03332362]\n",
      "Beta [[-0.50708197 -0.0145317  -0.01086364 ... -0.00302583  0.00873062\n",
      "   0.00393756]]\n",
      "(1200, 1024) (5997,)\n",
      "CHECKKKKK  0.19939035\n",
      "-0.0052576065 -0.00623703\n",
      "0.19939035 0.51166666 ASDASDADASD\n",
      "0.9958333333333333\n",
      "(1, 4081)\n",
      "Dir [0.02325606 0.00351524 0.00050783 ... 0.06383455 0.03053234 0.04322279]\n",
      "Beta [[-0.01798853 -0.00817929 -0.00583333 ...  0.01146615  0.00586393\n",
      "   0.00171657]]\n",
      "(1200, 1024) (5997,)\n",
      "CHECKKKKK  0.20137054\n",
      "-0.0052576065 -0.00623703\n",
      "0.20137054 0.575 ASDASDADASD\n",
      "0.9975\n",
      "(1, 4081)\n",
      "Dir [-0.0294684  -0.05950361  0.00925005 ...  0.02062023  0.04575946\n",
      " -0.02460216]\n",
      "Beta [[-0.28207162 -0.02782198 -0.00400253 ... -0.00501652 -0.01109525\n",
      "   0.0038967 ]]\n",
      "(1200, 1024) (5997,)\n",
      "CHECKKKKK  0.20163551\n",
      "-0.0052576065 -0.00623703\n",
      "0.20163551 0.58166665 ASDASDADASD\n",
      "0.9975\n",
      "(1, 4081)\n",
      "Dir [-0.02831673  0.00296754  0.02709131 ...  0.01871651  0.03450499\n",
      "  0.0431927 ]\n",
      "Beta [[ 0.23736721  0.00991127  0.01817237 ... -0.01038922 -0.00126302\n",
      "   0.00563924]]\n",
      "(1200, 1024) (5997,)\n",
      "CHECKKKKK  0.20100173\n",
      "-0.0052576065 -0.00623703\n",
      "0.20100173 0.5083333 ASDASDADASD\n"
     ]
    },
    {
     "ename": "KeyboardInterrupt",
     "evalue": "",
     "output_type": "error",
     "traceback": [
      "\u001b[0;31m---------------------------------------------------------------------------\u001b[0m",
      "\u001b[0;31mKeyboardInterrupt\u001b[0m                         Traceback (most recent call last)",
      "Cell \u001b[0;32mIn[254], line 14\u001b[0m\n\u001b[1;32m     11\u001b[0m random_dirs \u001b[38;5;241m=\u001b[39m random_dirs \u001b[38;5;241m/\u001b[39m np\u001b[38;5;241m.\u001b[39mlinalg\u001b[38;5;241m.\u001b[39mnorm(random_dirs, axis\u001b[38;5;241m=\u001b[39m\u001b[38;5;241m1\u001b[39m, keepdims\u001b[38;5;241m=\u001b[39m\u001b[38;5;28;01mTrue\u001b[39;00m)\n\u001b[1;32m     13\u001b[0m \u001b[38;5;66;03m#X_subsets, data_ids, Y_subsets, betas = get_models(X, Y, random_dirs, Ws, bs, percentile=33)\u001b[39;00m\n\u001b[0;32m---> 14\u001b[0m betas, supps \u001b[38;5;241m=\u001b[39m \u001b[43mget_models\u001b[49m\u001b[43m(\u001b[49m\u001b[43mX\u001b[49m\u001b[43m,\u001b[49m\u001b[43m \u001b[49m\u001b[43mY\u001b[49m\u001b[43m,\u001b[49m\u001b[43m \u001b[49m\u001b[43mpca_projs\u001b[49m\u001b[43m,\u001b[49m\u001b[43m \u001b[49m\u001b[43mrandom_dirs\u001b[49m\u001b[43m,\u001b[49m\u001b[43m \u001b[49m\u001b[43mmodel\u001b[49m\u001b[43m,\u001b[49m\u001b[43m \u001b[49m\u001b[43mpercentile\u001b[49m\u001b[38;5;241;43m=\u001b[39;49m\u001b[38;5;241;43m20\u001b[39;49m\u001b[43m)\u001b[49m\n",
      "Cell \u001b[0;32mIn[247], line 16\u001b[0m, in \u001b[0;36mget_models\u001b[0;34m(X, Y, pca_projs, dirs, model, percentile)\u001b[0m\n\u001b[1;32m     14\u001b[0m \u001b[38;5;28mprint\u001b[39m(\u001b[38;5;124m\"\u001b[39m\u001b[38;5;124mCHECKKKKK \u001b[39m\u001b[38;5;124m\"\u001b[39m, np\u001b[38;5;241m.\u001b[39mmean(get_rand_feats(X_sub\u001b[38;5;129m@pca_projs\u001b[39m, model)))\n\u001b[1;32m     15\u001b[0m \u001b[38;5;28mprint\u001b[39m(np\u001b[38;5;241m.\u001b[39msum(X), np\u001b[38;5;241m.\u001b[39msum(X\u001b[38;5;129m@pca_projs\u001b[39m))\n\u001b[0;32m---> 16\u001b[0m beta, supp \u001b[38;5;241m=\u001b[39m \u001b[43mlinear_coefs\u001b[49m\u001b[43m(\u001b[49m\u001b[43mget_rand_feats\u001b[49m\u001b[43m(\u001b[49m\u001b[43mX_sub\u001b[49m\u001b[38;5;129;43m@pca_projs\u001b[39;49m\u001b[43m,\u001b[49m\u001b[43m \u001b[49m\u001b[43mmodel\u001b[49m\u001b[43m)\u001b[49m\u001b[43m,\u001b[49m\u001b[43m \u001b[49m\u001b[43mnp\u001b[49m\u001b[38;5;241;43m.\u001b[39;49m\u001b[43margwhere\u001b[49m\u001b[43m(\u001b[49m\u001b[43mX_ids\u001b[49m\u001b[43m)\u001b[49m\u001b[43m,\u001b[49m\u001b[43m \u001b[49m\u001b[43mY_sub\u001b[49m\u001b[43m)\u001b[49m\n\u001b[1;32m     17\u001b[0m \u001b[38;5;28mprint\u001b[39m(\u001b[38;5;124m\"\u001b[39m\u001b[38;5;124mDir\u001b[39m\u001b[38;5;124m\"\u001b[39m, \u001b[38;5;28mdir\u001b[39m)\n\u001b[1;32m     18\u001b[0m \u001b[38;5;28mprint\u001b[39m(\u001b[38;5;124m\"\u001b[39m\u001b[38;5;124mBeta\u001b[39m\u001b[38;5;124m\"\u001b[39m, beta)\n",
      "Cell \u001b[0;32mIn[192], line 25\u001b[0m, in \u001b[0;36mlinear_coefs\u001b[0;34m(X, X_ids, Y)\u001b[0m\n\u001b[1;32m     22\u001b[0m support \u001b[38;5;241m=\u001b[39m get_supp(support)\n\u001b[1;32m     24\u001b[0m \u001b[38;5;66;03m# clf = LogisticRegression(random_state=0).fit(X, Y)\u001b[39;00m\n\u001b[0;32m---> 25\u001b[0m \u001b[38;5;28mprint\u001b[39m(\u001b[43mclf\u001b[49m\u001b[38;5;241;43m.\u001b[39;49m\u001b[43mscore\u001b[49m\u001b[43m(\u001b[49m\u001b[43mX\u001b[49m\u001b[43m,\u001b[49m\u001b[43m \u001b[49m\u001b[43mY\u001b[49m\u001b[43m)\u001b[49m)\n\u001b[1;32m     26\u001b[0m wgts \u001b[38;5;241m=\u001b[39m np\u001b[38;5;241m.\u001b[39mhstack((clf\u001b[38;5;241m.\u001b[39mintercept_[:,\u001b[38;5;28;01mNone\u001b[39;00m], clf\u001b[38;5;241m.\u001b[39mcoef_))\n\u001b[1;32m     27\u001b[0m \u001b[38;5;28mprint\u001b[39m(wgts\u001b[38;5;241m.\u001b[39mshape)\n",
      "File \u001b[0;32m/playpen/debman/ood/lib/python3.8/site-packages/sklearn/base.py:706\u001b[0m, in \u001b[0;36mClassifierMixin.score\u001b[0;34m(self, X, y, sample_weight)\u001b[0m\n\u001b[1;32m    681\u001b[0m \u001b[38;5;250m\u001b[39m\u001b[38;5;124;03m\"\"\"\u001b[39;00m\n\u001b[1;32m    682\u001b[0m \u001b[38;5;124;03mReturn the mean accuracy on the given test data and labels.\u001b[39;00m\n\u001b[1;32m    683\u001b[0m \n\u001b[0;32m   (...)\u001b[0m\n\u001b[1;32m    702\u001b[0m \u001b[38;5;124;03m    Mean accuracy of ``self.predict(X)`` w.r.t. `y`.\u001b[39;00m\n\u001b[1;32m    703\u001b[0m \u001b[38;5;124;03m\"\"\"\u001b[39;00m\n\u001b[1;32m    704\u001b[0m \u001b[38;5;28;01mfrom\u001b[39;00m \u001b[38;5;21;01m.\u001b[39;00m\u001b[38;5;21;01mmetrics\u001b[39;00m \u001b[38;5;28;01mimport\u001b[39;00m accuracy_score\n\u001b[0;32m--> 706\u001b[0m \u001b[38;5;28;01mreturn\u001b[39;00m accuracy_score(y, \u001b[38;5;28;43mself\u001b[39;49m\u001b[38;5;241;43m.\u001b[39;49m\u001b[43mpredict\u001b[49m\u001b[43m(\u001b[49m\u001b[43mX\u001b[49m\u001b[43m)\u001b[49m, sample_weight\u001b[38;5;241m=\u001b[39msample_weight)\n",
      "File \u001b[0;32m/playpen/debman/ood/lib/python3.8/site-packages/sklearn/svm/_base.py:818\u001b[0m, in \u001b[0;36mBaseSVC.predict\u001b[0;34m(self, X)\u001b[0m\n\u001b[1;32m    816\u001b[0m     y \u001b[38;5;241m=\u001b[39m np\u001b[38;5;241m.\u001b[39margmax(\u001b[38;5;28mself\u001b[39m\u001b[38;5;241m.\u001b[39mdecision_function(X), axis\u001b[38;5;241m=\u001b[39m\u001b[38;5;241m1\u001b[39m)\n\u001b[1;32m    817\u001b[0m \u001b[38;5;28;01melse\u001b[39;00m:\n\u001b[0;32m--> 818\u001b[0m     y \u001b[38;5;241m=\u001b[39m \u001b[38;5;28;43msuper\u001b[39;49m\u001b[43m(\u001b[49m\u001b[43m)\u001b[49m\u001b[38;5;241;43m.\u001b[39;49m\u001b[43mpredict\u001b[49m\u001b[43m(\u001b[49m\u001b[43mX\u001b[49m\u001b[43m)\u001b[49m\n\u001b[1;32m    819\u001b[0m \u001b[38;5;28;01mreturn\u001b[39;00m \u001b[38;5;28mself\u001b[39m\u001b[38;5;241m.\u001b[39mclasses_\u001b[38;5;241m.\u001b[39mtake(np\u001b[38;5;241m.\u001b[39masarray(y, dtype\u001b[38;5;241m=\u001b[39mnp\u001b[38;5;241m.\u001b[39mintp))\n",
      "File \u001b[0;32m/playpen/debman/ood/lib/python3.8/site-packages/sklearn/svm/_base.py:433\u001b[0m, in \u001b[0;36mBaseLibSVM.predict\u001b[0;34m(self, X)\u001b[0m\n\u001b[1;32m    431\u001b[0m X \u001b[38;5;241m=\u001b[39m \u001b[38;5;28mself\u001b[39m\u001b[38;5;241m.\u001b[39m_validate_for_predict(X)\n\u001b[1;32m    432\u001b[0m predict \u001b[38;5;241m=\u001b[39m \u001b[38;5;28mself\u001b[39m\u001b[38;5;241m.\u001b[39m_sparse_predict \u001b[38;5;28;01mif\u001b[39;00m \u001b[38;5;28mself\u001b[39m\u001b[38;5;241m.\u001b[39m_sparse \u001b[38;5;28;01melse\u001b[39;00m \u001b[38;5;28mself\u001b[39m\u001b[38;5;241m.\u001b[39m_dense_predict\n\u001b[0;32m--> 433\u001b[0m \u001b[38;5;28;01mreturn\u001b[39;00m \u001b[43mpredict\u001b[49m\u001b[43m(\u001b[49m\u001b[43mX\u001b[49m\u001b[43m)\u001b[49m\n",
      "File \u001b[0;32m/playpen/debman/ood/lib/python3.8/site-packages/sklearn/svm/_base.py:452\u001b[0m, in \u001b[0;36mBaseLibSVM._dense_predict\u001b[0;34m(self, X)\u001b[0m\n\u001b[1;32m    444\u001b[0m         \u001b[38;5;28;01mraise\u001b[39;00m \u001b[38;5;167;01mValueError\u001b[39;00m(\n\u001b[1;32m    445\u001b[0m             \u001b[38;5;124m\"\u001b[39m\u001b[38;5;124mX.shape[1] = \u001b[39m\u001b[38;5;132;01m%d\u001b[39;00m\u001b[38;5;124m should be equal to \u001b[39m\u001b[38;5;132;01m%d\u001b[39;00m\u001b[38;5;124m, \u001b[39m\u001b[38;5;124m\"\u001b[39m\n\u001b[1;32m    446\u001b[0m             \u001b[38;5;124m\"\u001b[39m\u001b[38;5;124mthe number of samples at training time\u001b[39m\u001b[38;5;124m\"\u001b[39m\n\u001b[1;32m    447\u001b[0m             \u001b[38;5;241m%\u001b[39m (X\u001b[38;5;241m.\u001b[39mshape[\u001b[38;5;241m1\u001b[39m], \u001b[38;5;28mself\u001b[39m\u001b[38;5;241m.\u001b[39mshape_fit_[\u001b[38;5;241m0\u001b[39m])\n\u001b[1;32m    448\u001b[0m         )\n\u001b[1;32m    450\u001b[0m svm_type \u001b[38;5;241m=\u001b[39m LIBSVM_IMPL\u001b[38;5;241m.\u001b[39mindex(\u001b[38;5;28mself\u001b[39m\u001b[38;5;241m.\u001b[39m_impl)\n\u001b[0;32m--> 452\u001b[0m \u001b[38;5;28;01mreturn\u001b[39;00m \u001b[43mlibsvm\u001b[49m\u001b[38;5;241;43m.\u001b[39;49m\u001b[43mpredict\u001b[49m\u001b[43m(\u001b[49m\n\u001b[1;32m    453\u001b[0m \u001b[43m    \u001b[49m\u001b[43mX\u001b[49m\u001b[43m,\u001b[49m\n\u001b[1;32m    454\u001b[0m \u001b[43m    \u001b[49m\u001b[38;5;28;43mself\u001b[39;49m\u001b[38;5;241;43m.\u001b[39;49m\u001b[43msupport_\u001b[49m\u001b[43m,\u001b[49m\n\u001b[1;32m    455\u001b[0m \u001b[43m    \u001b[49m\u001b[38;5;28;43mself\u001b[39;49m\u001b[38;5;241;43m.\u001b[39;49m\u001b[43msupport_vectors_\u001b[49m\u001b[43m,\u001b[49m\n\u001b[1;32m    456\u001b[0m \u001b[43m    \u001b[49m\u001b[38;5;28;43mself\u001b[39;49m\u001b[38;5;241;43m.\u001b[39;49m\u001b[43m_n_support\u001b[49m\u001b[43m,\u001b[49m\n\u001b[1;32m    457\u001b[0m \u001b[43m    \u001b[49m\u001b[38;5;28;43mself\u001b[39;49m\u001b[38;5;241;43m.\u001b[39;49m\u001b[43m_dual_coef_\u001b[49m\u001b[43m,\u001b[49m\n\u001b[1;32m    458\u001b[0m \u001b[43m    \u001b[49m\u001b[38;5;28;43mself\u001b[39;49m\u001b[38;5;241;43m.\u001b[39;49m\u001b[43m_intercept_\u001b[49m\u001b[43m,\u001b[49m\n\u001b[1;32m    459\u001b[0m \u001b[43m    \u001b[49m\u001b[38;5;28;43mself\u001b[39;49m\u001b[38;5;241;43m.\u001b[39;49m\u001b[43m_probA\u001b[49m\u001b[43m,\u001b[49m\n\u001b[1;32m    460\u001b[0m \u001b[43m    \u001b[49m\u001b[38;5;28;43mself\u001b[39;49m\u001b[38;5;241;43m.\u001b[39;49m\u001b[43m_probB\u001b[49m\u001b[43m,\u001b[49m\n\u001b[1;32m    461\u001b[0m \u001b[43m    \u001b[49m\u001b[43msvm_type\u001b[49m\u001b[38;5;241;43m=\u001b[39;49m\u001b[43msvm_type\u001b[49m\u001b[43m,\u001b[49m\n\u001b[1;32m    462\u001b[0m \u001b[43m    \u001b[49m\u001b[43mkernel\u001b[49m\u001b[38;5;241;43m=\u001b[39;49m\u001b[43mkernel\u001b[49m\u001b[43m,\u001b[49m\n\u001b[1;32m    463\u001b[0m \u001b[43m    \u001b[49m\u001b[43mdegree\u001b[49m\u001b[38;5;241;43m=\u001b[39;49m\u001b[38;5;28;43mself\u001b[39;49m\u001b[38;5;241;43m.\u001b[39;49m\u001b[43mdegree\u001b[49m\u001b[43m,\u001b[49m\n\u001b[1;32m    464\u001b[0m \u001b[43m    \u001b[49m\u001b[43mcoef0\u001b[49m\u001b[38;5;241;43m=\u001b[39;49m\u001b[38;5;28;43mself\u001b[39;49m\u001b[38;5;241;43m.\u001b[39;49m\u001b[43mcoef0\u001b[49m\u001b[43m,\u001b[49m\n\u001b[1;32m    465\u001b[0m \u001b[43m    \u001b[49m\u001b[43mgamma\u001b[49m\u001b[38;5;241;43m=\u001b[39;49m\u001b[38;5;28;43mself\u001b[39;49m\u001b[38;5;241;43m.\u001b[39;49m\u001b[43m_gamma\u001b[49m\u001b[43m,\u001b[49m\n\u001b[1;32m    466\u001b[0m \u001b[43m    \u001b[49m\u001b[43mcache_size\u001b[49m\u001b[38;5;241;43m=\u001b[39;49m\u001b[38;5;28;43mself\u001b[39;49m\u001b[38;5;241;43m.\u001b[39;49m\u001b[43mcache_size\u001b[49m\u001b[43m,\u001b[49m\n\u001b[1;32m    467\u001b[0m \u001b[43m\u001b[49m\u001b[43m)\u001b[49m\n",
      "\u001b[0;31mKeyboardInterrupt\u001b[0m: "
     ]
    }
   ],
   "source": [
    "np.random.seed(74)\n",
    "X_prjs = np.array(X@pca_projs)\n",
    "# model = define_rand_feats(X_prjs, Dx[2])\n",
    "model = define_rand_feats(X_prjs, 2)\n",
    "\n",
    "N = 512    # ~ 8k\n",
    "# N = 16    # ~ 8k\n",
    "d = X.shape[-1]\n",
    "random_dirs = np.random.randn(N, d) # Maybe do the random directions in the random feature space??? Feel like that makes more sense\n",
    "\n",
    "random_dirs = random_dirs / np.linalg.norm(random_dirs, axis=1, keepdims=True)\n",
    "\n",
    "#X_subsets, data_ids, Y_subsets, betas = get_models(X, Y, random_dirs, Ws, bs, percentile=33)\n",
    "betas, supps = get_models(X, Y, pca_projs, random_dirs, model, percentile=20)"
   ]
  },
  {
   "cell_type": "code",
   "execution_count": null,
   "metadata": {},
   "outputs": [],
   "source": [
    "# directional sampling\n",
    "# pick direction and find beta\n",
    "# find poor performing points' clusters means say at x+10, x+30 ... % data (x is what was trained on)\n",
    "# add all those cluster mean directions to the random_dir set\n",
    "# repeat \n",
    "# should improve accuracy since poor performing points get classified and also reduce number of betas required\n"
   ]
  },
  {
   "cell_type": "code",
   "execution_count": 36,
   "metadata": {
    "scrolled": true
   },
   "outputs": [
    {
     "name": "stdout",
     "output_type": "stream",
     "text": [
      "New dirs:  1\n",
      "Step 0\n",
      "(1200, 1024) (5997,)\n",
      "0.9966666666666667\n",
      "(1, 2449)\n",
      "Total dirs:  1\n",
      "New dirs:  10\n",
      "Step 0\n",
      "(1200, 1024) (5997,)\n",
      "0.9975\n",
      "(1, 2449)\n",
      "(1200, 1024) (5997,)\n",
      "0.9933333333333333\n",
      "(1, 2449)\n",
      "(1200, 1024) (5997,)\n",
      "0.9958333333333333\n",
      "(1, 2449)\n",
      "(1200, 1024) (5997,)\n",
      "0.9958333333333333\n",
      "(1, 2449)\n",
      "(1200, 1024) (5997,)\n",
      "0.9966666666666667\n",
      "(1, 2449)\n",
      "(1200, 1024) (5997,)\n",
      "0.9983333333333333\n",
      "(1, 2449)\n",
      "(1200, 1024) (5997,)\n",
      "0.995\n",
      "(1, 2449)\n",
      "(1200, 1024) (5997,)\n",
      "0.9925\n",
      "(1, 2449)\n",
      "(1200, 1024) (5997,)\n",
      "0.995\n",
      "(1, 2449)\n",
      "Done\n",
      "(1200, 1024) (5997,)\n",
      "0.9966666666666667\n",
      "(1, 2449)\n",
      "Total dirs:  11\n",
      "New dirs:  50\n",
      "Step 0\n",
      "(1200, 1024) (5997,)\n",
      "0.9958333333333333\n",
      "(1, 2449)\n",
      "(1200, 1024) (5997,)\n",
      "0.9958333333333333\n",
      "(1, 2449)\n",
      "(1200, 1024) (5997,)\n",
      "0.995\n",
      "(1, 2449)\n",
      "(1200, 1024) (5997,)\n",
      "0.9966666666666667\n",
      "(1, 2449)\n",
      "(1200, 1024) (5997,)\n",
      "0.9958333333333333\n",
      "(1, 2449)\n",
      "(1200, 1024) (5997,)\n",
      "0.9958333333333333\n",
      "(1, 2449)\n",
      "(1200, 1024) (5997,)\n",
      "0.9966666666666667\n",
      "(1, 2449)\n",
      "(1200, 1024) (5997,)\n",
      "0.9975\n",
      "(1, 2449)\n",
      "(1200, 1024) (5997,)\n",
      "0.9958333333333333\n",
      "(1, 2449)\n",
      "(1200, 1024) (5997,)\n",
      "0.9941666666666666\n",
      "(1, 2449)\n",
      "(1200, 1024) (5997,)\n",
      "0.9958333333333333\n",
      "(1, 2449)\n",
      "(1200, 1024) (5997,)\n",
      "0.9958333333333333\n",
      "(1, 2449)\n",
      "(1200, 1024) (5997,)\n",
      "0.9958333333333333\n",
      "(1, 2449)\n",
      "(1200, 1024) (5997,)\n",
      "0.9941666666666666\n",
      "(1, 2449)\n",
      "(1200, 1024) (5997,)\n",
      "0.995\n",
      "(1, 2449)\n",
      "(1200, 1024) (5997,)\n",
      "0.995\n",
      "(1, 2449)\n",
      "(1200, 1024) (5997,)\n",
      "0.9966666666666667\n",
      "(1, 2449)\n",
      "(1200, 1024) (5997,)\n",
      "0.9933333333333333\n",
      "(1, 2449)\n",
      "(1200, 1024) (5997,)\n",
      "0.9916666666666667\n",
      "(1, 2449)\n",
      "(1200, 1024) (5997,)\n",
      "0.9975\n",
      "(1, 2449)\n",
      "(1200, 1024) (5997,)\n",
      "0.9958333333333333\n",
      "(1, 2449)\n",
      "(1200, 1024) (5997,)\n",
      "0.995\n",
      "(1, 2449)\n",
      "(1200, 1024) (5997,)\n",
      "0.9941666666666666\n",
      "(1, 2449)\n",
      "(1200, 1024) (5997,)\n",
      "0.9975\n",
      "(1, 2449)\n",
      "(1200, 1024) (5997,)\n",
      "0.9941666666666666\n",
      "(1, 2449)\n",
      "Step 25\n",
      "(1200, 1024) (5997,)\n",
      "0.9941666666666666\n",
      "(1, 2449)\n",
      "(1200, 1024) (5997,)\n",
      "0.9958333333333333\n",
      "(1, 2449)\n",
      "(1200, 1024) (5997,)\n",
      "0.9958333333333333\n",
      "(1, 2449)\n",
      "(1200, 1024) (5997,)\n",
      "0.995\n",
      "(1, 2449)\n",
      "(1200, 1024) (5997,)\n",
      "0.9983333333333333\n",
      "(1, 2449)\n",
      "(1200, 1024) (5997,)\n",
      "0.9958333333333333\n",
      "(1, 2449)\n",
      "(1200, 1024) (5997,)\n",
      "0.9933333333333333\n",
      "(1, 2449)\n",
      "(1202, 1024) (5997,)\n",
      "0.997504159733777\n",
      "(1, 2449)\n",
      "(1200, 1024) (5997,)\n",
      "0.9941666666666666\n",
      "(1, 2449)\n",
      "(1200, 1024) (5997,)\n",
      "0.9966666666666667\n",
      "(1, 2449)\n",
      "(1200, 1024) (5997,)\n",
      "0.9925\n",
      "(1, 2449)\n",
      "(1200, 1024) (5997,)\n",
      "0.9966666666666667\n",
      "(1, 2449)\n",
      "(1200, 1024) (5997,)\n",
      "0.9933333333333333\n",
      "(1, 2449)\n",
      "(1200, 1024) (5997,)\n",
      "0.9941666666666666\n",
      "(1, 2449)\n",
      "(1200, 1024) (5997,)\n",
      "0.9958333333333333\n",
      "(1, 2449)\n",
      "(1200, 1024) (5997,)\n",
      "0.9975\n",
      "(1, 2449)\n",
      "(1200, 1024) (5997,)\n",
      "0.9941666666666666\n",
      "(1, 2449)\n",
      "(1200, 1024) (5997,)\n",
      "0.995\n",
      "(1, 2449)\n",
      "(1200, 1024) (5997,)\n",
      "0.9933333333333333\n",
      "(1, 2449)\n",
      "(1200, 1024) (5997,)\n",
      "0.9958333333333333\n",
      "(1, 2449)\n",
      "(1200, 1024) (5997,)\n",
      "0.9958333333333333\n",
      "(1, 2449)\n",
      "(1200, 1024) (5997,)\n",
      "0.9941666666666666\n",
      "(1, 2449)\n",
      "(1200, 1024) (5997,)\n",
      "0.9958333333333333\n",
      "(1, 2449)\n",
      "(1200, 1024) (5997,)\n",
      "0.9958333333333333\n",
      "(1, 2449)\n",
      "Done\n",
      "(1200, 1024) (5997,)\n",
      "0.9975\n",
      "(1, 2449)\n",
      "Total dirs:  61\n",
      "New dirs:  50\n",
      "Step 0\n",
      "(1200, 1024) (5997,)\n",
      "0.9966666666666667\n",
      "(1, 2449)\n",
      "(1200, 1024) (5997,)\n",
      "0.9958333333333333\n",
      "(1, 2449)\n",
      "(1200, 1024) (5997,)\n",
      "0.9958333333333333\n",
      "(1, 2449)\n",
      "(1200, 1024) (5997,)\n",
      "0.9941666666666666\n",
      "(1, 2449)\n",
      "(1200, 1024) (5997,)\n",
      "0.9941666666666666\n",
      "(1, 2449)\n",
      "(1200, 1024) (5997,)\n",
      "0.9941666666666666\n",
      "(1, 2449)\n",
      "(1200, 1024) (5997,)\n",
      "0.995\n",
      "(1, 2449)\n",
      "(1200, 1024) (5997,)\n",
      "0.9958333333333333\n",
      "(1, 2449)\n",
      "(1202, 1024) (5997,)\n",
      "0.9941763727121464\n",
      "(1, 2449)\n",
      "(1200, 1024) (5997,)\n",
      "0.9933333333333333\n",
      "(1, 2449)\n",
      "(1200, 1024) (5997,)\n",
      "0.9958333333333333\n",
      "(1, 2449)\n",
      "(1200, 1024) (5997,)\n",
      "0.9941666666666666\n",
      "(1, 2449)\n",
      "(1200, 1024) (5997,)\n",
      "0.995\n",
      "(1, 2449)\n",
      "(1200, 1024) (5997,)\n",
      "0.9975\n",
      "(1, 2449)\n",
      "(1200, 1024) (5997,)\n",
      "0.9958333333333333\n",
      "(1, 2449)\n",
      "(1200, 1024) (5997,)\n",
      "0.9933333333333333\n",
      "(1, 2449)\n",
      "(1200, 1024) (5997,)\n",
      "0.9925\n",
      "(1, 2449)\n",
      "(1200, 1024) (5997,)\n",
      "0.9958333333333333\n",
      "(1, 2449)\n",
      "(1200, 1024) (5997,)\n",
      "0.995\n",
      "(1, 2449)\n",
      "(1200, 1024) (5997,)\n",
      "0.9975\n",
      "(1, 2449)\n",
      "(1200, 1024) (5997,)\n",
      "0.9933333333333333\n",
      "(1, 2449)\n",
      "(1200, 1024) (5997,)\n",
      "0.9975\n",
      "(1, 2449)\n",
      "(1200, 1024) (5997,)\n",
      "0.995\n",
      "(1, 2449)\n",
      "(1200, 1024) (5997,)\n",
      "0.9941666666666666\n",
      "(1, 2449)\n",
      "(1200, 1024) (5997,)\n",
      "0.9975\n",
      "(1, 2449)\n",
      "Step 25\n",
      "(1200, 1024) (5997,)\n",
      "0.9933333333333333\n",
      "(1, 2449)\n",
      "(1200, 1024) (5997,)\n",
      "0.9933333333333333\n",
      "(1, 2449)\n",
      "(1200, 1024) (5997,)\n",
      "0.9941666666666666\n",
      "(1, 2449)\n",
      "(1200, 1024) (5997,)\n",
      "0.9941666666666666\n",
      "(1, 2449)\n",
      "(1200, 1024) (5997,)\n",
      "0.9975\n",
      "(1, 2449)\n",
      "(1200, 1024) (5997,)\n",
      "0.9966666666666667\n",
      "(1, 2449)\n",
      "(1200, 1024) (5997,)\n",
      "0.995\n",
      "(1, 2449)\n",
      "(1200, 1024) (5997,)\n",
      "0.995\n",
      "(1, 2449)\n",
      "(1200, 1024) (5997,)\n",
      "0.9941666666666666\n",
      "(1, 2449)\n",
      "(1200, 1024) (5997,)\n",
      "0.9983333333333333\n",
      "(1, 2449)\n",
      "(1200, 1024) (5997,)\n",
      "0.9966666666666667\n",
      "(1, 2449)\n",
      "(1200, 1024) (5997,)\n",
      "0.9941666666666666\n",
      "(1, 2449)\n",
      "(1200, 1024) (5997,)\n",
      "0.9941666666666666\n",
      "(1, 2449)\n",
      "(1200, 1024) (5997,)\n",
      "0.9958333333333333\n",
      "(1, 2449)\n",
      "(1200, 1024) (5997,)\n",
      "0.9941666666666666\n",
      "(1, 2449)\n",
      "(1200, 1024) (5997,)\n",
      "0.9925\n",
      "(1, 2449)\n",
      "(1200, 1024) (5997,)\n",
      "0.9966666666666667\n",
      "(1, 2449)\n",
      "(1200, 1024) (5997,)\n",
      "0.9983333333333333\n",
      "(1, 2449)\n",
      "(1200, 1024) (5997,)\n",
      "0.9925\n",
      "(1, 2449)\n",
      "(1200, 1024) (5997,)\n",
      "0.9966666666666667\n",
      "(1, 2449)\n",
      "(1200, 1024) (5997,)\n",
      "0.9958333333333333\n",
      "(1, 2449)\n",
      "(1200, 1024) (5997,)\n",
      "0.9925\n",
      "(1, 2449)\n",
      "(1200, 1024) (5997,)\n",
      "0.9966666666666667\n",
      "(1, 2449)\n",
      "(1200, 1024) (5997,)\n",
      "0.9933333333333333\n",
      "(1, 2449)\n",
      "Done\n",
      "(1200, 1024) (5997,)\n",
      "0.9975\n",
      "(1, 2449)\n",
      "Total dirs:  111\n",
      "New dirs:  50\n",
      "Step 0\n",
      "(1200, 1024) (5997,)\n",
      "0.995\n",
      "(1, 2449)\n",
      "(1200, 1024) (5997,)\n",
      "0.995\n",
      "(1, 2449)\n",
      "(1200, 1024) (5997,)\n",
      "0.9966666666666667\n",
      "(1, 2449)\n",
      "(1200, 1024) (5997,)\n",
      "0.9958333333333333\n",
      "(1, 2449)\n",
      "(1200, 1024) (5997,)\n",
      "0.9975\n",
      "(1, 2449)\n",
      "(1200, 1024) (5997,)\n",
      "0.9958333333333333\n",
      "(1, 2449)\n",
      "(1200, 1024) (5997,)\n",
      "0.9941666666666666\n",
      "(1, 2449)\n",
      "(1200, 1024) (5997,)\n",
      "0.9975\n",
      "(1, 2449)\n",
      "(1200, 1024) (5997,)\n",
      "0.9966666666666667\n",
      "(1, 2449)\n",
      "(1200, 1024) (5997,)\n",
      "0.9966666666666667\n",
      "(1, 2449)\n",
      "(1200, 1024) (5997,)\n",
      "0.9933333333333333\n",
      "(1, 2449)\n",
      "(1200, 1024) (5997,)\n",
      "0.995\n",
      "(1, 2449)\n",
      "(1200, 1024) (5997,)\n",
      "0.9958333333333333\n",
      "(1, 2449)\n",
      "(1201, 1024) (5997,)\n",
      "0.9966694421315571\n",
      "(1, 2449)\n",
      "(1200, 1024) (5997,)\n",
      "0.9975\n",
      "(1, 2449)\n",
      "(1200, 1024) (5997,)\n",
      "0.9975\n",
      "(1, 2449)\n",
      "(1200, 1024) (5997,)\n",
      "0.9958333333333333\n",
      "(1, 2449)\n",
      "(1200, 1024) (5997,)\n",
      "0.9958333333333333\n",
      "(1, 2449)\n",
      "(1200, 1024) (5997,)\n",
      "0.9966666666666667\n",
      "(1, 2449)\n",
      "(1200, 1024) (5997,)\n",
      "0.9958333333333333\n",
      "(1, 2449)\n",
      "(1200, 1024) (5997,)\n",
      "0.9925\n",
      "(1, 2449)\n",
      "(1200, 1024) (5997,)\n",
      "0.9925\n",
      "(1, 2449)\n",
      "(1200, 1024) (5997,)\n",
      "0.9975\n",
      "(1, 2449)\n",
      "(1200, 1024) (5997,)\n",
      "0.9966666666666667\n",
      "(1, 2449)\n",
      "(1200, 1024) (5997,)\n",
      "0.9916666666666667\n",
      "(1, 2449)\n",
      "Step 25\n",
      "(1200, 1024) (5997,)\n",
      "0.9941666666666666\n",
      "(1, 2449)\n",
      "(1200, 1024) (5997,)\n",
      "0.995\n",
      "(1, 2449)\n",
      "(1200, 1024) (5997,)\n",
      "0.9966666666666667\n",
      "(1, 2449)\n",
      "(1200, 1024) (5997,)\n",
      "0.9958333333333333\n",
      "(1, 2449)\n",
      "(1200, 1024) (5997,)\n",
      "0.9966666666666667\n",
      "(1, 2449)\n",
      "(1200, 1024) (5997,)\n",
      "0.9958333333333333\n",
      "(1, 2449)\n",
      "(1200, 1024) (5997,)\n",
      "0.9958333333333333\n",
      "(1, 2449)\n",
      "(1200, 1024) (5997,)\n",
      "0.9933333333333333\n",
      "(1, 2449)\n",
      "(1200, 1024) (5997,)\n",
      "0.9975\n",
      "(1, 2449)\n",
      "(1200, 1024) (5997,)\n",
      "0.9933333333333333\n",
      "(1, 2449)\n",
      "(1200, 1024) (5997,)\n",
      "0.995\n",
      "(1, 2449)\n",
      "(1200, 1024) (5997,)\n",
      "0.9958333333333333\n",
      "(1, 2449)\n",
      "(1200, 1024) (5997,)\n",
      "0.995\n",
      "(1, 2449)\n",
      "(1200, 1024) (5997,)\n",
      "0.9966666666666667\n",
      "(1, 2449)\n",
      "(1200, 1024) (5997,)\n",
      "0.9925\n",
      "(1, 2449)\n",
      "(1200, 1024) (5997,)\n",
      "0.9925\n",
      "(1, 2449)\n",
      "(1200, 1024) (5997,)\n",
      "0.9925\n",
      "(1, 2449)\n",
      "(1200, 1024) (5997,)\n",
      "0.995\n",
      "(1, 2449)\n",
      "(1200, 1024) (5997,)\n",
      "0.9983333333333333\n",
      "(1, 2449)\n",
      "(1200, 1024) (5997,)\n",
      "0.995\n",
      "(1, 2449)\n",
      "(1200, 1024) (5997,)\n",
      "0.9925\n",
      "(1, 2449)\n",
      "(1200, 1024) (5997,)\n",
      "0.9941666666666666\n",
      "(1, 2449)\n",
      "(1200, 1024) (5997,)\n",
      "0.9941666666666666\n",
      "(1, 2449)\n",
      "(1200, 1024) (5997,)\n",
      "0.995\n",
      "(1, 2449)\n",
      "Done\n",
      "(1200, 1024) (5997,)\n",
      "0.9941666666666666\n",
      "(1, 2449)\n",
      "Total dirs:  161\n",
      "New dirs:  50\n",
      "Step 0\n",
      "(1200, 1024) (5997,)\n",
      "0.9925\n",
      "(1, 2449)\n",
      "(1200, 1024) (5997,)\n",
      "0.9975\n",
      "(1, 2449)\n",
      "(1200, 1024) (5997,)\n",
      "0.9983333333333333\n",
      "(1, 2449)\n",
      "(1200, 1024) (5997,)\n",
      "0.9941666666666666\n",
      "(1, 2449)\n",
      "(1200, 1024) (5997,)\n",
      "0.9958333333333333\n",
      "(1, 2449)\n",
      "(1200, 1024) (5997,)\n",
      "0.9975\n",
      "(1, 2449)\n",
      "(1200, 1024) (5997,)\n",
      "0.9941666666666666\n",
      "(1, 2449)\n",
      "(1200, 1024) (5997,)\n",
      "0.995\n",
      "(1, 2449)\n",
      "(1200, 1024) (5997,)\n",
      "0.9958333333333333\n",
      "(1, 2449)\n",
      "(1200, 1024) (5997,)\n",
      "0.9975\n",
      "(1, 2449)\n",
      "(1200, 1024) (5997,)\n",
      "0.9975\n",
      "(1, 2449)\n",
      "(1200, 1024) (5997,)\n",
      "0.9925\n",
      "(1, 2449)\n",
      "(1200, 1024) (5997,)\n",
      "0.995\n",
      "(1, 2449)\n",
      "(1200, 1024) (5997,)\n",
      "0.9941666666666666\n",
      "(1, 2449)\n",
      "(1200, 1024) (5997,)\n",
      "0.9933333333333333\n",
      "(1, 2449)\n",
      "(1200, 1024) (5997,)\n",
      "0.9941666666666666\n",
      "(1, 2449)\n",
      "(1200, 1024) (5997,)\n",
      "0.9958333333333333\n",
      "(1, 2449)\n",
      "(1200, 1024) (5997,)\n",
      "0.9966666666666667\n",
      "(1, 2449)\n",
      "(1200, 1024) (5997,)\n",
      "0.9966666666666667\n",
      "(1, 2449)\n",
      "(1200, 1024) (5997,)\n",
      "0.9941666666666666\n",
      "(1, 2449)\n",
      "(1200, 1024) (5997,)\n",
      "0.9933333333333333\n",
      "(1, 2449)\n",
      "(1200, 1024) (5997,)\n",
      "0.9925\n",
      "(1, 2449)\n",
      "(1200, 1024) (5997,)\n",
      "0.995\n",
      "(1, 2449)\n",
      "(1200, 1024) (5997,)\n",
      "0.9941666666666666\n",
      "(1, 2449)\n",
      "(1200, 1024) (5997,)\n",
      "0.9958333333333333\n",
      "(1, 2449)\n",
      "Step 25\n",
      "(1200, 1024) (5997,)\n",
      "0.9958333333333333\n",
      "(1, 2449)\n",
      "(1200, 1024) (5997,)\n",
      "0.995\n",
      "(1, 2449)\n",
      "(1200, 1024) (5997,)\n",
      "0.9966666666666667\n",
      "(1, 2449)\n",
      "(1200, 1024) (5997,)\n",
      "0.995\n",
      "(1, 2449)\n",
      "(1200, 1024) (5997,)\n",
      "0.995\n",
      "(1, 2449)\n",
      "(1200, 1024) (5997,)\n",
      "0.995\n",
      "(1, 2449)\n",
      "(1200, 1024) (5997,)\n",
      "0.9925\n",
      "(1, 2449)\n",
      "(1200, 1024) (5997,)\n",
      "0.9933333333333333\n",
      "(1, 2449)\n",
      "(1200, 1024) (5997,)\n",
      "0.9933333333333333\n",
      "(1, 2449)\n",
      "(1200, 1024) (5997,)\n",
      "0.9975\n",
      "(1, 2449)\n",
      "(1200, 1024) (5997,)\n",
      "0.9966666666666667\n",
      "(1, 2449)\n",
      "(1200, 1024) (5997,)\n",
      "0.9958333333333333\n",
      "(1, 2449)\n",
      "(1200, 1024) (5997,)\n",
      "0.9958333333333333\n",
      "(1, 2449)\n",
      "(1200, 1024) (5997,)\n",
      "0.9941666666666666\n",
      "(1, 2449)\n",
      "(1200, 1024) (5997,)\n",
      "0.995\n",
      "(1, 2449)\n",
      "(1201, 1024) (5997,)\n",
      "0.9950041631973355\n",
      "(1, 2449)\n",
      "(1200, 1024) (5997,)\n",
      "0.9966666666666667\n",
      "(1, 2449)\n",
      "(1200, 1024) (5997,)\n",
      "0.9933333333333333\n",
      "(1, 2449)\n",
      "(1200, 1024) (5997,)\n",
      "0.9966666666666667\n",
      "(1, 2449)\n",
      "(1200, 1024) (5997,)\n",
      "0.9966666666666667\n",
      "(1, 2449)\n",
      "(1200, 1024) (5997,)\n",
      "0.9975\n",
      "(1, 2449)\n",
      "(1200, 1024) (5997,)\n",
      "0.9966666666666667\n",
      "(1, 2449)\n",
      "(1200, 1024) (5997,)\n",
      "0.995\n",
      "(1, 2449)\n",
      "(1200, 1024) (5997,)\n",
      "0.9925\n",
      "(1, 2449)\n",
      "Done\n",
      "(1200, 1024) (5997,)\n",
      "0.9958333333333333\n",
      "(1, 2449)\n",
      "Total dirs:  211\n",
      "New dirs:  50\n",
      "Step 0\n",
      "(1200, 1024) (5997,)\n",
      "0.9941666666666666\n",
      "(1, 2449)\n",
      "(1200, 1024) (5997,)\n",
      "0.9925\n",
      "(1, 2449)\n",
      "(1200, 1024) (5997,)\n",
      "0.9975\n",
      "(1, 2449)\n",
      "(1200, 1024) (5997,)\n",
      "0.995\n",
      "(1, 2449)\n",
      "(1200, 1024) (5997,)\n",
      "0.995\n",
      "(1, 2449)\n",
      "(1200, 1024) (5997,)\n",
      "0.9958333333333333\n",
      "(1, 2449)\n",
      "(1200, 1024) (5997,)\n",
      "0.995\n",
      "(1, 2449)\n",
      "(1200, 1024) (5997,)\n",
      "0.9966666666666667\n",
      "(1, 2449)\n",
      "(1200, 1024) (5997,)\n",
      "0.9966666666666667\n",
      "(1, 2449)\n",
      "(1200, 1024) (5997,)\n",
      "0.9958333333333333\n",
      "(1, 2449)\n",
      "(1200, 1024) (5997,)\n",
      "0.9958333333333333\n",
      "(1, 2449)\n",
      "(1200, 1024) (5997,)\n",
      "0.9941666666666666\n",
      "(1, 2449)\n",
      "(1200, 1024) (5997,)\n",
      "0.995\n",
      "(1, 2449)\n",
      "(1200, 1024) (5997,)\n",
      "0.9941666666666666\n",
      "(1, 2449)\n",
      "(1200, 1024) (5997,)\n",
      "0.9966666666666667\n",
      "(1, 2449)\n",
      "(1200, 1024) (5997,)\n",
      "0.9925\n",
      "(1, 2449)\n",
      "(1200, 1024) (5997,)\n",
      "0.9958333333333333\n",
      "(1, 2449)\n",
      "(1200, 1024) (5997,)\n",
      "0.9958333333333333\n",
      "(1, 2449)\n",
      "(1200, 1024) (5997,)\n",
      "0.9941666666666666\n",
      "(1, 2449)\n",
      "(1200, 1024) (5997,)\n",
      "0.9941666666666666\n",
      "(1, 2449)\n",
      "(1200, 1024) (5997,)\n",
      "0.995\n",
      "(1, 2449)\n",
      "(1200, 1024) (5997,)\n",
      "0.9941666666666666\n",
      "(1, 2449)\n",
      "(1201, 1024) (5997,)\n",
      "0.9966694421315571\n",
      "(1, 2449)\n",
      "(1200, 1024) (5997,)\n",
      "0.9958333333333333\n",
      "(1, 2449)\n",
      "(1200, 1024) (5997,)\n",
      "0.9933333333333333\n",
      "(1, 2449)\n",
      "Step 25\n",
      "(1200, 1024) (5997,)\n",
      "0.9933333333333333\n",
      "(1, 2449)\n",
      "(1200, 1024) (5997,)\n",
      "0.9933333333333333\n",
      "(1, 2449)\n",
      "(1200, 1024) (5997,)\n",
      "0.9966666666666667\n",
      "(1, 2449)\n",
      "(1200, 1024) (5997,)\n",
      "0.9941666666666666\n",
      "(1, 2449)\n",
      "(1200, 1024) (5997,)\n",
      "0.9958333333333333\n",
      "(1, 2449)\n",
      "(1200, 1024) (5997,)\n",
      "0.995\n",
      "(1, 2449)\n",
      "(1201, 1024) (5997,)\n",
      "0.9958368026644463\n",
      "(1, 2449)\n",
      "(1200, 1024) (5997,)\n",
      "0.9941666666666666\n",
      "(1, 2449)\n",
      "(1200, 1024) (5997,)\n",
      "0.995\n",
      "(1, 2449)\n",
      "(1200, 1024) (5997,)\n",
      "0.995\n",
      "(1, 2449)\n",
      "(1200, 1024) (5997,)\n",
      "0.9966666666666667\n",
      "(1, 2449)\n",
      "(1200, 1024) (5997,)\n",
      "0.9933333333333333\n",
      "(1, 2449)\n",
      "(1200, 1024) (5997,)\n",
      "0.9966666666666667\n",
      "(1, 2449)\n",
      "(1200, 1024) (5997,)\n",
      "0.9941666666666666\n",
      "(1, 2449)\n",
      "(1200, 1024) (5997,)\n",
      "0.9941666666666666\n",
      "(1, 2449)\n",
      "(1200, 1024) (5997,)\n",
      "0.9941666666666666\n",
      "(1, 2449)\n",
      "(1200, 1024) (5997,)\n",
      "0.9941666666666666\n",
      "(1, 2449)\n",
      "(1200, 1024) (5997,)\n",
      "0.9975\n",
      "(1, 2449)\n",
      "(1200, 1024) (5997,)\n",
      "0.9933333333333333\n",
      "(1, 2449)\n",
      "(1200, 1024) (5997,)\n",
      "0.995\n",
      "(1, 2449)\n",
      "(1200, 1024) (5997,)\n",
      "0.9941666666666666\n",
      "(1, 2449)\n",
      "(1200, 1024) (5997,)\n",
      "0.9966666666666667\n",
      "(1, 2449)\n",
      "(1200, 1024) (5997,)\n",
      "0.9958333333333333\n",
      "(1, 2449)\n",
      "(1200, 1024) (5997,)\n",
      "0.995\n",
      "(1, 2449)\n",
      "Done\n",
      "(1200, 1024) (5997,)\n",
      "0.9966666666666667\n",
      "(1, 2449)\n",
      "Total dirs:  261\n",
      "New dirs:  50\n",
      "Step 0\n",
      "(1201, 1024) (5997,)\n",
      "0.9966694421315571\n",
      "(1, 2449)\n",
      "(1200, 1024) (5997,)\n",
      "0.9941666666666666\n",
      "(1, 2449)\n",
      "(1200, 1024) (5997,)\n",
      "0.9941666666666666\n",
      "(1, 2449)\n",
      "(1200, 1024) (5997,)\n",
      "0.995\n",
      "(1, 2449)\n",
      "(1200, 1024) (5997,)\n",
      "0.9941666666666666\n",
      "(1, 2449)\n",
      "(1200, 1024) (5997,)\n",
      "0.9983333333333333\n",
      "(1, 2449)\n",
      "(1200, 1024) (5997,)\n",
      "0.9933333333333333\n",
      "(1, 2449)\n",
      "(1200, 1024) (5997,)\n",
      "0.9941666666666666\n",
      "(1, 2449)\n",
      "(1200, 1024) (5997,)\n",
      "0.995\n",
      "(1, 2449)\n",
      "(1200, 1024) (5997,)\n",
      "0.9975\n",
      "(1, 2449)\n",
      "(1200, 1024) (5997,)\n",
      "0.9966666666666667\n",
      "(1, 2449)\n",
      "(1200, 1024) (5997,)\n",
      "0.9958333333333333\n",
      "(1, 2449)\n",
      "(1200, 1024) (5997,)\n",
      "0.9975\n",
      "(1, 2449)\n",
      "(1200, 1024) (5997,)\n",
      "0.995\n",
      "(1, 2449)\n",
      "(1200, 1024) (5997,)\n",
      "0.9941666666666666\n",
      "(1, 2449)\n",
      "(1200, 1024) (5997,)\n",
      "0.995\n",
      "(1, 2449)\n",
      "(1200, 1024) (5997,)\n",
      "0.9966666666666667\n",
      "(1, 2449)\n",
      "(1200, 1024) (5997,)\n",
      "0.995\n",
      "(1, 2449)\n",
      "(1200, 1024) (5997,)\n",
      "0.9975\n",
      "(1, 2449)\n",
      "(1200, 1024) (5997,)\n",
      "0.9966666666666667\n",
      "(1, 2449)\n",
      "(1200, 1024) (5997,)\n",
      "0.9933333333333333\n",
      "(1, 2449)\n",
      "(1200, 1024) (5997,)\n",
      "0.9958333333333333\n",
      "(1, 2449)\n",
      "(1200, 1024) (5997,)\n",
      "0.9933333333333333\n",
      "(1, 2449)\n",
      "(1200, 1024) (5997,)\n",
      "0.995\n",
      "(1, 2449)\n",
      "(1200, 1024) (5997,)\n",
      "0.9925\n",
      "(1, 2449)\n",
      "Step 25\n",
      "(1200, 1024) (5997,)\n",
      "0.9958333333333333\n",
      "(1, 2449)\n",
      "(1200, 1024) (5997,)\n",
      "0.9941666666666666\n",
      "(1, 2449)\n",
      "(1200, 1024) (5997,)\n",
      "0.9966666666666667\n",
      "(1, 2449)\n",
      "(1200, 1024) (5997,)\n",
      "0.9958333333333333\n",
      "(1, 2449)\n",
      "(1200, 1024) (5997,)\n",
      "0.995\n",
      "(1, 2449)\n",
      "(1200, 1024) (5997,)\n",
      "0.9975\n",
      "(1, 2449)\n",
      "(1200, 1024) (5997,)\n",
      "0.9966666666666667\n",
      "(1, 2449)\n",
      "(1200, 1024) (5997,)\n",
      "0.9966666666666667\n",
      "(1, 2449)\n",
      "(1201, 1024) (5997,)\n",
      "0.9925062447960034\n",
      "(1, 2449)\n",
      "(1200, 1024) (5997,)\n",
      "0.9958333333333333\n",
      "(1, 2449)\n",
      "(1200, 1024) (5997,)\n",
      "0.9966666666666667\n",
      "(1, 2449)\n",
      "(1200, 1024) (5997,)\n",
      "0.995\n",
      "(1, 2449)\n",
      "(1202, 1024) (5997,)\n",
      "0.9966722129783694\n",
      "(1, 2449)\n",
      "(1200, 1024) (5997,)\n",
      "0.9983333333333333\n",
      "(1, 2449)\n",
      "(1200, 1024) (5997,)\n",
      "0.9958333333333333\n",
      "(1, 2449)\n",
      "(1200, 1024) (5997,)\n",
      "0.9933333333333333\n",
      "(1, 2449)\n",
      "(1200, 1024) (5997,)\n",
      "0.9966666666666667\n",
      "(1, 2449)\n",
      "(1200, 1024) (5997,)\n",
      "0.9958333333333333\n",
      "(1, 2449)\n",
      "(1200, 1024) (5997,)\n",
      "0.995\n",
      "(1, 2449)\n",
      "(1200, 1024) (5997,)\n",
      "0.9941666666666666\n",
      "(1, 2449)\n",
      "(1200, 1024) (5997,)\n",
      "0.9958333333333333\n",
      "(1, 2449)\n",
      "(1200, 1024) (5997,)\n",
      "0.9966666666666667\n",
      "(1, 2449)\n",
      "(1200, 1024) (5997,)\n",
      "0.9958333333333333\n",
      "(1, 2449)\n",
      "(1200, 1024) (5997,)\n",
      "0.9941666666666666\n",
      "(1, 2449)\n",
      "Done\n",
      "(1200, 1024) (5997,)\n",
      "0.9966666666666667\n",
      "(1, 2449)\n",
      "Total dirs:  311\n"
     ]
    }
   ],
   "source": [
    "def softmax(X, wgts):\n",
    "  sd = (1 / (1 + np.exp(-np.concatenate([np.ones((X.shape[0], 1)), X], axis=-1) @ wgts.numpy().T)) > 0.5) *1.0\n",
    "  return sd[:]\n",
    "\n",
    "nclusters = [1, 2, 3, 4, 5, 6, 7, 8, 9]\n",
    "random_dirs = []\n",
    "betas, supps = [], []\n",
    "iters = 100\n",
    "max_rand_dirs = 300\n",
    "new_rand_dirs = np.random.randn(1, d)\n",
    "num_rand_dirs = 0\n",
    "for i in range(iters):\n",
    "    if num_rand_dirs > max_rand_dirs:\n",
    "        break\n",
    "    new_rand_dirs = new_rand_dirs / np.linalg.norm(new_rand_dirs, axis=1, keepdims=True)\n",
    "    new_rand_dirs = new_rand_dirs[np.random.choice(len(new_rand_dirs), size=min(len(new_rand_dirs), 50), replace=False, p=None)]\n",
    "    random_dirs.append(new_rand_dirs)\n",
    "    num_rand_dirs += len(new_rand_dirs)\n",
    "    #print(new_rand_dirs.shape)\n",
    "    print(\"New dirs: \", len(new_rand_dirs))\n",
    "    \n",
    "    _betas, _supps = get_models(X, Y, pca_projs, new_rand_dirs, model, percentile=20)\n",
    "    betas.append(_betas)\n",
    "    supps += _supps\n",
    "    _new_rand_dirs = []\n",
    "    for _dir, _beta in zip(new_rand_dirs, _betas):\n",
    "        for ix, prcnt in enumerate(range(25, 100, 20)):\n",
    "            X_sub, X_ids = project_and_filter(X, _dir, prcnt)\n",
    "            Y_sub = Y[X_ids]\n",
    "            _beta = tf.squeeze(_beta)\n",
    "            _dir = tf.constant(_dir)\n",
    "            prd = softmax(get_rand_feats(X_sub@pca_projs, model), _beta)\n",
    "\n",
    "            incrct = np.where(prd != Y_sub)\n",
    "            # print(len(prd), len(Y_sub), get_rand_feats(X_sub@pca_projs, model).shape, _beta.shape, prd)\n",
    "            incrct_X = get_rand_feats(X_sub[incrct]@pca_projs, model)\n",
    "            if len(incrct_X) < 20:\n",
    "                continue\n",
    "            kmeans = KMeans(n_clusters=nclusters[ix], random_state=0, n_init=\"auto\").fit(incrct_X)\n",
    "            mp = kmeans.cluster_centers_\n",
    "            neigh = NearestNeighbors(n_neighbors=5)\n",
    "            neigh.fit(incrct_X)\n",
    "\n",
    "            n_ind = neigh.kneighbors(mp, 3, return_distance=False)\n",
    "            nngr_id = [_n_ind[np.random.choice(3, 1)[0]] for _n_ind in n_ind]\n",
    "\n",
    "            _new_rand_dirs.append(X_sub[incrct][nngr_id] + np.random.randn(*X_sub[incrct][nngr_id].shape)*0.1)\n",
    "    new_rand_dirs = np.concatenate(_new_rand_dirs, axis=0)\n",
    "    print(\"Total dirs: \", num_rand_dirs)\n",
    "\n",
    "betas = np.concatenate(betas, axis=0)\n",
    "random_dirs = np.concatenate(random_dirs, axis=0)"
   ]
  },
  {
   "cell_type": "code",
   "execution_count": 101,
   "metadata": {},
   "outputs": [
    {
     "data": {
      "text/plain": [
       "(5697, 1024)"
      ]
     },
     "execution_count": 101,
     "metadata": {},
     "output_type": "execute_result"
    }
   ],
   "source": [
    "X_sub.shape"
   ]
  },
  {
   "cell_type": "code",
   "execution_count": 156,
   "metadata": {},
   "outputs": [
    {
     "data": {
      "text/plain": [
       "<tf.Tensor: shape=(), dtype=float64, numpy=-0.1706338411346348>"
      ]
     },
     "execution_count": 156,
     "metadata": {},
     "output_type": "execute_result"
    }
   ],
   "source": [
    "def check_simi(a, b):\n",
    "    return tf.losses.CosineSimilarity()(a, b)    \n",
    "\n",
    "check_simi(betas[2], betas[1])"
   ]
  },
  {
   "cell_type": "code",
   "execution_count": 147,
   "metadata": {
    "id": "7mIR1KmZaMyK"
   },
   "outputs": [],
   "source": [
    "# np.save('random_dirs-chem2.npy', random_dirs)\n",
    "# np.save('betas-chem2.npy', betas)\n",
    "# np.save('Ws-chem2.npy', model.Ws)\n",
    "\n",
    "np.save('chem-random_dirs-svm-best1.npy', random_dirs)\n",
    "np.save('chem-betas-svm-best1.npy', betas)\n",
    "np.save('chem-Ws-svm-best1.npy', model.Ws)\n",
    "\n",
    "np.save('chem-pca_projs_data-svm-best1.npy', pca_projs)\n",
    "np.save('chem-pca_projs_dir-svm-best1.npy', np.identity(X.shape[-1]))\n"
   ]
  },
  {
   "cell_type": "code",
   "execution_count": 77,
   "metadata": {},
   "outputs": [],
   "source": [
    "import pickle\n",
    "# with open(\"chem-supps-svm.npy\", \"wb\") as fp:\n",
    "#     pickle.dump(supps, fp)\n",
    "\n",
    "with open(\"chem-supps-svm-best.npy\", \"rb\") as fp:\n",
    "    supps_b = pickle.load(fp)"
   ]
  },
  {
   "cell_type": "code",
   "execution_count": 271,
   "metadata": {},
   "outputs": [],
   "source": [
    "random_dirs = tf.constant(np.load('./random_dirs-chem2.npy'))\n",
    "betas = tf.squeeze(tf.constant(np.load('./betas-chem2.npy')))\n",
    "model = define_rand_feats(X_prjs, 2)\n",
    "model.Ws = tf.constant(np.load('./Ws-chem2.npy'))"
   ]
  },
  {
   "cell_type": "code",
   "execution_count": 79,
   "metadata": {
    "id": "CnxEkcWwWlwn"
   },
   "outputs": [],
   "source": [
    "\n",
    "\n",
    "random_dirs = tf.constant(np.load('./chem-random_dirs-svm.npy'))\n",
    "betas = tf.squeeze(tf.constant(np.load('./chem-betas-svm.npy')))\n",
    "# model = define_rand_feats(X, 1.5)\n",
    "model = define_rand_feats(X, 2)\n",
    "model.Ws = tf.constant(np.load('./chem-Ws-svm.npy'))"
   ]
  },
  {
   "cell_type": "code",
   "execution_count": 36,
   "metadata": {
    "id": "BCHvO4qeupNQ"
   },
   "outputs": [
    {
     "ename": "NameError",
     "evalue": "name 'random_dirs1' is not defined",
     "output_type": "error",
     "traceback": [
      "\u001b[0;31m---------------------------------------------------------------------------\u001b[0m",
      "\u001b[0;31mNameError\u001b[0m                                 Traceback (most recent call last)",
      "Cell \u001b[0;32mIn[36], line 1\u001b[0m\n\u001b[0;32m----> 1\u001b[0m np\u001b[38;5;241m.\u001b[39mallclose(\u001b[43mrandom_dirs1\u001b[49m, random_dirs)\n",
      "\u001b[0;31mNameError\u001b[0m: name 'random_dirs1' is not defined"
     ]
    }
   ],
   "source": [
    "np.allclose(random_dirs1, random_dirs)"
   ]
  },
  {
   "cell_type": "code",
   "execution_count": 26,
   "metadata": {},
   "outputs": [
    {
     "ename": "NameError",
     "evalue": "name 'random_dirs1' is not defined",
     "output_type": "error",
     "traceback": [
      "\u001b[0;31m---------------------------------------------------------------------------\u001b[0m",
      "\u001b[0;31mNameError\u001b[0m                                 Traceback (most recent call last)",
      "Cell \u001b[0;32mIn[26], line 1\u001b[0m\n\u001b[0;32m----> 1\u001b[0m np\u001b[38;5;241m.\u001b[39msum(\u001b[43mrandom_dirs1\u001b[49m \u001b[38;5;241m-\u001b[39m random_dirs)\n",
      "\u001b[0;31mNameError\u001b[0m: name 'random_dirs1' is not defined"
     ]
    }
   ],
   "source": [
    "np.sum(random_dirs1 - random_dirs)"
   ]
  },
  {
   "cell_type": "code",
   "execution_count": 138,
   "metadata": {
    "colab": {
     "base_uri": "https://localhost:8080/"
    },
    "id": "8QlEhsHL3VV3",
    "outputId": "264b9e19-74f8-4d13-ee50-bb4796f0d4ee"
   },
   "outputs": [
    {
     "name": "stdout",
     "output_type": "stream",
     "text": [
      "(512, 4081)\n",
      "(512, 1024)\n"
     ]
    }
   ],
   "source": [
    "betas = tf.squeeze(betas)\n",
    "print(betas.shape)\n",
    "random_dirs = tf.constant(random_dirs)\n",
    "print(random_dirs.shape)"
   ]
  },
  {
   "cell_type": "code",
   "execution_count": 145,
   "metadata": {
    "colab": {
     "base_uri": "https://localhost:8080/"
    },
    "id": "y_CpbBpp5jpF",
    "outputId": "15119544-cde9-4462-b565-7deb6dd61daf",
    "scrolled": true
   },
   "outputs": [
    {
     "name": "stdout",
     "output_type": "stream",
     "text": [
      "Min var:  2.082857549308727e-06 Max var:  0.09755260247485288 Mean var:  tf.Tensor(0.00026783628375975856, shape=(), dtype=float64)\n"
     ]
    }
   ],
   "source": [
    "# var = tf.math.reduce_variance(betas, axis=0)\n",
    "# mean_var = tf.reduce_mean(var)\n",
    "# print(var)\n",
    "\n",
    "var = tf.math.reduce_variance(betas, axis=0)\n",
    "mean_var = tf.reduce_mean(var)\n",
    "print(\"Min var: \", np.min(var), \"Max var: \", np.max(var), \"Mean var: \", mean_var)"
   ]
  },
  {
   "cell_type": "code",
   "execution_count": 165,
   "metadata": {
    "colab": {
     "base_uri": "https://localhost:8080/"
    },
    "id": "6jsrK0piF7WW",
    "outputId": "b44e65f3-b44b-40fd-e564-63e35d43997c"
   },
   "outputs": [
    {
     "data": {
      "text/plain": [
       "0.932"
      ]
     },
     "execution_count": 165,
     "metadata": {},
     "output_type": "execute_result"
    }
   ],
   "source": [
    "sample = 1\n",
    "def softmax(X, wgts):\n",
    "  sd = (1 / (1 + np.exp(-np.concatenate([np.ones((X.shape[0], 1)), X], axis=-1) @ wgts.numpy().T)) > 0.5) *1.0\n",
    "  return sd[:]\n",
    "\n",
    "def softmax_prob(X, wgts):\n",
    "  sd = (1 / (1 + np.exp(-np.concatenate([np.ones((X.shape[0], 1)), X], axis=-1) @ wgts.numpy().T)) ) *1.0\n",
    "  return sd[:]\n",
    "\n",
    "X_sub, X_ids = project_and_filter(X, random_dirs[sample], 25)\n",
    "Y_sub = Y[X_ids]\n",
    "prd = softmax(get_rand_feats(X_sub@pca_projs, model), betas[sample])\n",
    "\n",
    "(prd == Y_sub).mean()"
   ]
  },
  {
   "cell_type": "code",
   "execution_count": 166,
   "metadata": {},
   "outputs": [],
   "source": [
    "prd1 = prd"
   ]
  },
  {
   "cell_type": "code",
   "execution_count": 167,
   "metadata": {},
   "outputs": [],
   "source": [
    "ex_X = tf.cast(external_X, tf.float32)\n",
    "ex_Y = external_Y\n",
    "ex_X = (ex_X-mu_x)/sigma_x\n"
   ]
  },
  {
   "cell_type": "code",
   "execution_count": 168,
   "metadata": {
    "colab": {
     "base_uri": "https://localhost:8080/"
    },
    "id": "f0NZNorQW0vg",
    "outputId": "afcb4822-0cda-4c13-ea68-8454473bb529"
   },
   "outputs": [
    {
     "data": {
      "text/plain": [
       "0.5446808510638298"
      ]
     },
     "execution_count": 168,
     "metadata": {},
     "output_type": "execute_result"
    }
   ],
   "source": [
    "\n",
    "X_sub, X_ids = project_and_filter(ex_X, random_dirs[10], 25)\n",
    "Y_sub = ex_Y[X_ids]\n",
    "prd = softmax(get_rand_feats(X_sub@pca_projs, model), betas[sample])\n",
    "\n",
    "(prd == Y_sub).mean()"
   ]
  },
  {
   "cell_type": "code",
   "execution_count": 39,
   "metadata": {},
   "outputs": [
    {
     "name": "stdout",
     "output_type": "stream",
     "text": [
      "(937,)\n"
     ]
    }
   ],
   "source": [
    "perds = np.zeros((ex_X.shape[0],))\n",
    "cnt = np.zeros((ex_X.shape[0],))\n",
    "print(perds.shape)\n",
    "for sm in range(512):\n",
    "    X_sub, X_ids = project_and_filter(ex_X, random_dirs[sm], 15)\n",
    "    Y_sub = ex_Y[X_ids]\n",
    "    prd = softmax_prob(get_rand_feats(X_sub@pca_projs, model), betas[sm])\n",
    "    # print(prd.shape, X_ids, ex_X.shape)\n",
    "    perds[X_ids] += prd\n",
    "    cnt[X_ids] += 1\n"
   ]
  },
  {
   "cell_type": "code",
   "execution_count": 72,
   "metadata": {},
   "outputs": [
    {
     "data": {
      "text/plain": [
       "0.501992552056132"
      ]
     },
     "execution_count": 72,
     "metadata": {},
     "output_type": "execute_result"
    }
   ],
   "source": [
    "zer_ids = np.argwhere(cnt!=0)\n",
    "veX = perds[zer_ids]\n",
    "veX /= cnt[zer_ids]\n",
    "((veX>0.5)==Y_sub).mean()"
   ]
  },
  {
   "cell_type": "code",
   "execution_count": 50,
   "metadata": {},
   "outputs": [
    {
     "name": "stdout",
     "output_type": "stream",
     "text": [
      "0.0\n"
     ]
    }
   ],
   "source": [
    "print((np.mean(tf.stack(perds, axis=0), axis=0)==Y_sub).mean())"
   ]
  },
  {
   "cell_type": "code",
   "execution_count": 78,
   "metadata": {
    "scrolled": true
   },
   "outputs": [
    {
     "ename": "TypeError",
     "evalue": "cannot unpack non-iterable NoneType object",
     "output_type": "error",
     "traceback": [
      "\u001b[0;31m---------------------------------------------------------------------------\u001b[0m",
      "\u001b[0;31mTypeError\u001b[0m                                 Traceback (most recent call last)",
      "Cell \u001b[0;32mIn[78], line 1\u001b[0m\n\u001b[0;32m----> 1\u001b[0m supps_0, supps_1 \u001b[38;5;241m=\u001b[39m supps_b[\u001b[38;5;241m0\u001b[39m]\n\u001b[1;32m      2\u001b[0m supps_0\u001b[38;5;241m.\u001b[39mshape, supps_1\n",
      "\u001b[0;31mTypeError\u001b[0m: cannot unpack non-iterable NoneType object"
     ]
    }
   ],
   "source": [
    "supps_0, supps_1 = supps_b[sample]\n",
    "supps_0.shape, supps_1"
   ]
  },
  {
   "cell_type": "code",
   "execution_count": 54,
   "metadata": {},
   "outputs": [
    {
     "data": {
      "text/plain": [
       "array([[-0.04052026, -0.29764882, -0.08170752, ..., -0.04052026,\n",
       "        -0.06053026, -0.03134901],\n",
       "       [-0.04052026, -0.29764882, -0.08170752, ..., -0.04052026,\n",
       "        -0.06053026, -0.03134901],\n",
       "       [-0.04052026,  0.7023512 , -0.08170752, ..., -0.04052026,\n",
       "        -0.06053026, -0.03134901],\n",
       "       ...,\n",
       "       [-0.04052026, -0.29764882, -0.08170752, ..., -0.04052026,\n",
       "        -0.06053026, -0.03134901],\n",
       "       [-0.04052026, -0.29764882,  0.91829246, ..., -0.04052026,\n",
       "        -0.06053026, -0.03134901],\n",
       "       [-0.04052026, -0.29764882,  0.91829246, ..., -0.04052026,\n",
       "        -0.06053026, -0.03134901]], dtype=float32)"
      ]
     },
     "execution_count": 54,
     "metadata": {},
     "output_type": "execute_result"
    }
   ],
   "source": [
    "suppvs_0 = X[supps_0.reshape((-1,))]\n",
    "suppvs_1 = X[supps_1.reshape((-1,))]\n",
    "y_supp_0 = Y[supps_0.reshape((-1,))]\n",
    "y_supp_1 = Y[supps_1.reshape((-1,))]\n",
    "suppvs_0"
   ]
  },
  {
   "cell_type": "code",
   "execution_count": 58,
   "metadata": {},
   "outputs": [
    {
     "data": {
      "text/plain": [
       "(381, 1024)"
      ]
     },
     "execution_count": 58,
     "metadata": {},
     "output_type": "execute_result"
    }
   ],
   "source": [
    "suppvs_0.shape"
   ]
  },
  {
   "cell_type": "code",
   "execution_count": 60,
   "metadata": {},
   "outputs": [
    {
     "name": "stdout",
     "output_type": "stream",
     "text": [
      "[-0.99999557 -0.99999864 -1.00000015 -1.00000274 -0.99999844 -1.00000071\n",
      " -1.00000048 -0.99999712 -0.99999474 -1.00000096 -0.99999895 -1.0000031\n",
      " -1.00000271 -0.99999792 -0.99999714 -0.99999876 -0.99999873 -0.99999996\n",
      " -1.00000344 -0.99999897 -0.9999988  -1.00000246 -0.99999731 -0.99999866\n",
      " -0.99999845 -0.99999905 -1.00000161 -0.9999993  -0.99999992 -1.00000107\n",
      " -1.0000001  -0.99999536 -0.99999485 -0.99999945 -1.00000243 -0.99999581\n",
      " -0.99999901 -1.00000531 -1.         -0.9999974  -0.99999841 -0.99999726\n",
      " -1.0000001  -1.00000406 -1.00000235 -1.00000085 -1.00000044 -1.00000429\n",
      " -1.00000434 -1.00000024 -1.00000118 -0.999996   -0.99999972 -0.9999999\n",
      " -1.00000058 -0.99999397 -0.99999636 -1.00000286 -1.00000797 -1.00000088\n",
      " -1.00000028 -1.00000142 -1.0000043  -0.99999972 -0.99999621 -1.00000086\n",
      " -1.00000302 -1.00000322 -1.00000138 -1.00000425 -0.99999989 -1.0000025\n",
      " -1.00000054 -0.99999991 -0.9999996  -0.99999743 -0.99999847 -1.00000061\n",
      " -1.00000114 -1.00000165 -1.00000441 -0.99999933 -0.99999731 -0.99999625\n",
      " -1.0000037  -1.00000287 -0.99999944 -0.99999899 -1.0000044  -1.0000004\n",
      " -0.99999581 -1.00000248 -1.0000064  -0.99999798 -0.99999999 -0.99999881\n",
      " -0.99999808 -1.00000072 -1.00000203 -0.99999953 -0.99999995 -0.99999593\n",
      " -1.00000357 -1.00000529 -0.99999768 -1.00000481 -1.00000473 -0.99999755\n",
      " -0.99999789  0.89253063 -0.99999876 -1.00000252 -0.99999586 -1.00000442\n",
      " -0.99999629 -1.00000115 -0.9999997  -0.99999353 -1.00000014 -0.99999954\n",
      " -1.00000217 -0.9999988  -0.99999832 -0.99999735 -1.00000248 -0.99999779\n",
      " -1.00000045 -0.99999884 -1.00000063 -0.99999683 -0.9999978  -0.99999795\n",
      " -0.99999801 -1.00000365 -0.99999959 -0.99999692 -0.99999894 -1.00000214\n",
      " -0.99999843 -0.99999089 -0.99999655 -0.9999992  -1.00000184 -0.99999908\n",
      " -1.00000461 -0.99999957 -1.00000653 -1.00000206 -1.00000463 -0.99999801\n",
      " -0.99999928 -1.00000223 -0.9999973  -0.99999701 -0.9999971  -0.99999629\n",
      " -1.00000057 -1.00000184 -1.00000487 -0.99999784 -1.00000173 -1.00000592\n",
      " -1.00000484 -0.99999972 -0.9999973  -0.99999867 -0.99999415 -0.99999746\n",
      " -0.99999313 -1.0000024  -0.99999341 -0.99999853 -0.99999876 -0.99999852\n",
      " -1.00000494 -0.99999825 -1.00000011 -0.99999596 -0.9999956  -1.00000199\n",
      " -0.99999946 -0.99999383 -1.0000001  -0.99999952 -0.9999991  -1.00000252\n",
      " -0.999998   -1.00000384 -1.00000118 -0.99999517 -0.99999922 -1.0000009\n",
      " -0.99999826 -0.99999685 -0.99999451 -1.00000002 -0.99999946 -0.99999747\n",
      " -0.99999298 -0.99999739 -1.00000293 -1.00000114 -1.00000154 -0.99999784\n",
      " -0.99999468 -0.99999999 -0.99999775 -1.00000061 -1.00000053 -1.00000053\n",
      " -0.99999498 -0.99999889 -1.00000104 -0.99999952 -0.99999912 -1.0000007\n",
      " -1.00000199 -0.99999876 -1.00000152 -1.0000017  -0.99999833 -1.0000039\n",
      " -0.99999812 -1.00000013 -1.00000347 -0.99999859 -0.99999663 -0.99999868\n",
      " -1.0000014  -1.00000149 -1.00000252 -0.99999527 -0.99999682 -1.00000403\n",
      " -1.00000005 -0.9999948  -0.99999384 -0.99999698 -1.00000233 -0.99999743\n",
      " -0.99999908 -1.00000696 -0.99999999 -0.99999722 -0.9999993  -1.00000078\n",
      " -1.00000247 -0.99999992 -0.99999872  0.36856059 -0.99999907 -0.9999998\n",
      " -0.99999839 -0.99999575 -0.99999872 -1.00000171 -0.99999992 -0.99999876\n",
      " -1.00000106 -0.99999893 -0.99999619 -1.00000254 -0.17124262 -0.99999992\n",
      " -0.99999897 -1.00000023 -1.00000021 -0.99999993 -1.00000322 -0.99999314\n",
      " -1.00000368 -1.00000043 -0.99999718 -1.00000063 -0.99999859 -0.99999798\n",
      " -0.99999768 -0.9999984  -1.00000031 -0.99999497 -1.00000271 -1.\n",
      " -0.9999989  -1.00000092 -1.00000034 -0.99999778 -0.99999774 -0.99999749\n",
      " -1.00000044 -0.99999659 -0.99999723 -1.00000046 -1.00000401 -1.00000262\n",
      " -0.99999467 -0.99999473 -1.00000239 -0.99999617 -0.99999812 -1.00000387\n",
      " -1.00000201 -1.00000031 -0.99999892 -0.99999793 -1.00000155 -0.99999784\n",
      " -1.00000221 -0.99999727 -1.00000276 -1.00000142 -0.9999993  -0.9707472\n",
      " -1.00000239 -1.00000272 -0.9999995  -1.00000308 -0.99999798 -1.00000052\n",
      " -1.00000039 -0.99999548 -0.9999959  -1.00000357 -1.00000262 -0.9999942\n",
      " -0.99999939 -0.99999865 -0.99999932 -1.00000143 -0.99999898 -0.99999929\n",
      " -1.00000118 -1.00000508 -0.99999844 -0.99999526 -0.9999998  -0.9999979\n",
      " -0.99999888 -1.00000198 -1.00000279 -1.00000012 -1.00000345 -1.00000023\n",
      " -0.9999979  -1.00000409 -1.00000257 -0.99999924 -0.99999843 -0.99999737\n",
      " -0.99999582 -0.99999584 -0.99999923 -0.99999941 -1.00000319 -0.99999846\n",
      " -1.00000199 -0.99999927 -0.99999965 -1.00000136 -1.00000332 -0.99999471\n",
      " -1.00000336 -0.99999931 -1.00000327 -1.00000506 -0.15631103 -1.00000319\n",
      " -1.00000222 -0.99999952 -0.99999703 -0.99999816 -0.99999448 -0.99999711\n",
      " -1.0000037  -0.99999945  0.47949874 -1.000002   -1.00000096 -1.00000417\n",
      " -1.00000333 -0.99999964 -1.0000007 ] [0. 0. 0. 0. 0. 0. 0. 0. 0. 0. 0. 0. 0. 0. 0. 0. 0. 0. 0. 0. 0. 0. 0. 0.\n",
      " 0. 0. 0. 0. 0. 0. 0. 0. 0. 0. 0. 0. 0. 0. 0. 0. 0. 0. 0. 0. 0. 0. 0. 0.\n",
      " 0. 0. 0. 0. 0. 0. 0. 0. 0. 0. 0. 0. 0. 0. 0. 0. 0. 0. 0. 0. 0. 0. 0. 0.\n",
      " 0. 0. 0. 0. 0. 0. 0. 0. 0. 0. 0. 0. 0. 0. 0. 0. 0. 0. 0. 0. 0. 0. 0. 0.\n",
      " 0. 0. 0. 0. 0. 0. 0. 0. 0. 0. 0. 0. 0. 0. 0. 0. 0. 0. 0. 0. 0. 0. 0. 0.\n",
      " 0. 0. 0. 0. 0. 0. 0. 0. 0. 0. 0. 0. 0. 0. 0. 0. 0. 0. 0. 0. 0. 0. 0. 0.\n",
      " 0. 0. 0. 0. 0. 0. 0. 0. 0. 0. 0. 0. 0. 0. 0. 0. 0. 0. 0. 0. 0. 0. 0. 0.\n",
      " 0. 0. 0. 0. 0. 0. 0. 0. 0. 0. 0. 0. 0. 0. 0. 0. 0. 0. 0. 0. 0. 0. 0. 0.\n",
      " 0. 0. 0. 0. 0. 0. 0. 0. 0. 0. 0. 0. 0. 0. 0. 0. 0. 0. 0. 0. 0. 0. 0. 0.\n",
      " 0. 0. 0. 0. 0. 0. 0. 0. 0. 0. 0. 0. 0. 0. 0. 0. 0. 0. 0. 0. 0. 0. 0. 0.\n",
      " 0. 0. 0. 0. 0. 0. 0. 0. 0. 0. 0. 0. 0. 0. 0. 0. 0. 0. 0. 0. 0. 0. 0. 0.\n",
      " 0. 0. 0. 0. 0. 0. 0. 0. 0. 0. 0. 0. 0. 0. 0. 0. 0. 0. 0. 0. 0. 0. 0. 0.\n",
      " 0. 0. 0. 0. 0. 0. 0. 0. 0. 0. 0. 0. 0. 0. 0. 0. 0. 0. 0. 0. 0. 0. 0. 0.\n",
      " 0. 0. 0. 0. 0. 0. 0. 0. 0. 0. 0. 0. 0. 0. 0. 0. 0. 0. 0. 0. 0. 0. 0. 0.\n",
      " 0. 0. 0. 0. 0. 0. 0. 0. 0. 0. 0. 0. 0. 0. 0. 0. 0. 0. 0. 0. 0. 0. 0. 0.\n",
      " 0. 0. 0. 0. 0. 0. 0. 0. 0. 0. 0. 0. 0. 0. 0. 0. 0. 0. 0. 0. 0.]\n",
      "tf.Tensor(0.013705432773427331, shape=(), dtype=float64)\n"
     ]
    }
   ],
   "source": [
    "def get_margin(X, wgts):\n",
    "  sd = (np.concatenate([np.ones((X.shape[0], 1)), X], axis=-1) @ wgts.numpy().T) * 1.0\n",
    "  return sd[:]\n",
    "\n",
    "def loss_2(labels, margins):\n",
    "    l = 2*labels - 1\n",
    "    return tf.reduce_sum(tf.reduce_mean(tf.nn.relu(-margins * l), axis=0))\n",
    "\n",
    "get_rand_feats(tf.cast(suppvs_0@pca_projs, dtype=tf.float32), model).shape, betas[sample].shape\n",
    "print(get_margin(get_rand_feats(tf.cast(suppvs_0@pca_projs, dtype=tf.float32), model), betas[sample]), y_supp_0)\n",
    "# loss_2 = tf.keras.losses.BinaryCrossentropy(from_logits=True)\n",
    "print(loss_2(y_supp_0[:len(suppvs_0)], get_margin(get_rand_feats(tf.cast(suppvs_0@pca_projs, dtype=tf.float32), model), betas[sample]*3)))"
   ]
  },
  {
   "cell_type": "markdown",
   "metadata": {
    "id": "ARSClVlo7Jlq"
   },
   "source": [
    "## Should test Betas performance first"
   ]
  },
  {
   "cell_type": "code",
   "execution_count": 106,
   "metadata": {
    "id": "_bklenRt7L2Z"
   },
   "outputs": [],
   "source": [
    "from tensorflow.keras import layers, models\n",
    "\n",
    "beta_dim = betas.shape[-1]\n",
    "input_dir_dim = random_dirs.shape[-1]\n",
    "latent_dim = 64\n",
    "\n",
    "# Encoder\n",
    "# beta_input = layers.Input(shape=(beta_dim,))\n",
    "dir_input = layers.Input(shape=(input_dir_dim,))\n",
    "encoder_inputs = layers.Concatenate()([dir_input])\n",
    "# x = layers.Dense(512, activation=tf.nn.elu)(encoder_inputs)\n",
    "# x = layers.Dense(256, activation=tf.nn.elu)(x)\n",
    "# x = layers.Dense(128, activation=tf.nn.elu)(x)\n",
    "x = layers.Dense(512, activation=tf.nn.elu)(encoder_inputs)\n",
    "x = layers.Dense(256, activation=tf.nn.elu)(x)\n",
    "x = layers.Dense(128, activation=tf.nn.elu)(x)\n",
    "x = layers.Dense(64, activation=tf.nn.elu)(x)\n",
    "x = layers.Dense(latent_dim, activation=tf.nn.elu)(x)\n",
    "# z_mean = layers.Dense(latent_dim)(x)\n",
    "# z_log_var = layers.Dense(latent_dim)(x)\n",
    "\n",
    "def sampling(args):\n",
    "  z_mean, z_log_var = args\n",
    "  eps = tf.random.normal(shape=tf.shape(z_mean))\n",
    "  return z_mean + tf.exp(0.5 * z_log_var) * eps\n",
    "\n",
    "# z = layers.Lambda(sampling)([z_mean, z_log_var])\n",
    "z = layers.Dense(latent_dim)(x)\n",
    "\n",
    "\n",
    "### Using direction in Decoder is weird\n",
    "### Likely just train VAE solely on betas with directions\n",
    "\n",
    "\n",
    "# Decoder\n",
    "latent_inputs = layers.Input(shape=(latent_dim,))\n",
    "# decoder_dir_input = layers.Input(shape=(input_dir_dim,))\n",
    "decoder_inputs = layers.Concatenate()([latent_inputs])\n",
    "x = layers.Dense(64, activation=tf.nn.elu)(decoder_inputs)\n",
    "x = layers.Dense(128, activation=tf.nn.elu)(x)\n",
    "x = layers.Dense(256, activation=tf.nn.elu)(x)\n",
    "x = layers.Dense(512, activation=tf.nn.elu)(x)\n",
    "# x = layers.Dense(64, activation=tf.nn.elu)(x)\n",
    "# x = layers.Dense(256, activation=tf.nn.elu)(decoder_inputs)\n",
    "# x = layers.Dense(512, activation=tf.nn.elu)(x)\n",
    "beta_output = layers.Dense(beta_dim)(x)\n",
    "\n",
    "# Instantiate model\n",
    "encoder = models.Model([dir_input], z, name=\"encoder\")\n",
    "decoder = models.Model([latent_inputs], beta_output, name=\"decoder\")\n",
    "\n",
    "# VAE\n",
    "outputs = decoder([encoder([dir_input])])\n",
    "vae = models.Model([dir_input], outputs, name=\"autoenc\")\n",
    "vae.encoder = encoder\n",
    "vae.decoder = decoder"
   ]
  },
  {
   "cell_type": "code",
   "execution_count": 101,
   "metadata": {},
   "outputs": [],
   "source": [
    "def get_margin_batched(supp_vs, wgts):\n",
    "  sd = (tf.concat([tf.ones((*supp_vs.shape[:-1], 1)), supp_vs], axis=-1) @ wgts[:, :, None]) * 1.0\n",
    "  return sd[:]"
   ]
  },
  {
   "cell_type": "code",
   "execution_count": 29,
   "metadata": {},
   "outputs": [],
   "source": [
    "ots = vae((betas[:1], random_dirs[:1]))"
   ]
  },
  {
   "cell_type": "code",
   "execution_count": 30,
   "metadata": {
    "id": "GEVOITgr-mEL"
   },
   "outputs": [],
   "source": [
    "#def vae_loss(inputs, outputs, z_mean, z_log_var, reg=0.002):\n",
    "  # recon_loss = tf.reduce_mean(tf.reduce_sum(tf.square(inputs - outputs), axis=-1))\n",
    "#  intercp_loss = tf.reduce_mean(tf.abs(tf.cast(inputs[:, :1], dtype=tf.float32) - outputs[:, :1]))\n",
    "#  recon_loss = tf.reduce_mean(1-tf.reduce_sum(tf.linalg.normalize(tf.cast(inputs[:, 1:], dtype=tf.float32), axis=-1)[0] *\n",
    "                                              tf.linalg.normalize(outputs[:, 1:], axis=-1)[0], axis=-1))\n",
    "#  kl_loss = -0.5 * tf.reduce_mean(tf.reduce_sum(1 + z_log_var - tf.square(z_mean) - tf.exp(z_log_var), axis=-1))\n",
    "#  total_loss = recon_loss + intercp_loss + reg * kl_loss\n",
    "#  return total_loss, recon_loss, intercp_loss, kl_loss"
   ]
  },
  {
   "cell_type": "code",
   "execution_count": 107,
   "metadata": {},
   "outputs": [],
   "source": [
    "def vae_loss(inputs, outputs, supp_vs, supp_ys, reg=1.0, regr=1.0):\n",
    "  # recon_loss = tf.reduce_mean(tf.reduce_sum(tf.square(inputs - outputs), axis=-1))\n",
    "  recon_loss = tf.reduce_mean(1-tf.reduce_sum(tf.linalg.normalize(tf.cast(inputs, dtype=tf.float32), axis=-1)[0] *\n",
    "                                              tf.linalg.normalize(outputs, axis=-1)[0], axis=-1))\n",
    "  # print(supp_vs.shape, outputs.shape)\n",
    "  supp_margins = get_margin_batched(supp_vs, outputs)\n",
    "  supp_loss = loss_2(supp_ys, supp_margins)\n",
    "  # print(supp_ys[0][30:], supp_margins[0][30:])\n",
    "  # print(supp_margins.shape, supp_ys.shape)\n",
    "  # kl_loss = -0.5 * tf.reduce_mean(tf.reduce_sum(1 + z_log_var - tf.square(z_mean) - tf.exp(z_log_var), axis=-1))\n",
    "  total_loss = reg * recon_loss + regr * supp_loss\n",
    "  return total_loss, reg*recon_loss, regr*supp_loss"
   ]
  },
  {
   "cell_type": "code",
   "execution_count": 31,
   "metadata": {},
   "outputs": [
    {
     "data": {
      "text/plain": [
       "(<tf.Tensor: shape=(), dtype=float32, numpy=1.1964941>,\n",
       " <tf.Tensor: shape=(), dtype=float32, numpy=1.0429045>,\n",
       " <tf.Tensor: shape=(), dtype=float32, numpy=0.09860455>,\n",
       " <tf.Tensor: shape=(), dtype=float32, numpy=27.492508>)"
      ]
     },
     "execution_count": 31,
     "metadata": {},
     "output_type": "execute_result"
    }
   ],
   "source": [
    "vae_loss(betas[:1], ots[:1], tf.ones((1, 32)), tf.ones((1, 32)))"
   ]
  },
  {
   "cell_type": "code",
   "execution_count": 108,
   "metadata": {
    "id": "bjyT0zzy_Q8E"
   },
   "outputs": [],
   "source": [
    "opt = tf.keras.optimizers.Adam()\n",
    "\n",
    "\n",
    "def train_step(model, inputs, dir_inputs, supp_vs, supp_ys, alpha, ralpha=1.0):\n",
    "  with tf.GradientTape() as tape:\n",
    "    z = model.encoder([dir_inputs])\n",
    "    outputs = model.decoder([z])\n",
    "    total_loss, recon_loss, supp_loss = vae_loss(inputs, outputs, supp_vs, supp_ys, alpha, ralpha)\n",
    "  grads = tape.gradient(total_loss, model.trainable_variables)\n",
    "  opt.apply_gradients(zip(grads, model.trainable_variables))\n",
    "  return total_loss, recon_loss, supp_loss"
   ]
  },
  {
   "cell_type": "code",
   "execution_count": 33,
   "metadata": {
    "scrolled": true
   },
   "outputs": [
    {
     "name": "stderr",
     "output_type": "stream",
     "text": [
      "2024-04-29 19:41:59.480502: I tensorflow/compiler/xla/service/service.cc:173] XLA service 0x1576b9b0 initialized for platform CUDA (this does not guarantee that XLA will be used). Devices:\n",
      "2024-04-29 19:41:59.480542: I tensorflow/compiler/xla/service/service.cc:181]   StreamExecutor device (0): NVIDIA GeForce RTX 2080 Ti, Compute Capability 7.5\n",
      "2024-04-29 19:41:59.486897: I tensorflow/compiler/mlir/tensorflow/utils/dump_mlir_util.cc:268] disabling MLIR crash reproducer, set env var `MLIR_CRASH_REPRODUCER_DIRECTORY` to enable.\n",
      "2024-04-29 19:41:59.594610: I tensorflow/tsl/platform/default/subprocess.cc:304] Start cannot spawn child process: No such file or directory\n",
      "2024-04-29 19:41:59.674717: I tensorflow/compiler/jit/xla_compilation_cache.cc:477] Compiled cluster using XLA!  This line is logged at most once for the lifetime of the process.\n"
     ]
    },
    {
     "name": "stdout",
     "output_type": "stream",
     "text": [
      "WARNING:tensorflow:5 out of the last 5 calls to <function _BaseOptimizer._update_step_xla at 0x7fb840184ca0> triggered tf.function retracing. Tracing is expensive and the excessive number of tracings could be due to (1) creating @tf.function repeatedly in a loop, (2) passing tensors with different shapes, (3) passing Python objects instead of tensors. For (1), please define your @tf.function outside of the loop. For (2), @tf.function has reduce_retracing=True option that can avoid unnecessary retracing. For (3), please refer to https://www.tensorflow.org/guide/function#controlling_retracing and https://www.tensorflow.org/api_docs/python/tf/function for  more details.\n",
      "WARNING:tensorflow:6 out of the last 6 calls to <function _BaseOptimizer._update_step_xla at 0x7fb840184ca0> triggered tf.function retracing. Tracing is expensive and the excessive number of tracings could be due to (1) creating @tf.function repeatedly in a loop, (2) passing tensors with different shapes, (3) passing Python objects instead of tensors. For (1), please define your @tf.function outside of the loop. For (2), @tf.function has reduce_retracing=True option that can avoid unnecessary retracing. For (3), please refer to https://www.tensorflow.org/guide/function#controlling_retracing and https://www.tensorflow.org/api_docs/python/tf/function for  more details.\n"
     ]
    },
    {
     "data": {
      "text/plain": [
       "(<tf.Tensor: shape=(), dtype=float32, numpy=1.0526553>,\n",
       " <tf.Tensor: shape=(), dtype=float32, numpy=0.999847>,\n",
       " <tf.Tensor: shape=(), dtype=float32, numpy=0.051767856>,\n",
       " <tf.Tensor: shape=(), dtype=float32, numpy=0.52023363>)"
      ]
     },
     "execution_count": 33,
     "metadata": {},
     "output_type": "execute_result"
    }
   ],
   "source": [
    "train_step(vae, betas[:32], random_dirs[:32])"
   ]
  },
  {
   "cell_type": "code",
   "execution_count": 80,
   "metadata": {},
   "outputs": [
    {
     "data": {
      "text/plain": [
       "<tf.Tensor: shape=(381, 204), dtype=float32, numpy=\n",
       "array([[-9.73291   , -0.08359981,  4.8285213 , ..., -0.418212  ,\n",
       "         0.04979858, -0.38527712],\n",
       "       [-1.4835713 ,  1.0568206 ,  2.5018466 , ..., -0.06100272,\n",
       "         0.1693849 , -0.38147366],\n",
       "       [-7.0123835 , -9.252638  , -1.9807861 , ...,  0.136215  ,\n",
       "         0.12370304,  0.3105353 ],\n",
       "       ...,\n",
       "       [-4.699366  ,  2.6286366 , -1.7926993 , ..., -0.3052967 ,\n",
       "         0.18089612, -0.36616707],\n",
       "       [-1.7197244 ,  1.9622226 ,  2.9822083 , ..., -0.33606544,\n",
       "        -0.01879999,  0.30114657],\n",
       "       [-1.7413275 ,  1.9585967 ,  3.080233  , ..., -0.47907415,\n",
       "         0.07559836,  0.45271814]], dtype=float32)>"
      ]
     },
     "execution_count": 80,
     "metadata": {},
     "output_type": "execute_result"
    }
   ],
   "source": [
    "X[supps_0.reshape((-1,))] @ pca_projs"
   ]
  },
  {
   "cell_type": "code",
   "execution_count": 104,
   "metadata": {
    "id": "usu_v5FxBgmn"
   },
   "outputs": [],
   "source": [
    "def batch(X, betas, dirs, supps, batch_size, support_batch_size):\n",
    "  num_samples = betas.shape[0]\n",
    "  indices = np.arange(num_samples)\n",
    "  np.random.shuffle(indices)\n",
    "  betas = np.array(betas)[indices]\n",
    "  dirs = np.array(dirs)[indices]\n",
    "  supps_ = [supps[i] for i in indices]\n",
    "  supps_ = np.array([np.stack([i[np.random.choice(len(i), support_batch_size)],\n",
    "                     j[np.random.choice(len(j), support_batch_size)]], axis=0) for i, j in supps_])\n",
    "  def supp_get_vs(_supps):\n",
    "      supps_0, supps_1 = np.transpose(_supps, (1, 0, 2, 3))\n",
    "      suppvs_0 = X[supps_0.reshape((-1,))] @ pca_projs\n",
    "      suppvs_1 = X[supps_1.reshape((-1,))] @ pca_projs\n",
    "      suppvs_0 = tf.reshape(get_rand_feats(tf.cast(suppvs_0, dtype=tf.float32), model), (batch_size, support_batch_size, -1))\n",
    "      suppvs_1 = tf.reshape(get_rand_feats(tf.cast(suppvs_1, dtype=tf.float32), model), (batch_size, support_batch_size, -1))\n",
    "      y_supp_0 = Y[supps_0.reshape((-1,))].reshape((batch_size, support_batch_size, -1))\n",
    "      y_supp_1 = Y[supps_1.reshape((-1,))].reshape((batch_size, support_batch_size, -1))\n",
    "      return np.concatenate([suppvs_0, suppvs_1], axis=1), np.concatenate([y_supp_0, y_supp_1], axis=1)\n",
    "  for i in range(0, betas.shape[0], batch_size):\n",
    "    yield betas[i:i+batch_size], dirs[i:i+batch_size], *supp_get_vs(supps_[i:i+batch_size])"
   ]
  },
  {
   "cell_type": "code",
   "execution_count": 35,
   "metadata": {},
   "outputs": [
    {
     "data": {
      "text/plain": [
       "<generator object batch at 0x7fb77c7be890>"
      ]
     },
     "execution_count": 35,
     "metadata": {},
     "output_type": "execute_result"
    }
   ],
   "source": [
    "batch(betas, random_dirs, 2)"
   ]
  },
  {
   "cell_type": "code",
   "execution_count": null,
   "metadata": {
    "colab": {
     "base_uri": "https://localhost:8080/",
     "height": 410
    },
    "id": "Rhn1yqRa_UBV",
    "outputId": "a6e1ccc1-2cd0-4549-e61a-6dae8aa1062a",
    "scrolled": true
   },
   "outputs": [
    {
     "name": "stdout",
     "output_type": "stream",
     "text": [
      "Epoch 0\n",
      "Step 0: loss = 1.0042555332183838, recon loss = 1.0042555332183838, supp loss = 0.0\n",
      "Step 0: loss = 0.6852933168411255, recon loss = 0.6852933168411255, supp loss = 0.0\n",
      "\n",
      "Epoch 1\n",
      "Step 0: loss = 0.5890307426452637, recon loss = 0.5890307426452637, supp loss = 0.0\n",
      "Step 0: loss = 0.5855118036270142, recon loss = 0.5855118036270142, supp loss = 0.0\n",
      "\n",
      "Epoch 2\n",
      "Step 0: loss = 0.5907216668128967, recon loss = 0.5907216668128967, supp loss = 0.0\n",
      "Step 0: loss = 0.5872777700424194, recon loss = 0.5872777700424194, supp loss = 0.0\n",
      "\n",
      "Epoch 3\n",
      "Step 0: loss = 0.5776413083076477, recon loss = 0.5776413083076477, supp loss = 0.0\n",
      "Step 0: loss = 0.5796323418617249, recon loss = 0.5796323418617249, supp loss = 0.0\n",
      "\n",
      "Epoch 4\n",
      "Step 0: loss = 0.5833013653755188, recon loss = 0.5833013653755188, supp loss = 0.0\n",
      "Step 0: loss = 0.5857218503952026, recon loss = 0.5857218503952026, supp loss = 0.0\n",
      "\n",
      "Epoch 5\n",
      "Step 0: loss = 0.578827440738678, recon loss = 0.578827440738678, supp loss = 0.0\n",
      "Step 0: loss = 0.5807657241821289, recon loss = 0.5807657241821289, supp loss = 0.0\n",
      "\n",
      "Epoch 6\n",
      "Step 0: loss = 0.5597935318946838, recon loss = 0.5597935318946838, supp loss = 0.0\n",
      "Step 0: loss = 0.5642254948616028, recon loss = 0.5642254948616028, supp loss = 0.0\n",
      "\n",
      "Epoch 7\n",
      "Step 0: loss = 0.5692940950393677, recon loss = 0.5692940950393677, supp loss = 0.0\n",
      "Step 0: loss = 0.5721639394760132, recon loss = 0.5721639394760132, supp loss = 0.0\n",
      "\n",
      "Epoch 8\n",
      "Step 0: loss = 0.5468140244483948, recon loss = 0.5468140244483948, supp loss = 0.0\n",
      "Step 0: loss = 0.5705466270446777, recon loss = 0.5705466270446777, supp loss = 0.0\n",
      "\n",
      "Epoch 9\n",
      "Step 0: loss = 0.5546731352806091, recon loss = 0.5546731352806091, supp loss = 0.0\n",
      "Step 0: loss = 0.5715173482894897, recon loss = 0.5715173482894897, supp loss = 0.0\n",
      "\n",
      "Epoch 10\n",
      "Step 0: loss = 0.5451689958572388, recon loss = 0.5451689958572388, supp loss = 0.0\n",
      "Step 0: loss = 0.5563899278640747, recon loss = 0.5563899278640747, supp loss = 0.0\n",
      "\n",
      "Epoch 11\n",
      "Step 0: loss = 0.5485641956329346, recon loss = 0.5485641956329346, supp loss = 0.0\n",
      "Step 0: loss = 0.5772020816802979, recon loss = 0.5772020816802979, supp loss = 0.0\n",
      "\n",
      "Epoch 12\n",
      "Step 0: loss = 0.5570698380470276, recon loss = 0.5570698380470276, supp loss = 0.0\n",
      "Step 0: loss = 0.5731750726699829, recon loss = 0.5731750726699829, supp loss = 0.0\n",
      "\n",
      "Epoch 13\n",
      "Step 0: loss = 0.5487866401672363, recon loss = 0.5487866401672363, supp loss = 0.0\n",
      "Step 0: loss = 0.5671803951263428, recon loss = 0.5671803951263428, supp loss = 0.0\n",
      "\n",
      "Epoch 14\n",
      "Step 0: loss = 0.5453540086746216, recon loss = 0.5453540086746216, supp loss = 0.0\n",
      "Step 0: loss = 0.5705669522285461, recon loss = 0.5705669522285461, supp loss = 0.0\n",
      "\n",
      "Epoch 15\n",
      "Step 0: loss = 0.5264188051223755, recon loss = 0.5264188051223755, supp loss = 0.0\n",
      "Step 0: loss = 0.557187557220459, recon loss = 0.557187557220459, supp loss = 0.0\n",
      "\n",
      "Epoch 16\n",
      "Step 0: loss = 0.5639516711235046, recon loss = 0.5639516711235046, supp loss = 0.0\n",
      "Step 0: loss = 0.5667285919189453, recon loss = 0.5667285919189453, supp loss = 0.0\n",
      "\n",
      "Epoch 17\n",
      "Step 0: loss = 0.5454390048980713, recon loss = 0.5454390048980713, supp loss = 0.0\n",
      "Step 0: loss = 0.5714215636253357, recon loss = 0.5714215636253357, supp loss = 0.0\n",
      "\n",
      "Epoch 18\n",
      "Step 0: loss = 0.5128263235092163, recon loss = 0.5128263235092163, supp loss = 0.0\n",
      "Step 0: loss = 0.5413665771484375, recon loss = 0.5413665771484375, supp loss = 0.0\n",
      "\n",
      "Epoch 19\n",
      "Step 0: loss = 0.517399787902832, recon loss = 0.517399787902832, supp loss = 0.0\n",
      "Step 0: loss = 0.5611250400543213, recon loss = 0.5611250400543213, supp loss = 0.0\n",
      "\n",
      "Epoch 20\n",
      "Step 0: loss = 0.521978497505188, recon loss = 0.521978497505188, supp loss = 0.0\n",
      "Step 0: loss = 0.5696579217910767, recon loss = 0.5696579217910767, supp loss = 0.0\n",
      "\n",
      "Epoch 21\n",
      "Step 0: loss = 0.5147208571434021, recon loss = 0.5147208571434021, supp loss = 0.0\n",
      "Step 0: loss = 0.5676119327545166, recon loss = 0.5676119327545166, supp loss = 0.0\n",
      "\n",
      "Epoch 22\n",
      "Step 0: loss = 0.5065177083015442, recon loss = 0.5065177083015442, supp loss = 0.0\n",
      "Step 0: loss = 0.5380655527114868, recon loss = 0.5380655527114868, supp loss = 0.0\n",
      "\n",
      "Epoch 23\n",
      "Step 0: loss = 0.4950907230377197, recon loss = 0.4950907230377197, supp loss = 0.0\n",
      "Step 0: loss = 0.5465813279151917, recon loss = 0.5465813279151917, supp loss = 0.0\n",
      "\n",
      "Epoch 24\n",
      "Step 0: loss = 0.5096533298492432, recon loss = 0.5096533298492432, supp loss = 0.0\n",
      "Step 0: loss = 0.5566259622573853, recon loss = 0.5566259622573853, supp loss = 0.0\n",
      "\n",
      "Epoch 25\n",
      "Step 0: loss = 0.5155072212219238, recon loss = 0.5155072212219238, supp loss = 0.0\n",
      "Step 0: loss = 0.5622957944869995, recon loss = 0.5622957944869995, supp loss = 0.0\n",
      "\n",
      "Epoch 26\n",
      "Step 0: loss = 0.48227232694625854, recon loss = 0.48227232694625854, supp loss = 0.0\n",
      "Step 0: loss = 0.5682346820831299, recon loss = 0.5682346820831299, supp loss = 0.0\n",
      "\n",
      "Epoch 27\n",
      "Step 0: loss = 0.48908868432044983, recon loss = 0.48908868432044983, supp loss = 0.0\n",
      "Step 0: loss = 0.5502667427062988, recon loss = 0.5502667427062988, supp loss = 0.0\n",
      "\n",
      "Epoch 28\n",
      "Step 0: loss = 0.5043078064918518, recon loss = 0.5043078064918518, supp loss = 0.0\n",
      "Step 0: loss = 0.5549970269203186, recon loss = 0.5549970269203186, supp loss = 0.0\n",
      "\n",
      "Epoch 29\n",
      "Step 0: loss = 0.521740198135376, recon loss = 0.521740198135376, supp loss = 0.0\n",
      "Step 0: loss = 0.5657455325126648, recon loss = 0.5657455325126648, supp loss = 0.0\n",
      "\n",
      "Epoch 30\n",
      "Step 0: loss = 0.4818391799926758, recon loss = 0.4818391799926758, supp loss = 0.0\n",
      "Step 0: loss = 0.5580413341522217, recon loss = 0.5580413341522217, supp loss = 0.0\n",
      "\n",
      "Epoch 31\n",
      "Step 0: loss = 0.48943209648132324, recon loss = 0.48943209648132324, supp loss = 0.0\n",
      "Step 0: loss = 0.5493830442428589, recon loss = 0.5493830442428589, supp loss = 0.0\n",
      "\n",
      "Epoch 32\n",
      "Step 0: loss = 0.4818977117538452, recon loss = 0.4818977117538452, supp loss = 0.0\n",
      "Step 0: loss = 0.5493513345718384, recon loss = 0.5493513345718384, supp loss = 0.0\n",
      "\n",
      "Epoch 33\n",
      "Step 0: loss = 0.49236005544662476, recon loss = 0.49236005544662476, supp loss = 0.0\n",
      "Step 0: loss = 0.5498393774032593, recon loss = 0.5498393774032593, supp loss = 0.0\n",
      "\n",
      "Epoch 34\n",
      "Step 0: loss = 0.4638493061065674, recon loss = 0.4638493061065674, supp loss = 0.0\n",
      "Step 0: loss = 0.567531943321228, recon loss = 0.567531943321228, supp loss = 0.0\n",
      "\n",
      "Epoch 35\n",
      "Step 0: loss = 0.48951321840286255, recon loss = 0.48951321840286255, supp loss = 0.0\n",
      "Step 0: loss = 0.5650511980056763, recon loss = 0.5650511980056763, supp loss = 0.0\n",
      "\n",
      "Epoch 36\n",
      "Step 0: loss = 0.46689867973327637, recon loss = 0.46689867973327637, supp loss = 0.0\n",
      "Step 0: loss = 0.5684894323348999, recon loss = 0.5684894323348999, supp loss = 0.0\n",
      "\n",
      "Epoch 37\n",
      "Step 0: loss = 0.47684648633003235, recon loss = 0.47684648633003235, supp loss = 0.0\n",
      "Step 0: loss = 0.5434831976890564, recon loss = 0.5434831976890564, supp loss = 0.0\n",
      "\n",
      "Epoch 38\n",
      "Step 0: loss = 0.45619937777519226, recon loss = 0.45619937777519226, supp loss = 0.0\n",
      "Step 0: loss = 0.5503052473068237, recon loss = 0.5503052473068237, supp loss = 0.0\n",
      "\n",
      "Epoch 39\n",
      "Step 0: loss = 0.47440552711486816, recon loss = 0.47440552711486816, supp loss = 0.0\n",
      "Step 0: loss = 0.5584657192230225, recon loss = 0.5584657192230225, supp loss = 0.0\n",
      "\n",
      "Epoch 40\n",
      "Step 0: loss = 0.4625561237335205, recon loss = 0.4625561237335205, supp loss = 0.0\n",
      "Step 0: loss = 0.5683376789093018, recon loss = 0.5683376789093018, supp loss = 0.0\n",
      "\n",
      "Epoch 41\n",
      "Step 0: loss = 0.4897136688232422, recon loss = 0.4897136688232422, supp loss = 0.0\n",
      "Step 0: loss = 0.5670008063316345, recon loss = 0.5670008063316345, supp loss = 0.0\n",
      "\n",
      "Epoch 42\n",
      "Step 0: loss = 0.47720199823379517, recon loss = 0.47720199823379517, supp loss = 0.0\n",
      "Step 0: loss = 0.5529204607009888, recon loss = 0.5529204607009888, supp loss = 0.0\n",
      "\n",
      "Epoch 43\n",
      "Step 0: loss = 0.4630039930343628, recon loss = 0.4630039930343628, supp loss = 0.0\n",
      "Step 0: loss = 0.5483227968215942, recon loss = 0.5483227968215942, supp loss = 0.0\n",
      "\n",
      "Epoch 44\n",
      "Step 0: loss = 0.47808122634887695, recon loss = 0.47808122634887695, supp loss = 0.0\n",
      "Step 0: loss = 0.5663935542106628, recon loss = 0.5663935542106628, supp loss = 0.0\n",
      "\n",
      "Epoch 45\n",
      "Step 0: loss = 0.45988166332244873, recon loss = 0.45988166332244873, supp loss = 0.0\n",
      "Step 0: loss = 0.566714882850647, recon loss = 0.566714882850647, supp loss = 0.0\n",
      "\n",
      "Epoch 46\n",
      "Step 0: loss = 0.4706369638442993, recon loss = 0.4706369638442993, supp loss = 0.0\n",
      "Step 0: loss = 0.5406227111816406, recon loss = 0.5406227111816406, supp loss = 0.0\n",
      "\n",
      "Epoch 47\n",
      "Step 0: loss = 0.45513948798179626, recon loss = 0.45513948798179626, supp loss = 0.0\n",
      "Step 0: loss = 0.5411928296089172, recon loss = 0.5411928296089172, supp loss = 0.0\n",
      "\n",
      "Epoch 48\n",
      "Step 0: loss = 0.46712544560432434, recon loss = 0.46712544560432434, supp loss = 0.0\n",
      "Step 0: loss = 0.5493159294128418, recon loss = 0.5493159294128418, supp loss = 0.0\n",
      "\n",
      "Epoch 49\n",
      "Step 0: loss = 0.46600422263145447, recon loss = 0.46600422263145447, supp loss = 0.0\n",
      "Step 0: loss = 0.5580888986587524, recon loss = 0.5580888986587524, supp loss = 0.0\n",
      "\n",
      "Epoch 50\n",
      "Step 0: loss = 0.4446013271808624, recon loss = 0.4446013271808624, supp loss = 0.0\n",
      "Step 0: loss = 0.5464833974838257, recon loss = 0.5464833974838257, supp loss = 0.0\n",
      "\n",
      "Epoch 51\n",
      "Step 0: loss = 0.44230860471725464, recon loss = 0.44230860471725464, supp loss = 0.0\n",
      "Step 0: loss = 0.5373497605323792, recon loss = 0.5373497605323792, supp loss = 0.0\n",
      "\n",
      "Epoch 52\n",
      "Step 0: loss = 0.4466401934623718, recon loss = 0.4466401934623718, supp loss = 0.0\n",
      "Step 0: loss = 0.5521135330200195, recon loss = 0.5521135330200195, supp loss = 0.0\n",
      "\n",
      "Epoch 53\n",
      "Step 0: loss = 0.47584784030914307, recon loss = 0.47584784030914307, supp loss = 0.0\n",
      "Step 0: loss = 0.5655933618545532, recon loss = 0.5655933618545532, supp loss = 0.0\n",
      "\n",
      "Epoch 54\n",
      "Step 0: loss = 0.46929383277893066, recon loss = 0.46929383277893066, supp loss = 0.0\n",
      "Step 0: loss = 0.5444082021713257, recon loss = 0.5444082021713257, supp loss = 0.0\n",
      "\n",
      "Epoch 55\n",
      "Step 0: loss = 0.4622483551502228, recon loss = 0.4622483551502228, supp loss = 0.0\n",
      "Step 0: loss = 0.5622776746749878, recon loss = 0.5622776746749878, supp loss = 0.0\n",
      "\n",
      "Epoch 56\n",
      "Step 0: loss = 0.45162200927734375, recon loss = 0.45162200927734375, supp loss = 0.0\n",
      "Step 0: loss = 0.5461131930351257, recon loss = 0.5461131930351257, supp loss = 0.0\n",
      "\n",
      "Epoch 57\n",
      "Step 0: loss = 0.46431678533554077, recon loss = 0.46431678533554077, supp loss = 0.0\n",
      "Step 0: loss = 0.5579123497009277, recon loss = 0.5579123497009277, supp loss = 0.0\n",
      "\n",
      "Epoch 58\n",
      "Step 0: loss = 0.4446917772293091, recon loss = 0.4446917772293091, supp loss = 0.0\n",
      "Step 0: loss = 0.5347268581390381, recon loss = 0.5347268581390381, supp loss = 0.0\n",
      "\n",
      "Epoch 59\n",
      "Step 0: loss = 0.4457235634326935, recon loss = 0.4457235634326935, supp loss = 0.0\n",
      "Step 0: loss = 0.5408508777618408, recon loss = 0.5408508777618408, supp loss = 0.0\n",
      "\n",
      "Epoch 60\n",
      "Step 0: loss = 0.46020305156707764, recon loss = 0.46020305156707764, supp loss = 0.0\n",
      "Step 0: loss = 0.548920750617981, recon loss = 0.548920750617981, supp loss = 0.0\n",
      "\n",
      "Epoch 61\n",
      "Step 0: loss = 0.4542720317840576, recon loss = 0.4542720317840576, supp loss = 0.0\n",
      "Step 0: loss = 0.560981810092926, recon loss = 0.560981810092926, supp loss = 0.0\n",
      "\n",
      "Epoch 62\n",
      "Step 0: loss = 0.4310118556022644, recon loss = 0.4310118556022644, supp loss = 0.0\n",
      "Step 0: loss = 0.5432827472686768, recon loss = 0.5432827472686768, supp loss = 0.0\n",
      "\n",
      "Epoch 63\n",
      "Step 0: loss = 0.43623900413513184, recon loss = 0.43623900413513184, supp loss = 0.0\n",
      "Step 0: loss = 0.5384852886199951, recon loss = 0.5384852886199951, supp loss = 0.0\n",
      "\n",
      "Epoch 64\n",
      "Step 0: loss = 0.4457632601261139, recon loss = 0.4457632601261139, supp loss = 0.0\n",
      "Step 0: loss = 0.5330519080162048, recon loss = 0.5330519080162048, supp loss = 0.0\n",
      "\n",
      "Epoch 65\n",
      "Step 0: loss = 0.4425084888935089, recon loss = 0.4425084888935089, supp loss = 0.0\n",
      "Step 0: loss = 0.5482263565063477, recon loss = 0.5482263565063477, supp loss = 0.0\n",
      "\n",
      "Epoch 66\n",
      "Step 0: loss = 0.4707346558570862, recon loss = 0.4707346558570862, supp loss = 0.0\n",
      "Step 0: loss = 0.5734330415725708, recon loss = 0.5734330415725708, supp loss = 0.0\n",
      "\n",
      "Epoch 67\n",
      "Step 0: loss = 0.47442054748535156, recon loss = 0.47442054748535156, supp loss = 0.0\n",
      "Step 0: loss = 0.558100700378418, recon loss = 0.558100700378418, supp loss = 0.0\n",
      "\n",
      "Epoch 68\n",
      "Step 0: loss = 0.4619362950325012, recon loss = 0.4619362950325012, supp loss = 0.0\n",
      "Step 0: loss = 0.5564182996749878, recon loss = 0.5564182996749878, supp loss = 0.0\n",
      "\n",
      "Epoch 69\n",
      "Step 0: loss = 0.44840800762176514, recon loss = 0.44840800762176514, supp loss = 0.0\n",
      "Step 0: loss = 0.5610336065292358, recon loss = 0.5610336065292358, supp loss = 0.0\n",
      "\n",
      "Epoch 70\n",
      "Step 0: loss = 0.42382922768592834, recon loss = 0.42382922768592834, supp loss = 0.0\n",
      "Step 0: loss = 0.5214217901229858, recon loss = 0.5214217901229858, supp loss = 0.0\n",
      "\n",
      "Epoch 71\n",
      "Step 0: loss = 0.4437015652656555, recon loss = 0.4437015652656555, supp loss = 0.0\n",
      "Step 0: loss = 0.5528862476348877, recon loss = 0.5528862476348877, supp loss = 0.0\n",
      "\n",
      "Epoch 72\n",
      "Step 0: loss = 0.4311370849609375, recon loss = 0.4311370849609375, supp loss = 0.0\n",
      "Step 0: loss = 0.5493203401565552, recon loss = 0.5493203401565552, supp loss = 0.0\n",
      "\n",
      "Epoch 73\n",
      "Step 0: loss = 0.44969213008880615, recon loss = 0.44969213008880615, supp loss = 0.0\n",
      "Step 0: loss = 0.5668150186538696, recon loss = 0.5668150186538696, supp loss = 0.0\n",
      "\n",
      "Epoch 74\n",
      "Step 0: loss = 0.4622461199760437, recon loss = 0.4622461199760437, supp loss = 0.0\n",
      "Step 0: loss = 0.5587430596351624, recon loss = 0.5587430596351624, supp loss = 0.0\n",
      "\n",
      "Epoch 75\n",
      "Step 0: loss = 0.4483047127723694, recon loss = 0.4483047127723694, supp loss = 0.0\n",
      "Step 0: loss = 0.5616792440414429, recon loss = 0.5616792440414429, supp loss = 0.0\n",
      "\n",
      "Epoch 76\n",
      "Step 0: loss = 0.42373940348625183, recon loss = 0.42373940348625183, supp loss = 0.0\n",
      "Step 0: loss = 0.559605598449707, recon loss = 0.559605598449707, supp loss = 0.0\n",
      "\n",
      "Epoch 77\n",
      "Step 0: loss = 0.437059223651886, recon loss = 0.437059223651886, supp loss = 0.0\n",
      "Step 0: loss = 0.5714961290359497, recon loss = 0.5714961290359497, supp loss = 0.0\n",
      "\n",
      "Epoch 78\n",
      "Step 0: loss = 0.43524158000946045, recon loss = 0.43524158000946045, supp loss = 0.0\n",
      "Step 0: loss = 0.5425041913986206, recon loss = 0.5425041913986206, supp loss = 0.0\n",
      "\n",
      "Epoch 79\n",
      "Step 0: loss = 0.44529491662979126, recon loss = 0.44529491662979126, supp loss = 0.0\n",
      "Step 0: loss = 0.5788650512695312, recon loss = 0.5788650512695312, supp loss = 0.0\n",
      "\n",
      "Epoch 80\n",
      "Step 0: loss = 0.445456862449646, recon loss = 0.445456862449646, supp loss = 0.0\n",
      "Step 0: loss = 0.5644669532775879, recon loss = 0.5644669532775879, supp loss = 0.0\n",
      "\n",
      "Epoch 81\n",
      "Step 0: loss = 0.4512329697608948, recon loss = 0.4512329697608948, supp loss = 0.0\n",
      "Step 0: loss = 0.5237018465995789, recon loss = 0.5237018465995789, supp loss = 0.0\n",
      "\n",
      "Epoch 82\n",
      "Step 0: loss = 0.3954017758369446, recon loss = 0.3954017758369446, supp loss = 0.0\n",
      "Step 0: loss = 0.5588990449905396, recon loss = 0.5588990449905396, supp loss = 0.0\n",
      "\n",
      "Epoch 83\n",
      "Step 0: loss = 0.42990320920944214, recon loss = 0.42990320920944214, supp loss = 0.0\n",
      "Step 0: loss = 0.5325595736503601, recon loss = 0.5325595736503601, supp loss = 0.0\n",
      "\n",
      "Epoch 84\n",
      "Step 0: loss = 0.4180629849433899, recon loss = 0.4180629849433899, supp loss = 0.0\n",
      "Step 0: loss = 0.5420719385147095, recon loss = 0.5420719385147095, supp loss = 0.0\n",
      "\n",
      "Epoch 85\n",
      "Step 0: loss = 0.4368266761302948, recon loss = 0.4368266761302948, supp loss = 0.0\n",
      "Step 0: loss = 0.5459205508232117, recon loss = 0.5459205508232117, supp loss = 0.0\n",
      "\n",
      "Epoch 86\n",
      "Step 0: loss = 0.42999595403671265, recon loss = 0.42999595403671265, supp loss = 0.0\n",
      "Step 0: loss = 0.5386070609092712, recon loss = 0.5386070609092712, supp loss = 0.0\n",
      "\n",
      "Epoch 87\n",
      "Step 0: loss = 0.4276208281517029, recon loss = 0.4276208281517029, supp loss = 0.0\n",
      "Step 0: loss = 0.5147741436958313, recon loss = 0.5147741436958313, supp loss = 0.0\n",
      "\n",
      "Epoch 88\n",
      "Step 0: loss = 0.4473734498023987, recon loss = 0.4473734498023987, supp loss = 0.0\n",
      "Step 0: loss = 0.5451198816299438, recon loss = 0.5451198816299438, supp loss = 0.0\n",
      "\n",
      "Epoch 89\n",
      "Step 0: loss = 0.4064348340034485, recon loss = 0.4064348340034485, supp loss = 0.0\n",
      "Step 0: loss = 0.5701874494552612, recon loss = 0.5701874494552612, supp loss = 0.0\n",
      "\n",
      "Epoch 90\n",
      "Step 0: loss = 0.4211263656616211, recon loss = 0.4211263656616211, supp loss = 0.0\n",
      "Step 0: loss = 0.5361911654472351, recon loss = 0.5361911654472351, supp loss = 0.0\n",
      "\n",
      "Epoch 91\n",
      "Step 0: loss = 0.43628165125846863, recon loss = 0.43628165125846863, supp loss = 0.0\n",
      "Step 0: loss = 0.5357764959335327, recon loss = 0.5357764959335327, supp loss = 0.0\n",
      "\n",
      "Epoch 92\n",
      "Step 0: loss = 0.40461087226867676, recon loss = 0.40461087226867676, supp loss = 0.0\n",
      "Step 0: loss = 0.5469390153884888, recon loss = 0.5469390153884888, supp loss = 0.0\n",
      "\n",
      "Epoch 93\n",
      "Step 0: loss = 0.42312514781951904, recon loss = 0.42312514781951904, supp loss = 0.0\n",
      "Step 0: loss = 0.5571380853652954, recon loss = 0.5571380853652954, supp loss = 0.0\n",
      "\n",
      "Epoch 94\n",
      "Step 0: loss = 0.39402514696121216, recon loss = 0.39402514696121216, supp loss = 0.0\n",
      "Step 0: loss = 0.5221155285835266, recon loss = 0.5221155285835266, supp loss = 0.0\n",
      "\n",
      "Epoch 95\n",
      "Step 0: loss = 0.42049360275268555, recon loss = 0.42049360275268555, supp loss = 0.0\n",
      "Step 0: loss = 0.5354539155960083, recon loss = 0.5354539155960083, supp loss = 0.0\n",
      "\n",
      "Epoch 96\n",
      "Step 0: loss = 0.42465558648109436, recon loss = 0.42465558648109436, supp loss = 0.0\n",
      "Step 0: loss = 0.5335597395896912, recon loss = 0.5335597395896912, supp loss = 0.0\n",
      "\n",
      "Epoch 97\n",
      "Step 0: loss = 0.41361671686172485, recon loss = 0.41361671686172485, supp loss = 0.0\n",
      "Step 0: loss = 0.5320206880569458, recon loss = 0.5320206880569458, supp loss = 0.0\n",
      "\n",
      "Epoch 98\n",
      "Step 0: loss = 0.39464491605758667, recon loss = 0.39464491605758667, supp loss = 0.0\n",
      "Step 0: loss = 0.5679604411125183, recon loss = 0.5679604411125183, supp loss = 0.0\n",
      "\n",
      "Epoch 99\n",
      "Step 0: loss = 0.3843154013156891, recon loss = 0.3843154013156891, supp loss = 0.0\n",
      "Step 0: loss = 0.54737389087677, recon loss = 0.54737389087677, supp loss = 0.0\n",
      "\n",
      "Epoch 100\n",
      "Step 0: loss = 0.4179891347885132, recon loss = 0.4179891347885132, supp loss = 0.0\n",
      "Step 0: loss = 0.5484305024147034, recon loss = 0.5484305024147034, supp loss = 0.0\n",
      "\n",
      "Epoch 101\n",
      "Step 0: loss = 0.408954918384552, recon loss = 0.408954918384552, supp loss = 0.0\n",
      "Step 0: loss = 0.5350269675254822, recon loss = 0.5350269675254822, supp loss = 0.0\n",
      "\n",
      "Epoch 102\n",
      "Step 0: loss = 0.3750723898410797, recon loss = 0.3750723898410797, supp loss = 0.0\n",
      "Step 0: loss = 0.5464074611663818, recon loss = 0.5464074611663818, supp loss = 0.0\n",
      "\n",
      "Epoch 103\n",
      "Step 0: loss = 0.4284130334854126, recon loss = 0.4284130334854126, supp loss = 0.0\n",
      "Step 0: loss = 0.5413212776184082, recon loss = 0.5413212776184082, supp loss = 0.0\n",
      "\n",
      "Epoch 104\n",
      "Step 0: loss = 0.41088318824768066, recon loss = 0.41088318824768066, supp loss = 0.0\n",
      "Step 0: loss = 0.5534234046936035, recon loss = 0.5534234046936035, supp loss = 0.0\n",
      "\n",
      "Epoch 105\n",
      "Step 0: loss = 0.39110225439071655, recon loss = 0.39110225439071655, supp loss = 0.0\n",
      "Step 0: loss = 0.5382544994354248, recon loss = 0.5382544994354248, supp loss = 0.0\n",
      "\n",
      "Epoch 106\n",
      "Step 0: loss = 0.4005512595176697, recon loss = 0.4005512595176697, supp loss = 0.0\n",
      "Step 0: loss = 0.5495636463165283, recon loss = 0.5495636463165283, supp loss = 0.0\n",
      "\n",
      "Epoch 107\n",
      "Step 0: loss = 0.37299755215644836, recon loss = 0.37299755215644836, supp loss = 0.0\n",
      "Step 0: loss = 0.5208603143692017, recon loss = 0.5208603143692017, supp loss = 0.0\n",
      "\n",
      "Epoch 108\n",
      "Step 0: loss = 0.3801218271255493, recon loss = 0.3801218271255493, supp loss = 0.0\n",
      "Step 0: loss = 0.5440890192985535, recon loss = 0.5440890192985535, supp loss = 0.0\n",
      "\n",
      "Epoch 109\n",
      "Step 0: loss = 0.38982900977134705, recon loss = 0.38982900977134705, supp loss = 0.0\n",
      "Step 0: loss = 0.5370023250579834, recon loss = 0.5370023250579834, supp loss = 0.0\n",
      "\n",
      "Epoch 110\n",
      "Step 0: loss = 0.3891181945800781, recon loss = 0.3891181945800781, supp loss = 0.0\n",
      "Step 0: loss = 0.5494783520698547, recon loss = 0.5494783520698547, supp loss = 0.0\n",
      "\n",
      "Epoch 111\n",
      "Step 0: loss = 0.39468374848365784, recon loss = 0.39468374848365784, supp loss = 0.0\n",
      "Step 0: loss = 0.547770619392395, recon loss = 0.547770619392395, supp loss = 0.0\n",
      "\n",
      "Epoch 112\n",
      "Step 0: loss = 0.3805350065231323, recon loss = 0.3805350065231323, supp loss = 0.0\n",
      "Step 0: loss = 0.5260554552078247, recon loss = 0.5260554552078247, supp loss = 0.0\n",
      "\n",
      "Epoch 113\n",
      "Step 0: loss = 0.3726755976676941, recon loss = 0.3726755976676941, supp loss = 0.0\n",
      "Step 0: loss = 0.5291498899459839, recon loss = 0.5291498899459839, supp loss = 0.0\n",
      "\n",
      "Epoch 114\n",
      "Step 0: loss = 0.3616214692592621, recon loss = 0.3616214692592621, supp loss = 0.0\n",
      "Step 0: loss = 0.5178523063659668, recon loss = 0.5178523063659668, supp loss = 0.0\n",
      "\n",
      "Epoch 115\n",
      "Step 0: loss = 0.3836846649646759, recon loss = 0.3836846649646759, supp loss = 0.0\n",
      "Step 0: loss = 0.5520641803741455, recon loss = 0.5520641803741455, supp loss = 0.0\n",
      "\n",
      "Epoch 116\n",
      "Step 0: loss = 0.40408098697662354, recon loss = 0.40408098697662354, supp loss = 0.0\n",
      "Step 0: loss = 0.5383238196372986, recon loss = 0.5383238196372986, supp loss = 0.0\n",
      "\n",
      "Epoch 117\n",
      "Step 0: loss = 0.38884401321411133, recon loss = 0.38884401321411133, supp loss = 0.0\n",
      "Step 0: loss = 0.5160590410232544, recon loss = 0.5160590410232544, supp loss = 0.0\n",
      "\n",
      "Epoch 118\n",
      "Step 0: loss = 0.3740857243537903, recon loss = 0.3740857243537903, supp loss = 0.0\n",
      "Step 0: loss = 0.5489023923873901, recon loss = 0.5489023923873901, supp loss = 0.0\n",
      "\n",
      "Epoch 119\n",
      "Step 0: loss = 0.37671852111816406, recon loss = 0.37671852111816406, supp loss = 0.0\n",
      "Step 0: loss = 0.5391459465026855, recon loss = 0.5391459465026855, supp loss = 0.0\n",
      "\n",
      "Epoch 120\n",
      "Step 0: loss = 0.40356937050819397, recon loss = 0.40356937050819397, supp loss = 0.0\n",
      "Step 0: loss = 0.5524640083312988, recon loss = 0.5524640083312988, supp loss = 0.0\n",
      "\n",
      "Epoch 121\n",
      "Step 0: loss = 0.4057019352912903, recon loss = 0.4057019352912903, supp loss = 0.0\n",
      "Step 0: loss = 0.5492218136787415, recon loss = 0.5492218136787415, supp loss = 0.0\n",
      "\n",
      "Epoch 122\n",
      "Step 0: loss = 0.3739245533943176, recon loss = 0.3739245533943176, supp loss = 0.0\n",
      "Step 0: loss = 0.5648807287216187, recon loss = 0.5648807287216187, supp loss = 0.0\n",
      "\n",
      "Epoch 123\n",
      "Step 0: loss = 0.3730887770652771, recon loss = 0.3730887770652771, supp loss = 0.0\n",
      "Step 0: loss = 0.52293860912323, recon loss = 0.52293860912323, supp loss = 0.0\n",
      "\n",
      "Epoch 124\n",
      "Step 0: loss = 0.3932236135005951, recon loss = 0.3932236135005951, supp loss = 0.0\n",
      "Step 0: loss = 0.5362192392349243, recon loss = 0.5362192392349243, supp loss = 0.0\n",
      "\n",
      "Epoch 125\n",
      "Step 0: loss = 0.3476845324039459, recon loss = 0.3476845324039459, supp loss = 0.0\n",
      "Step 0: loss = 0.5223602652549744, recon loss = 0.5223602652549744, supp loss = 0.0\n",
      "\n",
      "Epoch 126\n",
      "Step 0: loss = 0.36167609691619873, recon loss = 0.36167609691619873, supp loss = 0.0\n",
      "Step 0: loss = 0.5365090370178223, recon loss = 0.5365090370178223, supp loss = 0.0\n",
      "\n",
      "Epoch 127\n",
      "Step 0: loss = 0.37149667739868164, recon loss = 0.37149667739868164, supp loss = 0.0\n",
      "Step 0: loss = 0.5329421162605286, recon loss = 0.5329421162605286, supp loss = 0.0\n",
      "\n",
      "Epoch 128\n",
      "Step 0: loss = 0.3787074089050293, recon loss = 0.3787074089050293, supp loss = 0.0\n",
      "Step 0: loss = 0.5242352485656738, recon loss = 0.5242352485656738, supp loss = 0.0\n",
      "\n",
      "Epoch 129\n",
      "Step 0: loss = 0.36335036158561707, recon loss = 0.36335036158561707, supp loss = 0.0\n",
      "Step 0: loss = 0.5216166377067566, recon loss = 0.5216166377067566, supp loss = 0.0\n",
      "\n",
      "Epoch 130\n",
      "Step 0: loss = 0.3692753314971924, recon loss = 0.3692753314971924, supp loss = 0.0\n",
      "Step 0: loss = 0.5166130065917969, recon loss = 0.5166130065917969, supp loss = 0.0\n",
      "\n",
      "Epoch 131\n",
      "Step 0: loss = 0.37235385179519653, recon loss = 0.37235385179519653, supp loss = 0.0\n",
      "Step 0: loss = 0.5273212194442749, recon loss = 0.5273212194442749, supp loss = 0.0\n",
      "\n",
      "Epoch 132\n",
      "Step 0: loss = 0.3473671078681946, recon loss = 0.3473671078681946, supp loss = 0.0\n",
      "Step 0: loss = 0.5160890817642212, recon loss = 0.5160890817642212, supp loss = 0.0\n",
      "\n",
      "Epoch 133\n",
      "Step 0: loss = 0.37658512592315674, recon loss = 0.37658512592315674, supp loss = 0.0\n",
      "Step 0: loss = 0.5534236431121826, recon loss = 0.5534236431121826, supp loss = 0.0\n",
      "\n",
      "Epoch 134\n",
      "Step 0: loss = 0.3577668368816376, recon loss = 0.3577668368816376, supp loss = 0.0\n",
      "Step 0: loss = 0.5391830205917358, recon loss = 0.5391830205917358, supp loss = 0.0\n",
      "\n",
      "Epoch 135\n",
      "Step 0: loss = 0.3593124747276306, recon loss = 0.3593124747276306, supp loss = 0.0\n",
      "Step 0: loss = 0.5114463567733765, recon loss = 0.5114463567733765, supp loss = 0.0\n",
      "\n",
      "Epoch 136\n",
      "Step 0: loss = 0.3905816674232483, recon loss = 0.3905816674232483, supp loss = 0.0\n",
      "Step 0: loss = 0.5276695489883423, recon loss = 0.5276695489883423, supp loss = 0.0\n",
      "\n",
      "Epoch 137\n",
      "Step 0: loss = 0.34998565912246704, recon loss = 0.34998565912246704, supp loss = 0.0\n",
      "Step 0: loss = 0.536384105682373, recon loss = 0.536384105682373, supp loss = 0.0\n",
      "\n",
      "Epoch 138\n",
      "Step 0: loss = 0.35049012303352356, recon loss = 0.35049012303352356, supp loss = 0.0\n",
      "Step 0: loss = 0.5454021692276001, recon loss = 0.5454021692276001, supp loss = 0.0\n",
      "\n",
      "Epoch 139\n",
      "Step 0: loss = 0.35012874007225037, recon loss = 0.35012874007225037, supp loss = 0.0\n",
      "Step 0: loss = 0.5329641103744507, recon loss = 0.5329641103744507, supp loss = 0.0\n",
      "\n",
      "Epoch 140\n",
      "Step 0: loss = 0.3460300862789154, recon loss = 0.3460300862789154, supp loss = 0.0\n",
      "Step 0: loss = 0.5044606924057007, recon loss = 0.5044606924057007, supp loss = 0.0\n",
      "\n",
      "Epoch 141\n",
      "Step 0: loss = 0.3274235427379608, recon loss = 0.3274235427379608, supp loss = 0.0\n",
      "Step 0: loss = 0.5690267086029053, recon loss = 0.5690267086029053, supp loss = 0.0\n",
      "\n",
      "Epoch 142\n",
      "Step 0: loss = 0.34682145714759827, recon loss = 0.34682145714759827, supp loss = 0.0\n",
      "Step 0: loss = 0.5032373666763306, recon loss = 0.5032373666763306, supp loss = 0.0\n",
      "\n",
      "Epoch 143\n",
      "Step 0: loss = 0.36522388458251953, recon loss = 0.36522388458251953, supp loss = 0.0\n",
      "Step 0: loss = 0.5480072498321533, recon loss = 0.5480072498321533, supp loss = 0.0\n",
      "\n",
      "Epoch 144\n",
      "Step 0: loss = 0.3301016688346863, recon loss = 0.3301016688346863, supp loss = 0.0\n",
      "Step 0: loss = 0.5188256502151489, recon loss = 0.5188256502151489, supp loss = 0.0\n",
      "\n",
      "Epoch 145\n",
      "Step 0: loss = 0.32685789465904236, recon loss = 0.32685789465904236, supp loss = 0.0\n",
      "Step 0: loss = 0.5156031250953674, recon loss = 0.5156031250953674, supp loss = 0.0\n",
      "\n",
      "Epoch 146\n",
      "Step 0: loss = 0.3405306041240692, recon loss = 0.3405306041240692, supp loss = 0.0\n",
      "Step 0: loss = 0.5143288969993591, recon loss = 0.5143288969993591, supp loss = 0.0\n",
      "\n",
      "Epoch 147\n",
      "Step 0: loss = 0.3404829502105713, recon loss = 0.3404829502105713, supp loss = 0.0\n",
      "Step 0: loss = 0.5337139368057251, recon loss = 0.5337139368057251, supp loss = 0.0\n",
      "\n",
      "Epoch 148\n",
      "Step 0: loss = 0.3114236891269684, recon loss = 0.3114236891269684, supp loss = 0.0\n",
      "Step 0: loss = 0.507530689239502, recon loss = 0.507530689239502, supp loss = 0.0\n",
      "\n",
      "Epoch 149\n",
      "Step 0: loss = 0.3116111755371094, recon loss = 0.3116111755371094, supp loss = 0.0\n",
      "Step 0: loss = 0.527229905128479, recon loss = 0.527229905128479, supp loss = 0.0\n",
      "\n",
      "Epoch 150\n",
      "Step 0: loss = 0.30508682131767273, recon loss = 0.30508682131767273, supp loss = 0.0\n",
      "Step 0: loss = 0.512191891670227, recon loss = 0.512191891670227, supp loss = 0.0\n",
      "\n",
      "Epoch 151\n"
     ]
    }
   ],
   "source": [
    "epochs = 2000\n",
    "fine_tune_epochs = 3\n",
    "batch_size = 32\n",
    "support_batch_size = 300\n",
    "alpha0 = 4\n",
    "nalpha = alpha0\n",
    "for i in range(epochs):\n",
    "  nalpha = min(nalpha * 1.02, 60)\n",
    "  print(f\"Epoch {i}\")\n",
    "  for step, (batch_betas, batch_dirs, supp_vs, supp_ys) in enumerate(batch(X, betas, random_dirs, supps_b, batch_size, support_batch_size)):\n",
    "    # print(supp_vs.shape, supp_ys.shape)\n",
    "    loss_vals = train_step(vae, batch_betas, batch_dirs, supp_vs, supp_ys, 1.0, 0.0)\n",
    "    if step % 100 == 0: # tmp\n",
    "      print(f\"Step {step}: loss = {loss_vals[0].numpy()}, recon loss = {loss_vals[1].numpy()}, supp loss = {loss_vals[2].numpy()}\")\n",
    "    for j in range(fine_tune_epochs):\n",
    "        loss_vals = train_step(vae, batch_betas, tf.linalg.normalize(batch_dirs + np.random.randn(*batch_dirs.shape)*0.1, axis=-1)[0], supp_vs, supp_ys, 1.0, 0.0)\n",
    "    if step % 100 == 0: # tmp\n",
    "      print(f\"Step {step}: loss = {loss_vals[0].numpy()}, recon loss = {loss_vals[1].numpy()}, supp loss = {loss_vals[2].numpy()}\")\n",
    "  print()"
   ]
  },
  {
   "cell_type": "code",
   "execution_count": null,
   "metadata": {
    "id": "qHF0P4eISAH5"
   },
   "outputs": [],
   "source": [
    "vae.save_weights('./my_checkpoint/chekpont')"
   ]
  },
  {
   "cell_type": "code",
   "execution_count": null,
   "metadata": {
    "colab": {
     "base_uri": "https://localhost:8080/"
    },
    "id": "3JkrFRN7uOlf",
    "outputId": "90f21636-cdec-4d1e-eb4f-405a557a43b4"
   },
   "outputs": [
    {
     "data": {
      "text/plain": [
       "<tensorflow.python.checkpoint.checkpoint.CheckpointLoadStatus at 0x7dfda7a63c70>"
      ]
     },
     "execution_count": 36,
     "metadata": {},
     "output_type": "execute_result"
    }
   ],
   "source": [
    "vae.load_weights('./my_checkpoint/chekpont')"
   ]
  },
  {
   "cell_type": "code",
   "execution_count": null,
   "metadata": {
    "colab": {
     "base_uri": "https://localhost:8080/"
    },
    "id": "bS8sKCRfgUoH",
    "outputId": "b7f487ba-8083-4757-b9ea-250fd343a5d7"
   },
   "outputs": [
    {
     "name": "stdout",
     "output_type": "stream",
     "text": [
      "Archive:  chem-checkpoint.zip\n",
      "   creating: my_checkpoint/\n",
      "  inflating: my_checkpoint/chekpont.index  \n",
      "  inflating: my_checkpoint/.data-00000-of-00001  \n",
      "  inflating: my_checkpoint/checkpoint  \n",
      "  inflating: my_checkpoint/chekpont.data-00000-of-00001  \n",
      "  inflating: my_checkpoint/.index    \n"
     ]
    }
   ],
   "source": [
    "# !zip -r my_checkpoint.zip my_checkpoint/\n",
    "!unzip chem-checkpoint.zip"
   ]
  },
  {
   "cell_type": "code",
   "execution_count": 38,
   "metadata": {
    "id": "EbHImoN2QaKX"
   },
   "outputs": [],
   "source": [
    "drawn_random_dirs = np.random.randn(50_000, d)"
   ]
  },
  {
   "cell_type": "code",
   "execution_count": 54,
   "metadata": {
    "id": "Uyl_Vz7yFRxU"
   },
   "outputs": [],
   "source": [
    "# Dont really think this works, since the latent space should be conditioned on the direction\n",
    "# Just to try something\n",
    "# Likely better to just have VAE solely on betas w/o directions\n",
    "\n",
    "def posterior_sampling(model, betas, random_dirs, num_samples=1):\n",
    "  zm, zlv, z = model.encoder((betas, random_dirs))\n",
    "  if num_samples == 1:\n",
    "      return model.decoder((z, random_dirs))\n",
    "  else:\n",
    "      samples = [sampling((zm, zlv)) for _ in range(num_samples)]\n",
    "      return tf.concat([model.decoder((sm, random_dirs))[:, None, :] for sm in samples], axis=1)\n",
    "\n",
    "def generate_new_betas(model, num_samples=1):\n",
    "  random_dirs1 = np.random.randn(num_samples, d)\n",
    "  random_dirs2 = np.random.randn(num_samples, d)\n",
    "  random_dirs1 = random_dirs1 / np.linalg.norm(random_dirs1, axis=1, keepdims=True)\n",
    "  random_dirs1 = tf.constant(random_dirs1)\n",
    "  random_dirs2 = random_dirs2 / np.linalg.norm(random_dirs2, axis=1, keepdims=True)\n",
    "  random_dirs2 = tf.constant(random_dirs2)\n",
    "  latent_samples1 = tf.random.normal(shape=(num_samples, latent_dim))    \n",
    "  latent_samples2 = tf.random.normal(shape=(num_samples, latent_dim))\n",
    "  return model.decoder([latent_samples1, random_dirs1]), random_dirs1, model.decoder([latent_samples2, random_dirs1])"
   ]
  },
  {
   "cell_type": "code",
   "execution_count": 55,
   "metadata": {
    "id": "S0XvcHOvKGNd"
   },
   "outputs": [
    {
     "ename": "NameError",
     "evalue": "name 'vae' is not defined",
     "output_type": "error",
     "traceback": [
      "\u001b[0;31m---------------------------------------------------------------------------\u001b[0m",
      "\u001b[0;31mNameError\u001b[0m                                 Traceback (most recent call last)",
      "Cell \u001b[0;32mIn[55], line 1\u001b[0m\n\u001b[0;32m----> 1\u001b[0m drawn_betas, dir1, drawn_betas2 \u001b[38;5;241m=\u001b[39m generate_new_betas(\u001b[43mvae\u001b[49m, \u001b[38;5;241m50_000\u001b[39m)\n\u001b[1;32m      2\u001b[0m \u001b[38;5;66;03m# drawn_betas = posterior_sampling(vae, betas, np.random.randn(512, d), 1)\u001b[39;00m\n\u001b[1;32m      3\u001b[0m \u001b[38;5;66;03m# drawn_betas = posterior_sampling(vae, betas, random_dirs, 1)\u001b[39;00m\n\u001b[1;32m      4\u001b[0m \u001b[38;5;66;03m# drawn_betas = posterior_sampling(vae, betas, random_dirs, 100)\u001b[39;00m\n\u001b[1;32m      5\u001b[0m \u001b[38;5;66;03m# generate_new_betas\u001b[39;00m\n",
      "\u001b[0;31mNameError\u001b[0m: name 'vae' is not defined"
     ]
    }
   ],
   "source": [
    "drawn_betas, dir1, drawn_betas2 = generate_new_betas(vae, 50_000)\n",
    "# drawn_betas = posterior_sampling(vae, betas, np.random.randn(512, d), 1)\n",
    "# drawn_betas = posterior_sampling(vae, betas, random_dirs, 1)\n",
    "# drawn_betas = posterior_sampling(vae, betas, random_dirs, 100)\n",
    "# generate_new_betas"
   ]
  },
  {
   "cell_type": "code",
   "execution_count": 108,
   "metadata": {},
   "outputs": [],
   "source": [
    "sample = 200\n",
    "X_sub, X_ids = project_and_filter(X, random_dirs[sample], 40)\n",
    "Y_sub = Y[X_ids]\n",
    "prd1 = softmax(get_rand_feats(X_sub@pca_projs, model), betas[sample])"
   ]
  },
  {
   "cell_type": "code",
   "execution_count": 109,
   "metadata": {},
   "outputs": [],
   "source": [
    "X_sub, X_ids = project_and_filter(X, random_dirs[sample], 40)\n",
    "Y_sub = Y[X_ids]\n",
    "# prd2 = softmax(get_rand_feats(X_sub@pca_projs, model), drawn_betas[sample][0])\n",
    "prd2 = softmax(get_rand_feats(X_sub@pca_projs, model), drawn_betas[sample])"
   ]
  },
  {
   "cell_type": "code",
   "execution_count": 110,
   "metadata": {},
   "outputs": [
    {
     "data": {
      "text/plain": [
       "(<tf.Tensor: shape=(4081,), dtype=float32, numpy=\n",
       " array([-0.00631047,  0.12106761,  0.46212596, ...,  0.47387064,\n",
       "        -0.281489  , -0.05550657], dtype=float32)>,\n",
       " <tf.Tensor: shape=(4081,), dtype=float64, numpy=\n",
       " array([ 0.00832155,  0.00116945,  0.10095101, ...,  0.12449417,\n",
       "        -0.06915902, -0.01289894])>)"
      ]
     },
     "execution_count": 110,
     "metadata": {},
     "output_type": "execute_result"
    }
   ],
   "source": [
    "drawn_betas[0], betas[0]"
   ]
  },
  {
   "cell_type": "code",
   "execution_count": 111,
   "metadata": {},
   "outputs": [],
   "source": [
    "# check agreement between vae and training samples\n",
    "from sklearn.metrics import jaccard_score\n",
    "def agreement(y_pred1, y_pred2, y_true):\n",
    "    tp1 = np.float32(y_pred1==1) * np.float32(y_true==1)\n",
    "    fp1 = np.float32(y_pred1==1) * np.float32(y_true==0)\n",
    "    tn1 = np.float32(y_pred1==0) * np.float32(y_true==0)\n",
    "    fn1 = np.float32(y_pred1==0) * np.float32(y_true==1)\n",
    "\n",
    "    tp2 = np.float32(y_pred2==1) * np.float32(y_true==1)\n",
    "    fp2 = np.float32(y_pred2==1) * np.float32(y_true==0)\n",
    "    tn2 = np.float32(y_pred2==0) * np.float32(y_true==0)\n",
    "    fn2 = np.float32(y_pred2==0) * np.float32(y_true==1)\n",
    "    print(np.sum(tp1)/len(tp1), np.sum(fp1)/len(tp1), np.sum(tn1)/len(tp1), np.sum(fn1)/len(tp1))\n",
    "    print(np.sum(tp2)/len(tp1), np.sum(fp2)/len(tp1), np.sum(tn2)/len(tp1), np.sum(fn2)/len(tp1))\n",
    "    print(np.sum(fp1==fp2)/len(tp1), np.sum(fn1==fn2)/len(tp1))\n",
    "    return jaccard_score(tp1, tp2), jaccard_score(fp1, fp2), jaccard_score(tn1, tn2), jaccard_score(fn1, fn2)"
   ]
  },
  {
   "cell_type": "code",
   "execution_count": 112,
   "metadata": {},
   "outputs": [
    {
     "name": "stdout",
     "output_type": "stream",
     "text": [
      "0.5735723218007504 0.0029178824510212586 0.4210087536473531 0.0025010421008753647\n",
      "0.5731554814506045 0.0025010421008753647 0.42142559399749896 0.0029178824510212586\n",
      "0.9979157982492706 0.9979157982492706\n"
     ]
    },
    {
     "data": {
      "text/plain": [
       "(0.9963715529753265,\n",
       " 0.4444444444444444,\n",
       " 0.9950641658440277,\n",
       " 0.4444444444444444)"
      ]
     },
     "execution_count": 112,
     "metadata": {},
     "output_type": "execute_result"
    }
   ],
   "source": [
    "agreement(prd1, prd2, Y_sub)"
   ]
  },
  {
   "cell_type": "code",
   "execution_count": 40,
   "metadata": {},
   "outputs": [
    {
     "data": {
      "text/plain": [
       "TensorShape([512, 10, 4081])"
      ]
     },
     "execution_count": 40,
     "metadata": {},
     "output_type": "execute_result"
    }
   ],
   "source": [
    "drawn_betas.shape"
   ]
  },
  {
   "cell_type": "code",
   "execution_count": 68,
   "metadata": {},
   "outputs": [
    {
     "data": {
      "text/plain": [
       "<tf.Tensor: shape=(), dtype=float32, numpy=0.0054231044>"
      ]
     },
     "execution_count": 68,
     "metadata": {},
     "output_type": "execute_result"
    }
   ],
   "source": [
    "inps= betas\n",
    "oups = drawn_betas\n",
    "tf.reduce_mean(1-tf.reduce_sum(tf.linalg.normalize(tf.cast(tf.expand_dims(inps, axis=1)[:, :, 1:], dtype=tf.float32), axis=-1)[0] *\n",
    "                                              tf.linalg.normalize(oups[:, :, 1:], axis=-1)[0], axis=-1))"
   ]
  },
  {
   "cell_type": "code",
   "execution_count": 69,
   "metadata": {},
   "outputs": [
    {
     "data": {
      "text/plain": [
       "<tf.Tensor: shape=(), dtype=float32, numpy=0.012491584>"
      ]
     },
     "execution_count": 69,
     "metadata": {},
     "output_type": "execute_result"
    }
   ],
   "source": [
    "tf.reduce_mean(tf.abs(tf.cast(tf.expand_dims(inps, axis=1)[:, :, :1], dtype=tf.float32)-oups[:, :, :1]))"
   ]
  },
  {
   "cell_type": "code",
   "execution_count": 226,
   "metadata": {},
   "outputs": [
    {
     "data": {
      "text/plain": [
       "(<tf.Tensor: shape=(4081,), dtype=float32, numpy=\n",
       " array([ 0.01558006,  0.08848727,  0.02163708, ...,  0.32644653,\n",
       "        -0.05755342,  0.21104604], dtype=float32)>,\n",
       " <tf.Tensor: shape=(4081,), dtype=float64, numpy=\n",
       " array([ 0.00832155,  0.00116945,  0.10095101, ...,  0.12449417,\n",
       "        -0.06915902, -0.01289894])>)"
      ]
     },
     "execution_count": 226,
     "metadata": {},
     "output_type": "execute_result"
    }
   ],
   "source": [
    "drawn_betas1[0], betas[0]"
   ]
  },
  {
   "cell_type": "code",
   "execution_count": 218,
   "metadata": {
    "colab": {
     "base_uri": "https://localhost:8080/"
    },
    "id": "-IHicI0RhbDe",
    "outputId": "32426975-705a-4668-f061-08acd65bc48f"
   },
   "outputs": [
    {
     "data": {
      "text/plain": [
       "<tf.Tensor: shape=(), dtype=float32, numpy=-0.99283946>"
      ]
     },
     "execution_count": 218,
     "metadata": {},
     "output_type": "execute_result"
    }
   ],
   "source": [
    "tf.keras.losses.CosineSimilarity(axis=-1)(drawn_betas1, drawn_betas2)"
   ]
  },
  {
   "cell_type": "code",
   "execution_count": 213,
   "metadata": {
    "colab": {
     "base_uri": "https://localhost:8080/"
    },
    "id": "qOFI9xq2b7_3",
    "outputId": "a11e5724-0e2a-428d-a65a-28064209e6bf"
   },
   "outputs": [
    {
     "data": {
      "text/plain": [
       "<tf.Tensor: shape=(3, 4081), dtype=float32, numpy=\n",
       "array([[ 3.5679474e-02, -8.5116491e-02, -2.7868379e-02, ...,\n",
       "         3.8362685e-01,  6.8785306e-03,  5.8818167e-01],\n",
       "       [ 2.0887703e-02,  5.4998733e-02,  2.2995186e-01, ...,\n",
       "         1.0724969e-01,  3.8565136e-04,  3.8573799e-01],\n",
       "       [-6.5227631e-03,  2.0269346e-01,  4.0428180e-01, ...,\n",
       "        -4.8758507e-01, -8.2871839e-02,  3.4979448e-01]], dtype=float32)>"
      ]
     },
     "execution_count": 213,
     "metadata": {},
     "output_type": "execute_result"
    }
   ],
   "source": [
    "drawn_betas1[0:3]"
   ]
  },
  {
   "cell_type": "code",
   "execution_count": 122,
   "metadata": {
    "colab": {
     "base_uri": "https://localhost:8080/"
    },
    "id": "DFCgGG6jgkLL",
    "outputId": "5e799c27-fff1-41fc-d71f-3fc7ea88538b"
   },
   "outputs": [
    {
     "name": "stdout",
     "output_type": "stream",
     "text": [
      "tf.Tensor(0.13627878, shape=(), dtype=float32)\n"
     ]
    }
   ],
   "source": [
    "drawn_betas = tf.reshape(drawn_betas, (-1, drawn_betas.shape[-1]))\n",
    "var = tf.math.reduce_variance(drawn_betas, axis=0)\n",
    "mean_var = tf.reduce_mean(var)\n",
    "print(mean_var)"
   ]
  },
  {
   "cell_type": "code",
   "execution_count": null,
   "metadata": {
    "id": "RxnzX5lJQtjX"
   },
   "outputs": [],
   "source": [
    "np.mean(drawn_betas1 @ tf.transpose(drawn_betas))"
   ]
  },
  {
   "cell_type": "code",
   "execution_count": 25,
   "metadata": {
    "colab": {
     "base_uri": "https://localhost:8080/",
     "height": 221
    },
    "id": "TfAej5fqsfHh",
    "outputId": "fd888e0d-c076-4577-be0d-4de29be77dd2"
   },
   "outputs": [
    {
     "ename": "NameError",
     "evalue": "name 'convert_data_to_features' is not defined",
     "output_type": "error",
     "traceback": [
      "\u001b[0;31m---------------------------------------------------------------------------\u001b[0m",
      "\u001b[0;31mNameError\u001b[0m                                 Traceback (most recent call last)",
      "Cell \u001b[0;32mIn[25], line 1\u001b[0m\n\u001b[0;32m----> 1\u001b[0m ood_val_features \u001b[38;5;241m=\u001b[39m \u001b[43mconvert_data_to_features\u001b[49m(ood_val_data)\n\u001b[1;32m      2\u001b[0m \u001b[38;5;66;03m#ood_test_features = convert_data_to_features(ood_test_data)\u001b[39;00m\n\u001b[1;32m      4\u001b[0m ood_val_labels \u001b[38;5;241m=\u001b[39m np\u001b[38;5;241m.\u001b[39marray([entry[\u001b[38;5;124m'\u001b[39m\u001b[38;5;124mcls_label\u001b[39m\u001b[38;5;124m'\u001b[39m] \u001b[38;5;28;01mfor\u001b[39;00m entry \u001b[38;5;129;01min\u001b[39;00m ood_val_data])\n",
      "\u001b[0;31mNameError\u001b[0m: name 'convert_data_to_features' is not defined"
     ]
    }
   ],
   "source": [
    "ood_val_features = convert_data_to_features(ood_val_data)\n",
    "#ood_test_features = convert_data_to_features(ood_test_data)\n",
    "\n",
    "ood_val_labels = np.array([entry['cls_label'] for entry in ood_val_data])\n",
    "#ood_test_labels = np.array([entry['cls_label'] for entry in ood_test_data])"
   ]
  },
  {
   "cell_type": "code",
   "execution_count": 41,
   "metadata": {
    "colab": {
     "background_save": true
    },
    "id": "U07oDyUdsl1u"
   },
   "outputs": [
    {
     "ename": "NameError",
     "evalue": "name 'ood_val_features' is not defined",
     "output_type": "error",
     "traceback": [
      "\u001b[0;31m---------------------------------------------------------------------------\u001b[0m",
      "\u001b[0;31mNameError\u001b[0m                                 Traceback (most recent call last)",
      "Cell \u001b[0;32mIn[41], line 1\u001b[0m\n\u001b[0;32m----> 1\u001b[0m external_X \u001b[38;5;241m=\u001b[39m tf\u001b[38;5;241m.\u001b[39mcast(\u001b[43mood_val_features\u001b[49m, tf\u001b[38;5;241m.\u001b[39mfloat32)\n\u001b[1;32m      2\u001b[0m external_Y \u001b[38;5;241m=\u001b[39m ood_val_labels\n",
      "\u001b[0;31mNameError\u001b[0m: name 'ood_val_features' is not defined"
     ]
    }
   ],
   "source": [
    "external_X = tf.cast(ood_val_features, tf.float32)\n",
    "external_Y = ood_val_labels"
   ]
  },
  {
   "cell_type": "code",
   "execution_count": 89,
   "metadata": {},
   "outputs": [],
   "source": [
    "with open('../datasets-ood/chem/val_ood.csv', 'r') as f:\n",
    "  external_X = np.float32(np.array([line.strip().split(',')[4:] for line in f])[1:])\n",
    "\n",
    "with open('../datasets-ood/chem/val_ood.csv', 'r') as f:\n",
    "  external_Y = np.float32(np.array([line.strip().split(',')[1] for line in f])[1:])\n",
    "\n",
    "external_X = (external_X-mu_x)/sigma_x"
   ]
  },
  {
   "cell_type": "code",
   "execution_count": 90,
   "metadata": {},
   "outputs": [],
   "source": [
    "np.save('external_X.npy', external_X)\n",
    "np.save('external_Y.npy', external_Y)"
   ]
  },
  {
   "cell_type": "code",
   "execution_count": 91,
   "metadata": {
    "id": "7-bWmPkrKQ5a"
   },
   "outputs": [],
   "source": [
    "\n",
    "external_randfeats_X = get_rand_feats(external_X@pca_projs, model)\n",
    "randfeats_X = get_rand_feats(X@pca_projs, model)"
   ]
  },
  {
   "cell_type": "code",
   "execution_count": 139,
   "metadata": {
    "colab": {
     "base_uri": "https://localhost:8080/"
    },
    "id": "2uoIqkjR7G_K",
    "outputId": "1a114f68-6f8b-4ede-b395-df1c2dfa2067"
   },
   "outputs": [
    {
     "name": "stdout",
     "output_type": "stream",
     "text": [
      "[ 1.9594797  -0.29764882 -0.08170752 ... -0.04052026 -0.06053026\n",
      " -0.03134901]\n",
      "tf.Tensor(\n",
      "[-0.13125554  0.30866534  0.63319725 -0.5780234  -0.21648076 -0.3846287\n",
      "  0.99320394 -0.1799166   0.678208    0.62888056], shape=(10,), dtype=float32)\n",
      "0.0\n"
     ]
    }
   ],
   "source": [
    "print(external_X[0])\n",
    "print(external_randfeats_X[0][:10])\n",
    "print(external_Y[0])"
   ]
  },
  {
   "cell_type": "code",
   "execution_count": 138,
   "metadata": {
    "colab": {
     "base_uri": "https://localhost:8080/"
    },
    "id": "ZF8wAtKb14p_",
    "outputId": "5ec19308-4552-4326-ec47-b86470a2f7b3"
   },
   "outputs": [
    {
     "name": "stdout",
     "output_type": "stream",
     "text": [
      "(937, 1024)\n",
      "(937, 2040)\n",
      "(937,)\n"
     ]
    }
   ],
   "source": [
    "print(external_X.shape)\n",
    "print(external_randfeats_X.shape)\n",
    "print(external_Y.shape)"
   ]
  },
  {
   "cell_type": "code",
   "execution_count": 137,
   "metadata": {
    "colab": {
     "base_uri": "https://localhost:8080/"
    },
    "id": "35zXouXU2X2f",
    "outputId": "ae104348-bf03-48d8-a6c3-d3112b1dcb37"
   },
   "outputs": [
    {
     "name": "stdout",
     "output_type": "stream",
     "text": [
      "[[ 1.9594797  -0.29764882 -0.08170752 ... -0.04052026 -0.06053026\n",
      "  -0.03134901]\n",
      " [-0.04052026 -0.29764882 -0.08170752 ... -0.04052026 -0.06053026\n",
      "  -0.03134901]\n",
      " [-0.04052026 -0.29764882 -0.08170752 ... -0.04052026 -0.06053026\n",
      "  -0.03134901]\n",
      " ...\n",
      " [-0.04052026 -0.29764882 -0.08170752 ... -0.04052026 -0.06053026\n",
      "  -0.03134901]\n",
      " [-0.04052026 -0.29764882 -0.08170752 ... -0.04052026 -0.06053026\n",
      "  -0.03134901]\n",
      " [-0.04052026 -0.29764882 -0.08170752 ... -0.04052026 -0.06053026\n",
      "  -0.03134901]]\n",
      "[0. 0. 0. 0. 0. 0. 0. 0. 0. 0.]\n"
     ]
    }
   ],
   "source": [
    "print(external_X[:10])\n",
    "print(external_Y[:10])"
   ]
  },
  {
   "cell_type": "code",
   "execution_count": 139,
   "metadata": {
    "colab": {
     "base_uri": "https://localhost:8080/"
    },
    "id": "W32O3S_gKnEp",
    "outputId": "8797bdae-deb8-43ed-ef0c-cbf43fb4aad2"
   },
   "outputs": [
    {
     "name": "stdout",
     "output_type": "stream",
     "text": [
      "(937, 512) (937, 512)\n"
     ]
    }
   ],
   "source": [
    "def get_preds(randfeats, betas):\n",
    "  \"\"\"\n",
    "  Args:\n",
    "    randfeats: N x d\n",
    "    betas: M x d\n",
    "  Return:\n",
    "    preds: N x M - each beta predicts on each instance\n",
    "  \"\"\"\n",
    "  #preds = []\n",
    "  #for i in range(len(betas)):\n",
    "  #  if i % 25_000 == 0: print(f\"{i} Predictions Made\")\n",
    "  #  preds.append(np.matmul(randfeats, betas[i]))\n",
    "  #return np.array(preds)\n",
    "  sd = (1 / (1 + np.exp(-np.concatenate([np.ones((randfeats.shape[0], 1)), randfeats], axis=-1) @ betas.numpy().T)))\n",
    "  return sd[:]\n",
    "\n",
    "  # betaT = np.transpose(betas) # d x M\n",
    "  # preds = np.matmul(randfeats, betaT) # N x M\n",
    "  # return preds\n",
    "\n",
    "def aggregate_preds(preds):\n",
    "  # mean_pred = np.mean(preds, axis=-1, keepdims=False)\n",
    "  mean_pred = np.sum(preds, axis=-1, keepdims=False)\n",
    "  std_pred = np.std(preds, axis=-1, keepdims=False)\n",
    "  # Typically 0.5 threshold, just was all 0s\n",
    "  return np.float32(mean_pred), np.float32(mean_pred), np.float32(std_pred)\n",
    "\n",
    "def get_preds_and_aggregate_sorted(randfeats, eX, dirs, betas):\n",
    "  preds = get_preds(randfeats, betas)\n",
    "  projs = np.dot(tf.linalg.normalize(eX, axis=-1)[0], tf.transpose(tf.linalg.normalize(dirs, axis=-1)[0]))\n",
    "  print(projs.shape, preds.shape)\n",
    "  thresh = np.percentile(projs, 100 - 5, axis=-1)\n",
    "  # wghts = (projs > thresh[:, None]) * projs\n",
    "  # wghts = np.ones_like(projs > thresh[:, None])\n",
    "  wghts = (projs > thresh[:, None]).astype(np.float64)\n",
    "  # wghts = (projs >= thresh[:, None]) * tf.nn.softmax(projs*(projs >= thresh[:, None]), axis=-1)\n",
    "  wghts /= np.sum(wghts, axis=-1, keepdims=True)\n",
    "  return aggregate_preds(preds * wghts)\n",
    "\n",
    "def get_preds_and_aggregate(randfeats, betas):\n",
    "  preds = get_preds(randfeats, betas)\n",
    "  return aggregate_preds(preds)\n",
    "\n",
    "\n",
    "# drawn_betas = tf.reshape(drawn_betas, (-1, drawn_betas.shape[-1]))\n",
    "# ext_preds, mp_rand, sp_rand = get_preds_and_aggregate_sorted(randfeats_X, X, random_dirs[:512], betas[:512]) # 0.622\n",
    "ext_preds, mp_rand, sp_rand = get_preds_and_aggregate_sorted(external_randfeats_X, external_X, random_dirs[:512], betas[:512]) # 0.622\n",
    "# ext_preds, mp_rand, sp_rand = get_preds_and_aggregate(external_randfeats_X, betas[:512]) # 0.622\n",
    "# ext_preds, mp_rand, sp_rand = get_preds_and_aggregate_sorted(external_randfeats_X, external_X, dir1, drawn_betas) # 0.622\n",
    "# ext_preds, mp_rand, sp_rand = get_preds_and_aggregate(external_randfeats_X, drawn_betas1) # 0.622\n",
    "# ext_preds, mp_rand, sp_rand = get_preds_and_aggregate(external_randfeats_X, betas) # 0.634\n",
    "# ext_preds, mp_rand, sp_rand = get_preds_and_aggregate(randfeats_X, drawn_betas) # 0.85\n",
    "# ext_preds, mp_rand, sp_rand, pred = get_preds_and_aggregate(external_randfeats_X, betas) # 0.91"
   ]
  },
  {
   "cell_type": "code",
   "execution_count": 163,
   "metadata": {
    "colab": {
     "base_uri": "https://localhost:8080/"
    },
    "id": "DOyhZXJBrhaj",
    "outputId": "98cc9eb0-2e98-4b38-e823-337411f61e28"
   },
   "outputs": [
    {
     "data": {
      "text/plain": [
       "(100, 100)"
      ]
     },
     "execution_count": 163,
     "metadata": {},
     "output_type": "execute_result"
    }
   ],
   "source": [
    "np.dot(tf.linalg.normalize(tf.ones((100, 200)), axis=-1)[0], tf.transpose(tf.linalg.normalize(tf.ones((100, 200)), axis=-1)[0])).shape"
   ]
  },
  {
   "cell_type": "code",
   "execution_count": null,
   "metadata": {
    "colab": {
     "base_uri": "https://localhost:8080/"
    },
    "id": "U8k8Ut4rSzEG",
    "outputId": "a9702828-7bea-436e-de46-89ca03c30b47"
   },
   "outputs": [
    {
     "data": {
      "text/plain": [
       "(array([ 1.767455  ,  0.1001012 , -0.54182774, ..., -6.8707843 ,\n",
       "         7.257238  , -0.5050444 ], dtype=float32),\n",
       " array([-0.0186294 ,  0.06830448, -0.27256313, ..., -0.72351612,\n",
       "         0.81710885,  0.05805234]))"
      ]
     },
     "execution_count": 37,
     "metadata": {},
     "output_type": "execute_result"
    }
   ],
   "source": [
    "drawn_betas[0].numpy(), betas[0].numpy()"
   ]
  },
  {
   "cell_type": "code",
   "execution_count": null,
   "metadata": {
    "colab": {
     "base_uri": "https://localhost:8080/"
    },
    "id": "Kcwk5JuaL9hK",
    "outputId": "c7853e3c-5de9-41b4-ee14-db7cb19048bd"
   },
   "outputs": [
    {
     "name": "stdout",
     "output_type": "stream",
     "text": [
      "(937,)\n"
     ]
    }
   ],
   "source": [
    "print(ext_preds.shape)"
   ]
  },
  {
   "cell_type": "code",
   "execution_count": 66,
   "metadata": {
    "colab": {
     "base_uri": "https://localhost:8080/"
    },
    "id": "gyB9pfuaU0dn",
    "outputId": "2fac824c-8637-4a35-8dfb-7b60045b10b4"
   },
   "outputs": [
    {
     "ename": "NameError",
     "evalue": "name 'ext_preds' is not defined",
     "output_type": "error",
     "traceback": [
      "\u001b[0;31m---------------------------------------------------------------------------\u001b[0m",
      "\u001b[0;31mNameError\u001b[0m                                 Traceback (most recent call last)",
      "Cell \u001b[0;32mIn[66], line 1\u001b[0m\n\u001b[0;32m----> 1\u001b[0m \u001b[38;5;28mprint\u001b[39m(\u001b[43mext_preds\u001b[49m)\n",
      "\u001b[0;31mNameError\u001b[0m: name 'ext_preds' is not defined"
     ]
    }
   ],
   "source": [
    "print(ext_preds)"
   ]
  },
  {
   "cell_type": "code",
   "execution_count": 64,
   "metadata": {
    "colab": {
     "base_uri": "https://localhost:8080/"
    },
    "id": "Swp-RSU52GmJ",
    "outputId": "06eb05c6-f5f0-4d58-a8a2-ad76ee40b954"
   },
   "outputs": [
    {
     "name": "stdout",
     "output_type": "stream",
     "text": [
      "First 10 Predictions:  [False  True False False  True False False False False False]\n",
      "Total Positive Preds:  426\n",
      "Total Preds:  937\n",
      "% Positive Preds:  0.45464247598719315\n",
      "\n",
      "First 10 Ground Truth:  [0. 0. 0. 0. 0. 0. 0. 0. 0. 0.]\n",
      "Total Positive Ground Truth:  421.0\n",
      "Total Ground Truth:  937\n",
      "% Positive Ground Truth:  0.44930629669156885\n",
      "\n",
      "Accuracy:  0.6595517609391676\n"
     ]
    }
   ],
   "source": [
    "# testing_Y = Y\n",
    "ext_preds = ext_preds > 0.5\n",
    "testing_Y = external_Y\n",
    "\n",
    "print(\"First 10 Predictions: \", ext_preds[:10])\n",
    "print(\"Total Positive Preds: \", sum(ext_preds))\n",
    "print(\"Total Preds: \", len(ext_preds))\n",
    "print(\"% Positive Preds: \", sum(ext_preds) / len(ext_preds))\n",
    "print()\n",
    "print(\"First 10 Ground Truth: \", testing_Y[:10])\n",
    "print(\"Total Positive Ground Truth: \", sum(testing_Y))\n",
    "print(\"Total Ground Truth: \", len(testing_Y))\n",
    "print(\"% Positive Ground Truth: \", sum(testing_Y) / len(testing_Y))\n",
    "print()\n",
    "print(\"Accuracy: \", sum(ext_preds == testing_Y) / len(ext_preds))"
   ]
  },
  {
   "cell_type": "code",
   "execution_count": 110,
   "metadata": {
    "colab": {
     "base_uri": "https://localhost:8080/",
     "height": 527
    },
    "id": "L7kl6J3wLped",
    "outputId": "a5d20ac1-f339-47e4-cf12-18073bb4b59f"
   },
   "outputs": [
    {
     "data": {
      "text/plain": [
       "<matplotlib.legend.Legend at 0x7f56b4751160>"
      ]
     },
     "execution_count": 110,
     "metadata": {},
     "output_type": "execute_result"
    },
    {
     "data": {
      "image/png": "[encoded data removed]",
      "text/plain": [
       "<Figure size 640x480 with 1 Axes>"
      ]
     },
     "metadata": {},
     "output_type": "display_data"
    }
   ],
   "source": [
    "threshs = sp_rand\n",
    "std_threshs = np.linspace(np.min(threshs), np.max(threshs), 20) # Diff std. dev. thresholds (20 of them in this case)\n",
    "reject_rate = [1 - np.mean((threshs<=s)) for s in std_threshs] # Portion of instances rejected @ each std threshold\n",
    "accus = [np.mean((ext_preds==external_Y)[(threshs<=s)]) for s in std_threshs] # Acc @ each std thresh.\n",
    "tps = [np.sum(((external_Y)*(ext_preds==external_Y))[(threshs<=s)]) for s in std_threshs]  # correct and positive\n",
    "fps = [np.sum(((ext_preds)*(ext_preds!=external_Y))[(threshs<=s)]) for s in std_threshs]  # incorrect and predicted positive\n",
    "pos = np.sum(external_Y)\n",
    "recall = [tp/pos for tp in tps]\n",
    "precision = [tp/(tp+fp) for tp, fp in zip(tps, fps)]\n",
    "plt.plot(recall, precision, marker='+', c='orange')\n",
    "\n",
    "plt.plot(recall, precision, marker='+', c='orange')\n",
    "plt.xticks(np.arange(0, 1.01, step=0.1))\n",
    "plt.xticks(np.arange(0, 1.01, step=0.05), minor=True)\n",
    "plt.yticks(np.arange(.2, 1.01, step=0.05))\n",
    "plt.grid(True, which='both')\n",
    "plt.xlabel('Recall ({} Positive)'.format(int(pos)))\n",
    "plt.ylabel('Precision')\n",
    "plt.title('Precision vs Recall by Thresholding Ensemble Std')\n",
    "plt.legend(['Autoencoder Method'])"
   ]
  },
  {
   "cell_type": "code",
   "execution_count": 127,
   "metadata": {
    "colab": {
     "background_save": true
    },
    "id": "5eUQIi5uCvqd",
    "outputId": "ac851900-90b2-49e3-ef1b-55b7c3569f4b"
   },
   "outputs": [
    {
     "name": "stdout",
     "output_type": "stream",
     "text": [
      "[1.0, 0.8571428571428571, 0.8536585365853658, 0.7857142857142857, 0.81, 0.7898550724637681, 0.7909604519774012, 0.7813953488372093, 0.7649402390438247, 0.738831615120275, 0.7284345047923323, 0.7308781869688386, 0.7222222222222222, 0.7126696832579186, 0.7034764826175869, 0.6950998185117967, 0.6829268292682927, 0.6651917404129793, 0.6557591623036649, 0.6211312700106724]\n"
     ]
    }
   ],
   "source": [
    "print(accus)"
   ]
  },
  {
   "cell_type": "code",
   "execution_count": 140,
   "metadata": {},
   "outputs": [
    {
     "data": {
      "text/plain": [
       "[<matplotlib.lines.Line2D at 0x7fd084658310>]"
      ]
     },
     "execution_count": 140,
     "metadata": {},
     "output_type": "execute_result"
    },
    {
     "data": {
      "image/png": "[encoded data removed]",
      "text/plain": [
       "<Figure size 640x480 with 1 Axes>"
      ]
     },
     "metadata": {},
     "output_type": "display_data"
    }
   ],
   "source": [
    "from sklearn.metrics import precision_recall_curve\n",
    "p, r, thres = precision_recall_curve(external_Y, ext_preds)\n",
    "\n",
    "plt.plot(r, p)"
   ]
  },
  {
   "cell_type": "code",
   "execution_count": 141,
   "metadata": {},
   "outputs": [],
   "source": [
    "from sklearn.metrics import precision_recall_curve, auc"
   ]
  },
  {
   "cell_type": "code",
   "execution_count": 144,
   "metadata": {},
   "outputs": [
    {
     "data": {
      "text/plain": [
       "0.9670373318045292"
      ]
     },
     "execution_count": 144,
     "metadata": {},
     "output_type": "execute_result"
    }
   ],
   "source": [
    "auc(r[r<0.2], p[r<0.2]) / np.max(r[r<0.2])"
   ]
  },
  {
   "cell_type": "code",
   "execution_count": null,
   "metadata": {},
   "outputs": [],
   "source": []
  }
 ],
 "metadata": {
  "accelerator": "GPU",
  "colab": {
   "gpuType": "T4",
   "provenance": []
  },
  "kernelspec": {
   "display_name": "Python 3 (ipykernel)",
   "language": "python",
   "name": "python3"
  },
  "language_info": {
   "codemirror_mode": {
    "name": "ipython",
    "version": 3
   },
   "file_extension": ".py",
   "mimetype": "text/x-python",
   "name": "python",
   "nbconvert_exporter": "python",
   "pygments_lexer": "ipython3",
   "version": "3.8.10"
  }
 },
 "nbformat": 4,
 "nbformat_minor": 4
}
